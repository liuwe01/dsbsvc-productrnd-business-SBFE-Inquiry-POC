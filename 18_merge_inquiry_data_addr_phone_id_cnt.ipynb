{
 "cells": [
  {
   "cell_type": "code",
   "execution_count": 1,
   "metadata": {},
   "outputs": [],
   "source": [
    "import time\n",
    "import pandas as pd\n",
    "import numpy as np\n",
    "import math\n",
    "\n",
    "# internal tools\n",
    "from dsgtools.reporting import make_format\n",
    "from dsgtools.reporting import TableWriter\n",
    "from dsgtools.reporting import freq\n",
    "from dsgtools.reporting import bivariate"
   ]
  },
  {
   "cell_type": "code",
   "execution_count": 2,
   "metadata": {},
   "outputs": [],
   "source": [
    "## new fix for data import\n",
    "import os\n",
    "os.environ[\"HTTP_PROXY\"] = \"\"\n",
    "os.environ[\"HTTPS_PROXY\"] = \"\"\n",
    "os.environ[\"NO_PROXY\"] = \"\""
   ]
  },
  {
   "cell_type": "code",
   "execution_count": 3,
   "metadata": {},
   "outputs": [
    {
     "name": "stdout",
     "output_type": "stream",
     "text": [
      "(640958, 36)\n",
      "(114460, 39)\n",
      "(75000, 22)\n",
      "(83704, 92)\n"
     ]
    }
   ],
   "source": [
    "## Input Data\n",
    "chase = pd.read_adls(\"Analytics/RnD Projects/Product RnD/Business/LexisNexis 9999 (SBFE Inquiry POC)/Performance/Fraud Sample/Chase_11449/\" + \"chase_stacked_final.parquet\")\n",
    "print(chase.shape)\n",
    "\n",
    "tmobile = pd.read_adls(\"Analytics/RnD Projects/Product RnD/Business/LexisNexis 9999 (SBFE Inquiry POC)/Performance/Fraud Sample/tmobile_10823/\" + \"tmbile_file_to_use.parquet\")\n",
    "print(tmobile.shape)\n",
    "\n",
    "stripe = pd.read_adls(\"Analytics/RnD Projects/Product RnD/Business/LexisNexis 9999 (SBFE Inquiry POC)/Performance/Fraud Sample/stripe_11363/\" + \"stripe_file_to_use.parquet\")\n",
    "print(stripe.shape)\n",
    "\n",
    "fleector = pd.read_adls(\"Analytics/RnD Projects/Product RnD/Business/LexisNexis 9999 (SBFE Inquiry POC)/Performance/Fraud Sample/fleector_11124/\" + \"fleector_sample_to_use.parquet\")\n",
    "print(fleector.shape)"
   ]
  },
  {
   "cell_type": "code",
   "execution_count": 4,
   "metadata": {},
   "outputs": [],
   "source": [
    "## keep seleid, full address, phone, taxid, performance flag >> business information >> might need to dedup"
   ]
  },
  {
   "cell_type": "markdown",
   "metadata": {
    "jp-MarkdownHeadingCollapsed": true,
    "tags": []
   },
   "source": [
    "#### SBFE Inquiry"
   ]
  },
  {
   "cell_type": "code",
   "execution_count": 5,
   "metadata": {},
   "outputs": [
    {
     "name": "stderr",
     "output_type": "stream",
     "text": [
      "Bad pipe message: %s [b'\\x1b\\xa3\\xf6\\xe2\\x89\\x85\\x0c\\xafS\\xf7\\x89\\xb8\\xa2\\xef3.s\\xd6 \\x88\\xbd\\xde\\xdb\\x98\\xed\\x1e\\x87K\\xf6\\x8e\\xaaWxk\\x8a~y\\xb9<\\x1dr\\x95i\\x8d\\xd9\\xfe\\x01#tQ\\x9a\\x00\\x08\\x13\\x02\\x13\\x03\\x13\\x01\\x00\\xff\\x01\\x00\\x00\\x8f\\x00\\x00\\x00\\x0e\\x00\\x0c\\x00\\x00\\t127.0.0.1\\x00\\x0b\\x00\\x04\\x03\\x00\\x01\\x02\\x00\\n\\x00\\x0c\\x00\\n\\x00\\x1d\\x00\\x17\\x00\\x1e\\x00\\x19\\x00\\x18\\x00#\\x00\\x00\\x00\\x16\\x00\\x00\\x00\\x17\\x00\\x00\\x00\\r\\x00\\x1e\\x00\\x1c\\x04\\x03\\x05\\x03\\x06\\x03\\x08\\x07\\x08\\x08\\x08\\t\\x08', b'\\x0b\\x08\\x04\\x08\\x05\\x08\\x06\\x04\\x01']\n",
      "Bad pipe message: %s [b'\\x04M\\x98N`l\\xe0\\x18\\x8dl_*~\\xba\\xf1\\xbd&8\\x00\\x00>\\xc0\\x14\\xc0\\n\\x009\\x008\\x007\\x006\\xc0\\x0f\\xc0\\x05\\x005\\xc0\\x13\\xc0\\t\\x003\\x002\\x00', b'0\\xc0\\x0e\\xc0\\x04\\x00/\\x00\\x9a\\x00\\x99\\x00\\x98\\x00\\x97\\x00\\x96\\x00\\x07\\xc0\\x11\\xc0\\x07\\xc0\\x0c\\xc0\\x02\\x00\\x05\\x00\\x04\\x00\\xff\\x02\\x01\\x00\\x00C\\x00\\x00\\x00\\x0e\\x00\\x0c\\x00\\x00\\t1']\n",
      "Bad pipe message: %s [b\"\\xbaS\\xa0\\xeayu({t;\\xccz\\xa2\\x19K\\xf2\\xb1\\x08\\x00\\x00|\\xc0,\\xc00\\x00\\xa3\\x00\\x9f\\xcc\\xa9\\xcc\\xa8\\xcc\\xaa\\xc0\\xaf\\xc0\\xad\\xc0\\xa3\\xc0\\x9f\\xc0]\\xc0a\\xc0W\\xc0S\\xc0+\\xc0/\\x00\\xa2\\x00\\x9e\\xc0\\xae\\xc0\\xac\\xc0\\xa2\\xc0\\x9e\\xc0\\\\\\xc0`\\xc0V\\xc0R\\xc0$\\xc0(\\x00k\\x00j\\xc0#\\xc0'\\x00g\\x00@\\xc0\\n\\xc0\\x14\\x009\\x008\\xc0\\t\\xc0\\x13\\x003\\x002\\x00\\x9d\\xc0\\xa1\\xc0\\x9d\\xc0Q\\x00\\x9c\\xc0\\xa0\\xc0\\x9c\\xc0P\\x00=\\x00<\\x005\\x00/\\x00\\x9a\\x00\\x99\\xc0\\x07\\xc0\\x11\\x00\\x96\\x00\\x05\\x00\\xff\\x01\\x00\\x00j\\x00\\x00\\x00\\x0e\\x00\\x0c\\x00\\x00\\t127.0.0.1\\x00\\x0b\\x00\\x04\\x03\\x00\\x01\\x02\\x00\\n\\x00\\x0c\\x00\\n\\x00\\x1d\\x00\\x17\\x00\\x1e\\x00\\x19\\x00\\x18\\x00#\\x00\\x00\\x00\\x16\\x00\\x00\"]\n",
      "Bad pipe message: %s [b\"\\xbc\\x1d/\\xd1zQ\\x90\\x87Ci\\x00jN \\x03-z\\xac\\x00\\x00\\x86\\xc00\\xc0,\\xc0(\\xc0$\\xc0\\x14\\xc0\\n\\x00\\xa5\\x00\\xa3\\x00\\xa1\\x00\\x9f\\x00k\\x00j\\x00i\\x00h\\x009\\x008\\x007\\x006\\xc02\\xc0.\\xc0*\\xc0&\\xc0\\x0f\\xc0\\x05\\x00\\x9d\\x00=\\x005\\xc0/\\xc0+\\xc0'\\xc0#\\xc0\"]\n",
      "Bad pipe message: %s [b'\\x1f\\xbe_\\x92\\x1f\\xa3\\x8a\\xb4@\\xeb\\xc7\\xd7\\x0b\\xfd\\xa0\\xd4\\xd9]\\x00\\x00\\xa2\\xc0\\x14\\xc0\\n\\x009\\x008\\x007\\x006\\x00\\x88\\x00\\x87\\x00\\x86\\x00\\x85\\xc0\\x19\\x00:\\x00\\x89\\xc0\\x0f\\xc0\\x05\\x005\\x00\\x84\\xc0\\x13\\xc0\\t\\x003\\x002\\x001\\x00', b'\\x9a\\x00\\x99\\x00\\x98\\x00\\x97\\x00E\\x00D\\x00C\\x00B\\xc0\\x18\\x004\\x00\\x9b\\x00F\\xc0\\x0e\\xc0\\x04\\x00/\\x00\\x96\\x00A\\x00\\x07\\xc0\\x11\\xc0\\x07\\xc0\\x16\\x00\\x18\\xc0\\x0c\\xc0\\x02']\n",
      "Bad pipe message: %s [b'\\xb6\\x95c\\x02\\x8c\\xd7\\xa7\\x87\\xd0\\xf5*\\xdd\\x9d3\\xf2+\\xc3\\xe4\\x00\\x00\\xa2\\xc0\\x14\\xc0\\n\\x009\\x008\\x007\\x006\\x00\\x88\\x00\\x87\\x00\\x86\\x00\\x85\\xc0\\x19\\x00:\\x00\\x89\\xc0\\x0f\\xc0\\x05\\x005\\x00\\x84\\xc0\\x13\\xc0\\t\\x003\\x002\\x001\\x000\\x00\\x9a\\x00\\x99\\x00\\x98\\x00\\x97\\x00E\\x00D\\x00C\\x00B\\xc0\\x18\\x004\\x00\\x9b\\x00F\\xc0\\x0e\\xc0\\x04\\x00/\\x00\\x96\\x00A\\x00\\x07\\xc0\\x11\\xc0\\x07\\xc0\\x16\\x00\\x18\\xc0\\x0c\\xc0\\x02\\x00\\x05\\x00\\x04\\xc0\\x12\\xc0\\x08\\x00\\x16\\x00\\x13\\x00\\x10\\x00\\r\\xc0\\x17\\x00\\x1b\\xc0\\r\\xc0\\x03\\x00\\n\\x00\\x15\\x00\\x12\\x00\\x0f\\x00\\x0c\\x00\\x1a\\x00\\t\\x00\\x14\\x00\\x11\\x00\\x19\\x00\\x08\\x00\\x06\\x00\\x17\\x00\\x03\\xc0\\x10\\xc0\\x06\\xc0\\x15\\xc0\\x0b\\xc0\\x01\\x00\\x02\\x00\\x01\\x00\\xff\\x02\\x01\\x00\\x00C\\x00\\x00\\x00\\x0e']\n",
      "Bad pipe message: %s [b'\\t\\x00\\xa4\\x00\\xa2\\x00\\xa0\\x00\\x9e\\x00g\\x00@\\x00?\\x00>\\x00']\n",
      "Bad pipe message: %s [b'2\\x001\\x000\\xc01\\xc0-\\xc0)\\xc0%\\xc0\\x0e\\xc0\\x04\\x00\\x9c\\x00<\\x00/\\x00\\x9a\\x00\\x99\\x00\\x98\\x00\\x97\\x00\\x96\\x00\\x07\\xc0\\x11\\xc0\\x07\\xc0\\x0c\\xc0\\x02\\x00\\x05\\x00\\x04\\x00\\xff\\x02']\n",
      "Bad pipe message: %s [b'']\n"
     ]
    },
    {
     "name": "stdout",
     "output_type": "stream",
     "text": [
      "(79429086, 20)\n"
     ]
    }
   ],
   "source": [
    "path = \"Analytics/RnD Projects/Product RnD/Business/LexisNexis 9999 (SBFE Inquiry POC)/Data Modeling Clean/sbfe_seleid_append_deduped_cleaned_0501.parquet\"\n",
    "sbfe = pd.read_adls(path, reader = pd.read_parquet)\n",
    "print(sbfe.shape)"
   ]
  },
  {
   "cell_type": "code",
   "execution_count": 6,
   "metadata": {},
   "outputs": [
    {
     "name": "stderr",
     "output_type": "stream",
     "text": [
      "/tmp/ipykernel_25390/3858317675.py:3: FutureWarning: The default value of regex will change from True to False in a future version. In addition, single character regular expressions will *not* be treated as literal strings when regex=True.\n",
      "  sbfe[\"full_addr_clean\"] = sbfe['full_addr'].str.replace('.', '')\n",
      "/tmp/ipykernel_25390/3858317675.py:5: FutureWarning: The default value of regex will change from True to False in a future version.\n",
      "  sbfe[\"full_addr_clean\"] = sbfe['full_addr_clean'].str.replace('\\W\\s', '')\n"
     ]
    }
   ],
   "source": [
    "sbfe[\"full_addr\"] = sbfe[\"addr\"] + np.where(sbfe[\"city\"] != \"\", \", \" + sbfe[\"city\"], \"\") + \\\n",
    "    np.where(sbfe[\"state\"] != \"\", \", \" + sbfe[\"state\"], \"\") + np.where(sbfe[\"zip\"] != \"\", \", \" + sbfe[\"zip\"].str.slice(0, 5), \"\")\n",
    "sbfe[\"full_addr_clean\"] = sbfe['full_addr'].str.replace('.', '')\n",
    "sbfe[\"full_addr_clean\"] = sbfe['full_addr_clean'].str.replace(',', '')\n",
    "sbfe[\"full_addr_clean\"] = sbfe['full_addr_clean'].str.replace('\\W\\s', '')\n",
    "sbfe[\"full_addr_clean\"] = sbfe[\"full_addr_clean\"].str.lower()"
   ]
  },
  {
   "cell_type": "code",
   "execution_count": 7,
   "metadata": {},
   "outputs": [
    {
     "data": {
      "text/plain": [
       "Index(['accountnumber_x', 'companyname', 'alternatecompanyname_x', 'addr',\n",
       "       'city', 'state', 'zip', 'businessphone', 'taxidnumber', 'historydate_x',\n",
       "       'sufficient_input', 'accountnumber_y', 'alternatecompanyname_y',\n",
       "       'historydate_y', 'powid', 'proxid', 'seleid', 'orgid', 'ultid',\n",
       "       'overallweight', 'full_addr', 'full_addr_clean'],\n",
       "      dtype='object')"
      ]
     },
     "execution_count": 7,
     "metadata": {},
     "output_type": "execute_result"
    }
   ],
   "source": [
    "sbfe.columns"
   ]
  },
  {
   "cell_type": "code",
   "execution_count": 8,
   "metadata": {},
   "outputs": [],
   "source": [
    "sbfe = sbfe[[\"seleid\", \"historydate_x\", \"full_addr_clean\", 'businessphone', 'taxidnumber']]\n",
    "sbfe.columns = [\"seleid_inquiry_sbfe\", \"inquiry_date\", \"full_addr_clean\", 'businessphone', 'taxidnumber']"
   ]
  },
  {
   "cell_type": "code",
   "execution_count": 9,
   "metadata": {},
   "outputs": [],
   "source": [
    "sbfe[\"inquiry_date\"] = sbfe[\"inquiry_date\"].astype(int)\n",
    "sbfe[\"inquiry_date_fmt\"] = pd.to_datetime(sbfe[\"inquiry_date\"], format='%Y%m%d')"
   ]
  },
  {
   "cell_type": "code",
   "execution_count": 10,
   "metadata": {},
   "outputs": [],
   "source": [
    "sbfe[\"seleid_inquiry_sbfe\"] = sbfe[\"seleid_inquiry_sbfe\"].astype(float)"
   ]
  },
  {
   "cell_type": "code",
   "execution_count": 11,
   "metadata": {},
   "outputs": [],
   "source": [
    "sbfe[\"full_addr_clean\"] = sbfe[\"full_addr_clean\"].str.lower()"
   ]
  },
  {
   "cell_type": "code",
   "execution_count": 12,
   "metadata": {},
   "outputs": [
    {
     "data": {
      "text/html": [
       "<div>\n",
       "<style scoped>\n",
       "    .dataframe tbody tr th:only-of-type {\n",
       "        vertical-align: middle;\n",
       "    }\n",
       "\n",
       "    .dataframe tbody tr th {\n",
       "        vertical-align: top;\n",
       "    }\n",
       "\n",
       "    .dataframe thead th {\n",
       "        text-align: right;\n",
       "    }\n",
       "</style>\n",
       "<table border=\"1\" class=\"dataframe\">\n",
       "  <thead>\n",
       "    <tr style=\"text-align: right;\">\n",
       "      <th></th>\n",
       "      <th>seleid_inquiry_sbfe</th>\n",
       "      <th>inquiry_date</th>\n",
       "      <th>full_addr_clean</th>\n",
       "      <th>businessphone</th>\n",
       "      <th>taxidnumber</th>\n",
       "      <th>inquiry_date_fmt</th>\n",
       "    </tr>\n",
       "  </thead>\n",
       "  <tbody>\n",
       "    <tr>\n",
       "      <th>0</th>\n",
       "      <td>1.336156e+11</td>\n",
       "      <td>20210701</td>\n",
       "      <td>115 golf course rd ste e logan ut 84321</td>\n",
       "      <td>4355353654</td>\n",
       "      <td></td>\n",
       "      <td>2021-07-01</td>\n",
       "    </tr>\n",
       "    <tr>\n",
       "      <th>1</th>\n",
       "      <td>1.330122e+09</td>\n",
       "      <td>20210701</td>\n",
       "      <td>3200 palm tree dr lithonia ga 30038</td>\n",
       "      <td>7708857033</td>\n",
       "      <td></td>\n",
       "      <td>2021-07-01</td>\n",
       "    </tr>\n",
       "    <tr>\n",
       "      <th>2</th>\n",
       "      <td>9.064136e+08</td>\n",
       "      <td>20210701</td>\n",
       "      <td>1476 highway 159 e bellville tx 77418</td>\n",
       "      <td>9798653142</td>\n",
       "      <td></td>\n",
       "      <td>2021-07-01</td>\n",
       "    </tr>\n",
       "    <tr>\n",
       "      <th>5</th>\n",
       "      <td>6.136772e+07</td>\n",
       "      <td>20210701</td>\n",
       "      <td>492 koller st san francisco ca 94110</td>\n",
       "      <td>6505550000</td>\n",
       "      <td></td>\n",
       "      <td>2021-07-01</td>\n",
       "    </tr>\n",
       "    <tr>\n",
       "      <th>6</th>\n",
       "      <td>1.371452e+11</td>\n",
       "      <td>20210701</td>\n",
       "      <td>107 lassiter lane bellville tx 77418</td>\n",
       "      <td>9798859397</td>\n",
       "      <td></td>\n",
       "      <td>2021-07-01</td>\n",
       "    </tr>\n",
       "  </tbody>\n",
       "</table>\n",
       "</div>"
      ],
      "text/plain": [
       "   seleid_inquiry_sbfe  inquiry_date                          full_addr_clean  \\\n",
       "0         1.336156e+11      20210701  115 golf course rd ste e logan ut 84321   \n",
       "1         1.330122e+09      20210701      3200 palm tree dr lithonia ga 30038   \n",
       "2         9.064136e+08      20210701    1476 highway 159 e bellville tx 77418   \n",
       "5         6.136772e+07      20210701     492 koller st san francisco ca 94110   \n",
       "6         1.371452e+11      20210701     107 lassiter lane bellville tx 77418   \n",
       "\n",
       "  businessphone taxidnumber inquiry_date_fmt  \n",
       "0    4355353654                   2021-07-01  \n",
       "1    7708857033                   2021-07-01  \n",
       "2    9798653142                   2021-07-01  \n",
       "5    6505550000                   2021-07-01  \n",
       "6    9798859397                   2021-07-01  "
      ]
     },
     "execution_count": 12,
     "metadata": {},
     "output_type": "execute_result"
    }
   ],
   "source": [
    "sbfe.head()"
   ]
  },
  {
   "cell_type": "markdown",
   "metadata": {
    "jp-MarkdownHeadingCollapsed": true,
    "tags": []
   },
   "source": [
    "#### Stripe 11363"
   ]
  },
  {
   "cell_type": "code",
   "execution_count": 15,
   "metadata": {},
   "outputs": [
    {
     "name": "stdout",
     "output_type": "stream",
     "text": [
      "(74443, 22)\n",
      "True\n"
     ]
    }
   ],
   "source": [
    "stripe = stripe.fillna(\"\")\n",
    "stripe = stripe.drop_duplicates(subset = ['companyname', 'alternatecompanyname', 'bus_streetaddress1', \n",
    "                                          'bus_streetaddress2', 'bus_city', 'bus_state', 'bus_zip', 'bus_phone', 'bus_website'], ignore_index = True) \n",
    "print(stripe.shape)\n",
    "print(stripe.uniqueid.is_unique)"
   ]
  },
  {
   "cell_type": "code",
   "execution_count": 16,
   "metadata": {},
   "outputs": [
    {
     "name": "stderr",
     "output_type": "stream",
     "text": [
      "/tmp/ipykernel_24833/2995735239.py:5: FutureWarning: The default value of regex will change from True to False in a future version. In addition, single character regular expressions will *not* be treated as literal strings when regex=True.\n",
      "  stripe[\"full_addr_clean\"] = stripe['full_addr'].str.replace('.', '')\n",
      "/tmp/ipykernel_24833/2995735239.py:7: FutureWarning: The default value of regex will change from True to False in a future version.\n",
      "  stripe[\"full_addr_clean\"] = stripe['full_addr_clean'].str.replace('\\W\\s', '')\n"
     ]
    }
   ],
   "source": [
    "# Compile Full Address: np.where(stripe[\"bus_streetaddress2\"] != \"\", \", \" + stripe[\"bus_streetaddress2\"], \"\") + \n",
    "stripe[\"full_addr\"] = stripe[\"bus_streetaddress1\"] + \\\n",
    "    np.where(stripe[\"bus_city\"] != \"\", \", \" + stripe[\"bus_city\"], \"\") + \\\n",
    "    np.where(stripe[\"bus_state\"] != \"\", \", \" + stripe[\"bus_state\"], \"\") + np.where(stripe[\"bus_zip\"] != \"\", \", \" + stripe[\"bus_zip\"].str.slice(0, 5), \"\")\n",
    "stripe[\"full_addr_clean\"] = stripe['full_addr'].str.replace('.', '')\n",
    "stripe[\"full_addr_clean\"] = stripe['full_addr_clean'].str.replace(',', '')\n",
    "stripe[\"full_addr_clean\"] = stripe['full_addr_clean'].str.replace('\\W\\s', '')\n",
    "stripe[\"full_addr_clean\"] = stripe[\"full_addr_clean\"].str.lower()"
   ]
  },
  {
   "cell_type": "code",
   "execution_count": 17,
   "metadata": {},
   "outputs": [
    {
     "data": {
      "text/html": [
       "<div>\n",
       "<style scoped>\n",
       "    .dataframe tbody tr th:only-of-type {\n",
       "        vertical-align: middle;\n",
       "    }\n",
       "\n",
       "    .dataframe tbody tr th {\n",
       "        vertical-align: top;\n",
       "    }\n",
       "\n",
       "    .dataframe thead th {\n",
       "        text-align: right;\n",
       "    }\n",
       "</style>\n",
       "<table border=\"1\" class=\"dataframe\">\n",
       "  <thead>\n",
       "    <tr style=\"text-align: right;\">\n",
       "      <th></th>\n",
       "      <th>Count</th>\n",
       "      <th>Pct</th>\n",
       "      <th>Cuml Count</th>\n",
       "      <th>Cuml Pct</th>\n",
       "    </tr>\n",
       "    <tr>\n",
       "      <th>historydate</th>\n",
       "      <th></th>\n",
       "      <th></th>\n",
       "      <th></th>\n",
       "      <th></th>\n",
       "    </tr>\n",
       "  </thead>\n",
       "  <tbody>\n",
       "    <tr>\n",
       "      <th>2022-01</th>\n",
       "      <td>24426.0</td>\n",
       "      <td>0.328117</td>\n",
       "      <td>24426.0</td>\n",
       "      <td>0.328117</td>\n",
       "    </tr>\n",
       "    <tr>\n",
       "      <th>2022-02</th>\n",
       "      <td>24209.0</td>\n",
       "      <td>0.325202</td>\n",
       "      <td>48635.0</td>\n",
       "      <td>0.653319</td>\n",
       "    </tr>\n",
       "    <tr>\n",
       "      <th>2022-03</th>\n",
       "      <td>25808.0</td>\n",
       "      <td>0.346681</td>\n",
       "      <td>74443.0</td>\n",
       "      <td>1.000000</td>\n",
       "    </tr>\n",
       "  </tbody>\n",
       "</table>\n",
       "</div>"
      ],
      "text/plain": [
       "               Count       Pct  Cuml Count  Cuml Pct\n",
       "historydate                                         \n",
       "2022-01      24426.0  0.328117     24426.0  0.328117\n",
       "2022-02      24209.0  0.325202     48635.0  0.653319\n",
       "2022-03      25808.0  0.346681     74443.0  1.000000"
      ]
     },
     "execution_count": 17,
     "metadata": {},
     "output_type": "execute_result"
    }
   ],
   "source": [
    "freq(stripe.historydate.str.slice(0, 7))"
   ]
  },
  {
   "cell_type": "code",
   "execution_count": 18,
   "metadata": {},
   "outputs": [
    {
     "data": {
      "text/html": [
       "<div>\n",
       "<style scoped>\n",
       "    .dataframe tbody tr th:only-of-type {\n",
       "        vertical-align: middle;\n",
       "    }\n",
       "\n",
       "    .dataframe tbody tr th {\n",
       "        vertical-align: top;\n",
       "    }\n",
       "\n",
       "    .dataframe thead th {\n",
       "        text-align: right;\n",
       "    }\n",
       "</style>\n",
       "<table border=\"1\" class=\"dataframe\">\n",
       "  <thead>\n",
       "    <tr style=\"text-align: right;\">\n",
       "      <th></th>\n",
       "      <th>Count</th>\n",
       "      <th>Pct</th>\n",
       "      <th>Cuml Count</th>\n",
       "      <th>Cuml Pct</th>\n",
       "    </tr>\n",
       "    <tr>\n",
       "      <th>performance_indicator</th>\n",
       "      <th></th>\n",
       "      <th></th>\n",
       "      <th></th>\n",
       "      <th></th>\n",
       "    </tr>\n",
       "  </thead>\n",
       "  <tbody>\n",
       "    <tr>\n",
       "      <th>False</th>\n",
       "      <td>73807.0</td>\n",
       "      <td>0.991457</td>\n",
       "      <td>73807.0</td>\n",
       "      <td>0.991457</td>\n",
       "    </tr>\n",
       "    <tr>\n",
       "      <th>True</th>\n",
       "      <td>636.0</td>\n",
       "      <td>0.008543</td>\n",
       "      <td>74443.0</td>\n",
       "      <td>1.000000</td>\n",
       "    </tr>\n",
       "  </tbody>\n",
       "</table>\n",
       "</div>"
      ],
      "text/plain": [
       "                         Count       Pct  Cuml Count  Cuml Pct\n",
       "performance_indicator                                         \n",
       "False                  73807.0  0.991457     73807.0  0.991457\n",
       "True                     636.0  0.008543     74443.0  1.000000"
      ]
     },
     "execution_count": 18,
     "metadata": {},
     "output_type": "execute_result"
    }
   ],
   "source": [
    "freq(stripe.performance_indicator)"
   ]
  },
  {
   "cell_type": "code",
   "execution_count": 19,
   "metadata": {},
   "outputs": [],
   "source": [
    "stripe[\"bad\"] = np.where(stripe.performance_indicator == \"True\", 1, 0)"
   ]
  },
  {
   "cell_type": "code",
   "execution_count": 20,
   "metadata": {},
   "outputs": [
    {
     "data": {
      "text/plain": [
       "(74438, 25)"
      ]
     },
     "execution_count": 20,
     "metadata": {},
     "output_type": "execute_result"
    }
   ],
   "source": [
    "stripe[stripe[\"full_addr_clean\"]!=\"\"].shape"
   ]
  },
  {
   "cell_type": "code",
   "execution_count": 22,
   "metadata": {},
   "outputs": [
    {
     "name": "stdout",
     "output_type": "stream",
     "text": [
      "(74438, 25)\n"
     ]
    }
   ],
   "source": [
    "stripe = stripe[stripe[\"full_addr_clean\"]!=\"\"]\n",
    "print(stripe.shape)"
   ]
  },
  {
   "cell_type": "code",
   "execution_count": 23,
   "metadata": {},
   "outputs": [],
   "source": [
    "stripe[\"credit_flag_cutoff_date\"] = stripe[\"historydate\"].str.slice(0, 10)\n",
    "stripe[\"credit_flag_cutoff_date_fmt\"] = pd.to_datetime(stripe[\"credit_flag_cutoff_date\"], format='%Y-%m-%d')"
   ]
  },
  {
   "cell_type": "code",
   "execution_count": 24,
   "metadata": {},
   "outputs": [
    {
     "name": "stdout",
     "output_type": "stream",
     "text": [
      "(410374, 32)\n",
      "(250294, 32)\n"
     ]
    }
   ],
   "source": [
    "sbfe_for_stripe = sbfe.merge(stripe, on = \"full_addr_clean\")\n",
    "print(sbfe_for_stripe.shape)\n",
    "sbfe_for_stripe = sbfe_for_stripe[sbfe_for_stripe[\"inquiry_date_fmt\"] < sbfe_for_stripe[\"credit_flag_cutoff_date_fmt\"]]\n",
    "print(sbfe_for_stripe.shape)"
   ]
  },
  {
   "cell_type": "code",
   "execution_count": 25,
   "metadata": {},
   "outputs": [
    {
     "data": {
      "text/plain": [
       "Index(['seleid_inquiry_sbfe', 'inquiry_date', 'full_addr_clean',\n",
       "       'businessphone', 'taxidnumber', 'inquiry_date_fmt', 'Unnamed: 0',\n",
       "       'uniqueid', 'historydate', 'companyname', 'alternatecompanyname',\n",
       "       'bus_streetaddress1', 'bus_streetaddress2', 'bus_city', 'bus_state',\n",
       "       'bus_zip', 'bus_phone', 'bus_website', 'firstname', 'lastname',\n",
       "       'streetaddress1', 'streetaddress2', 'city', 'state', 'zip', 'email',\n",
       "       'ip_address', 'performance_indicator', 'full_addr', 'bad',\n",
       "       'credit_flag_cutoff_date', 'credit_flag_cutoff_date_fmt'],\n",
       "      dtype='object')"
      ]
     },
     "execution_count": 25,
     "metadata": {},
     "output_type": "execute_result"
    }
   ],
   "source": [
    "sbfe_for_stripe.columns"
   ]
  },
  {
   "cell_type": "code",
   "execution_count": 38,
   "metadata": {},
   "outputs": [
    {
     "name": "stdout",
     "output_type": "stream",
     "text": [
      "(10006, 2)\n",
      "(8574, 2)\n",
      "(6801, 2)\n",
      "(3118, 2)\n"
     ]
    }
   ],
   "source": [
    "temp = sbfe_for_stripe[(sbfe_for_stripe[\"credit_flag_cutoff_date_fmt\"] - sbfe_for_stripe[\"inquiry_date_fmt\"])/np.timedelta64(1, 'M') <= 6].copy()\n",
    "count_unique_06 = temp.groupby(by = ['uniqueid'])[\"businessphone\"].nunique().reset_index()\n",
    "print(count_unique_06.shape)\n",
    "\n",
    "temp = sbfe_for_stripe[(sbfe_for_stripe[\"credit_flag_cutoff_date_fmt\"] - sbfe_for_stripe[\"inquiry_date_fmt\"])/np.timedelta64(1, 'M') <= 3].copy()\n",
    "count_unique_03 = temp.groupby(by = ['uniqueid'])[\"businessphone\"].nunique().reset_index()\n",
    "print(count_unique_03.shape)\n",
    "\n",
    "temp = sbfe_for_stripe[(sbfe_for_stripe[\"credit_flag_cutoff_date_fmt\"] - sbfe_for_stripe[\"inquiry_date_fmt\"])/np.timedelta64(1, 'M') <= 1].copy()\n",
    "count_unique_01 = temp.groupby(by = ['uniqueid'])[\"businessphone\"].nunique().reset_index()\n",
    "print(count_unique_01.shape)\n",
    "\n",
    "temp = sbfe_for_stripe[(sbfe_for_stripe[\"credit_flag_cutoff_date_fmt\"] - sbfe_for_stripe[\"inquiry_date_fmt\"])/np.timedelta64(1, 'W') <= 1].copy()\n",
    "count_unique_1w = temp.groupby(by = ['uniqueid'])[\"businessphone\"].nunique().reset_index()\n",
    "print(count_unique_1w.shape)"
   ]
  },
  {
   "cell_type": "code",
   "execution_count": 37,
   "metadata": {},
   "outputs": [
    {
     "name": "stdout",
     "output_type": "stream",
     "text": [
      "(74438, 28)\n",
      "(74438, 29)\n",
      "(74438, 30)\n",
      "(74438, 31)\n"
     ]
    }
   ],
   "source": [
    "count_unique_06.columns = ['uniqueid', \"phn_count_unique_06\"]\n",
    "count_unique_03.columns = ['uniqueid', \"phn_count_unique_03\"]\n",
    "count_unique_01.columns = ['uniqueid', \"phn_count_unique_01\"]\n",
    "count_unique_1w.columns = ['uniqueid', \"phn_count_unique_1w\"]\n",
    "\n",
    "stripe = stripe.merge(count_unique_06, on = \"uniqueid\", how = \"left\")\n",
    "print(stripe.shape)\n",
    "stripe = stripe.merge(count_unique_03, on = \"uniqueid\", how = \"left\")\n",
    "print(stripe.shape)\n",
    "stripe = stripe.merge(count_unique_01, on = \"uniqueid\", how = \"left\")\n",
    "print(stripe.shape)\n",
    "stripe = stripe.merge(count_unique_1w, on = \"uniqueid\", how = \"left\")\n",
    "print(stripe.shape)"
   ]
  },
  {
   "cell_type": "code",
   "execution_count": 39,
   "metadata": {},
   "outputs": [
    {
     "name": "stdout",
     "output_type": "stream",
     "text": [
      "(10006, 2)\n",
      "(8574, 2)\n",
      "(6801, 2)\n",
      "(3118, 2)\n"
     ]
    }
   ],
   "source": [
    "temp = sbfe_for_stripe[(sbfe_for_stripe[\"credit_flag_cutoff_date_fmt\"] - sbfe_for_stripe[\"inquiry_date_fmt\"])/np.timedelta64(1, 'M') <= 6].copy()\n",
    "count_unique_06 = temp.groupby(by = ['uniqueid'])[\"taxidnumber\"].nunique().reset_index()\n",
    "print(count_unique_06.shape)\n",
    "\n",
    "temp = sbfe_for_stripe[(sbfe_for_stripe[\"credit_flag_cutoff_date_fmt\"] - sbfe_for_stripe[\"inquiry_date_fmt\"])/np.timedelta64(1, 'M') <= 3].copy()\n",
    "count_unique_03 = temp.groupby(by = ['uniqueid'])[\"taxidnumber\"].nunique().reset_index()\n",
    "print(count_unique_03.shape)\n",
    "\n",
    "temp = sbfe_for_stripe[(sbfe_for_stripe[\"credit_flag_cutoff_date_fmt\"] - sbfe_for_stripe[\"inquiry_date_fmt\"])/np.timedelta64(1, 'M') <= 1].copy()\n",
    "count_unique_01 = temp.groupby(by = ['uniqueid'])[\"taxidnumber\"].nunique().reset_index()\n",
    "print(count_unique_01.shape)\n",
    "\n",
    "temp = sbfe_for_stripe[(sbfe_for_stripe[\"credit_flag_cutoff_date_fmt\"] - sbfe_for_stripe[\"inquiry_date_fmt\"])/np.timedelta64(1, 'W') <= 1].copy()\n",
    "count_unique_1w = temp.groupby(by = ['uniqueid'])[\"taxidnumber\"].nunique().reset_index()\n",
    "print(count_unique_1w.shape)"
   ]
  },
  {
   "cell_type": "code",
   "execution_count": 40,
   "metadata": {},
   "outputs": [
    {
     "name": "stdout",
     "output_type": "stream",
     "text": [
      "(74438, 32)\n",
      "(74438, 33)\n",
      "(74438, 34)\n",
      "(74438, 35)\n"
     ]
    }
   ],
   "source": [
    "count_unique_06.columns = ['uniqueid', \"taxid_count_unique_06\"]\n",
    "count_unique_03.columns = ['uniqueid', \"taxid_count_unique_03\"]\n",
    "count_unique_01.columns = ['uniqueid', \"taxid_count_unique_01\"]\n",
    "count_unique_1w.columns = ['uniqueid', \"taxid_count_unique_1w\"]\n",
    "\n",
    "stripe = stripe.merge(count_unique_06, on = \"uniqueid\", how = \"left\")\n",
    "print(stripe.shape)\n",
    "stripe = stripe.merge(count_unique_03, on = \"uniqueid\", how = \"left\")\n",
    "print(stripe.shape)\n",
    "stripe = stripe.merge(count_unique_01, on = \"uniqueid\", how = \"left\")\n",
    "print(stripe.shape)\n",
    "stripe = stripe.merge(count_unique_1w, on = \"uniqueid\", how = \"left\")\n",
    "print(stripe.shape)"
   ]
  },
  {
   "cell_type": "code",
   "execution_count": 41,
   "metadata": {
    "tags": []
   },
   "outputs": [],
   "source": [
    "stripe['phn_count_unique_06'] = np.where(stripe[\"phn_count_unique_06\"].isnull(), 0,   stripe[\"phn_count_unique_06\"])\n",
    "stripe['phn_count_unique_03'] = np.where(stripe[\"phn_count_unique_03\"].isnull(), 0,   stripe[\"phn_count_unique_03\"])\n",
    "stripe['phn_count_unique_01'] = np.where(stripe[\"phn_count_unique_01\"].isnull(), 0,   stripe[\"phn_count_unique_01\"])\n",
    "stripe['phn_count_unique_1w'] = np.where(stripe[\"phn_count_unique_1w\"].isnull(), 0,   stripe[\"phn_count_unique_1w\"])\n",
    "\n",
    "stripe['taxid_count_unique_06'] = np.where(stripe[\"taxid_count_unique_06\"].isnull(), 0,   stripe[\"taxid_count_unique_06\"])\n",
    "stripe['taxid_count_unique_03'] = np.where(stripe[\"taxid_count_unique_03\"].isnull(), 0,   stripe[\"taxid_count_unique_03\"])\n",
    "stripe['taxid_count_unique_01'] = np.where(stripe[\"taxid_count_unique_01\"].isnull(), 0,   stripe[\"taxid_count_unique_01\"])\n",
    "stripe['taxid_count_unique_1w'] = np.where(stripe[\"taxid_count_unique_1w\"].isnull(), 0,   stripe[\"taxid_count_unique_1w\"])"
   ]
  },
  {
   "cell_type": "code",
   "execution_count": 42,
   "metadata": {},
   "outputs": [],
   "source": [
    "fmt = make_format(cuts = [-np.inf, 0, 1, 2, 3, 4, 5, 10, 20, 30, 40, 50, np.inf], exceptions = [-1])\n",
    "result = dict()\n",
    "keep = ['phn_count_unique_06', 'phn_count_unique_03', 'phn_count_unique_01', 'phn_count_unique_1w', 'taxid_count_unique_06', 'taxid_count_unique_03', 'taxid_count_unique_01', 'taxid_count_unique_1w']\n",
    "for i, a in enumerate(keep):\n",
    "    result[i] = bivariate(stripe[a], stripe[\"bad\"], format = fmt)\n",
    "\n",
    "wb = TableWriter(filename = \"./_temp/stripe.xlsx\", options={'nan_inf_to_errors': True}, overwrite = True)\n",
    "for k in result.keys():\n",
    "    wb.write_table(\n",
    "        result[k],\n",
    "        sheetname=\"biv\",\n",
    "        conditional_fmt_cols=[3],\n",
    "    )\n",
    "wb.close()"
   ]
  },
  {
   "cell_type": "markdown",
   "metadata": {},
   "source": [
    "#### TMobile 10823"
   ]
  },
  {
   "cell_type": "code",
   "execution_count": 13,
   "metadata": {},
   "outputs": [],
   "source": [
    "tmobile[\"credit_flag_cutoff_date\"] = tmobile.appdatetime_gmt.str.slice(0, 9)\n",
    "tmobile[\"credit_flag_cutoff_date_fmt\"] = pd.to_datetime(tmobile[\"credit_flag_cutoff_date\"], format='%d%b%Y')"
   ]
  },
  {
   "cell_type": "code",
   "execution_count": 14,
   "metadata": {},
   "outputs": [
    {
     "data": {
      "text/html": [
       "<div>\n",
       "<style scoped>\n",
       "    .dataframe tbody tr th:only-of-type {\n",
       "        vertical-align: middle;\n",
       "    }\n",
       "\n",
       "    .dataframe tbody tr th {\n",
       "        vertical-align: top;\n",
       "    }\n",
       "\n",
       "    .dataframe thead th {\n",
       "        text-align: right;\n",
       "    }\n",
       "</style>\n",
       "<table border=\"1\" class=\"dataframe\">\n",
       "  <thead>\n",
       "    <tr style=\"text-align: right;\">\n",
       "      <th></th>\n",
       "      <th>Count</th>\n",
       "      <th>Pct</th>\n",
       "      <th>Cuml Count</th>\n",
       "      <th>Cuml Pct</th>\n",
       "    </tr>\n",
       "    <tr>\n",
       "      <th>credit_flag_cutoff_date_fmt</th>\n",
       "      <th></th>\n",
       "      <th></th>\n",
       "      <th></th>\n",
       "      <th></th>\n",
       "    </tr>\n",
       "  </thead>\n",
       "  <tbody>\n",
       "    <tr>\n",
       "      <th>2022-01</th>\n",
       "      <td>20510.0</td>\n",
       "      <td>0.179189</td>\n",
       "      <td>20510.0</td>\n",
       "      <td>0.179189</td>\n",
       "    </tr>\n",
       "    <tr>\n",
       "      <th>2022-02</th>\n",
       "      <td>22452.0</td>\n",
       "      <td>0.196156</td>\n",
       "      <td>42962.0</td>\n",
       "      <td>0.375345</td>\n",
       "    </tr>\n",
       "    <tr>\n",
       "      <th>2022-03</th>\n",
       "      <td>22846.0</td>\n",
       "      <td>0.199598</td>\n",
       "      <td>65808.0</td>\n",
       "      <td>0.574943</td>\n",
       "    </tr>\n",
       "    <tr>\n",
       "      <th>2022-04</th>\n",
       "      <td>14973.0</td>\n",
       "      <td>0.130814</td>\n",
       "      <td>80781.0</td>\n",
       "      <td>0.705757</td>\n",
       "    </tr>\n",
       "    <tr>\n",
       "      <th>2022-05</th>\n",
       "      <td>16271.0</td>\n",
       "      <td>0.142154</td>\n",
       "      <td>97052.0</td>\n",
       "      <td>0.847912</td>\n",
       "    </tr>\n",
       "    <tr>\n",
       "      <th>2022-06</th>\n",
       "      <td>17408.0</td>\n",
       "      <td>0.152088</td>\n",
       "      <td>114460.0</td>\n",
       "      <td>1.000000</td>\n",
       "    </tr>\n",
       "  </tbody>\n",
       "</table>\n",
       "</div>"
      ],
      "text/plain": [
       "                               Count       Pct  Cuml Count  Cuml Pct\n",
       "credit_flag_cutoff_date_fmt                                         \n",
       "2022-01                      20510.0  0.179189     20510.0  0.179189\n",
       "2022-02                      22452.0  0.196156     42962.0  0.375345\n",
       "2022-03                      22846.0  0.199598     65808.0  0.574943\n",
       "2022-04                      14973.0  0.130814     80781.0  0.705757\n",
       "2022-05                      16271.0  0.142154     97052.0  0.847912\n",
       "2022-06                      17408.0  0.152088    114460.0  1.000000"
      ]
     },
     "execution_count": 14,
     "metadata": {},
     "output_type": "execute_result"
    }
   ],
   "source": [
    "freq(tmobile[\"credit_flag_cutoff_date_fmt\"].astype(str).str.slice(0, 7))"
   ]
  },
  {
   "cell_type": "code",
   "execution_count": 17,
   "metadata": {},
   "outputs": [
    {
     "data": {
      "text/html": [
       "<div>\n",
       "<style scoped>\n",
       "    .dataframe tbody tr th:only-of-type {\n",
       "        vertical-align: middle;\n",
       "    }\n",
       "\n",
       "    .dataframe tbody tr th {\n",
       "        vertical-align: top;\n",
       "    }\n",
       "\n",
       "    .dataframe thead th {\n",
       "        text-align: right;\n",
       "    }\n",
       "</style>\n",
       "<table border=\"1\" class=\"dataframe\">\n",
       "  <thead>\n",
       "    <tr style=\"text-align: right;\">\n",
       "      <th></th>\n",
       "      <th>Count</th>\n",
       "      <th>Pct</th>\n",
       "      <th>Cuml Count</th>\n",
       "      <th>Cuml Pct</th>\n",
       "    </tr>\n",
       "    <tr>\n",
       "      <th>src</th>\n",
       "      <th></th>\n",
       "      <th></th>\n",
       "      <th></th>\n",
       "      <th></th>\n",
       "    </tr>\n",
       "  </thead>\n",
       "  <tbody>\n",
       "    <tr>\n",
       "      <th>march</th>\n",
       "      <td>33679.0</td>\n",
       "      <td>0.294243</td>\n",
       "      <td>33679.0</td>\n",
       "      <td>0.294243</td>\n",
       "    </tr>\n",
       "    <tr>\n",
       "      <th>retro</th>\n",
       "      <td>80781.0</td>\n",
       "      <td>0.705757</td>\n",
       "      <td>114460.0</td>\n",
       "      <td>1.000000</td>\n",
       "    </tr>\n",
       "  </tbody>\n",
       "</table>\n",
       "</div>"
      ],
      "text/plain": [
       "         Count       Pct  Cuml Count  Cuml Pct\n",
       "src                                           \n",
       "march  33679.0  0.294243     33679.0  0.294243\n",
       "retro  80781.0  0.705757    114460.0  1.000000"
      ]
     },
     "execution_count": 17,
     "metadata": {},
     "output_type": "execute_result"
    }
   ],
   "source": [
    "freq(tmobile.src)"
   ]
  },
  {
   "cell_type": "code",
   "execution_count": 18,
   "metadata": {},
   "outputs": [
    {
     "data": {
      "text/html": [
       "<div>\n",
       "<style scoped>\n",
       "    .dataframe tbody tr th:only-of-type {\n",
       "        vertical-align: middle;\n",
       "    }\n",
       "\n",
       "    .dataframe tbody tr th {\n",
       "        vertical-align: top;\n",
       "    }\n",
       "\n",
       "    .dataframe thead th {\n",
       "        text-align: right;\n",
       "    }\n",
       "</style>\n",
       "<table border=\"1\" class=\"dataframe\">\n",
       "  <thead>\n",
       "    <tr style=\"text-align: right;\">\n",
       "      <th></th>\n",
       "      <th>Count</th>\n",
       "      <th>Pct</th>\n",
       "      <th>Cuml Count</th>\n",
       "      <th>Cuml Pct</th>\n",
       "    </tr>\n",
       "    <tr>\n",
       "      <th>fraud_ind</th>\n",
       "      <th></th>\n",
       "      <th></th>\n",
       "      <th></th>\n",
       "      <th></th>\n",
       "    </tr>\n",
       "  </thead>\n",
       "  <tbody>\n",
       "    <tr>\n",
       "      <th>0</th>\n",
       "      <td>58655.0</td>\n",
       "      <td>0.512450</td>\n",
       "      <td>58655.0</td>\n",
       "      <td>0.512450</td>\n",
       "    </tr>\n",
       "    <tr>\n",
       "      <th>1</th>\n",
       "      <td>3762.0</td>\n",
       "      <td>0.032867</td>\n",
       "      <td>62417.0</td>\n",
       "      <td>0.545317</td>\n",
       "    </tr>\n",
       "    <tr>\n",
       "      <th>Missing</th>\n",
       "      <td>52043.0</td>\n",
       "      <td>0.454683</td>\n",
       "      <td>114460.0</td>\n",
       "      <td>1.000000</td>\n",
       "    </tr>\n",
       "  </tbody>\n",
       "</table>\n",
       "</div>"
      ],
      "text/plain": [
       "             Count       Pct  Cuml Count  Cuml Pct\n",
       "fraud_ind                                         \n",
       "0          58655.0  0.512450     58655.0  0.512450\n",
       "1           3762.0  0.032867     62417.0  0.545317\n",
       "Missing    52043.0  0.454683    114460.0  1.000000"
      ]
     },
     "execution_count": 18,
     "metadata": {},
     "output_type": "execute_result"
    }
   ],
   "source": [
    "freq(tmobile.fraud_ind)"
   ]
  },
  {
   "cell_type": "code",
   "execution_count": 19,
   "metadata": {},
   "outputs": [
    {
     "name": "stdout",
     "output_type": "stream",
     "text": [
      "(62417, 41)\n"
     ]
    }
   ],
   "source": [
    "tmobile = tmobile[tmobile[\"fraud_ind\"].notnull()]\n",
    "print(tmobile.shape)"
   ]
  },
  {
   "cell_type": "code",
   "execution_count": 20,
   "metadata": {},
   "outputs": [
    {
     "data": {
      "text/html": [
       "<div>\n",
       "<style scoped>\n",
       "    .dataframe tbody tr th:only-of-type {\n",
       "        vertical-align: middle;\n",
       "    }\n",
       "\n",
       "    .dataframe tbody tr th {\n",
       "        vertical-align: top;\n",
       "    }\n",
       "\n",
       "    .dataframe thead th {\n",
       "        text-align: right;\n",
       "    }\n",
       "</style>\n",
       "<table border=\"1\" class=\"dataframe\">\n",
       "  <thead>\n",
       "    <tr style=\"text-align: right;\">\n",
       "      <th></th>\n",
       "      <th>Count</th>\n",
       "      <th>Pct</th>\n",
       "      <th>Cuml Count</th>\n",
       "      <th>Cuml Pct</th>\n",
       "    </tr>\n",
       "    <tr>\n",
       "      <th>src</th>\n",
       "      <th></th>\n",
       "      <th></th>\n",
       "      <th></th>\n",
       "      <th></th>\n",
       "    </tr>\n",
       "  </thead>\n",
       "  <tbody>\n",
       "    <tr>\n",
       "      <th>march</th>\n",
       "      <td>21914.0</td>\n",
       "      <td>0.35109</td>\n",
       "      <td>21914.0</td>\n",
       "      <td>0.35109</td>\n",
       "    </tr>\n",
       "    <tr>\n",
       "      <th>retro</th>\n",
       "      <td>40503.0</td>\n",
       "      <td>0.64891</td>\n",
       "      <td>62417.0</td>\n",
       "      <td>1.00000</td>\n",
       "    </tr>\n",
       "  </tbody>\n",
       "</table>\n",
       "</div>"
      ],
      "text/plain": [
       "         Count      Pct  Cuml Count  Cuml Pct\n",
       "src                                          \n",
       "march  21914.0  0.35109     21914.0   0.35109\n",
       "retro  40503.0  0.64891     62417.0   1.00000"
      ]
     },
     "execution_count": 20,
     "metadata": {},
     "output_type": "execute_result"
    }
   ],
   "source": [
    "freq(tmobile.src)"
   ]
  },
  {
   "cell_type": "code",
   "execution_count": 21,
   "metadata": {},
   "outputs": [],
   "source": [
    "tmobile[\"credit_flag_cutoff_date\"] = tmobile[\"appdatetime_gmt\"].str.slice(0, 9)\n",
    "tmobile[\"credit_flag_cutoff_date_fmt\"] = pd.to_datetime(tmobile[\"credit_flag_cutoff_date\"], format='%d%b%Y')"
   ]
  },
  {
   "cell_type": "code",
   "execution_count": 22,
   "metadata": {},
   "outputs": [
    {
     "data": {
      "text/plain": [
       "Index(['crid_encr', 'appdatetime_gmt', 'businessname', 'business_contactphone',\n",
       "       'business_addressline1', 'business_addressline2',\n",
       "       'business_addresscity', 'business_addressstate',\n",
       "       'business_addresspostalcode', 'federaltaxid', 'contactfirstname',\n",
       "       'contactmiddlename', 'contactlastname', 'contact_contactphone',\n",
       "       'contact_addressline1', 'contact_addressline2', 'contact_addresscity',\n",
       "       'contact_addressstate', 'contact_addresspostalcode', 'contact_dob',\n",
       "       'contact_idnum', 'contact_idtype', 'contact_idstate', 'contact_email',\n",
       "       'application_channel', 'fraud_ind', 'fraud_tp_ind', 'fraud_fp_ind',\n",
       "       'fpd_ind', 'any_wo_ind', 'activationflag', 'seq', 'account', 'date',\n",
       "       'src', 'contact_dob_year', 'contact_dob_month', 'contact_dob_day',\n",
       "       'contact_driverlicensenumber', 'credit_flag_cutoff_date',\n",
       "       'credit_flag_cutoff_date_fmt'],\n",
       "      dtype='object')"
      ]
     },
     "execution_count": 22,
     "metadata": {},
     "output_type": "execute_result"
    }
   ],
   "source": [
    "tmobile.columns"
   ]
  },
  {
   "cell_type": "code",
   "execution_count": 26,
   "metadata": {},
   "outputs": [
    {
     "name": "stdout",
     "output_type": "stream",
     "text": [
      "3\n",
      "3\n"
     ]
    }
   ],
   "source": [
    "tmobile['abbrev_state'] = tmobile['business_addressstate'].map(statename_to_abbr)\n",
    "print(tmobile['abbrev_state'].isnull().sum())\n",
    "print(tmobile['business_addressstate'].isnull().sum())"
   ]
  },
  {
   "cell_type": "code",
   "execution_count": 27,
   "metadata": {},
   "outputs": [],
   "source": [
    "# freq(\"business_addressstate\", df=tmobile[tmobile['business_addressstate'].notnull() & tmobile['abbrev_state'].isnull()])\n",
    "## ADD abbreviation to mapping dictionary"
   ]
  },
  {
   "cell_type": "code",
   "execution_count": 28,
   "metadata": {},
   "outputs": [
    {
     "name": "stderr",
     "output_type": "stream",
     "text": [
      "/tmp/ipykernel_25390/3611770108.py:6: FutureWarning: The default value of regex will change from True to False in a future version. In addition, single character regular expressions will *not* be treated as literal strings when regex=True.\n",
      "  tmobile[\"full_addr_clean\"] = tmobile['full_addr'].str.replace('.', '')\n",
      "/tmp/ipykernel_25390/3611770108.py:8: FutureWarning: The default value of regex will change from True to False in a future version.\n",
      "  tmobile[\"full_addr_clean\"] = tmobile['full_addr_clean'].str.replace('\\W\\s', '')\n"
     ]
    }
   ],
   "source": [
    "# Compile Full Address: np.where(stripe[\"bus_streetaddress2\"] != \"\", \", \" + stripe[\"bus_streetaddress2\"], \"\") + \n",
    "tmobile[\"full_addr\"] = tmobile[\"business_addressline1\"] + \\\n",
    "    np.where(tmobile[\"business_addresscity\"] != \"\", \", \" + tmobile[\"business_addresscity\"], \"\") + \\\n",
    "    np.where(tmobile[\"abbrev_state\"] != \"\", \", \" + tmobile[\"abbrev_state\"], \"\") + \\\n",
    "        np.where(tmobile[\"business_addresspostalcode\"] != \"\", \", \" + tmobile[\"business_addresspostalcode\"].str.slice(0, 5), \"\")\n",
    "tmobile[\"full_addr_clean\"] = tmobile['full_addr'].str.replace('.', '')\n",
    "tmobile[\"full_addr_clean\"] = tmobile['full_addr_clean'].str.replace(',', '')\n",
    "tmobile[\"full_addr_clean\"] = tmobile['full_addr_clean'].str.replace('\\W\\s', '')\n",
    "tmobile[\"full_addr_clean\"] = tmobile[\"full_addr_clean\"].str.lower()"
   ]
  },
  {
   "cell_type": "code",
   "execution_count": 29,
   "metadata": {},
   "outputs": [
    {
     "data": {
      "text/plain": [
       "(62414, 44)"
      ]
     },
     "execution_count": 29,
     "metadata": {},
     "output_type": "execute_result"
    }
   ],
   "source": [
    "tmobile[tmobile[\"full_addr_clean\"].notnull()].shape"
   ]
  },
  {
   "cell_type": "code",
   "execution_count": 30,
   "metadata": {},
   "outputs": [],
   "source": [
    "tmobile = tmobile[tmobile[\"full_addr_clean\"].notnull()]"
   ]
  },
  {
   "cell_type": "code",
   "execution_count": 32,
   "metadata": {},
   "outputs": [
    {
     "data": {
      "text/plain": [
       "(62414, 44)"
      ]
     },
     "execution_count": 32,
     "metadata": {},
     "output_type": "execute_result"
    }
   ],
   "source": [
    "tmobile.shape"
   ]
  },
  {
   "cell_type": "code",
   "execution_count": 33,
   "metadata": {},
   "outputs": [
    {
     "name": "stdout",
     "output_type": "stream",
     "text": [
      "(274727, 49)\n",
      "(201828, 49)\n"
     ]
    }
   ],
   "source": [
    "sbfe_for_tmobile = sbfe.merge(tmobile, on = \"full_addr_clean\")\n",
    "print(sbfe_for_tmobile.shape)\n",
    "sbfe_for_tmobile = sbfe_for_tmobile[sbfe_for_tmobile[\"inquiry_date_fmt\"] < sbfe_for_tmobile[\"credit_flag_cutoff_date_fmt\"]]\n",
    "print(sbfe_for_tmobile.shape)"
   ]
  },
  {
   "cell_type": "code",
   "execution_count": 34,
   "metadata": {},
   "outputs": [
    {
     "name": "stdout",
     "output_type": "stream",
     "text": [
      "(12647, 2)\n",
      "(9429, 2)\n",
      "(5326, 2)\n",
      "(2031, 2)\n"
     ]
    }
   ],
   "source": [
    "temp = sbfe_for_tmobile[(sbfe_for_tmobile[\"credit_flag_cutoff_date_fmt\"] - sbfe_for_tmobile[\"inquiry_date_fmt\"])/np.timedelta64(1, 'M') <= 6].copy()\n",
    "count_unique_06 = temp.groupby(by = ['crid_encr'])[\"businessphone\"].nunique().reset_index()\n",
    "print(count_unique_06.shape)\n",
    "\n",
    "temp = sbfe_for_tmobile[(sbfe_for_tmobile[\"credit_flag_cutoff_date_fmt\"] - sbfe_for_tmobile[\"inquiry_date_fmt\"])/np.timedelta64(1, 'M') <= 3].copy()\n",
    "count_unique_03 = temp.groupby(by = ['crid_encr'])[\"businessphone\"].nunique().reset_index()\n",
    "print(count_unique_03.shape)\n",
    "\n",
    "temp = sbfe_for_tmobile[(sbfe_for_tmobile[\"credit_flag_cutoff_date_fmt\"] - sbfe_for_tmobile[\"inquiry_date_fmt\"])/np.timedelta64(1, 'M') <= 1].copy()\n",
    "count_unique_01 = temp.groupby(by = ['crid_encr'])[\"businessphone\"].nunique().reset_index()\n",
    "print(count_unique_01.shape)\n",
    "\n",
    "temp = sbfe_for_tmobile[(sbfe_for_tmobile[\"credit_flag_cutoff_date_fmt\"] - sbfe_for_tmobile[\"inquiry_date_fmt\"])/np.timedelta64(1, 'W') <= 1].copy()\n",
    "count_unique_1w = temp.groupby(by = ['crid_encr'])[\"businessphone\"].nunique().reset_index()\n",
    "print(count_unique_1w.shape)"
   ]
  },
  {
   "cell_type": "code",
   "execution_count": 35,
   "metadata": {},
   "outputs": [
    {
     "name": "stdout",
     "output_type": "stream",
     "text": [
      "(62414, 45)\n",
      "(62414, 46)\n",
      "(62414, 47)\n",
      "(62414, 48)\n"
     ]
    }
   ],
   "source": [
    "count_unique_06.columns = ['crid_encr', \"phn_count_unique_06\"]\n",
    "count_unique_03.columns = ['crid_encr', \"phn_count_unique_03\"]\n",
    "count_unique_01.columns = ['crid_encr', \"phn_count_unique_01\"]\n",
    "count_unique_1w.columns = ['crid_encr', \"phn_count_unique_1w\"]\n",
    "\n",
    "tmobile = tmobile.merge(count_unique_06, on = \"crid_encr\", how = \"left\")\n",
    "print(tmobile.shape)\n",
    "tmobile = tmobile.merge(count_unique_03, on = \"crid_encr\", how = \"left\")\n",
    "print(tmobile.shape)\n",
    "tmobile = tmobile.merge(count_unique_01, on = \"crid_encr\", how = \"left\")\n",
    "print(tmobile.shape)\n",
    "tmobile = tmobile.merge(count_unique_1w, on = \"crid_encr\", how = \"left\")\n",
    "print(tmobile.shape)"
   ]
  },
  {
   "cell_type": "code",
   "execution_count": 36,
   "metadata": {},
   "outputs": [
    {
     "name": "stdout",
     "output_type": "stream",
     "text": [
      "(12647, 2)\n",
      "(9429, 2)\n",
      "(5326, 2)\n",
      "(2031, 2)\n"
     ]
    }
   ],
   "source": [
    "temp = sbfe_for_tmobile[(sbfe_for_tmobile[\"credit_flag_cutoff_date_fmt\"] - sbfe_for_tmobile[\"inquiry_date_fmt\"])/np.timedelta64(1, 'M') <= 6].copy()\n",
    "count_unique_06 = temp.groupby(by = ['crid_encr'])[\"taxidnumber\"].nunique().reset_index()\n",
    "print(count_unique_06.shape)\n",
    "\n",
    "temp = sbfe_for_tmobile[(sbfe_for_tmobile[\"credit_flag_cutoff_date_fmt\"] - sbfe_for_tmobile[\"inquiry_date_fmt\"])/np.timedelta64(1, 'M') <= 3].copy()\n",
    "count_unique_03 = temp.groupby(by = ['crid_encr'])[\"taxidnumber\"].nunique().reset_index()\n",
    "print(count_unique_03.shape)\n",
    "\n",
    "temp = sbfe_for_tmobile[(sbfe_for_tmobile[\"credit_flag_cutoff_date_fmt\"] - sbfe_for_tmobile[\"inquiry_date_fmt\"])/np.timedelta64(1, 'M') <= 1].copy()\n",
    "count_unique_01 = temp.groupby(by = ['crid_encr'])[\"taxidnumber\"].nunique().reset_index()\n",
    "print(count_unique_01.shape)\n",
    "\n",
    "temp = sbfe_for_tmobile[(sbfe_for_tmobile[\"credit_flag_cutoff_date_fmt\"] - sbfe_for_tmobile[\"inquiry_date_fmt\"])/np.timedelta64(1, 'W') <= 1].copy()\n",
    "count_unique_1w = temp.groupby(by = ['crid_encr'])[\"taxidnumber\"].nunique().reset_index()\n",
    "print(count_unique_1w.shape)"
   ]
  },
  {
   "cell_type": "code",
   "execution_count": 37,
   "metadata": {},
   "outputs": [
    {
     "name": "stdout",
     "output_type": "stream",
     "text": [
      "(62414, 49)\n",
      "(62414, 50)\n",
      "(62414, 51)\n",
      "(62414, 52)\n"
     ]
    }
   ],
   "source": [
    "count_unique_06.columns = ['crid_encr', \"taxid_count_unique_06\"]\n",
    "count_unique_03.columns = ['crid_encr', \"taxid_count_unique_03\"]\n",
    "count_unique_01.columns = ['crid_encr', \"taxid_count_unique_01\"]\n",
    "count_unique_1w.columns = ['crid_encr', \"taxid_count_unique_1w\"]\n",
    "\n",
    "tmobile = tmobile.merge(count_unique_06, on = \"crid_encr\", how = \"left\")\n",
    "print(tmobile.shape)\n",
    "tmobile = tmobile.merge(count_unique_03, on = \"crid_encr\", how = \"left\")\n",
    "print(tmobile.shape)\n",
    "tmobile = tmobile.merge(count_unique_01, on = \"crid_encr\", how = \"left\")\n",
    "print(tmobile.shape)\n",
    "tmobile = tmobile.merge(count_unique_1w, on = \"crid_encr\", how = \"left\")\n",
    "print(tmobile.shape)"
   ]
  },
  {
   "cell_type": "code",
   "execution_count": 38,
   "metadata": {
    "tags": []
   },
   "outputs": [],
   "source": [
    "tmobile['phn_count_unique_06'] = np.where(tmobile[\"phn_count_unique_06\"].isnull(), 0,   tmobile[\"phn_count_unique_06\"])\n",
    "tmobile['phn_count_unique_03'] = np.where(tmobile[\"phn_count_unique_03\"].isnull(), 0,   tmobile[\"phn_count_unique_03\"])\n",
    "tmobile['phn_count_unique_01'] = np.where(tmobile[\"phn_count_unique_01\"].isnull(), 0,   tmobile[\"phn_count_unique_01\"])\n",
    "tmobile['phn_count_unique_1w'] = np.where(tmobile[\"phn_count_unique_1w\"].isnull(), 0,   tmobile[\"phn_count_unique_1w\"])\n",
    "\n",
    "tmobile['taxid_count_unique_06'] = np.where(tmobile[\"taxid_count_unique_06\"].isnull(), 0,   tmobile[\"taxid_count_unique_06\"])\n",
    "tmobile['taxid_count_unique_03'] = np.where(tmobile[\"taxid_count_unique_03\"].isnull(), 0,   tmobile[\"taxid_count_unique_03\"])\n",
    "tmobile['taxid_count_unique_01'] = np.where(tmobile[\"taxid_count_unique_01\"].isnull(), 0,   tmobile[\"taxid_count_unique_01\"])\n",
    "tmobile['taxid_count_unique_1w'] = np.where(tmobile[\"taxid_count_unique_1w\"].isnull(), 0,   tmobile[\"taxid_count_unique_1w\"])"
   ]
  },
  {
   "cell_type": "code",
   "execution_count": 39,
   "metadata": {},
   "outputs": [],
   "source": [
    "tmobile[\"fraud_ind\"] = tmobile[\"fraud_ind\"].astype(float)"
   ]
  },
  {
   "cell_type": "code",
   "execution_count": 40,
   "metadata": {},
   "outputs": [],
   "source": [
    "fmt = make_format(cuts = [-np.inf, 0, 1, 2, 3, 4, 5, 10, 20, 30, 40, 50, np.inf], exceptions = [-1])\n",
    "result = dict()\n",
    "keep = ['phn_count_unique_06', 'phn_count_unique_03', 'phn_count_unique_01', 'phn_count_unique_1w', 'taxid_count_unique_06', 'taxid_count_unique_03', 'taxid_count_unique_01', 'taxid_count_unique_1w']\n",
    "for i, a in enumerate(keep):\n",
    "    result[i] = bivariate(tmobile[a], tmobile[\"fraud_ind\"], format = fmt)\n",
    "\n",
    "wb = TableWriter(filename = \"./_temp/tmobile.xlsx\", options={'nan_inf_to_errors': True}, overwrite = True)\n",
    "for k in result.keys():\n",
    "    wb.write_table(\n",
    "        result[k],\n",
    "        sheetname=\"biv\",\n",
    "        conditional_fmt_cols=[3],\n",
    "    )\n",
    "wb.close()"
   ]
  },
  {
   "cell_type": "markdown",
   "metadata": {},
   "source": [
    "#### Chase"
   ]
  },
  {
   "cell_type": "code",
   "execution_count": 41,
   "metadata": {},
   "outputs": [
    {
     "name": "stdout",
     "output_type": "stream",
     "text": [
      "(640958, 36)\n"
     ]
    }
   ],
   "source": [
    "chase = pd.read_adls(\"Analytics/RnD Projects/Product RnD/Business/LexisNexis 9999 (SBFE Inquiry POC)/Performance/Fraud Sample/Chase_11449/chase_stacked_final.parquet\")\n",
    "print(chase.shape)"
   ]
  },
  {
   "cell_type": "code",
   "execution_count": 42,
   "metadata": {},
   "outputs": [],
   "source": [
    "chase[\"credit_flag_cutoff_date_fmt\"] = pd.to_datetime(chase[\"app_date\"], format='%d%b%Y')"
   ]
  },
  {
   "cell_type": "code",
   "execution_count": 43,
   "metadata": {},
   "outputs": [
    {
     "data": {
      "text/plain": [
       "Index(['transaction_id', 'cust_first_nm', 'cust_mid_init_tx', 'cust_last_nm',\n",
       "       'govt_issu_id_nb', 'line_1_ad', 'line_2_ad', 'city_nm', 'state_prov_cd',\n",
       "       'pst_area_7_cd', 'pst_area_cd', 'channel', 'bus_name', 'app_date',\n",
       "       'date_of_birth', 'decision', 'bizidscore', 'bd_score', 'bd_score1',\n",
       "       'bd_score2', 'bd_score3', 'bus_addr1', 'bus_addr2', 'bus_city',\n",
       "       'bus_state', 'bus_zip', 'bus_tax_id', 'bus_phone', 'bus_type',\n",
       "       'home_phone', 'bad', 'seq', 'account', 'date', 'LN_booked', 'count',\n",
       "       'credit_flag_cutoff_date_fmt'],\n",
       "      dtype='object')"
      ]
     },
     "execution_count": 43,
     "metadata": {},
     "output_type": "execute_result"
    }
   ],
   "source": [
    "chase.columns"
   ]
  },
  {
   "cell_type": "code",
   "execution_count": 44,
   "metadata": {},
   "outputs": [
    {
     "name": "stderr",
     "output_type": "stream",
     "text": [
      "/tmp/ipykernel_25390/3843543105.py:6: FutureWarning: The default value of regex will change from True to False in a future version. In addition, single character regular expressions will *not* be treated as literal strings when regex=True.\n",
      "  chase[\"full_addr_clean\"] = chase['full_addr'].str.replace('.', '')\n",
      "/tmp/ipykernel_25390/3843543105.py:8: FutureWarning: The default value of regex will change from True to False in a future version.\n",
      "  chase[\"full_addr_clean\"] = chase['full_addr_clean'].str.replace('\\W\\s', '')\n"
     ]
    },
    {
     "data": {
      "text/plain": [
       "499427                 2869 sw 33rd ct unit 1 miami fl 33133\n",
       "837612              821 michigan ave apt 3 evanston il 60202\n",
       "1018748             8204 n lamar blvd ste a4 austin tx 78753\n",
       "82631                      20558 noland woods ct sterling va\n",
       "37307                              23 n midland ave nyack ny\n",
       "                                 ...                        \n",
       "156867                 2222 s dobson rd apt 1089 chandler az\n",
       "140946                          1018 n morrison st kokomo in\n",
       "62551                  597 westport ave unit a420 norwalk ct\n",
       "1225640    17070 collins ave ste 255 sunny isles beach fl...\n",
       "49725                 8324 seven falls st north las vegas nv\n",
       "Name: full_addr_clean, Length: 640958, dtype: object"
      ]
     },
     "execution_count": 44,
     "metadata": {},
     "output_type": "execute_result"
    }
   ],
   "source": [
    "# Compile Full Address: np.where(stripe[\"bus_streetaddress2\"] != \"\", \", \" + stripe[\"bus_streetaddress2\"], \"\") + \n",
    "chase[\"full_addr\"] = chase[\"bus_addr1\"] + \\\n",
    "    np.where(chase[\"bus_city\"] != \"\", \", \" + chase[\"bus_city\"], \"\") + \\\n",
    "    np.where(chase[\"bus_state\"] != \"\", \", \" + chase[\"bus_state\"], \"\") + \\\n",
    "        np.where(chase[\"bus_zip\"] != \"\", \", \" + chase[\"bus_zip\"].str.slice(0, 5), \"\")\n",
    "chase[\"full_addr_clean\"] = chase['full_addr'].str.replace('.', '')\n",
    "chase[\"full_addr_clean\"] = chase['full_addr_clean'].str.replace(',', '')\n",
    "chase[\"full_addr_clean\"] = chase['full_addr_clean'].str.replace('\\W\\s', '')\n",
    "chase[\"full_addr_clean\"] = chase[\"full_addr_clean\"].str.lower()\n",
    "chase[\"full_addr_clean\"]"
   ]
  },
  {
   "cell_type": "code",
   "execution_count": 45,
   "metadata": {},
   "outputs": [
    {
     "name": "stdout",
     "output_type": "stream",
     "text": [
      "(0, 39)\n",
      "(0, 39)\n"
     ]
    }
   ],
   "source": [
    "print(chase[chase[\"full_addr_clean\"]==\"\"].shape)\n",
    "print(chase[chase[\"full_addr_clean\"].isnull()].shape)"
   ]
  },
  {
   "cell_type": "code",
   "execution_count": 46,
   "metadata": {},
   "outputs": [
    {
     "name": "stdout",
     "output_type": "stream",
     "text": [
      "(2658103, 44)\n",
      "(1921750, 44)\n"
     ]
    }
   ],
   "source": [
    "sbfe_for_chase = sbfe.merge(chase, on = \"full_addr_clean\")\n",
    "print(sbfe_for_chase.shape)\n",
    "sbfe_for_chase = sbfe_for_chase[sbfe_for_chase[\"inquiry_date_fmt\"] < sbfe_for_chase[\"credit_flag_cutoff_date_fmt\"]]\n",
    "print(sbfe_for_chase.shape)"
   ]
  },
  {
   "cell_type": "code",
   "execution_count": 47,
   "metadata": {},
   "outputs": [
    {
     "name": "stdout",
     "output_type": "stream",
     "text": [
      "(80884, 2)\n",
      "(59972, 2)\n",
      "(34910, 2)\n",
      "(15193, 2)\n"
     ]
    }
   ],
   "source": [
    "temp = sbfe_for_chase[(sbfe_for_chase[\"credit_flag_cutoff_date_fmt\"] - sbfe_for_chase[\"inquiry_date_fmt\"])/np.timedelta64(1, 'M') <= 6].copy()\n",
    "count_unique_06 = temp.groupby(by = ['account'])[\"businessphone\"].nunique().reset_index()\n",
    "print(count_unique_06.shape)\n",
    "\n",
    "temp = sbfe_for_chase[(sbfe_for_chase[\"credit_flag_cutoff_date_fmt\"] - sbfe_for_chase[\"inquiry_date_fmt\"])/np.timedelta64(1, 'M') <= 3].copy()\n",
    "count_unique_03 = temp.groupby(by = ['account'])[\"businessphone\"].nunique().reset_index()\n",
    "print(count_unique_03.shape)\n",
    "\n",
    "temp = sbfe_for_chase[(sbfe_for_chase[\"credit_flag_cutoff_date_fmt\"] - sbfe_for_chase[\"inquiry_date_fmt\"])/np.timedelta64(1, 'M') <= 1].copy()\n",
    "count_unique_01 = temp.groupby(by = ['account'])[\"businessphone\"].nunique().reset_index()\n",
    "print(count_unique_01.shape)\n",
    "\n",
    "temp = sbfe_for_chase[(sbfe_for_chase[\"credit_flag_cutoff_date_fmt\"] - sbfe_for_chase[\"inquiry_date_fmt\"])/np.timedelta64(1, 'W') <= 1].copy()\n",
    "count_unique_1w = temp.groupby(by = ['account'])[\"businessphone\"].nunique().reset_index()\n",
    "print(count_unique_1w.shape)"
   ]
  },
  {
   "cell_type": "code",
   "execution_count": 48,
   "metadata": {},
   "outputs": [
    {
     "name": "stdout",
     "output_type": "stream",
     "text": [
      "(640958, 40)\n",
      "(640958, 41)\n",
      "(640958, 42)\n",
      "(640958, 43)\n"
     ]
    }
   ],
   "source": [
    "count_unique_06.columns = ['account', \"phn_count_unique_06\"]\n",
    "count_unique_03.columns = ['account', \"phn_count_unique_03\"]\n",
    "count_unique_01.columns = ['account', \"phn_count_unique_01\"]\n",
    "count_unique_1w.columns = ['account', \"phn_count_unique_1w\"]\n",
    "\n",
    "chase = chase.merge(count_unique_06, on = \"account\", how = \"left\")\n",
    "print(chase.shape)\n",
    "chase = chase.merge(count_unique_03, on = \"account\", how = \"left\")\n",
    "print(chase.shape)\n",
    "chase = chase.merge(count_unique_01, on = \"account\", how = \"left\")\n",
    "print(chase.shape)\n",
    "chase = chase.merge(count_unique_1w, on = \"account\", how = \"left\")\n",
    "print(chase.shape)"
   ]
  },
  {
   "cell_type": "code",
   "execution_count": 49,
   "metadata": {},
   "outputs": [
    {
     "name": "stdout",
     "output_type": "stream",
     "text": [
      "(80884, 2)\n",
      "(59972, 2)\n",
      "(34910, 2)\n",
      "(15193, 2)\n"
     ]
    }
   ],
   "source": [
    "temp = sbfe_for_chase[(sbfe_for_chase[\"credit_flag_cutoff_date_fmt\"] - sbfe_for_chase[\"inquiry_date_fmt\"])/np.timedelta64(1, 'M') <= 6].copy()\n",
    "count_unique_06 = temp.groupby(by = ['account'])[\"taxidnumber\"].nunique().reset_index()\n",
    "print(count_unique_06.shape)\n",
    "\n",
    "temp = sbfe_for_chase[(sbfe_for_chase[\"credit_flag_cutoff_date_fmt\"] - sbfe_for_chase[\"inquiry_date_fmt\"])/np.timedelta64(1, 'M') <= 3].copy()\n",
    "count_unique_03 = temp.groupby(by = ['account'])[\"taxidnumber\"].nunique().reset_index()\n",
    "print(count_unique_03.shape)\n",
    "\n",
    "temp = sbfe_for_chase[(sbfe_for_chase[\"credit_flag_cutoff_date_fmt\"] - sbfe_for_chase[\"inquiry_date_fmt\"])/np.timedelta64(1, 'M') <= 1].copy()\n",
    "count_unique_01 = temp.groupby(by = ['account'])[\"taxidnumber\"].nunique().reset_index()\n",
    "print(count_unique_01.shape)\n",
    "\n",
    "temp = sbfe_for_chase[(sbfe_for_chase[\"credit_flag_cutoff_date_fmt\"] - sbfe_for_chase[\"inquiry_date_fmt\"])/np.timedelta64(1, 'W') <= 1].copy()\n",
    "count_unique_1w = temp.groupby(by = ['account'])[\"taxidnumber\"].nunique().reset_index()\n",
    "print(count_unique_1w.shape)"
   ]
  },
  {
   "cell_type": "code",
   "execution_count": 50,
   "metadata": {},
   "outputs": [
    {
     "name": "stdout",
     "output_type": "stream",
     "text": [
      "(640958, 44)\n",
      "(640958, 45)\n",
      "(640958, 46)\n",
      "(640958, 47)\n"
     ]
    }
   ],
   "source": [
    "count_unique_06.columns = ['account', \"taxid_count_unique_06\"]\n",
    "count_unique_03.columns = ['account', \"taxid_count_unique_03\"]\n",
    "count_unique_01.columns = ['account', \"taxid_count_unique_01\"]\n",
    "count_unique_1w.columns = ['account', \"taxid_count_unique_1w\"]\n",
    "\n",
    "chase = chase.merge(count_unique_06, on = \"account\", how = \"left\")\n",
    "print(chase.shape)\n",
    "chase = chase.merge(count_unique_03, on = \"account\", how = \"left\")\n",
    "print(chase.shape)\n",
    "chase = chase.merge(count_unique_01, on = \"account\", how = \"left\")\n",
    "print(chase.shape)\n",
    "chase = chase.merge(count_unique_1w, on = \"account\", how = \"left\")\n",
    "print(chase.shape)"
   ]
  },
  {
   "cell_type": "code",
   "execution_count": 51,
   "metadata": {
    "tags": []
   },
   "outputs": [],
   "source": [
    "chase['phn_count_unique_06'] = np.where(chase[\"phn_count_unique_06\"].isnull(), 0, chase[\"phn_count_unique_06\"])\n",
    "chase['phn_count_unique_03'] = np.where(chase[\"phn_count_unique_03\"].isnull(), 0, chase[\"phn_count_unique_03\"])\n",
    "chase['phn_count_unique_01'] = np.where(chase[\"phn_count_unique_01\"].isnull(), 0, chase[\"phn_count_unique_01\"])\n",
    "chase['phn_count_unique_1w'] = np.where(chase[\"phn_count_unique_1w\"].isnull(), 0, chase[\"phn_count_unique_1w\"])\n",
    "\n",
    "chase['taxid_count_unique_06'] = np.where(chase[\"taxid_count_unique_06\"].isnull(), 0, chase[\"taxid_count_unique_06\"])\n",
    "chase['taxid_count_unique_03'] = np.where(chase[\"taxid_count_unique_03\"].isnull(), 0, chase[\"taxid_count_unique_03\"])\n",
    "chase['taxid_count_unique_01'] = np.where(chase[\"taxid_count_unique_01\"].isnull(), 0, chase[\"taxid_count_unique_01\"])\n",
    "chase['taxid_count_unique_1w'] = np.where(chase[\"taxid_count_unique_1w\"].isnull(), 0, chase[\"taxid_count_unique_1w\"])"
   ]
  },
  {
   "cell_type": "code",
   "execution_count": 53,
   "metadata": {},
   "outputs": [],
   "source": [
    "chase[\"fraud_ind\"] = chase[\"bad\"].astype(float)"
   ]
  },
  {
   "cell_type": "code",
   "execution_count": 54,
   "metadata": {},
   "outputs": [],
   "source": [
    "fmt = make_format(cuts = [-np.inf, 0, 1, 2, 3, 4, 5, 10, 20, 30, 40, 50, np.inf], exceptions = [-1])\n",
    "result = dict()\n",
    "keep = ['phn_count_unique_06', 'phn_count_unique_03', 'phn_count_unique_01', 'phn_count_unique_1w', 'taxid_count_unique_06', 'taxid_count_unique_03', 'taxid_count_unique_01', 'taxid_count_unique_1w']\n",
    "for i, a in enumerate(keep):\n",
    "    result[i] = bivariate(chase[a].astype(float), chase[\"fraud_ind\"], format = fmt)\n",
    "\n",
    "wb = TableWriter(filename = \"./_temp/chase.xlsx\", options={'nan_inf_to_errors': True}, overwrite = True)\n",
    "for k in result.keys():\n",
    "    wb.write_table(\n",
    "        result[k],\n",
    "        sheetname=\"biv\",\n",
    "        conditional_fmt_cols=[3],\n",
    "    )\n",
    "wb.close()"
   ]
  },
  {
   "cell_type": "markdown",
   "metadata": {},
   "source": [
    "#### Fleector"
   ]
  },
  {
   "cell_type": "code",
   "execution_count": 55,
   "metadata": {},
   "outputs": [
    {
     "name": "stdout",
     "output_type": "stream",
     "text": [
      "(83704, 92)\n"
     ]
    }
   ],
   "source": [
    "fleector = pd.read_adls(\"Analytics/RnD Projects/Product RnD/Business/LexisNexis 9999 (SBFE Inquiry POC)/Performance/Fraud Sample/fleector_11124/fleector_sample_to_use.parquet\")\n",
    "print(fleector.shape)"
   ]
  },
  {
   "cell_type": "code",
   "execution_count": 56,
   "metadata": {},
   "outputs": [],
   "source": [
    "fleector[\"credit_flag_cutoff_date_fmt\"] = pd.to_datetime(fleector[\"date_created\"], format='%Y-%m-%d')"
   ]
  },
  {
   "cell_type": "code",
   "execution_count": 57,
   "metadata": {},
   "outputs": [
    {
     "data": {
      "text/html": [
       "<div>\n",
       "<style scoped>\n",
       "    .dataframe tbody tr th:only-of-type {\n",
       "        vertical-align: middle;\n",
       "    }\n",
       "\n",
       "    .dataframe tbody tr th {\n",
       "        vertical-align: top;\n",
       "    }\n",
       "\n",
       "    .dataframe thead th {\n",
       "        text-align: right;\n",
       "    }\n",
       "</style>\n",
       "<table border=\"1\" class=\"dataframe\">\n",
       "  <thead>\n",
       "    <tr style=\"text-align: right;\">\n",
       "      <th></th>\n",
       "      <th>Count</th>\n",
       "      <th>Pct</th>\n",
       "      <th>Cuml Count</th>\n",
       "      <th>Cuml Pct</th>\n",
       "    </tr>\n",
       "    <tr>\n",
       "      <th>credit_flag_cutoff_date_fmt</th>\n",
       "      <th></th>\n",
       "      <th></th>\n",
       "      <th></th>\n",
       "      <th></th>\n",
       "    </tr>\n",
       "  </thead>\n",
       "  <tbody>\n",
       "    <tr>\n",
       "      <th>2022-01</th>\n",
       "      <td>15827.0</td>\n",
       "      <td>0.189083</td>\n",
       "      <td>15827.0</td>\n",
       "      <td>0.189083</td>\n",
       "    </tr>\n",
       "    <tr>\n",
       "      <th>2022-02</th>\n",
       "      <td>15512.0</td>\n",
       "      <td>0.185320</td>\n",
       "      <td>31339.0</td>\n",
       "      <td>0.374403</td>\n",
       "    </tr>\n",
       "    <tr>\n",
       "      <th>2022-03</th>\n",
       "      <td>19353.0</td>\n",
       "      <td>0.231208</td>\n",
       "      <td>50692.0</td>\n",
       "      <td>0.605610</td>\n",
       "    </tr>\n",
       "    <tr>\n",
       "      <th>2022-04</th>\n",
       "      <td>16822.0</td>\n",
       "      <td>0.200970</td>\n",
       "      <td>67514.0</td>\n",
       "      <td>0.806580</td>\n",
       "    </tr>\n",
       "    <tr>\n",
       "      <th>2022-05</th>\n",
       "      <td>16185.0</td>\n",
       "      <td>0.193360</td>\n",
       "      <td>83699.0</td>\n",
       "      <td>0.999940</td>\n",
       "    </tr>\n",
       "    <tr>\n",
       "      <th>2022-06</th>\n",
       "      <td>5.0</td>\n",
       "      <td>0.000060</td>\n",
       "      <td>83704.0</td>\n",
       "      <td>1.000000</td>\n",
       "    </tr>\n",
       "  </tbody>\n",
       "</table>\n",
       "</div>"
      ],
      "text/plain": [
       "                               Count       Pct  Cuml Count  Cuml Pct\n",
       "credit_flag_cutoff_date_fmt                                         \n",
       "2022-01                      15827.0  0.189083     15827.0  0.189083\n",
       "2022-02                      15512.0  0.185320     31339.0  0.374403\n",
       "2022-03                      19353.0  0.231208     50692.0  0.605610\n",
       "2022-04                      16822.0  0.200970     67514.0  0.806580\n",
       "2022-05                      16185.0  0.193360     83699.0  0.999940\n",
       "2022-06                          5.0  0.000060     83704.0  1.000000"
      ]
     },
     "execution_count": 57,
     "metadata": {},
     "output_type": "execute_result"
    }
   ],
   "source": [
    "freq(fleector[\"credit_flag_cutoff_date_fmt\"].astype(str).str.slice(0, 7))"
   ]
  },
  {
   "cell_type": "code",
   "execution_count": 58,
   "metadata": {},
   "outputs": [
    {
     "name": "stderr",
     "output_type": "stream",
     "text": [
      "/tmp/ipykernel_25390/2826320773.py:6: FutureWarning: The default value of regex will change from True to False in a future version. In addition, single character regular expressions will *not* be treated as literal strings when regex=True.\n",
      "  fleector[\"full_addr_clean\"] = fleector['full_addr'].str.replace('.', '')\n",
      "/tmp/ipykernel_25390/2826320773.py:8: FutureWarning: The default value of regex will change from True to False in a future version.\n",
      "  fleector[\"full_addr_clean\"] = fleector['full_addr_clean'].str.replace('\\W\\s', '')\n"
     ]
    },
    {
     "data": {
      "text/plain": [
       "6875                  637 sackman st brooklyn ny 11212\n",
       "5628     413timberline ridge ct winston salem nc 27106\n",
       "19723          170bentley place way covington ga 30016\n",
       "4981                99 horace lane walterboro sc 29488\n",
       "17116           3828 highlands pkwy se smyrna ga 30082\n",
       "                             ...                      \n",
       "49448           10387 tiago lake dr escondido ca 92029\n",
       "705          645 henderson drive cartersville ga 30120\n",
       "79073             98 whitethorne ave columbus oh 43223\n",
       "61964               107 floridana road debary fl 32713\n",
       "54909           4207 youngstown dr greensboro nc 27405\n",
       "Name: full_addr_clean, Length: 83704, dtype: object"
      ]
     },
     "execution_count": 58,
     "metadata": {},
     "output_type": "execute_result"
    }
   ],
   "source": [
    "# Compile Full Address: np.where(stripe[\"bus_streetaddress2\"] != \"\", \", \" + stripe[\"bus_streetaddress2\"], \"\") + \n",
    "fleector[\"full_addr\"] = fleector[\"cust_address1\"] + \\\n",
    "    np.where(fleector[\"cust_city\"] != \"\", \", \" + fleector[\"cust_city\"], \"\") + \\\n",
    "    np.where(fleector[\"cust_state\"] != \"\", \", \" + fleector[\"cust_state\"], \"\") + \\\n",
    "        np.where(fleector[\"cust_zip\"] != \"\", \", \" + fleector[\"cust_zip\"].str.slice(0, 5), \"\")\n",
    "fleector[\"full_addr_clean\"] = fleector['full_addr'].str.replace('.', '')\n",
    "fleector[\"full_addr_clean\"] = fleector['full_addr_clean'].str.replace(',', '')\n",
    "fleector[\"full_addr_clean\"] = fleector['full_addr_clean'].str.replace('\\W\\s', '')\n",
    "fleector[\"full_addr_clean\"] = fleector[\"full_addr_clean\"].str.lower()\n",
    "fleector[\"full_addr_clean\"]"
   ]
  },
  {
   "cell_type": "code",
   "execution_count": 59,
   "metadata": {},
   "outputs": [
    {
     "name": "stdout",
     "output_type": "stream",
     "text": [
      "(0, 95)\n",
      "(0, 95)\n"
     ]
    }
   ],
   "source": [
    "print(fleector[fleector[\"full_addr_clean\"]==\"\"].shape)\n",
    "print(fleector[fleector[\"full_addr_clean\"].isnull()].shape)"
   ]
  },
  {
   "cell_type": "code",
   "execution_count": 60,
   "metadata": {},
   "outputs": [
    {
     "data": {
      "text/plain": [
       "True"
      ]
     },
     "execution_count": 60,
     "metadata": {},
     "output_type": "execute_result"
    }
   ],
   "source": [
    "fleector.seq.is_unique"
   ]
  },
  {
   "cell_type": "code",
   "execution_count": 62,
   "metadata": {},
   "outputs": [
    {
     "data": {
      "text/plain": [
       "(83704, 95)"
      ]
     },
     "execution_count": 62,
     "metadata": {},
     "output_type": "execute_result"
    }
   ],
   "source": [
    "fleector.shape"
   ]
  },
  {
   "cell_type": "code",
   "execution_count": 61,
   "metadata": {},
   "outputs": [
    {
     "name": "stdout",
     "output_type": "stream",
     "text": [
      "(176804, 100)\n",
      "(89741, 100)\n"
     ]
    }
   ],
   "source": [
    "sbfe_for_fleector = sbfe.merge(fleector, on = \"full_addr_clean\")\n",
    "print(sbfe_for_fleector.shape)\n",
    "sbfe_for_fleector = sbfe_for_fleector[sbfe_for_fleector[\"inquiry_date_fmt\"] < sbfe_for_fleector[\"credit_flag_cutoff_date_fmt\"]]\n",
    "print(sbfe_for_fleector.shape)"
   ]
  },
  {
   "cell_type": "code",
   "execution_count": 64,
   "metadata": {},
   "outputs": [
    {
     "name": "stdout",
     "output_type": "stream",
     "text": [
      "(12875, 2)\n",
      "(9748, 2)\n",
      "(6064, 2)\n",
      "(2471, 2)\n"
     ]
    }
   ],
   "source": [
    "temp = sbfe_for_fleector[(sbfe_for_fleector[\"credit_flag_cutoff_date_fmt\"] - sbfe_for_fleector[\"inquiry_date_fmt\"])/np.timedelta64(1, 'M') <= 6].copy()\n",
    "count_unique_06 = temp.groupby(by = ['seq'])[\"businessphone\"].nunique().reset_index()\n",
    "print(count_unique_06.shape)\n",
    "\n",
    "temp = sbfe_for_fleector[(sbfe_for_fleector[\"credit_flag_cutoff_date_fmt\"] - sbfe_for_fleector[\"inquiry_date_fmt\"])/np.timedelta64(1, 'M') <= 3].copy()\n",
    "count_unique_03 = temp.groupby(by = ['seq'])[\"businessphone\"].nunique().reset_index()\n",
    "print(count_unique_03.shape)\n",
    "\n",
    "temp = sbfe_for_fleector[(sbfe_for_fleector[\"credit_flag_cutoff_date_fmt\"] - sbfe_for_fleector[\"inquiry_date_fmt\"])/np.timedelta64(1, 'M') <= 1].copy()\n",
    "count_unique_01 = temp.groupby(by = ['seq'])[\"businessphone\"].nunique().reset_index()\n",
    "print(count_unique_01.shape)\n",
    "\n",
    "temp = sbfe_for_fleector[(sbfe_for_fleector[\"credit_flag_cutoff_date_fmt\"] - sbfe_for_fleector[\"inquiry_date_fmt\"])/np.timedelta64(1, 'W') <= 1].copy()\n",
    "count_unique_1w = temp.groupby(by = ['seq'])[\"businessphone\"].nunique().reset_index()\n",
    "print(count_unique_1w.shape)"
   ]
  },
  {
   "cell_type": "code",
   "execution_count": 65,
   "metadata": {},
   "outputs": [
    {
     "name": "stdout",
     "output_type": "stream",
     "text": [
      "(83704, 96)\n",
      "(83704, 97)\n",
      "(83704, 98)\n",
      "(83704, 99)\n"
     ]
    }
   ],
   "source": [
    "count_unique_06.columns = ['seq', \"phn_count_unique_06\"]\n",
    "count_unique_03.columns = ['seq', \"phn_count_unique_03\"]\n",
    "count_unique_01.columns = ['seq', \"phn_count_unique_01\"]\n",
    "count_unique_1w.columns = ['seq', \"phn_count_unique_1w\"]\n",
    "\n",
    "fleector = fleector.merge(count_unique_06, on = \"seq\", how = \"left\")\n",
    "print(fleector.shape)\n",
    "fleector = fleector.merge(count_unique_03, on = \"seq\", how = \"left\")\n",
    "print(fleector.shape)\n",
    "fleector = fleector.merge(count_unique_01, on = \"seq\", how = \"left\")\n",
    "print(fleector.shape)\n",
    "fleector = fleector.merge(count_unique_1w, on = \"seq\", how = \"left\")\n",
    "print(fleector.shape)"
   ]
  },
  {
   "cell_type": "code",
   "execution_count": 66,
   "metadata": {},
   "outputs": [
    {
     "name": "stdout",
     "output_type": "stream",
     "text": [
      "(12875, 2)\n",
      "(9748, 2)\n",
      "(6064, 2)\n",
      "(2471, 2)\n"
     ]
    }
   ],
   "source": [
    "temp = sbfe_for_fleector[(sbfe_for_fleector[\"credit_flag_cutoff_date_fmt\"] - sbfe_for_fleector[\"inquiry_date_fmt\"])/np.timedelta64(1, 'M') <= 6].copy()\n",
    "count_unique_06 = temp.groupby(by = ['seq'])[\"taxidnumber\"].nunique().reset_index()\n",
    "print(count_unique_06.shape)\n",
    "\n",
    "temp = sbfe_for_fleector[(sbfe_for_fleector[\"credit_flag_cutoff_date_fmt\"] - sbfe_for_fleector[\"inquiry_date_fmt\"])/np.timedelta64(1, 'M') <= 3].copy()\n",
    "count_unique_03 = temp.groupby(by = ['seq'])[\"taxidnumber\"].nunique().reset_index()\n",
    "print(count_unique_03.shape)\n",
    "\n",
    "temp = sbfe_for_fleector[(sbfe_for_fleector[\"credit_flag_cutoff_date_fmt\"] - sbfe_for_fleector[\"inquiry_date_fmt\"])/np.timedelta64(1, 'M') <= 1].copy()\n",
    "count_unique_01 = temp.groupby(by = ['seq'])[\"taxidnumber\"].nunique().reset_index()\n",
    "print(count_unique_01.shape)\n",
    "\n",
    "temp = sbfe_for_fleector[(sbfe_for_fleector[\"credit_flag_cutoff_date_fmt\"] - sbfe_for_fleector[\"inquiry_date_fmt\"])/np.timedelta64(1, 'W') <= 1].copy()\n",
    "count_unique_1w = temp.groupby(by = ['seq'])[\"taxidnumber\"].nunique().reset_index()\n",
    "print(count_unique_1w.shape)"
   ]
  },
  {
   "cell_type": "code",
   "execution_count": 67,
   "metadata": {},
   "outputs": [
    {
     "name": "stdout",
     "output_type": "stream",
     "text": [
      "(83704, 100)\n",
      "(83704, 101)\n",
      "(83704, 102)\n",
      "(83704, 103)\n"
     ]
    }
   ],
   "source": [
    "count_unique_06.columns = ['seq', \"taxid_count_unique_06\"]\n",
    "count_unique_03.columns = ['seq', \"taxid_count_unique_03\"]\n",
    "count_unique_01.columns = ['seq', \"taxid_count_unique_01\"]\n",
    "count_unique_1w.columns = ['seq', \"taxid_count_unique_1w\"]\n",
    "\n",
    "fleector = fleector.merge(count_unique_06, on = \"seq\", how = \"left\")\n",
    "print(fleector.shape)\n",
    "fleector = fleector.merge(count_unique_03, on = \"seq\", how = \"left\")\n",
    "print(fleector.shape)\n",
    "fleector = fleector.merge(count_unique_01, on = \"seq\", how = \"left\")\n",
    "print(fleector.shape)\n",
    "fleector = fleector.merge(count_unique_1w, on = \"seq\", how = \"left\")\n",
    "print(fleector.shape)"
   ]
  },
  {
   "cell_type": "code",
   "execution_count": 68,
   "metadata": {
    "tags": []
   },
   "outputs": [],
   "source": [
    "fleector['phn_count_unique_06'] = np.where(fleector[\"phn_count_unique_06\"].isnull(), 0, fleector[\"phn_count_unique_06\"])\n",
    "fleector['phn_count_unique_03'] = np.where(fleector[\"phn_count_unique_03\"].isnull(), 0, fleector[\"phn_count_unique_03\"])\n",
    "fleector['phn_count_unique_01'] = np.where(fleector[\"phn_count_unique_01\"].isnull(), 0, fleector[\"phn_count_unique_01\"])\n",
    "fleector['phn_count_unique_1w'] = np.where(fleector[\"phn_count_unique_1w\"].isnull(), 0, fleector[\"phn_count_unique_1w\"])\n",
    "\n",
    "fleector['taxid_count_unique_06'] = np.where(fleector[\"taxid_count_unique_06\"].isnull(), 0, fleector[\"taxid_count_unique_06\"])\n",
    "fleector['taxid_count_unique_03'] = np.where(fleector[\"taxid_count_unique_03\"].isnull(), 0, fleector[\"taxid_count_unique_03\"])\n",
    "fleector['taxid_count_unique_01'] = np.where(fleector[\"taxid_count_unique_01\"].isnull(), 0, fleector[\"taxid_count_unique_01\"])\n",
    "fleector['taxid_count_unique_1w'] = np.where(fleector[\"taxid_count_unique_1w\"].isnull(), 0, fleector[\"taxid_count_unique_1w\"])"
   ]
  },
  {
   "cell_type": "code",
   "execution_count": 69,
   "metadata": {},
   "outputs": [],
   "source": [
    "fleector[\"fraud_ind\"] = fleector[\"final_fraud_flag\"].astype(float)"
   ]
  },
  {
   "cell_type": "code",
   "execution_count": 70,
   "metadata": {},
   "outputs": [],
   "source": [
    "fmt = make_format(cuts = [-np.inf, 0, 1, 2, 3, 4, 5, 10, 20, 30, 40, 50, np.inf], exceptions = [-1])\n",
    "result = dict()\n",
    "keep = ['phn_count_unique_06', 'phn_count_unique_03', 'phn_count_unique_01', 'phn_count_unique_1w', \n",
    "        'taxid_count_unique_06', 'taxid_count_unique_03', 'taxid_count_unique_01', 'taxid_count_unique_1w']\n",
    "for i, a in enumerate(keep):\n",
    "    result[i] = bivariate(fleector[a].astype(float), fleector[\"fraud_ind\"], format = fmt, groups= fleector.acct_flag)\n",
    "\n",
    "wb = TableWriter(filename = \"./_temp/fleector.xlsx\", options={'nan_inf_to_errors': True}, overwrite = True)\n",
    "for k in result.keys():\n",
    "    wb.write_table(\n",
    "        result[k],\n",
    "        sheetname=\"biv\",\n",
    "        conditional_fmt_cols=[3],\n",
    "    )\n",
    "wb.close()"
   ]
  },
  {
   "cell_type": "markdown",
   "metadata": {},
   "source": [
    "#### Other"
   ]
  },
  {
   "cell_type": "code",
   "execution_count": 25,
   "metadata": {},
   "outputs": [],
   "source": [
    "statename_to_abbr = {\n",
    "    # Other\n",
    "    'District of Columbia': 'DC',\n",
    "\n",
    "    # States\n",
    "    'Alabama': 'AL',\n",
    "    'Montana': 'MT',\n",
    "    'Alaska': 'AK',\n",
    "    'Nebraska': 'NE',\n",
    "    'Arizona': 'AZ',\n",
    "    'Nevada': 'NV',\n",
    "    'Arkansas': 'AR',\n",
    "    'New Hampshire': 'NH',\n",
    "    'California': 'CA',\n",
    "    'New Jersey': 'NJ',\n",
    "    'Colorado': 'CO',\n",
    "    'New Mexico': 'NM',\n",
    "    'Connecticut': 'CT',\n",
    "    'New York': 'NY',\n",
    "    'Delaware': 'DE',\n",
    "    'North Carolina': 'NC',\n",
    "    'Florida': 'FL',\n",
    "    'North Dakota': 'ND',\n",
    "    'Georgia': 'GA',\n",
    "    'Ohio': 'OH',\n",
    "    'Hawaii': 'HI',\n",
    "    'Oklahoma': 'OK',\n",
    "    'Idaho': 'ID',\n",
    "    'Oregon': 'OR',\n",
    "    'Illinois': 'IL',\n",
    "    'Pennsylvania': 'PA',\n",
    "    'Indiana': 'IN',\n",
    "    'Rhode Island': 'RI',\n",
    "    'Iowa': 'IA',\n",
    "    'South Carolina': 'SC',\n",
    "    'Kansas': 'KS',\n",
    "    'South Dakota': 'SD',\n",
    "    'Kentucky': 'KY',\n",
    "    'Tennessee': 'TN',\n",
    "    'Louisiana': 'LA',\n",
    "    'Texas': 'TX',\n",
    "    'Maine': 'ME',\n",
    "    'Utah': 'UT',\n",
    "    'Maryland': 'MD',\n",
    "    'Vermont': 'VT',\n",
    "    'Massachusetts': 'MA',\n",
    "    'Virginia': 'VA',\n",
    "    'Michigan': 'MI',\n",
    "    'Washington': 'WA',\n",
    "    'Minnesota': 'MN',\n",
    "    'West Virginia': 'WV',\n",
    "    'Mississippi': 'MS',\n",
    "    'Wisconsin': 'WI',\n",
    "    'Missouri': 'MO',\n",
    "    'Wyoming': 'WY',\n",
    "    \"Puerto Rico\" : \"PR\",\n",
    "\"Virgin Islands\" : \"VI\"\n",
    "}"
   ]
  },
  {
   "cell_type": "code",
   "execution_count": null,
   "metadata": {},
   "outputs": [],
   "source": []
  }
 ],
 "metadata": {
  "kernelspec": {
   "display_name": "Python [conda env:data-science]",
   "language": "python",
   "name": "conda-env-data-science-py"
  },
  "language_info": {
   "codemirror_mode": {
    "name": "ipython",
    "version": 3
   },
   "file_extension": ".py",
   "mimetype": "text/x-python",
   "name": "python",
   "nbconvert_exporter": "python",
   "pygments_lexer": "ipython3",
   "version": "3.10.6"
  }
 },
 "nbformat": 4,
 "nbformat_minor": 4
}
