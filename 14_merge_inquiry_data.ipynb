{
 "cells": [
  {
   "cell_type": "code",
   "execution_count": 1,
   "metadata": {},
   "outputs": [],
   "source": [
    "import time\n",
    "import pandas as pd\n",
    "import numpy as np\n",
    "import math\n",
    "\n",
    "# internal tools\n",
    "from dsgtools.reporting import make_format\n",
    "from dsgtools.reporting import TableWriter\n",
    "from dsgtools.reporting import freq\n",
    "from dsgtools.reporting import bivariate"
   ]
  },
  {
   "cell_type": "code",
   "execution_count": 6,
   "metadata": {},
   "outputs": [],
   "source": [
    "## new fix for data import\n",
    "import os\n",
    "os.environ[\"HTTP_PROXY\"] = \"\"\n",
    "os.environ[\"HTTPS_PROXY\"] = \"\"\n",
    "os.environ[\"NO_PROXY\"] = \"\""
   ]
  },
  {
   "cell_type": "code",
   "execution_count": 7,
   "metadata": {},
   "outputs": [
    {
     "name": "stdout",
     "output_type": "stream",
     "text": [
      "(640958, 36)\n",
      "(114460, 39)\n",
      "(75000, 22)\n",
      "(83704, 92)\n"
     ]
    }
   ],
   "source": [
    "## Input Data\n",
    "chase = pd.read_adls(\"Analytics/RnD Projects/Product RnD/Business/LexisNexis 9999 (SBFE Inquiry POC)/Performance/Fraud Sample/Chase_11449/\" + \"chase_stacked_final.parquet\")\n",
    "print(chase.shape)\n",
    "\n",
    "tmobile = pd.read_adls(\"Analytics/RnD Projects/Product RnD/Business/LexisNexis 9999 (SBFE Inquiry POC)/Performance/Fraud Sample/tmobile_10823/\" + \"tmbile_file_to_use.parquet\")\n",
    "print(tmobile.shape)\n",
    "\n",
    "stripe = pd.read_adls(\"Analytics/RnD Projects/Product RnD/Business/LexisNexis 9999 (SBFE Inquiry POC)/Performance/Fraud Sample/stripe_11363/\" + \"stripe_file_to_use.parquet\")\n",
    "print(stripe.shape)\n",
    "\n",
    "fleector = pd.read_adls(\"Analytics/RnD Projects/Product RnD/Business/LexisNexis 9999 (SBFE Inquiry POC)/Performance/Fraud Sample/fleector_11124/\" + \"fleector_sample_to_use.parquet\")\n",
    "print(fleector.shape)"
   ]
  },
  {
   "cell_type": "code",
   "execution_count": 8,
   "metadata": {},
   "outputs": [],
   "source": [
    "## keep seleid, full address, phone, taxid, performance flag >> business information >> might need to dedup"
   ]
  },
  {
   "attachments": {},
   "cell_type": "markdown",
   "metadata": {},
   "source": [
    "#### SBFE Inquiry"
   ]
  },
  {
   "cell_type": "code",
   "execution_count": 9,
   "metadata": {},
   "outputs": [
    {
     "name": "stdout",
     "output_type": "stream",
     "text": [
      "(79429086, 20)\n"
     ]
    }
   ],
   "source": [
    "path = \"Analytics/RnD Projects/Product RnD/Business/LexisNexis 9999 (SBFE Inquiry POC)/Data Modeling Clean/sbfe_seleid_append_deduped_cleaned_0501.parquet\"\n",
    "sbfe = pd.read_adls(path, reader = pd.read_parquet)\n",
    "print(sbfe.shape)"
   ]
  },
  {
   "cell_type": "code",
   "execution_count": 10,
   "metadata": {},
   "outputs": [],
   "source": [
    "sbfe = sbfe[[\"seleid\", \"historydate_x\"]]\n",
    "sbfe.columns = [\"seleid_inquiry_sbfe\", \"inquiry_date\"]"
   ]
  },
  {
   "cell_type": "code",
   "execution_count": 11,
   "metadata": {},
   "outputs": [],
   "source": [
    "sbfe[\"inquiry_date\"] = sbfe[\"inquiry_date\"].astype(int)\n",
    "sbfe[\"inquiry_date_fmt\"] = pd.to_datetime(sbfe[\"inquiry_date\"], format='%Y%m%d')"
   ]
  },
  {
   "cell_type": "code",
   "execution_count": 12,
   "metadata": {},
   "outputs": [],
   "source": [
    "sbfe[\"seleid_inquiry_sbfe\"] = sbfe[\"seleid_inquiry_sbfe\"].astype(float)"
   ]
  },
  {
   "cell_type": "code",
   "execution_count": 13,
   "metadata": {},
   "outputs": [
    {
     "data": {
      "text/html": [
       "<div>\n",
       "<style scoped>\n",
       "    .dataframe tbody tr th:only-of-type {\n",
       "        vertical-align: middle;\n",
       "    }\n",
       "\n",
       "    .dataframe tbody tr th {\n",
       "        vertical-align: top;\n",
       "    }\n",
       "\n",
       "    .dataframe thead th {\n",
       "        text-align: right;\n",
       "    }\n",
       "</style>\n",
       "<table border=\"1\" class=\"dataframe\">\n",
       "  <thead>\n",
       "    <tr style=\"text-align: right;\">\n",
       "      <th></th>\n",
       "      <th>seleid_inquiry_sbfe</th>\n",
       "      <th>inquiry_date</th>\n",
       "      <th>inquiry_date_fmt</th>\n",
       "    </tr>\n",
       "  </thead>\n",
       "  <tbody>\n",
       "    <tr>\n",
       "      <th>0</th>\n",
       "      <td>1.336156e+11</td>\n",
       "      <td>20210701</td>\n",
       "      <td>2021-07-01</td>\n",
       "    </tr>\n",
       "    <tr>\n",
       "      <th>1</th>\n",
       "      <td>1.330122e+09</td>\n",
       "      <td>20210701</td>\n",
       "      <td>2021-07-01</td>\n",
       "    </tr>\n",
       "    <tr>\n",
       "      <th>2</th>\n",
       "      <td>9.064136e+08</td>\n",
       "      <td>20210701</td>\n",
       "      <td>2021-07-01</td>\n",
       "    </tr>\n",
       "    <tr>\n",
       "      <th>5</th>\n",
       "      <td>6.136772e+07</td>\n",
       "      <td>20210701</td>\n",
       "      <td>2021-07-01</td>\n",
       "    </tr>\n",
       "    <tr>\n",
       "      <th>6</th>\n",
       "      <td>1.371452e+11</td>\n",
       "      <td>20210701</td>\n",
       "      <td>2021-07-01</td>\n",
       "    </tr>\n",
       "  </tbody>\n",
       "</table>\n",
       "</div>"
      ],
      "text/plain": [
       "   seleid_inquiry_sbfe  inquiry_date inquiry_date_fmt\n",
       "0         1.336156e+11      20210701       2021-07-01\n",
       "1         1.330122e+09      20210701       2021-07-01\n",
       "2         9.064136e+08      20210701       2021-07-01\n",
       "5         6.136772e+07      20210701       2021-07-01\n",
       "6         1.371452e+11      20210701       2021-07-01"
      ]
     },
     "execution_count": 13,
     "metadata": {},
     "output_type": "execute_result"
    }
   ],
   "source": [
    "sbfe.head()"
   ]
  },
  {
   "attachments": {},
   "cell_type": "markdown",
   "metadata": {
    "jp-MarkdownHeadingCollapsed": true,
    "tags": []
   },
   "source": [
    "#### Stripe 11363"
   ]
  },
  {
   "cell_type": "code",
   "execution_count": 28,
   "metadata": {},
   "outputs": [
    {
     "data": {
      "text/plain": [
       "Index(['Unnamed: 0', 'uniqueid', 'historydate', 'companyname',\n",
       "       'alternatecompanyname', 'bus_streetaddress1', 'bus_streetaddress2',\n",
       "       'bus_city', 'bus_state', 'bus_zip', 'bus_phone', 'bus_website',\n",
       "       'firstname', 'lastname', 'streetaddress1', 'streetaddress2', 'city',\n",
       "       'state', 'zip', 'email', 'ip_address', 'performance_indicator'],\n",
       "      dtype='object')"
      ]
     },
     "execution_count": 28,
     "metadata": {},
     "output_type": "execute_result"
    }
   ],
   "source": [
    "stripe.columns"
   ]
  },
  {
   "cell_type": "code",
   "execution_count": 29,
   "metadata": {},
   "outputs": [
    {
     "name": "stdout",
     "output_type": "stream",
     "text": [
      "(74443, 22)\n",
      "True\n"
     ]
    }
   ],
   "source": [
    "stripe = stripe.fillna(\"\")\n",
    "stripe = stripe.drop_duplicates(subset = ['companyname', 'alternatecompanyname', 'bus_streetaddress1', \n",
    "                                          'bus_streetaddress2', 'bus_city', 'bus_state', 'bus_zip', 'bus_phone', 'bus_website'], ignore_index = True) \n",
    "print(stripe.shape)\n",
    "print(stripe.uniqueid.is_unique)"
   ]
  },
  {
   "cell_type": "code",
   "execution_count": 30,
   "metadata": {},
   "outputs": [
    {
     "name": "stdout",
     "output_type": "stream",
     "text": [
      "(249000, 391)\n",
      "(248318, 391)\n"
     ]
    }
   ],
   "source": [
    "# Compile SELEIDS\n",
    "stripe_sba = pd.read_adls(\"Analytics/RnD Projects/Product RnD/Business/LexisNexis 9999 (SBFE Inquiry POC)/Performance/Fraud Sample/stripe_11363/final_str_11363_20221025file_sba21_nonsbfe.csv.gz\",\n",
    "                      compression = \"gzip\", reader = pd.read_csv)\n",
    "print(stripe_sba.shape)\n",
    "stripe_sba = stripe_sba.drop_duplicates(subset = [\"uniqueid\"], ignore_index = True) \n",
    "print(stripe_sba.shape)"
   ]
  },
  {
   "cell_type": "code",
   "execution_count": 31,
   "metadata": {},
   "outputs": [
    {
     "name": "stdout",
     "output_type": "stream",
     "text": [
      "(74443, 27)\n"
     ]
    }
   ],
   "source": [
    "keep = ['uniqueid', 'lnlexidsele',  'inquirycount03m', 'inquirycount12m', 'inquirycreditcount03m', 'inquirycreditcount12m',]\n",
    "stripe_sba = stripe_sba[keep]\n",
    "stripe = stripe.merge(stripe_sba, on = \"uniqueid\")\n",
    "print(stripe.shape)"
   ]
  },
  {
   "cell_type": "code",
   "execution_count": 33,
   "metadata": {},
   "outputs": [
    {
     "data": {
      "text/html": [
       "<div>\n",
       "<style scoped>\n",
       "    .dataframe tbody tr th:only-of-type {\n",
       "        vertical-align: middle;\n",
       "    }\n",
       "\n",
       "    .dataframe tbody tr th {\n",
       "        vertical-align: top;\n",
       "    }\n",
       "\n",
       "    .dataframe thead th {\n",
       "        text-align: right;\n",
       "    }\n",
       "</style>\n",
       "<table border=\"1\" class=\"dataframe\">\n",
       "  <thead>\n",
       "    <tr style=\"text-align: right;\">\n",
       "      <th></th>\n",
       "      <th>Count</th>\n",
       "      <th>Pct</th>\n",
       "      <th>Cuml Count</th>\n",
       "      <th>Cuml Pct</th>\n",
       "    </tr>\n",
       "    <tr>\n",
       "      <th>historydate</th>\n",
       "      <th></th>\n",
       "      <th></th>\n",
       "      <th></th>\n",
       "      <th></th>\n",
       "    </tr>\n",
       "  </thead>\n",
       "  <tbody>\n",
       "    <tr>\n",
       "      <th>2022-01</th>\n",
       "      <td>24426.0</td>\n",
       "      <td>0.328117</td>\n",
       "      <td>24426.0</td>\n",
       "      <td>0.328117</td>\n",
       "    </tr>\n",
       "    <tr>\n",
       "      <th>2022-02</th>\n",
       "      <td>24209.0</td>\n",
       "      <td>0.325202</td>\n",
       "      <td>48635.0</td>\n",
       "      <td>0.653319</td>\n",
       "    </tr>\n",
       "    <tr>\n",
       "      <th>2022-03</th>\n",
       "      <td>25808.0</td>\n",
       "      <td>0.346681</td>\n",
       "      <td>74443.0</td>\n",
       "      <td>1.000000</td>\n",
       "    </tr>\n",
       "  </tbody>\n",
       "</table>\n",
       "</div>"
      ],
      "text/plain": [
       "               Count       Pct  Cuml Count  Cuml Pct\n",
       "historydate                                         \n",
       "2022-01      24426.0  0.328117     24426.0  0.328117\n",
       "2022-02      24209.0  0.325202     48635.0  0.653319\n",
       "2022-03      25808.0  0.346681     74443.0  1.000000"
      ]
     },
     "execution_count": 33,
     "metadata": {},
     "output_type": "execute_result"
    }
   ],
   "source": [
    "freq(stripe.historydate.str.slice(0, 7))"
   ]
  },
  {
   "cell_type": "code",
   "execution_count": 34,
   "metadata": {},
   "outputs": [
    {
     "data": {
      "text/html": [
       "<div>\n",
       "<style scoped>\n",
       "    .dataframe tbody tr th:only-of-type {\n",
       "        vertical-align: middle;\n",
       "    }\n",
       "\n",
       "    .dataframe tbody tr th {\n",
       "        vertical-align: top;\n",
       "    }\n",
       "\n",
       "    .dataframe thead th {\n",
       "        text-align: right;\n",
       "    }\n",
       "</style>\n",
       "<table border=\"1\" class=\"dataframe\">\n",
       "  <thead>\n",
       "    <tr style=\"text-align: right;\">\n",
       "      <th></th>\n",
       "      <th>Count</th>\n",
       "      <th>Pct</th>\n",
       "      <th>Cuml Count</th>\n",
       "      <th>Cuml Pct</th>\n",
       "    </tr>\n",
       "    <tr>\n",
       "      <th>performance_indicator</th>\n",
       "      <th></th>\n",
       "      <th></th>\n",
       "      <th></th>\n",
       "      <th></th>\n",
       "    </tr>\n",
       "  </thead>\n",
       "  <tbody>\n",
       "    <tr>\n",
       "      <th>False</th>\n",
       "      <td>73807.0</td>\n",
       "      <td>0.991457</td>\n",
       "      <td>73807.0</td>\n",
       "      <td>0.991457</td>\n",
       "    </tr>\n",
       "    <tr>\n",
       "      <th>True</th>\n",
       "      <td>636.0</td>\n",
       "      <td>0.008543</td>\n",
       "      <td>74443.0</td>\n",
       "      <td>1.000000</td>\n",
       "    </tr>\n",
       "  </tbody>\n",
       "</table>\n",
       "</div>"
      ],
      "text/plain": [
       "                         Count       Pct  Cuml Count  Cuml Pct\n",
       "performance_indicator                                         \n",
       "False                  73807.0  0.991457     73807.0  0.991457\n",
       "True                     636.0  0.008543     74443.0  1.000000"
      ]
     },
     "execution_count": 34,
     "metadata": {},
     "output_type": "execute_result"
    }
   ],
   "source": [
    "freq(stripe.performance_indicator)"
   ]
  },
  {
   "cell_type": "code",
   "execution_count": 38,
   "metadata": {},
   "outputs": [],
   "source": [
    "stripe[\"bad\"] = np.where(stripe.performance_indicator == \"True\", 1, 0)"
   ]
  },
  {
   "cell_type": "code",
   "execution_count": 39,
   "metadata": {},
   "outputs": [
    {
     "data": {
      "text/html": [
       "<div>\n",
       "<style scoped>\n",
       "    .dataframe tbody tr th:only-of-type {\n",
       "        vertical-align: middle;\n",
       "    }\n",
       "\n",
       "    .dataframe tbody tr th {\n",
       "        vertical-align: top;\n",
       "    }\n",
       "\n",
       "    .dataframe thead tr th {\n",
       "        text-align: left;\n",
       "    }\n",
       "\n",
       "    .dataframe thead tr:last-of-type th {\n",
       "        text-align: right;\n",
       "    }\n",
       "</style>\n",
       "<table border=\"1\" class=\"dataframe\">\n",
       "  <thead>\n",
       "    <tr>\n",
       "      <th>tag</th>\n",
       "      <th colspan=\"6\" halign=\"left\">bad</th>\n",
       "    </tr>\n",
       "    <tr>\n",
       "      <th>stats</th>\n",
       "      <th>N</th>\n",
       "      <th>PctN</th>\n",
       "      <th>Sum</th>\n",
       "      <th>Mean</th>\n",
       "      <th>WoE</th>\n",
       "      <th>IV</th>\n",
       "    </tr>\n",
       "    <tr>\n",
       "      <th>lnlexidsele</th>\n",
       "      <th></th>\n",
       "      <th></th>\n",
       "      <th></th>\n",
       "      <th></th>\n",
       "      <th></th>\n",
       "      <th></th>\n",
       "    </tr>\n",
       "  </thead>\n",
       "  <tbody>\n",
       "    <tr>\n",
       "      <th>&lt;= 0</th>\n",
       "      <td>35861.0</td>\n",
       "      <td>0.481724</td>\n",
       "      <td>357.0</td>\n",
       "      <td>0.009955</td>\n",
       "      <td>0.153566</td>\n",
       "      <td>0.012261</td>\n",
       "    </tr>\n",
       "    <tr>\n",
       "      <th>1+</th>\n",
       "      <td>38555.0</td>\n",
       "      <td>0.517913</td>\n",
       "      <td>279.0</td>\n",
       "      <td>0.007236</td>\n",
       "      <td>-0.168135</td>\n",
       "      <td>0.013494</td>\n",
       "    </tr>\n",
       "    <tr>\n",
       "      <th>Missing</th>\n",
       "      <td>27.0</td>\n",
       "      <td>0.000363</td>\n",
       "      <td>0.0</td>\n",
       "      <td>0.000000</td>\n",
       "      <td>0.000000</td>\n",
       "      <td>-0.000000</td>\n",
       "    </tr>\n",
       "    <tr>\n",
       "      <th>Total</th>\n",
       "      <td>74443.0</td>\n",
       "      <td>1.000000</td>\n",
       "      <td>636.0</td>\n",
       "      <td>0.008543</td>\n",
       "      <td>0.000000</td>\n",
       "      <td>0.025756</td>\n",
       "    </tr>\n",
       "  </tbody>\n",
       "</table>\n",
       "</div>"
      ],
      "text/plain": [
       "tag              bad                                               \n",
       "stats              N      PctN    Sum      Mean       WoE        IV\n",
       "lnlexidsele                                                        \n",
       "<= 0         35861.0  0.481724  357.0  0.009955  0.153566  0.012261\n",
       "1+           38555.0  0.517913  279.0  0.007236 -0.168135  0.013494\n",
       "Missing         27.0  0.000363    0.0  0.000000  0.000000 -0.000000\n",
       "Total        74443.0  1.000000  636.0  0.008543  0.000000  0.025756"
      ]
     },
     "execution_count": 39,
     "metadata": {},
     "output_type": "execute_result"
    }
   ],
   "source": [
    "fmt = make_format(cuts = [-np.inf, 0, np.inf])\n",
    "bivariate(stripe.lnlexidsele, stripe.bad, format = fmt, observed = True)"
   ]
  },
  {
   "cell_type": "code",
   "execution_count": 40,
   "metadata": {},
   "outputs": [],
   "source": [
    "stripe.to_adls(\"Analytics/RnD Projects/Product RnD/Business/LexisNexis 9999 (SBFE Inquiry POC)/Performance/Fraud Sample/with_seleid/stripe_with_seleid.parquet\")"
   ]
  },
  {
   "cell_type": "code",
   "execution_count": 41,
   "metadata": {},
   "outputs": [
    {
     "name": "stdout",
     "output_type": "stream",
     "text": [
      "(38555, 28)\n"
     ]
    }
   ],
   "source": [
    "stripe = stripe[stripe[\"lnlexidsele\"] > 0]\n",
    "print(stripe.shape)"
   ]
  },
  {
   "cell_type": "code",
   "execution_count": 57,
   "metadata": {},
   "outputs": [],
   "source": [
    "stripe[\"credit_flag_cutoff_date\"] = stripe[\"historydate\"].str.slice(0, 10)\n",
    "stripe[\"credit_flag_cutoff_date_fmt\"] = pd.to_datetime(stripe[\"credit_flag_cutoff_date\"], format='%Y-%m-%d')"
   ]
  },
  {
   "cell_type": "code",
   "execution_count": 58,
   "metadata": {},
   "outputs": [
    {
     "name": "stdout",
     "output_type": "stream",
     "text": [
      "(76511, 33)\n",
      "(49457, 33)\n",
      "(7769, 5)\n"
     ]
    },
    {
     "name": "stderr",
     "output_type": "stream",
     "text": [
      "/tmp/ipykernel_9607/3733929883.py:11: FutureWarning: Indexing with multiple keys (implicitly converted to a tuple of keys) will be deprecated, use a list instead.\n",
      "  sbfe_for_stripe_roll = sbfe_for_stripe.groupby(by = ['uniqueid'])[\"inquiry_count_06\", \"inquiry_count_03\", \"inquiry_count_01\", \"inquiry_count_week\"].sum().reset_index()\n"
     ]
    }
   ],
   "source": [
    "sbfe_for_stripe = sbfe.merge(stripe, left_on = \"seleid_inquiry_sbfe\", right_on = \"lnlexidsele\")\n",
    "print(sbfe_for_stripe.shape)\n",
    "sbfe_for_stripe = sbfe_for_stripe[sbfe_for_stripe[\"inquiry_date_fmt\"] < sbfe_for_stripe[\"credit_flag_cutoff_date_fmt\"]]\n",
    "print(sbfe_for_stripe.shape)\n",
    "\n",
    "sbfe_for_stripe['inquiry_count_06']   = np.where((sbfe_for_stripe[\"credit_flag_cutoff_date_fmt\"] - sbfe_for_stripe[\"inquiry_date_fmt\"])/np.timedelta64(1, 'M') <= 6, 1, 0)\n",
    "sbfe_for_stripe['inquiry_count_03']   = np.where((sbfe_for_stripe[\"credit_flag_cutoff_date_fmt\"] - sbfe_for_stripe[\"inquiry_date_fmt\"])/np.timedelta64(1, 'M') <= 3, 1, 0)\n",
    "sbfe_for_stripe['inquiry_count_01']   = np.where((sbfe_for_stripe[\"credit_flag_cutoff_date_fmt\"] - sbfe_for_stripe[\"inquiry_date_fmt\"])/np.timedelta64(1, 'M') <= 1, 1, 0)\n",
    "sbfe_for_stripe['inquiry_count_week'] = np.where((sbfe_for_stripe[\"credit_flag_cutoff_date_fmt\"] - sbfe_for_stripe[\"inquiry_date_fmt\"])/np.timedelta64(1, 'W') <= 1, 1, 0)\n",
    "\n",
    "sbfe_for_stripe_roll = sbfe_for_stripe.groupby(by = ['uniqueid'])[\"inquiry_count_06\", \"inquiry_count_03\", \"inquiry_count_01\", \"inquiry_count_week\"].sum().reset_index()\n",
    "print(sbfe_for_stripe_roll.shape)"
   ]
  },
  {
   "cell_type": "code",
   "execution_count": 60,
   "metadata": {},
   "outputs": [
    {
     "name": "stdout",
     "output_type": "stream",
     "text": [
      "(38555, 34)\n"
     ]
    }
   ],
   "source": [
    "stripe = stripe.merge(sbfe_for_stripe_roll, on = \"uniqueid\", how = \"left\")\n",
    "print(stripe.shape)"
   ]
  },
  {
   "cell_type": "code",
   "execution_count": 61,
   "metadata": {},
   "outputs": [],
   "source": [
    "stripe['inquiry_count_06'] = np.where(stripe[\"inquiry_count_06\"].isnull(), 0,   stripe[\"inquiry_count_06\"])\n",
    "stripe['inquiry_count_03'] = np.where(stripe[\"inquiry_count_03\"].isnull(), 0,   stripe[\"inquiry_count_03\"])\n",
    "stripe['inquiry_count_01'] = np.where(stripe[\"inquiry_count_01\"].isnull(), 0,   stripe[\"inquiry_count_01\"])\n",
    "stripe['inquiry_count_week']=np.where(stripe[\"inquiry_count_week\"].isnull(), 0, stripe[\"inquiry_count_week\"])"
   ]
  },
  {
   "cell_type": "code",
   "execution_count": 62,
   "metadata": {},
   "outputs": [],
   "source": [
    "fmt = make_format(cuts = [-np.inf, 0, 1, 2, 3, 4, 5, 10, 20, 30, 40, 50, np.inf], exceptions = [-1])\n",
    "result = dict()\n",
    "keep = ['inquirycount03m', 'inquirycount12m', 'inquirycreditcount03m', 'inquirycreditcount12m', \"inquiry_count_06\", 'inquiry_count_03', 'inquiry_count_01', 'inquiry_count_week']\n",
    "for i, a in enumerate(keep):\n",
    "    result[i] = bivariate(stripe[a], stripe[\"bad\"], format = fmt)\n",
    "\n",
    "wb = TableWriter(filename = \"./_temp/stripe.xlsx\", options={'nan_inf_to_errors': True}, overwrite = True)\n",
    "for k in result.keys():\n",
    "    wb.write_table(\n",
    "        result[k],\n",
    "        sheetname=\"biv\",\n",
    "        conditional_fmt_cols=[3],\n",
    "    )\n",
    "wb.close()"
   ]
  },
  {
   "cell_type": "code",
   "execution_count": 2,
   "metadata": {},
   "outputs": [
    {
     "name": "stdout",
     "output_type": "stream",
     "text": [
      "(38555, 34)\n"
     ]
    }
   ],
   "source": [
    "stripe = pd.read_adls(\"Analytics/RnD Projects/Product RnD/Business/LexisNexis 9999 (SBFE Inquiry POC)/Performance/Fraud Sample/with_seleid/stripe_with_seleid_and_inquiry.parquet\")\n",
    "print(stripe.shape)"
   ]
  },
  {
   "cell_type": "code",
   "execution_count": 3,
   "metadata": {},
   "outputs": [
    {
     "data": {
      "text/html": [
       "<div>\n",
       "<style scoped>\n",
       "    .dataframe tbody tr th:only-of-type {\n",
       "        vertical-align: middle;\n",
       "    }\n",
       "\n",
       "    .dataframe tbody tr th {\n",
       "        vertical-align: top;\n",
       "    }\n",
       "\n",
       "    .dataframe thead tr th {\n",
       "        text-align: left;\n",
       "    }\n",
       "\n",
       "    .dataframe thead tr:last-of-type th {\n",
       "        text-align: right;\n",
       "    }\n",
       "</style>\n",
       "<table border=\"1\" class=\"dataframe\">\n",
       "  <thead>\n",
       "    <tr>\n",
       "      <th>tag</th>\n",
       "      <th colspan=\"6\" halign=\"left\">bad</th>\n",
       "    </tr>\n",
       "    <tr>\n",
       "      <th>stats</th>\n",
       "      <th>N</th>\n",
       "      <th>PctN</th>\n",
       "      <th>Sum</th>\n",
       "      <th>Mean</th>\n",
       "      <th>WoE</th>\n",
       "      <th>IV</th>\n",
       "    </tr>\n",
       "    <tr>\n",
       "      <th>inquiry_count_06</th>\n",
       "      <th></th>\n",
       "      <th></th>\n",
       "      <th></th>\n",
       "      <th></th>\n",
       "      <th></th>\n",
       "      <th></th>\n",
       "    </tr>\n",
       "  </thead>\n",
       "  <tbody>\n",
       "    <tr>\n",
       "      <th>0</th>\n",
       "      <td>31357.0</td>\n",
       "      <td>0.813306</td>\n",
       "      <td>221.0</td>\n",
       "      <td>0.007048</td>\n",
       "      <td>-0.028368</td>\n",
       "      <td>0.000645</td>\n",
       "    </tr>\n",
       "    <tr>\n",
       "      <th>1</th>\n",
       "      <td>2622.0</td>\n",
       "      <td>0.068007</td>\n",
       "      <td>33.0</td>\n",
       "      <td>0.012586</td>\n",
       "      <td>0.557070</td>\n",
       "      <td>0.028092</td>\n",
       "    </tr>\n",
       "    <tr>\n",
       "      <th>2</th>\n",
       "      <td>789.0</td>\n",
       "      <td>0.020464</td>\n",
       "      <td>4.0</td>\n",
       "      <td>0.005070</td>\n",
       "      <td>-0.359800</td>\n",
       "      <td>0.002230</td>\n",
       "    </tr>\n",
       "    <tr>\n",
       "      <th>3</th>\n",
       "      <td>347.0</td>\n",
       "      <td>0.009000</td>\n",
       "      <td>4.0</td>\n",
       "      <td>0.011527</td>\n",
       "      <td>0.468153</td>\n",
       "      <td>0.002505</td>\n",
       "    </tr>\n",
       "    <tr>\n",
       "      <th>4</th>\n",
       "      <td>340.0</td>\n",
       "      <td>0.008819</td>\n",
       "      <td>2.0</td>\n",
       "      <td>0.005882</td>\n",
       "      <td>-0.210310</td>\n",
       "      <td>0.000352</td>\n",
       "    </tr>\n",
       "    <tr>\n",
       "      <th>5</th>\n",
       "      <td>515.0</td>\n",
       "      <td>0.013358</td>\n",
       "      <td>2.0</td>\n",
       "      <td>0.003883</td>\n",
       "      <td>-0.627540</td>\n",
       "      <td>0.003920</td>\n",
       "    </tr>\n",
       "    <tr>\n",
       "      <th>6</th>\n",
       "      <td>455.0</td>\n",
       "      <td>0.011801</td>\n",
       "      <td>3.0</td>\n",
       "      <td>0.006593</td>\n",
       "      <td>-0.095481</td>\n",
       "      <td>0.000103</td>\n",
       "    </tr>\n",
       "    <tr>\n",
       "      <th>7</th>\n",
       "      <td>192.0</td>\n",
       "      <td>0.004980</td>\n",
       "      <td>0.0</td>\n",
       "      <td>0.000000</td>\n",
       "      <td>0.000000</td>\n",
       "      <td>-0.000000</td>\n",
       "    </tr>\n",
       "    <tr>\n",
       "      <th>8</th>\n",
       "      <td>99.0</td>\n",
       "      <td>0.002568</td>\n",
       "      <td>0.0</td>\n",
       "      <td>0.000000</td>\n",
       "      <td>0.000000</td>\n",
       "      <td>-0.000000</td>\n",
       "    </tr>\n",
       "    <tr>\n",
       "      <th>9</th>\n",
       "      <td>63.0</td>\n",
       "      <td>0.001634</td>\n",
       "      <td>0.0</td>\n",
       "      <td>0.000000</td>\n",
       "      <td>0.000000</td>\n",
       "      <td>-0.000000</td>\n",
       "    </tr>\n",
       "    <tr>\n",
       "      <th>10</th>\n",
       "      <td>64.0</td>\n",
       "      <td>0.001660</td>\n",
       "      <td>0.0</td>\n",
       "      <td>0.000000</td>\n",
       "      <td>0.000000</td>\n",
       "      <td>-0.000000</td>\n",
       "    </tr>\n",
       "    <tr>\n",
       "      <th>11+</th>\n",
       "      <td>1712.0</td>\n",
       "      <td>0.044404</td>\n",
       "      <td>10.0</td>\n",
       "      <td>0.005841</td>\n",
       "      <td>-0.217385</td>\n",
       "      <td>0.001889</td>\n",
       "    </tr>\n",
       "    <tr>\n",
       "      <th>Total</th>\n",
       "      <td>38555.0</td>\n",
       "      <td>1.000000</td>\n",
       "      <td>279.0</td>\n",
       "      <td>0.007236</td>\n",
       "      <td>0.000000</td>\n",
       "      <td>0.039736</td>\n",
       "    </tr>\n",
       "  </tbody>\n",
       "</table>\n",
       "</div>"
      ],
      "text/plain": [
       "tag                   bad                                               \n",
       "stats                   N      PctN    Sum      Mean       WoE        IV\n",
       "inquiry_count_06                                                        \n",
       "0                 31357.0  0.813306  221.0  0.007048 -0.028368  0.000645\n",
       "1                  2622.0  0.068007   33.0  0.012586  0.557070  0.028092\n",
       "2                   789.0  0.020464    4.0  0.005070 -0.359800  0.002230\n",
       "3                   347.0  0.009000    4.0  0.011527  0.468153  0.002505\n",
       "4                   340.0  0.008819    2.0  0.005882 -0.210310  0.000352\n",
       "5                   515.0  0.013358    2.0  0.003883 -0.627540  0.003920\n",
       "6                   455.0  0.011801    3.0  0.006593 -0.095481  0.000103\n",
       "7                   192.0  0.004980    0.0  0.000000  0.000000 -0.000000\n",
       "8                    99.0  0.002568    0.0  0.000000  0.000000 -0.000000\n",
       "9                    63.0  0.001634    0.0  0.000000  0.000000 -0.000000\n",
       "10                   64.0  0.001660    0.0  0.000000  0.000000 -0.000000\n",
       "11+                1712.0  0.044404   10.0  0.005841 -0.217385  0.001889\n",
       "Total             38555.0  1.000000  279.0  0.007236  0.000000  0.039736"
      ]
     },
     "execution_count": 3,
     "metadata": {},
     "output_type": "execute_result"
    }
   ],
   "source": [
    "fmt = make_format(cuts = [-np.inf, -1,  0, 1, 2, 3, 4, 5, 6, 7, 8, 9, 10, np.inf])\n",
    "bivariate(stripe[\"inquiry_count_06\"], stripe[\"bad\"], format = fmt, observed = True)"
   ]
  },
  {
   "cell_type": "code",
   "execution_count": 76,
   "metadata": {},
   "outputs": [],
   "source": [
    "stripe.to_adls(\"Analytics/RnD Projects/Product RnD/Business/LexisNexis 9999 (SBFE Inquiry POC)/Performance/Fraud Sample/with_seleid/stripe_with_seleid_and_inquiry.parquet\")"
   ]
  },
  {
   "attachments": {},
   "cell_type": "markdown",
   "metadata": {
    "jp-MarkdownHeadingCollapsed": true,
    "tags": []
   },
   "source": [
    "#### TMobile 10823"
   ]
  },
  {
   "cell_type": "code",
   "execution_count": 9,
   "metadata": {},
   "outputs": [
    {
     "data": {
      "text/plain": [
       "(114460, 39)"
      ]
     },
     "execution_count": 9,
     "metadata": {},
     "output_type": "execute_result"
    }
   ],
   "source": [
    "tmobile.shape"
   ]
  },
  {
   "cell_type": "code",
   "execution_count": 10,
   "metadata": {},
   "outputs": [],
   "source": [
    "tmobile[\"credit_flag_cutoff_date\"] = tmobile.appdatetime_gmt.str.slice(0, 9)\n",
    "tmobile[\"credit_flag_cutoff_date_fmt\"] = pd.to_datetime(tmobile[\"credit_flag_cutoff_date\"], format='%d%b%Y')"
   ]
  },
  {
   "cell_type": "code",
   "execution_count": 11,
   "metadata": {},
   "outputs": [
    {
     "data": {
      "text/html": [
       "<div>\n",
       "<style scoped>\n",
       "    .dataframe tbody tr th:only-of-type {\n",
       "        vertical-align: middle;\n",
       "    }\n",
       "\n",
       "    .dataframe tbody tr th {\n",
       "        vertical-align: top;\n",
       "    }\n",
       "\n",
       "    .dataframe thead th {\n",
       "        text-align: right;\n",
       "    }\n",
       "</style>\n",
       "<table border=\"1\" class=\"dataframe\">\n",
       "  <thead>\n",
       "    <tr style=\"text-align: right;\">\n",
       "      <th></th>\n",
       "      <th>Count</th>\n",
       "      <th>Pct</th>\n",
       "      <th>Cuml Count</th>\n",
       "      <th>Cuml Pct</th>\n",
       "    </tr>\n",
       "    <tr>\n",
       "      <th>credit_flag_cutoff_date_fmt</th>\n",
       "      <th></th>\n",
       "      <th></th>\n",
       "      <th></th>\n",
       "      <th></th>\n",
       "    </tr>\n",
       "  </thead>\n",
       "  <tbody>\n",
       "    <tr>\n",
       "      <th>2022-01</th>\n",
       "      <td>20510.0</td>\n",
       "      <td>0.179189</td>\n",
       "      <td>20510.0</td>\n",
       "      <td>0.179189</td>\n",
       "    </tr>\n",
       "    <tr>\n",
       "      <th>2022-02</th>\n",
       "      <td>22452.0</td>\n",
       "      <td>0.196156</td>\n",
       "      <td>42962.0</td>\n",
       "      <td>0.375345</td>\n",
       "    </tr>\n",
       "    <tr>\n",
       "      <th>2022-03</th>\n",
       "      <td>22846.0</td>\n",
       "      <td>0.199598</td>\n",
       "      <td>65808.0</td>\n",
       "      <td>0.574943</td>\n",
       "    </tr>\n",
       "    <tr>\n",
       "      <th>2022-04</th>\n",
       "      <td>14973.0</td>\n",
       "      <td>0.130814</td>\n",
       "      <td>80781.0</td>\n",
       "      <td>0.705757</td>\n",
       "    </tr>\n",
       "    <tr>\n",
       "      <th>2022-05</th>\n",
       "      <td>16271.0</td>\n",
       "      <td>0.142154</td>\n",
       "      <td>97052.0</td>\n",
       "      <td>0.847912</td>\n",
       "    </tr>\n",
       "    <tr>\n",
       "      <th>2022-06</th>\n",
       "      <td>17408.0</td>\n",
       "      <td>0.152088</td>\n",
       "      <td>114460.0</td>\n",
       "      <td>1.000000</td>\n",
       "    </tr>\n",
       "  </tbody>\n",
       "</table>\n",
       "</div>"
      ],
      "text/plain": [
       "                               Count       Pct  Cuml Count  Cuml Pct\n",
       "credit_flag_cutoff_date_fmt                                         \n",
       "2022-01                      20510.0  0.179189     20510.0  0.179189\n",
       "2022-02                      22452.0  0.196156     42962.0  0.375345\n",
       "2022-03                      22846.0  0.199598     65808.0  0.574943\n",
       "2022-04                      14973.0  0.130814     80781.0  0.705757\n",
       "2022-05                      16271.0  0.142154     97052.0  0.847912\n",
       "2022-06                      17408.0  0.152088    114460.0  1.000000"
      ]
     },
     "execution_count": 11,
     "metadata": {},
     "output_type": "execute_result"
    }
   ],
   "source": [
    "freq(tmobile[\"credit_flag_cutoff_date_fmt\"].astype(str).str.slice(0, 7))"
   ]
  },
  {
   "cell_type": "code",
   "execution_count": 12,
   "metadata": {},
   "outputs": [
    {
     "data": {
      "text/html": [
       "<div>\n",
       "<style scoped>\n",
       "    .dataframe tbody tr th:only-of-type {\n",
       "        vertical-align: middle;\n",
       "    }\n",
       "\n",
       "    .dataframe tbody tr th {\n",
       "        vertical-align: top;\n",
       "    }\n",
       "\n",
       "    .dataframe thead th {\n",
       "        text-align: right;\n",
       "    }\n",
       "</style>\n",
       "<table border=\"1\" class=\"dataframe\">\n",
       "  <thead>\n",
       "    <tr style=\"text-align: right;\">\n",
       "      <th></th>\n",
       "      <th>Count</th>\n",
       "      <th>Pct</th>\n",
       "      <th>Cuml Count</th>\n",
       "      <th>Cuml Pct</th>\n",
       "    </tr>\n",
       "    <tr>\n",
       "      <th>src</th>\n",
       "      <th></th>\n",
       "      <th></th>\n",
       "      <th></th>\n",
       "      <th></th>\n",
       "    </tr>\n",
       "  </thead>\n",
       "  <tbody>\n",
       "    <tr>\n",
       "      <th>march</th>\n",
       "      <td>33679.0</td>\n",
       "      <td>0.294243</td>\n",
       "      <td>33679.0</td>\n",
       "      <td>0.294243</td>\n",
       "    </tr>\n",
       "    <tr>\n",
       "      <th>retro</th>\n",
       "      <td>80781.0</td>\n",
       "      <td>0.705757</td>\n",
       "      <td>114460.0</td>\n",
       "      <td>1.000000</td>\n",
       "    </tr>\n",
       "  </tbody>\n",
       "</table>\n",
       "</div>"
      ],
      "text/plain": [
       "         Count       Pct  Cuml Count  Cuml Pct\n",
       "src                                           \n",
       "march  33679.0  0.294243     33679.0  0.294243\n",
       "retro  80781.0  0.705757    114460.0  1.000000"
      ]
     },
     "execution_count": 12,
     "metadata": {},
     "output_type": "execute_result"
    }
   ],
   "source": [
    "freq(tmobile.src)"
   ]
  },
  {
   "cell_type": "code",
   "execution_count": 13,
   "metadata": {},
   "outputs": [
    {
     "data": {
      "text/plain": [
       "Index(['crid_encr', 'appdatetime_gmt', 'businessname', 'business_contactphone',\n",
       "       'business_addressline1', 'business_addressline2',\n",
       "       'business_addresscity', 'business_addressstate',\n",
       "       'business_addresspostalcode', 'federaltaxid', 'contactfirstname',\n",
       "       'contactmiddlename', 'contactlastname', 'contact_contactphone',\n",
       "       'contact_addressline1', 'contact_addressline2', 'contact_addresscity',\n",
       "       'contact_addressstate', 'contact_addresspostalcode', 'contact_dob',\n",
       "       'contact_idnum', 'contact_idtype', 'contact_idstate', 'contact_email',\n",
       "       'application_channel', 'fraud_ind', 'fraud_tp_ind', 'fraud_fp_ind',\n",
       "       'fpd_ind', 'any_wo_ind', 'activationflag', 'seq', 'account', 'date',\n",
       "       'src', 'contact_dob_year', 'contact_dob_month', 'contact_dob_day',\n",
       "       'contact_driverlicensenumber', 'credit_flag_cutoff_date',\n",
       "       'credit_flag_cutoff_date_fmt'],\n",
       "      dtype='object')"
      ]
     },
     "execution_count": 13,
     "metadata": {},
     "output_type": "execute_result"
    }
   ],
   "source": [
    "tmobile.columns"
   ]
  },
  {
   "cell_type": "code",
   "execution_count": 14,
   "metadata": {},
   "outputs": [
    {
     "data": {
      "text/html": [
       "<div>\n",
       "<style scoped>\n",
       "    .dataframe tbody tr th:only-of-type {\n",
       "        vertical-align: middle;\n",
       "    }\n",
       "\n",
       "    .dataframe tbody tr th {\n",
       "        vertical-align: top;\n",
       "    }\n",
       "\n",
       "    .dataframe thead th {\n",
       "        text-align: right;\n",
       "    }\n",
       "</style>\n",
       "<table border=\"1\" class=\"dataframe\">\n",
       "  <thead>\n",
       "    <tr style=\"text-align: right;\">\n",
       "      <th></th>\n",
       "      <th>Count</th>\n",
       "      <th>Pct</th>\n",
       "      <th>Cuml Count</th>\n",
       "      <th>Cuml Pct</th>\n",
       "    </tr>\n",
       "    <tr>\n",
       "      <th>fraud_ind</th>\n",
       "      <th></th>\n",
       "      <th></th>\n",
       "      <th></th>\n",
       "      <th></th>\n",
       "    </tr>\n",
       "  </thead>\n",
       "  <tbody>\n",
       "    <tr>\n",
       "      <th>0</th>\n",
       "      <td>58655.0</td>\n",
       "      <td>0.512450</td>\n",
       "      <td>58655.0</td>\n",
       "      <td>0.512450</td>\n",
       "    </tr>\n",
       "    <tr>\n",
       "      <th>1</th>\n",
       "      <td>3762.0</td>\n",
       "      <td>0.032867</td>\n",
       "      <td>62417.0</td>\n",
       "      <td>0.545317</td>\n",
       "    </tr>\n",
       "    <tr>\n",
       "      <th>Missing</th>\n",
       "      <td>52043.0</td>\n",
       "      <td>0.454683</td>\n",
       "      <td>114460.0</td>\n",
       "      <td>1.000000</td>\n",
       "    </tr>\n",
       "  </tbody>\n",
       "</table>\n",
       "</div>"
      ],
      "text/plain": [
       "             Count       Pct  Cuml Count  Cuml Pct\n",
       "fraud_ind                                         \n",
       "0          58655.0  0.512450     58655.0  0.512450\n",
       "1           3762.0  0.032867     62417.0  0.545317\n",
       "Missing    52043.0  0.454683    114460.0  1.000000"
      ]
     },
     "execution_count": 14,
     "metadata": {},
     "output_type": "execute_result"
    }
   ],
   "source": [
    "freq(tmobile.fraud_ind)"
   ]
  },
  {
   "cell_type": "code",
   "execution_count": 15,
   "metadata": {},
   "outputs": [
    {
     "name": "stdout",
     "output_type": "stream",
     "text": [
      "(62417, 41)\n"
     ]
    }
   ],
   "source": [
    "tmobile = tmobile[tmobile[\"fraud_ind\"].notnull()]\n",
    "print(tmobile.shape)"
   ]
  },
  {
   "cell_type": "code",
   "execution_count": 16,
   "metadata": {},
   "outputs": [
    {
     "data": {
      "text/html": [
       "<div>\n",
       "<style scoped>\n",
       "    .dataframe tbody tr th:only-of-type {\n",
       "        vertical-align: middle;\n",
       "    }\n",
       "\n",
       "    .dataframe tbody tr th {\n",
       "        vertical-align: top;\n",
       "    }\n",
       "\n",
       "    .dataframe thead th {\n",
       "        text-align: right;\n",
       "    }\n",
       "</style>\n",
       "<table border=\"1\" class=\"dataframe\">\n",
       "  <thead>\n",
       "    <tr style=\"text-align: right;\">\n",
       "      <th></th>\n",
       "      <th>Count</th>\n",
       "      <th>Pct</th>\n",
       "      <th>Cuml Count</th>\n",
       "      <th>Cuml Pct</th>\n",
       "    </tr>\n",
       "    <tr>\n",
       "      <th>src</th>\n",
       "      <th></th>\n",
       "      <th></th>\n",
       "      <th></th>\n",
       "      <th></th>\n",
       "    </tr>\n",
       "  </thead>\n",
       "  <tbody>\n",
       "    <tr>\n",
       "      <th>march</th>\n",
       "      <td>21914.0</td>\n",
       "      <td>0.35109</td>\n",
       "      <td>21914.0</td>\n",
       "      <td>0.35109</td>\n",
       "    </tr>\n",
       "    <tr>\n",
       "      <th>retro</th>\n",
       "      <td>40503.0</td>\n",
       "      <td>0.64891</td>\n",
       "      <td>62417.0</td>\n",
       "      <td>1.00000</td>\n",
       "    </tr>\n",
       "  </tbody>\n",
       "</table>\n",
       "</div>"
      ],
      "text/plain": [
       "         Count      Pct  Cuml Count  Cuml Pct\n",
       "src                                          \n",
       "march  21914.0  0.35109     21914.0   0.35109\n",
       "retro  40503.0  0.64891     62417.0   1.00000"
      ]
     },
     "execution_count": 16,
     "metadata": {},
     "output_type": "execute_result"
    }
   ],
   "source": [
    "freq(tmobile.src)"
   ]
  },
  {
   "cell_type": "code",
   "execution_count": 17,
   "metadata": {},
   "outputs": [
    {
     "name": "stderr",
     "output_type": "stream",
     "text": [
      "/anaconda/envs/data-science/lib/python3.10/site-packages/dsgtools/azure/adls.py:235: DtypeWarning: Columns (22,54,605,654,655,656,657,658,659) have mixed types. Specify dtype option on import or set low_memory=False.\n",
      "  data = reader(file, **kwargs)\n"
     ]
    },
    {
     "name": "stdout",
     "output_type": "stream",
     "text": [
      "(80781, 2702)\n"
     ]
    },
    {
     "name": "stderr",
     "output_type": "stream",
     "text": [
      "/anaconda/envs/data-science/lib/python3.10/site-packages/dsgtools/azure/adls.py:235: DtypeWarning: Columns (20,52,71,592,593,596,603,652,653,654,655,656,657,697,698,699) have mixed types. Specify dtype option on import or set low_memory=False.\n",
      "  data = reader(file, **kwargs)\n"
     ]
    },
    {
     "name": "stdout",
     "output_type": "stream",
     "text": [
      "(62203, 2700)\n"
     ]
    }
   ],
   "source": [
    "shell_202209 = pd.read_adls(\"Analytics/RnD Projects/Product RnD/Business/LexisNexis 9999 (SBFE Inquiry POC)/Performance/Fraud Sample/tmobile_10823/tmo_10823_file2_businessadress_business_shell_v22_fraud_w20220907-145024_sas_layout_busshell.csv\", \n",
    "                             encoding = 'iso-8859-1')\n",
    "print(shell_202209.shape)\n",
    "shell_202303 = pd.read_adls(\"Analytics/RnD Projects/Product RnD/Business/LexisNexis 9999 (SBFE Inquiry POC)/Performance/Fraud Sample/tmobile_10823/tmo_10823_file3_business_shell_v22_fraud__businessaddressw20230310-100953_sas_layout_busshell.csv\", \n",
    "                             encoding = 'iso-8859-1')\n",
    "print(shell_202303.shape)"
   ]
  },
  {
   "cell_type": "code",
   "execution_count": 18,
   "metadata": {},
   "outputs": [
    {
     "name": "stdout",
     "output_type": "stream",
     "text": [
      "(21914, 41)\n",
      "(21914, 53)\n",
      "(40503, 41)\n",
      "(40503, 53)\n"
     ]
    }
   ],
   "source": [
    "keep = ['account', 'seq', 'id_seleid', 'history_datetime', 'inq_total_count03', 'inq_total_count06', 'inq_total_count12',  'inq_total_count24', \n",
    "         'inq_credit_count', 'inq_credit_count03', 'inq_credit_count06', 'inq_credit_count12', 'inq_credit_count24',]\n",
    "temp_march = tmobile[tmobile[\"src\"] == \"march\"]\n",
    "print(temp_march.shape)\n",
    "temp_march = temp_march.merge(shell_202303[keep], on = \"account\")\n",
    "print(temp_march.shape)\n",
    "\n",
    "temp_retro = tmobile[tmobile[\"src\"] != \"march\"]\n",
    "print(temp_retro.shape)\n",
    "temp_retro = temp_retro.merge(shell_202209[keep], on = \"account\")\n",
    "print(temp_retro.shape)"
   ]
  },
  {
   "cell_type": "code",
   "execution_count": 19,
   "metadata": {},
   "outputs": [
    {
     "name": "stdout",
     "output_type": "stream",
     "text": [
      "(62417, 53)\n"
     ]
    }
   ],
   "source": [
    "tmobile = pd.concat([temp_march, temp_retro], ignore_index = True)\n",
    "print(tmobile.shape)"
   ]
  },
  {
   "cell_type": "code",
   "execution_count": 22,
   "metadata": {},
   "outputs": [
    {
     "data": {
      "text/plain": [
       "Index(['crid_encr', 'appdatetime_gmt', 'businessname', 'business_contactphone',\n",
       "       'business_addressline1', 'business_addressline2',\n",
       "       'business_addresscity', 'business_addressstate',\n",
       "       'business_addresspostalcode', 'federaltaxid', 'contactfirstname',\n",
       "       'contactmiddlename', 'contactlastname', 'contact_contactphone',\n",
       "       'contact_addressline1', 'contact_addressline2', 'contact_addresscity',\n",
       "       'contact_addressstate', 'contact_addresspostalcode', 'contact_dob',\n",
       "       'contact_idnum', 'contact_idtype', 'contact_idstate', 'contact_email',\n",
       "       'application_channel', 'fraud_ind', 'fraud_tp_ind', 'fraud_fp_ind',\n",
       "       'fpd_ind', 'any_wo_ind', 'activationflag', 'seq_x', 'account', 'date',\n",
       "       'src', 'contact_dob_year', 'contact_dob_month', 'contact_dob_day',\n",
       "       'contact_driverlicensenumber', 'credit_flag_cutoff_date',\n",
       "       'credit_flag_cutoff_date_fmt', 'seq_y', 'id_seleid', 'history_datetime',\n",
       "       'inq_total_count03', 'inq_total_count06', 'inq_total_count12',\n",
       "       'inq_total_count24', 'inq_credit_count', 'inq_credit_count03',\n",
       "       'inq_credit_count06', 'inq_credit_count12', 'inq_credit_count24'],\n",
       "      dtype='object')"
      ]
     },
     "execution_count": 22,
     "metadata": {},
     "output_type": "execute_result"
    }
   ],
   "source": [
    "tmobile.columns"
   ]
  },
  {
   "cell_type": "code",
   "execution_count": 24,
   "metadata": {},
   "outputs": [
    {
     "data": {
      "text/html": [
       "<div>\n",
       "<style scoped>\n",
       "    .dataframe tbody tr th:only-of-type {\n",
       "        vertical-align: middle;\n",
       "    }\n",
       "\n",
       "    .dataframe tbody tr th {\n",
       "        vertical-align: top;\n",
       "    }\n",
       "\n",
       "    .dataframe thead tr th {\n",
       "        text-align: left;\n",
       "    }\n",
       "\n",
       "    .dataframe thead tr:last-of-type th {\n",
       "        text-align: right;\n",
       "    }\n",
       "</style>\n",
       "<table border=\"1\" class=\"dataframe\">\n",
       "  <thead>\n",
       "    <tr>\n",
       "      <th>tag</th>\n",
       "      <th colspan=\"6\" halign=\"left\">fraud_ind</th>\n",
       "    </tr>\n",
       "    <tr>\n",
       "      <th>stats</th>\n",
       "      <th>N</th>\n",
       "      <th>PctN</th>\n",
       "      <th>Sum</th>\n",
       "      <th>Mean</th>\n",
       "      <th>WoE</th>\n",
       "      <th>IV</th>\n",
       "    </tr>\n",
       "    <tr>\n",
       "      <th>id_seleid</th>\n",
       "      <th></th>\n",
       "      <th></th>\n",
       "      <th></th>\n",
       "      <th></th>\n",
       "      <th></th>\n",
       "      <th></th>\n",
       "    </tr>\n",
       "  </thead>\n",
       "  <tbody>\n",
       "    <tr>\n",
       "      <th>&lt;= 0</th>\n",
       "      <td>1508.0</td>\n",
       "      <td>0.02416</td>\n",
       "      <td>114.0</td>\n",
       "      <td>0.075597</td>\n",
       "      <td>0.242864</td>\n",
       "      <td>0.001587</td>\n",
       "    </tr>\n",
       "    <tr>\n",
       "      <th>1+</th>\n",
       "      <td>60909.0</td>\n",
       "      <td>0.97584</td>\n",
       "      <td>3648.0</td>\n",
       "      <td>0.059893</td>\n",
       "      <td>-0.006843</td>\n",
       "      <td>0.000046</td>\n",
       "    </tr>\n",
       "    <tr>\n",
       "      <th>Total</th>\n",
       "      <td>62417.0</td>\n",
       "      <td>1.00000</td>\n",
       "      <td>3762.0</td>\n",
       "      <td>0.060272</td>\n",
       "      <td>0.000000</td>\n",
       "      <td>0.001632</td>\n",
       "    </tr>\n",
       "  </tbody>\n",
       "</table>\n",
       "</div>"
      ],
      "text/plain": [
       "tag       fraud_ind                                               \n",
       "stats             N     PctN     Sum      Mean       WoE        IV\n",
       "id_seleid                                                         \n",
       "<= 0         1508.0  0.02416   114.0  0.075597  0.242864  0.001587\n",
       "1+          60909.0  0.97584  3648.0  0.059893 -0.006843  0.000046\n",
       "Total       62417.0  1.00000  3762.0  0.060272  0.000000  0.001632"
      ]
     },
     "execution_count": 24,
     "metadata": {},
     "output_type": "execute_result"
    }
   ],
   "source": [
    "tmobile.fraud_ind = tmobile.fraud_ind.astype(float)\n",
    "fmt = make_format(cuts = [-np.inf, 0, np.inf])\n",
    "bivariate(tmobile.id_seleid, tmobile.fraud_ind, format = fmt, observed = True)"
   ]
  },
  {
   "cell_type": "code",
   "execution_count": 25,
   "metadata": {},
   "outputs": [
    {
     "name": "stdout",
     "output_type": "stream",
     "text": [
      "(60909, 53)\n"
     ]
    }
   ],
   "source": [
    "tmobile = tmobile[tmobile[\"id_seleid\"] > 0]\n",
    "print(tmobile.shape)"
   ]
  },
  {
   "cell_type": "code",
   "execution_count": 26,
   "metadata": {},
   "outputs": [],
   "source": [
    "tmobile[\"credit_flag_cutoff_date\"] = tmobile[\"appdatetime_gmt\"].str.slice(0, 9)\n",
    "tmobile[\"credit_flag_cutoff_date_fmt\"] = pd.to_datetime(tmobile[\"credit_flag_cutoff_date\"], format='%d%b%Y')"
   ]
  },
  {
   "cell_type": "code",
   "execution_count": 27,
   "metadata": {},
   "outputs": [
    {
     "name": "stdout",
     "output_type": "stream",
     "text": [
      "(197067, 56)\n",
      "(153107, 56)\n",
      "(21683, 5)\n"
     ]
    },
    {
     "name": "stderr",
     "output_type": "stream",
     "text": [
      "/tmp/ipykernel_12913/1403492124.py:11: FutureWarning: Indexing with multiple keys (implicitly converted to a tuple of keys) will be deprecated, use a list instead.\n",
      "  sbfe_for_tmobile_roll = sbfe_for_tmobile.groupby(by = ['crid_encr'])[\"inquiry_count_06\", \"inquiry_count_03\", \"inquiry_count_01\", \"inquiry_count_week\"].sum().reset_index()\n"
     ]
    }
   ],
   "source": [
    "sbfe_for_tmobile = sbfe.merge(tmobile, left_on = \"seleid_inquiry_sbfe\", right_on = \"id_seleid\")\n",
    "print(sbfe_for_tmobile.shape)\n",
    "sbfe_for_tmobile = sbfe_for_tmobile[sbfe_for_tmobile[\"inquiry_date_fmt\"] < sbfe_for_tmobile[\"credit_flag_cutoff_date_fmt\"]]\n",
    "print(sbfe_for_tmobile.shape)\n",
    "\n",
    "sbfe_for_tmobile['inquiry_count_06']   = np.where((sbfe_for_tmobile[\"credit_flag_cutoff_date_fmt\"] - sbfe_for_tmobile[\"inquiry_date_fmt\"])/np.timedelta64(1, 'M') <= 6, 1, 0)\n",
    "sbfe_for_tmobile['inquiry_count_03']   = np.where((sbfe_for_tmobile[\"credit_flag_cutoff_date_fmt\"] - sbfe_for_tmobile[\"inquiry_date_fmt\"])/np.timedelta64(1, 'M') <= 3, 1, 0)\n",
    "sbfe_for_tmobile['inquiry_count_01']   = np.where((sbfe_for_tmobile[\"credit_flag_cutoff_date_fmt\"] - sbfe_for_tmobile[\"inquiry_date_fmt\"])/np.timedelta64(1, 'M') <= 1, 1, 0)\n",
    "sbfe_for_tmobile['inquiry_count_week'] = np.where((sbfe_for_tmobile[\"credit_flag_cutoff_date_fmt\"] - sbfe_for_tmobile[\"inquiry_date_fmt\"])/np.timedelta64(1, 'W') <= 1, 1, 0)\n",
    "\n",
    "sbfe_for_tmobile_roll = sbfe_for_tmobile.groupby(by = ['crid_encr'])[\"inquiry_count_06\", \"inquiry_count_03\", \"inquiry_count_01\", \"inquiry_count_week\"].sum().reset_index()\n",
    "print(sbfe_for_tmobile_roll.shape)"
   ]
  },
  {
   "cell_type": "code",
   "execution_count": 28,
   "metadata": {},
   "outputs": [
    {
     "name": "stdout",
     "output_type": "stream",
     "text": [
      "(60909, 57)\n"
     ]
    }
   ],
   "source": [
    "tmobile = tmobile.merge(sbfe_for_tmobile_roll, on = \"crid_encr\", how = \"left\")\n",
    "print(tmobile.shape)"
   ]
  },
  {
   "cell_type": "code",
   "execution_count": 29,
   "metadata": {},
   "outputs": [],
   "source": [
    "tmobile['inquiry_count_06'] = np.where(tmobile[\"inquiry_count_06\"].isnull(), 0,   tmobile[\"inquiry_count_06\"])\n",
    "tmobile['inquiry_count_03'] = np.where(tmobile[\"inquiry_count_03\"].isnull(), 0,   tmobile[\"inquiry_count_03\"])\n",
    "tmobile['inquiry_count_01'] = np.where(tmobile[\"inquiry_count_01\"].isnull(), 0,   tmobile[\"inquiry_count_01\"])\n",
    "tmobile['inquiry_count_week']=np.where(tmobile[\"inquiry_count_week\"].isnull(), 0, tmobile[\"inquiry_count_week\"])"
   ]
  },
  {
   "cell_type": "code",
   "execution_count": 30,
   "metadata": {},
   "outputs": [],
   "source": [
    "tmobile[\"fraud_ind\"] = tmobile[\"fraud_ind\"].astype(float)"
   ]
  },
  {
   "cell_type": "code",
   "execution_count": 31,
   "metadata": {},
   "outputs": [],
   "source": [
    "fmt = make_format(cuts = [-np.inf, 0, 1, 2, 3, 4, 5, 10, 20, 30, 40, 50, np.inf], exceptions = [-1])\n",
    "# keep = ['account', 'seq', 'id_seleid', 'history_datetime', 'inq_total_count03', 'inq_total_count06', 'inq_total_count12',  'inq_total_count24', \n",
    "#          'inq_credit_count', 'inq_credit_count03', 'inq_credit_count06', 'inq_credit_count12', 'inq_credit_count24',]\n",
    "result = dict()\n",
    "keep = ['inq_total_count03', 'inq_total_count06', 'inq_total_count12',  'inq_total_count24', 'inq_credit_count', 'inq_credit_count03', 'inq_credit_count06', 'inq_credit_count12', 'inq_credit_count24', \n",
    "        \"inquiry_count_06\", 'inquiry_count_03', 'inquiry_count_01', 'inquiry_count_week']\n",
    "for i, a in enumerate(keep):\n",
    "    result[i] = bivariate(tmobile[a], tmobile[\"fraud_ind\"], format = fmt)\n",
    "\n",
    "wb = TableWriter(filename = \"./_temp/tmobile.xlsx\", options={'nan_inf_to_errors': True}, overwrite = True)\n",
    "for k in result.keys():\n",
    "    wb.write_table(\n",
    "        result[k],\n",
    "        sheetname=\"biv\",\n",
    "        conditional_fmt_cols=[3],\n",
    "    )\n",
    "wb.close()"
   ]
  },
  {
   "cell_type": "code",
   "execution_count": 33,
   "metadata": {},
   "outputs": [],
   "source": [
    "tmobile.to_adls(\"Analytics/RnD Projects/Product RnD/Business/LexisNexis 9999 (SBFE Inquiry POC)/Performance/Fraud Sample/with_seleid/tmobile_with_seleid_and_inquiry.parquet\", overwrite = True)"
   ]
  },
  {
   "attachments": {},
   "cell_type": "markdown",
   "metadata": {},
   "source": [
    "#### Chase"
   ]
  },
  {
   "cell_type": "code",
   "execution_count": 14,
   "metadata": {},
   "outputs": [
    {
     "name": "stdout",
     "output_type": "stream",
     "text": [
      "(640958, 36)\n"
     ]
    }
   ],
   "source": [
    "chase = pd.read_adls(\"Analytics/RnD Projects/Product RnD/Business/LexisNexis 9999 (SBFE Inquiry POC)/Performance/Fraud Sample/Chase_11449/chase_stacked_final.parquet\")\n",
    "print(chase.shape)"
   ]
  },
  {
   "cell_type": "code",
   "execution_count": 15,
   "metadata": {},
   "outputs": [],
   "source": [
    "chase[\"credit_flag_cutoff_date_fmt\"] = pd.to_datetime(chase[\"app_date\"], format='%d%b%Y')"
   ]
  },
  {
   "cell_type": "code",
   "execution_count": 16,
   "metadata": {},
   "outputs": [
    {
     "name": "stdout",
     "output_type": "stream",
     "text": [
      "(1405323, 14)\n"
     ]
    }
   ],
   "source": [
    "keep = ['account', 'seq', 'id_seleid', 'history_datetime', 'inq_total_count', 'inq_total_count03' , 'inq_total_count06' , 'inq_total_count12', 'inq_total_count24', \n",
    "        'inq_credit_count', 'inq_credit_count03', 'inq_credit_count06', 'inq_credit_count12', 'inq_credit_count24']\n",
    "\n",
    "chase_shell = pd.read_adls(\"Analytics/RnD Projects/Product RnD/Business/LexisNexis 9999 (SBFE Inquiry POC)/Performance/Fraud Sample/Chase_11449/chase_11449_bus_rep1_business_shell_v22_results_w20230201-100646_sas_layout_busshell.csv.gz\", \n",
    "                           compression = \"gzip\", reader = pd.read_csv, encoding = 'iso-8859-1', dtype = str, usecols = keep)\n",
    "print(chase_shell.shape)"
   ]
  },
  {
   "cell_type": "code",
   "execution_count": 17,
   "metadata": {},
   "outputs": [
    {
     "data": {
      "text/html": [
       "<div>\n",
       "<style scoped>\n",
       "    .dataframe tbody tr th:only-of-type {\n",
       "        vertical-align: middle;\n",
       "    }\n",
       "\n",
       "    .dataframe tbody tr th {\n",
       "        vertical-align: top;\n",
       "    }\n",
       "\n",
       "    .dataframe thead th {\n",
       "        text-align: right;\n",
       "    }\n",
       "</style>\n",
       "<table border=\"1\" class=\"dataframe\">\n",
       "  <thead>\n",
       "    <tr style=\"text-align: right;\">\n",
       "      <th></th>\n",
       "      <th>Count</th>\n",
       "      <th>Pct</th>\n",
       "      <th>Cuml Count</th>\n",
       "      <th>Cuml Pct</th>\n",
       "    </tr>\n",
       "    <tr>\n",
       "      <th>credit_flag_cutoff_date_fmt</th>\n",
       "      <th></th>\n",
       "      <th></th>\n",
       "      <th></th>\n",
       "      <th></th>\n",
       "    </tr>\n",
       "  </thead>\n",
       "  <tbody>\n",
       "    <tr>\n",
       "      <th>2022-01</th>\n",
       "      <td>105023.0</td>\n",
       "      <td>0.163853</td>\n",
       "      <td>105023.0</td>\n",
       "      <td>0.163853</td>\n",
       "    </tr>\n",
       "    <tr>\n",
       "      <th>2022-02</th>\n",
       "      <td>100184.0</td>\n",
       "      <td>0.156304</td>\n",
       "      <td>205207.0</td>\n",
       "      <td>0.320157</td>\n",
       "    </tr>\n",
       "    <tr>\n",
       "      <th>2022-03</th>\n",
       "      <td>118369.0</td>\n",
       "      <td>0.184675</td>\n",
       "      <td>323576.0</td>\n",
       "      <td>0.504832</td>\n",
       "    </tr>\n",
       "    <tr>\n",
       "      <th>2022-04</th>\n",
       "      <td>107736.0</td>\n",
       "      <td>0.168086</td>\n",
       "      <td>431312.0</td>\n",
       "      <td>0.672918</td>\n",
       "    </tr>\n",
       "    <tr>\n",
       "      <th>2022-05</th>\n",
       "      <td>104719.0</td>\n",
       "      <td>0.163379</td>\n",
       "      <td>536031.0</td>\n",
       "      <td>0.836297</td>\n",
       "    </tr>\n",
       "    <tr>\n",
       "      <th>2022-06</th>\n",
       "      <td>104927.0</td>\n",
       "      <td>0.163703</td>\n",
       "      <td>640958.0</td>\n",
       "      <td>1.000000</td>\n",
       "    </tr>\n",
       "  </tbody>\n",
       "</table>\n",
       "</div>"
      ],
      "text/plain": [
       "                                Count       Pct  Cuml Count  Cuml Pct\n",
       "credit_flag_cutoff_date_fmt                                          \n",
       "2022-01                      105023.0  0.163853    105023.0  0.163853\n",
       "2022-02                      100184.0  0.156304    205207.0  0.320157\n",
       "2022-03                      118369.0  0.184675    323576.0  0.504832\n",
       "2022-04                      107736.0  0.168086    431312.0  0.672918\n",
       "2022-05                      104719.0  0.163379    536031.0  0.836297\n",
       "2022-06                      104927.0  0.163703    640958.0  1.000000"
      ]
     },
     "execution_count": 17,
     "metadata": {},
     "output_type": "execute_result"
    }
   ],
   "source": [
    "freq(chase[\"credit_flag_cutoff_date_fmt\"].astype(str).str.slice(0, 7))"
   ]
  },
  {
   "cell_type": "code",
   "execution_count": 18,
   "metadata": {},
   "outputs": [
    {
     "name": "stdout",
     "output_type": "stream",
     "text": [
      "(640958, 50)\n"
     ]
    }
   ],
   "source": [
    "chase = chase.merge(chase_shell, on = \"account\")\n",
    "print(chase.shape)"
   ]
  },
  {
   "cell_type": "code",
   "execution_count": 19,
   "metadata": {},
   "outputs": [],
   "source": [
    "chase[\"id_seleid\"] = chase[\"id_seleid\"].astype(float)"
   ]
  },
  {
   "cell_type": "code",
   "execution_count": 20,
   "metadata": {},
   "outputs": [
    {
     "name": "stderr",
     "output_type": "stream",
     "text": [
      "/tmp/ipykernel_25060/3398254818.py:1: UserWarning: Pandas doesn't allow columns to be created via a new attribute name - see https://pandas.pydata.org/pandas-docs/stable/indexing.html#attribute-access\n",
      "  chase.fraud_ind = chase.bad.astype(float)\n"
     ]
    },
    {
     "data": {
      "text/html": [
       "<div>\n",
       "<style scoped>\n",
       "    .dataframe tbody tr th:only-of-type {\n",
       "        vertical-align: middle;\n",
       "    }\n",
       "\n",
       "    .dataframe tbody tr th {\n",
       "        vertical-align: top;\n",
       "    }\n",
       "\n",
       "    .dataframe thead tr th {\n",
       "        text-align: left;\n",
       "    }\n",
       "\n",
       "    .dataframe thead tr:last-of-type th {\n",
       "        text-align: right;\n",
       "    }\n",
       "</style>\n",
       "<table border=\"1\" class=\"dataframe\">\n",
       "  <thead>\n",
       "    <tr>\n",
       "      <th>tag</th>\n",
       "      <th colspan=\"6\" halign=\"left\">bad</th>\n",
       "    </tr>\n",
       "    <tr>\n",
       "      <th>stats</th>\n",
       "      <th>N</th>\n",
       "      <th>PctN</th>\n",
       "      <th>Sum</th>\n",
       "      <th>Mean</th>\n",
       "      <th>WoE</th>\n",
       "      <th>IV</th>\n",
       "    </tr>\n",
       "    <tr>\n",
       "      <th>id_seleid</th>\n",
       "      <th></th>\n",
       "      <th></th>\n",
       "      <th></th>\n",
       "      <th></th>\n",
       "      <th></th>\n",
       "      <th></th>\n",
       "    </tr>\n",
       "  </thead>\n",
       "  <tbody>\n",
       "    <tr>\n",
       "      <th>&lt;= 0</th>\n",
       "      <td>25748.0</td>\n",
       "      <td>0.040171</td>\n",
       "      <td>274.0</td>\n",
       "      <td>0.010642</td>\n",
       "      <td>1.816945</td>\n",
       "      <td>0.372761</td>\n",
       "    </tr>\n",
       "    <tr>\n",
       "      <th>1+</th>\n",
       "      <td>615210.0</td>\n",
       "      <td>0.959829</td>\n",
       "      <td>844.0</td>\n",
       "      <td>0.001372</td>\n",
       "      <td>-0.240963</td>\n",
       "      <td>0.049543</td>\n",
       "    </tr>\n",
       "    <tr>\n",
       "      <th>Total</th>\n",
       "      <td>640958.0</td>\n",
       "      <td>1.000000</td>\n",
       "      <td>1118.0</td>\n",
       "      <td>0.001744</td>\n",
       "      <td>0.000000</td>\n",
       "      <td>0.422304</td>\n",
       "    </tr>\n",
       "  </tbody>\n",
       "</table>\n",
       "</div>"
      ],
      "text/plain": [
       "tag             bad                                                \n",
       "stats             N      PctN     Sum      Mean       WoE        IV\n",
       "id_seleid                                                          \n",
       "<= 0        25748.0  0.040171   274.0  0.010642  1.816945  0.372761\n",
       "1+         615210.0  0.959829   844.0  0.001372 -0.240963  0.049543\n",
       "Total      640958.0  1.000000  1118.0  0.001744  0.000000  0.422304"
      ]
     },
     "execution_count": 20,
     "metadata": {},
     "output_type": "execute_result"
    }
   ],
   "source": [
    "chase.fraud_ind = chase.bad.astype(float)\n",
    "fmt = make_format(cuts = [-np.inf, 0, np.inf])\n",
    "bivariate(chase.id_seleid, chase.bad, format = fmt, observed = True)"
   ]
  },
  {
   "cell_type": "code",
   "execution_count": 21,
   "metadata": {},
   "outputs": [
    {
     "name": "stdout",
     "output_type": "stream",
     "text": [
      "(615210, 50)\n"
     ]
    }
   ],
   "source": [
    "chase = chase[chase[\"id_seleid\"] > 0]\n",
    "print(chase.shape)"
   ]
  },
  {
   "cell_type": "code",
   "execution_count": 22,
   "metadata": {},
   "outputs": [
    {
     "name": "stdout",
     "output_type": "stream",
     "text": [
      "(1017346, 53)\n",
      "(710614, 53)\n"
     ]
    },
    {
     "name": "stderr",
     "output_type": "stream",
     "text": [
      "/tmp/ipykernel_25060/537911241.py:11: FutureWarning: Indexing with multiple keys (implicitly converted to a tuple of keys) will be deprecated, use a list instead.\n",
      "  sbfe_for_chase_roll = sbfe_for_chase.groupby(by = ['account'])[\"inquiry_count_06\", \"inquiry_count_03\", \"inquiry_count_01\", \"inquiry_count_week\"].sum().reset_index()\n"
     ]
    },
    {
     "name": "stdout",
     "output_type": "stream",
     "text": [
      "(102907, 5)\n"
     ]
    }
   ],
   "source": [
    "sbfe_for_chase = sbfe.merge(chase, left_on = \"seleid_inquiry_sbfe\", right_on = \"id_seleid\")\n",
    "print(sbfe_for_chase.shape)\n",
    "sbfe_for_chase = sbfe_for_chase[sbfe_for_chase[\"inquiry_date_fmt\"] < sbfe_for_chase[\"credit_flag_cutoff_date_fmt\"]]\n",
    "print(sbfe_for_chase.shape)\n",
    "\n",
    "sbfe_for_chase['inquiry_count_06']   = np.where((sbfe_for_chase[\"credit_flag_cutoff_date_fmt\"] - sbfe_for_chase[\"inquiry_date_fmt\"])/np.timedelta64(1, 'M') <= 6, 1, 0)\n",
    "sbfe_for_chase['inquiry_count_03']   = np.where((sbfe_for_chase[\"credit_flag_cutoff_date_fmt\"] - sbfe_for_chase[\"inquiry_date_fmt\"])/np.timedelta64(1, 'M') <= 3, 1, 0)\n",
    "sbfe_for_chase['inquiry_count_01']   = np.where((sbfe_for_chase[\"credit_flag_cutoff_date_fmt\"] - sbfe_for_chase[\"inquiry_date_fmt\"])/np.timedelta64(1, 'M') <= 1, 1, 0)\n",
    "sbfe_for_chase['inquiry_count_week'] = np.where((sbfe_for_chase[\"credit_flag_cutoff_date_fmt\"] - sbfe_for_chase[\"inquiry_date_fmt\"])/np.timedelta64(1, 'W') <= 1, 1, 0)\n",
    "\n",
    "sbfe_for_chase_roll = sbfe_for_chase.groupby(by = ['account'])[\"inquiry_count_06\", \"inquiry_count_03\", \"inquiry_count_01\", \"inquiry_count_week\"].sum().reset_index()\n",
    "print(sbfe_for_chase_roll.shape)"
   ]
  },
  {
   "cell_type": "code",
   "execution_count": 23,
   "metadata": {},
   "outputs": [
    {
     "name": "stdout",
     "output_type": "stream",
     "text": [
      "(615210, 54)\n"
     ]
    }
   ],
   "source": [
    "chase = chase.merge(sbfe_for_chase_roll, on = \"account\", how = \"left\")\n",
    "print(chase.shape)"
   ]
  },
  {
   "cell_type": "code",
   "execution_count": 24,
   "metadata": {},
   "outputs": [],
   "source": [
    "chase['inquiry_count_06'] = np.where(chase[\"inquiry_count_06\"].isnull(), 0,   chase[\"inquiry_count_06\"])\n",
    "chase['inquiry_count_03'] = np.where(chase[\"inquiry_count_03\"].isnull(), 0,   chase[\"inquiry_count_03\"])\n",
    "chase['inquiry_count_01'] = np.where(chase[\"inquiry_count_01\"].isnull(), 0,   chase[\"inquiry_count_01\"])\n",
    "chase['inquiry_count_week']=np.where(chase[\"inquiry_count_week\"].isnull(), 0, chase[\"inquiry_count_week\"])"
   ]
  },
  {
   "cell_type": "code",
   "execution_count": 25,
   "metadata": {},
   "outputs": [],
   "source": [
    "chase[\"fraud_ind\"] = chase[\"bad\"].astype(float)"
   ]
  },
  {
   "cell_type": "code",
   "execution_count": 26,
   "metadata": {},
   "outputs": [],
   "source": [
    "fmt = make_format(cuts = [-np.inf, 0, 1, 2, 3, 4, 5, 10, 20, 30, 40, 50, np.inf], exceptions = [-1])\n",
    "# keep = ['account', 'seq', 'id_seleid', 'history_datetime', 'inq_total_count03', 'inq_total_count06', 'inq_total_count12',  'inq_total_count24', \n",
    "#          'inq_credit_count', 'inq_credit_count03', 'inq_credit_count06', 'inq_credit_count12', 'inq_credit_count24',]\n",
    "result = dict()\n",
    "keep = ['inq_total_count03', 'inq_total_count06', 'inq_total_count12',  'inq_total_count24', 'inq_credit_count', 'inq_credit_count03', 'inq_credit_count06', 'inq_credit_count12', 'inq_credit_count24', \n",
    "        \"inquiry_count_06\", 'inquiry_count_03', 'inquiry_count_01', 'inquiry_count_week']\n",
    "for i, a in enumerate(keep):\n",
    "    result[i] = bivariate(chase[a].astype(float), chase[\"fraud_ind\"], format = fmt)\n",
    "\n",
    "wb = TableWriter(filename = \"./_temp/chase.xlsx\", options={'nan_inf_to_errors': True}, overwrite = True)\n",
    "for k in result.keys():\n",
    "    wb.write_table(\n",
    "        result[k],\n",
    "        sheetname=\"biv\",\n",
    "        conditional_fmt_cols=[3],\n",
    "    )\n",
    "wb.close()"
   ]
  },
  {
   "cell_type": "code",
   "execution_count": 27,
   "metadata": {},
   "outputs": [],
   "source": [
    "chase.to_adls(\"Analytics/RnD Projects/Product RnD/Business/LexisNexis 9999 (SBFE Inquiry POC)/Performance/Fraud Sample/with_seleid/chase_with_seleid_and_inquiry.parquet\", overwrite = True)"
   ]
  },
  {
   "attachments": {},
   "cell_type": "markdown",
   "metadata": {},
   "source": [
    "#### Fleector"
   ]
  },
  {
   "cell_type": "code",
   "execution_count": 62,
   "metadata": {},
   "outputs": [
    {
     "name": "stdout",
     "output_type": "stream",
     "text": [
      "(83704, 92)\n"
     ]
    }
   ],
   "source": [
    "fleector = pd.read_adls(\"Analytics/RnD Projects/Product RnD/Business/LexisNexis 9999 (SBFE Inquiry POC)/Performance/Fraud Sample/fleector_11124/fleector_sample_to_use.parquet\")\n",
    "print(fleector.shape)"
   ]
  },
  {
   "cell_type": "code",
   "execution_count": 63,
   "metadata": {},
   "outputs": [],
   "source": [
    "fleector[\"credit_flag_cutoff_date_fmt\"] = pd.to_datetime(fleector[\"date_created\"], format='%Y-%m-%d')"
   ]
  },
  {
   "cell_type": "code",
   "execution_count": 64,
   "metadata": {},
   "outputs": [
    {
     "name": "stdout",
     "output_type": "stream",
     "text": [
      "(444450, 14)\n"
     ]
    }
   ],
   "source": [
    "keep = ['account', 'seq', 'id_seleid', 'history_datetime', 'inq_total_count', 'inq_total_count03' , 'inq_total_count06' , 'inq_total_count12', 'inq_total_count24', \n",
    "        'inq_credit_count', 'inq_credit_count03', 'inq_credit_count06', 'inq_credit_count12', 'inq_credit_count24']\n",
    "\n",
    "fleector_shell = pd.read_adls(\"Analytics/RnD Projects/Product RnD/Business/LexisNexis 9999 (SBFE Inquiry POC)/Performance/Fraud Sample/fleector_11124/fleetcor_11124_business_shell_v22_results_w20220623-094320_sas_layout_busshell.csv\", \n",
    "                           reader = pd.read_csv, encoding = 'iso-8859-1', dtype = str, usecols = keep)\n",
    "print(fleector_shell.shape)"
   ]
  },
  {
   "cell_type": "code",
   "execution_count": 65,
   "metadata": {},
   "outputs": [
    {
     "data": {
      "text/html": [
       "<div>\n",
       "<style scoped>\n",
       "    .dataframe tbody tr th:only-of-type {\n",
       "        vertical-align: middle;\n",
       "    }\n",
       "\n",
       "    .dataframe tbody tr th {\n",
       "        vertical-align: top;\n",
       "    }\n",
       "\n",
       "    .dataframe thead th {\n",
       "        text-align: right;\n",
       "    }\n",
       "</style>\n",
       "<table border=\"1\" class=\"dataframe\">\n",
       "  <thead>\n",
       "    <tr style=\"text-align: right;\">\n",
       "      <th></th>\n",
       "      <th>Count</th>\n",
       "      <th>Pct</th>\n",
       "      <th>Cuml Count</th>\n",
       "      <th>Cuml Pct</th>\n",
       "    </tr>\n",
       "    <tr>\n",
       "      <th>credit_flag_cutoff_date_fmt</th>\n",
       "      <th></th>\n",
       "      <th></th>\n",
       "      <th></th>\n",
       "      <th></th>\n",
       "    </tr>\n",
       "  </thead>\n",
       "  <tbody>\n",
       "    <tr>\n",
       "      <th>2022-01</th>\n",
       "      <td>15827.0</td>\n",
       "      <td>0.189083</td>\n",
       "      <td>15827.0</td>\n",
       "      <td>0.189083</td>\n",
       "    </tr>\n",
       "    <tr>\n",
       "      <th>2022-02</th>\n",
       "      <td>15512.0</td>\n",
       "      <td>0.185320</td>\n",
       "      <td>31339.0</td>\n",
       "      <td>0.374403</td>\n",
       "    </tr>\n",
       "    <tr>\n",
       "      <th>2022-03</th>\n",
       "      <td>19353.0</td>\n",
       "      <td>0.231208</td>\n",
       "      <td>50692.0</td>\n",
       "      <td>0.605610</td>\n",
       "    </tr>\n",
       "    <tr>\n",
       "      <th>2022-04</th>\n",
       "      <td>16822.0</td>\n",
       "      <td>0.200970</td>\n",
       "      <td>67514.0</td>\n",
       "      <td>0.806580</td>\n",
       "    </tr>\n",
       "    <tr>\n",
       "      <th>2022-05</th>\n",
       "      <td>16185.0</td>\n",
       "      <td>0.193360</td>\n",
       "      <td>83699.0</td>\n",
       "      <td>0.999940</td>\n",
       "    </tr>\n",
       "    <tr>\n",
       "      <th>2022-06</th>\n",
       "      <td>5.0</td>\n",
       "      <td>0.000060</td>\n",
       "      <td>83704.0</td>\n",
       "      <td>1.000000</td>\n",
       "    </tr>\n",
       "  </tbody>\n",
       "</table>\n",
       "</div>"
      ],
      "text/plain": [
       "                               Count       Pct  Cuml Count  Cuml Pct\n",
       "credit_flag_cutoff_date_fmt                                         \n",
       "2022-01                      15827.0  0.189083     15827.0  0.189083\n",
       "2022-02                      15512.0  0.185320     31339.0  0.374403\n",
       "2022-03                      19353.0  0.231208     50692.0  0.605610\n",
       "2022-04                      16822.0  0.200970     67514.0  0.806580\n",
       "2022-05                      16185.0  0.193360     83699.0  0.999940\n",
       "2022-06                          5.0  0.000060     83704.0  1.000000"
      ]
     },
     "execution_count": 65,
     "metadata": {},
     "output_type": "execute_result"
    }
   ],
   "source": [
    "freq(fleector[\"credit_flag_cutoff_date_fmt\"].astype(str).str.slice(0, 7))"
   ]
  },
  {
   "cell_type": "code",
   "execution_count": 66,
   "metadata": {},
   "outputs": [
    {
     "name": "stdout",
     "output_type": "stream",
     "text": [
      "(83704, 107)\n"
     ]
    }
   ],
   "source": [
    "fleector = fleector.merge(fleector_shell, left_on = \"seq\", right_on = \"account\")\n",
    "print(fleector.shape)"
   ]
  },
  {
   "cell_type": "code",
   "execution_count": 67,
   "metadata": {},
   "outputs": [],
   "source": [
    "fleector[\"id_seleid\"] = fleector[\"id_seleid\"].astype(float)"
   ]
  },
  {
   "cell_type": "code",
   "execution_count": 68,
   "metadata": {},
   "outputs": [
    {
     "data": {
      "text/html": [
       "<div>\n",
       "<style scoped>\n",
       "    .dataframe tbody tr th:only-of-type {\n",
       "        vertical-align: middle;\n",
       "    }\n",
       "\n",
       "    .dataframe tbody tr th {\n",
       "        vertical-align: top;\n",
       "    }\n",
       "\n",
       "    .dataframe thead tr th {\n",
       "        text-align: left;\n",
       "    }\n",
       "\n",
       "    .dataframe thead tr:last-of-type th {\n",
       "        text-align: right;\n",
       "    }\n",
       "</style>\n",
       "<table border=\"1\" class=\"dataframe\">\n",
       "  <thead>\n",
       "    <tr>\n",
       "      <th>tag</th>\n",
       "      <th colspan=\"6\" halign=\"left\">final_fraud_flag</th>\n",
       "    </tr>\n",
       "    <tr>\n",
       "      <th>stats</th>\n",
       "      <th>N</th>\n",
       "      <th>PctN</th>\n",
       "      <th>Sum</th>\n",
       "      <th>Mean</th>\n",
       "      <th>WoE</th>\n",
       "      <th>IV</th>\n",
       "    </tr>\n",
       "    <tr>\n",
       "      <th>id_seleid</th>\n",
       "      <th></th>\n",
       "      <th></th>\n",
       "      <th></th>\n",
       "      <th></th>\n",
       "      <th></th>\n",
       "      <th></th>\n",
       "    </tr>\n",
       "  </thead>\n",
       "  <tbody>\n",
       "    <tr>\n",
       "      <th>&lt;= 0</th>\n",
       "      <td>12118.0</td>\n",
       "      <td>0.144772</td>\n",
       "      <td>975.0</td>\n",
       "      <td>0.080459</td>\n",
       "      <td>0.001019</td>\n",
       "      <td>1.502814e-07</td>\n",
       "    </tr>\n",
       "    <tr>\n",
       "      <th>1+</th>\n",
       "      <td>71583.0</td>\n",
       "      <td>0.855192</td>\n",
       "      <td>5753.0</td>\n",
       "      <td>0.080368</td>\n",
       "      <td>-0.000206</td>\n",
       "      <td>3.637878e-08</td>\n",
       "    </tr>\n",
       "    <tr>\n",
       "      <th>Missing</th>\n",
       "      <td>3.0</td>\n",
       "      <td>0.000036</td>\n",
       "      <td>0.0</td>\n",
       "      <td>0.000000</td>\n",
       "      <td>0.000000</td>\n",
       "      <td>-0.000000e+00</td>\n",
       "    </tr>\n",
       "    <tr>\n",
       "      <th>Total</th>\n",
       "      <td>83704.0</td>\n",
       "      <td>1.000000</td>\n",
       "      <td>6728.0</td>\n",
       "      <td>0.080378</td>\n",
       "      <td>0.000000</td>\n",
       "      <td>1.866601e-07</td>\n",
       "    </tr>\n",
       "  </tbody>\n",
       "</table>\n",
       "</div>"
      ],
      "text/plain": [
       "tag       final_fraud_flag                                                    \n",
       "stats                    N      PctN     Sum      Mean       WoE            IV\n",
       "id_seleid                                                                     \n",
       "<= 0               12118.0  0.144772   975.0  0.080459  0.001019  1.502814e-07\n",
       "1+                 71583.0  0.855192  5753.0  0.080368 -0.000206  3.637878e-08\n",
       "Missing                3.0  0.000036     0.0  0.000000  0.000000 -0.000000e+00\n",
       "Total              83704.0  1.000000  6728.0  0.080378  0.000000  1.866601e-07"
      ]
     },
     "execution_count": 68,
     "metadata": {},
     "output_type": "execute_result"
    }
   ],
   "source": [
    "# fleector.fraud_ind = fleector.final_fraud_flag.astype(float)\n",
    "fmt = make_format(cuts = [-np.inf, 0, np.inf])\n",
    "bivariate(fleector.id_seleid, fleector.final_fraud_flag.astype(float), format = fmt, observed = True)"
   ]
  },
  {
   "cell_type": "code",
   "execution_count": 70,
   "metadata": {},
   "outputs": [
    {
     "data": {
      "text/html": [
       "<div>\n",
       "<style scoped>\n",
       "    .dataframe tbody tr th:only-of-type {\n",
       "        vertical-align: middle;\n",
       "    }\n",
       "\n",
       "    .dataframe tbody tr th {\n",
       "        vertical-align: top;\n",
       "    }\n",
       "\n",
       "    .dataframe thead th {\n",
       "        text-align: right;\n",
       "    }\n",
       "</style>\n",
       "<table border=\"1\" class=\"dataframe\">\n",
       "  <thead>\n",
       "    <tr style=\"text-align: right;\">\n",
       "      <th></th>\n",
       "      <th></th>\n",
       "      <th>Count</th>\n",
       "      <th>Pct</th>\n",
       "      <th>Cuml Count</th>\n",
       "      <th>Cuml Pct</th>\n",
       "    </tr>\n",
       "    <tr>\n",
       "      <th>acct_flag</th>\n",
       "      <th>final_fraud_flag</th>\n",
       "      <th></th>\n",
       "      <th></th>\n",
       "      <th></th>\n",
       "      <th></th>\n",
       "    </tr>\n",
       "  </thead>\n",
       "  <tbody>\n",
       "    <tr>\n",
       "      <th rowspan=\"2\" valign=\"top\">0</th>\n",
       "      <th>0</th>\n",
       "      <td>43358.0</td>\n",
       "      <td>0.605702</td>\n",
       "      <td>43358.0</td>\n",
       "      <td>0.605702</td>\n",
       "    </tr>\n",
       "    <tr>\n",
       "      <th>1</th>\n",
       "      <td>5044.0</td>\n",
       "      <td>0.070464</td>\n",
       "      <td>48402.0</td>\n",
       "      <td>0.676166</td>\n",
       "    </tr>\n",
       "    <tr>\n",
       "      <th rowspan=\"2\" valign=\"top\">1</th>\n",
       "      <th>0</th>\n",
       "      <td>22472.0</td>\n",
       "      <td>0.313929</td>\n",
       "      <td>70874.0</td>\n",
       "      <td>0.990095</td>\n",
       "    </tr>\n",
       "    <tr>\n",
       "      <th>1</th>\n",
       "      <td>709.0</td>\n",
       "      <td>0.009905</td>\n",
       "      <td>71583.0</td>\n",
       "      <td>1.000000</td>\n",
       "    </tr>\n",
       "  </tbody>\n",
       "</table>\n",
       "</div>"
      ],
      "text/plain": [
       "                              Count       Pct  Cuml Count  Cuml Pct\n",
       "acct_flag final_fraud_flag                                         \n",
       "0         0                 43358.0  0.605702     43358.0  0.605702\n",
       "          1                  5044.0  0.070464     48402.0  0.676166\n",
       "1         0                 22472.0  0.313929     70874.0  0.990095\n",
       "          1                   709.0  0.009905     71583.0  1.000000"
      ]
     },
     "execution_count": 70,
     "metadata": {},
     "output_type": "execute_result"
    }
   ],
   "source": [
    "fleector = fleector[fleector[\"id_seleid\"] > 0]\n",
    "freq('acct_flag', 'final_fraud_flag', df = fleector, cross = False, observed = True)"
   ]
  },
  {
   "cell_type": "code",
   "execution_count": 71,
   "metadata": {},
   "outputs": [
    {
     "name": "stdout",
     "output_type": "stream",
     "text": [
      "(251330, 110)\n",
      "(136076, 110)\n",
      "(28760, 5)\n"
     ]
    },
    {
     "name": "stderr",
     "output_type": "stream",
     "text": [
      "/tmp/ipykernel_12913/84627147.py:11: FutureWarning: Indexing with multiple keys (implicitly converted to a tuple of keys) will be deprecated, use a list instead.\n",
      "  sbfe_for_fleector_roll = sbfe_for_fleector.groupby(by = ['account'])[\"inquiry_count_06\", \"inquiry_count_03\", \"inquiry_count_01\", \"inquiry_count_week\"].sum().reset_index()\n"
     ]
    }
   ],
   "source": [
    "sbfe_for_fleector = sbfe.merge(fleector, left_on = \"seleid_inquiry_sbfe\", right_on = \"id_seleid\")\n",
    "print(sbfe_for_fleector.shape)\n",
    "sbfe_for_fleector = sbfe_for_fleector[sbfe_for_fleector[\"inquiry_date_fmt\"] < sbfe_for_fleector[\"credit_flag_cutoff_date_fmt\"]]\n",
    "print(sbfe_for_fleector.shape)\n",
    "\n",
    "sbfe_for_fleector['inquiry_count_06']   = np.where((sbfe_for_fleector[\"credit_flag_cutoff_date_fmt\"] - sbfe_for_fleector[\"inquiry_date_fmt\"])/np.timedelta64(1, 'M') <= 6, 1, 0)\n",
    "sbfe_for_fleector['inquiry_count_03']   = np.where((sbfe_for_fleector[\"credit_flag_cutoff_date_fmt\"] - sbfe_for_fleector[\"inquiry_date_fmt\"])/np.timedelta64(1, 'M') <= 3, 1, 0)\n",
    "sbfe_for_fleector['inquiry_count_01']   = np.where((sbfe_for_fleector[\"credit_flag_cutoff_date_fmt\"] - sbfe_for_fleector[\"inquiry_date_fmt\"])/np.timedelta64(1, 'M') <= 1, 1, 0)\n",
    "sbfe_for_fleector['inquiry_count_week'] = np.where((sbfe_for_fleector[\"credit_flag_cutoff_date_fmt\"] - sbfe_for_fleector[\"inquiry_date_fmt\"])/np.timedelta64(1, 'W') <= 1, 1, 0)\n",
    "\n",
    "sbfe_for_fleector_roll = sbfe_for_fleector.groupby(by = ['account'])[\"inquiry_count_06\", \"inquiry_count_03\", \"inquiry_count_01\", \"inquiry_count_week\"].sum().reset_index()\n",
    "print(sbfe_for_fleector_roll.shape)"
   ]
  },
  {
   "cell_type": "code",
   "execution_count": 72,
   "metadata": {},
   "outputs": [
    {
     "name": "stdout",
     "output_type": "stream",
     "text": [
      "(71583, 111)\n"
     ]
    }
   ],
   "source": [
    "fleector = fleector.merge(sbfe_for_fleector_roll, on = \"account\", how = \"left\")\n",
    "print(fleector.shape)"
   ]
  },
  {
   "cell_type": "code",
   "execution_count": 73,
   "metadata": {},
   "outputs": [],
   "source": [
    "fleector['inquiry_count_06'] = np.where(fleector[\"inquiry_count_06\"].isnull(), 0,   fleector[\"inquiry_count_06\"])\n",
    "fleector['inquiry_count_03'] = np.where(fleector[\"inquiry_count_03\"].isnull(), 0,   fleector[\"inquiry_count_03\"])\n",
    "fleector['inquiry_count_01'] = np.where(fleector[\"inquiry_count_01\"].isnull(), 0,   fleector[\"inquiry_count_01\"])\n",
    "fleector['inquiry_count_week']=np.where(fleector[\"inquiry_count_week\"].isnull(), 0, fleector[\"inquiry_count_week\"])"
   ]
  },
  {
   "cell_type": "code",
   "execution_count": 74,
   "metadata": {},
   "outputs": [],
   "source": [
    "fleector[\"fraud_ind\"] = fleector[\"final_fraud_flag\"].astype(float)"
   ]
  },
  {
   "cell_type": "code",
   "execution_count": 77,
   "metadata": {},
   "outputs": [],
   "source": [
    "fmt = make_format(cuts = [-np.inf, 0, 1, 2, 3, 4, 5, 10, 20, 30, 40, 50, np.inf], exceptions = [-1])\n",
    "# keep = ['account', 'seq', 'id_seleid', 'history_datetime', 'inq_total_count03', 'inq_total_count06', 'inq_total_count12',  'inq_total_count24', \n",
    "#          'inq_credit_count', 'inq_credit_count03', 'inq_credit_count06', 'inq_credit_count12', 'inq_credit_count24',]\n",
    "result = dict()\n",
    "keep = ['inq_total_count03', 'inq_total_count06', 'inq_total_count12',  'inq_total_count24', 'inq_credit_count', 'inq_credit_count03', 'inq_credit_count06', 'inq_credit_count12', 'inq_credit_count24', \n",
    "        \"inquiry_count_06\", 'inquiry_count_03', 'inquiry_count_01', 'inquiry_count_week']\n",
    "for i, a in enumerate(keep):\n",
    "    result[i] = bivariate(fleector[a].astype(float), fleector[\"fraud_ind\"], format = fmt)\n",
    "\n",
    "wb = TableWriter(filename = \"./_temp/fleector.xlsx\", options={'nan_inf_to_errors': True}, overwrite = True)\n",
    "for k in result.keys():\n",
    "    wb.write_table(\n",
    "        result[k],\n",
    "        sheetname=\"biv\",\n",
    "        conditional_fmt_cols=[3],\n",
    "    )\n",
    "wb.close()"
   ]
  },
  {
   "cell_type": "code",
   "execution_count": 75,
   "metadata": {},
   "outputs": [],
   "source": [
    "fmt = make_format(cuts = [-np.inf, 0, 1, 2, 3, 4, 5, 10, 20, 30, 40, 50, np.inf], exceptions = [-1])\n",
    "# keep = ['account', 'seq', 'id_seleid', 'history_datetime', 'inq_total_count03', 'inq_total_count06', 'inq_total_count12',  'inq_total_count24', \n",
    "#          'inq_credit_count', 'inq_credit_count03', 'inq_credit_count06', 'inq_credit_count12', 'inq_credit_count24',]\n",
    "result = dict()\n",
    "keep = ['inq_total_count03', 'inq_total_count06', 'inq_total_count12',  'inq_total_count24', 'inq_credit_count', 'inq_credit_count03', 'inq_credit_count06', 'inq_credit_count12', 'inq_credit_count24', \n",
    "        \"inquiry_count_06\", 'inquiry_count_03', 'inquiry_count_01', 'inquiry_count_week']\n",
    "for i, a in enumerate(keep):\n",
    "    result[i] = bivariate(fleector[a].astype(float), fleector[\"fraud_ind\"], format = fmt, groups= fleector.acct_flag)\n",
    "\n",
    "wb = TableWriter(filename = \"./_temp/fleector.xlsx\", options={'nan_inf_to_errors': True}, overwrite = True)\n",
    "for k in result.keys():\n",
    "    wb.write_table(\n",
    "        result[k],\n",
    "        sheetname=\"biv\",\n",
    "        conditional_fmt_cols=[3],\n",
    "    )\n",
    "wb.close()"
   ]
  },
  {
   "cell_type": "code",
   "execution_count": 76,
   "metadata": {},
   "outputs": [],
   "source": [
    "fleector.to_adls(\"Analytics/RnD Projects/Product RnD/Business/LexisNexis 9999 (SBFE Inquiry POC)/Performance/Fraud Sample/with_seleid/fleector_with_seleid_and_inquiry.parquet\", overwrite = True)"
   ]
  },
  {
   "cell_type": "code",
   "execution_count": 96,
   "metadata": {},
   "outputs": [
    {
     "data": {
      "text/html": [
       "<div>\n",
       "<style scoped>\n",
       "    .dataframe tbody tr th:only-of-type {\n",
       "        vertical-align: middle;\n",
       "    }\n",
       "\n",
       "    .dataframe tbody tr th {\n",
       "        vertical-align: top;\n",
       "    }\n",
       "\n",
       "    .dataframe thead th {\n",
       "        text-align: right;\n",
       "    }\n",
       "</style>\n",
       "<table border=\"1\" class=\"dataframe\">\n",
       "  <thead>\n",
       "    <tr style=\"text-align: right;\">\n",
       "      <th></th>\n",
       "      <th></th>\n",
       "      <th></th>\n",
       "      <th></th>\n",
       "      <th></th>\n",
       "      <th>Count</th>\n",
       "      <th>Pct</th>\n",
       "      <th>Cuml Count</th>\n",
       "      <th>Cuml Pct</th>\n",
       "    </tr>\n",
       "    <tr>\n",
       "      <th>acct_flag</th>\n",
       "      <th>fraud_lock_flag</th>\n",
       "      <th>fraud_decline_flag</th>\n",
       "      <th>straight_roller_flag</th>\n",
       "      <th>final_fraud_flag</th>\n",
       "      <th></th>\n",
       "      <th></th>\n",
       "      <th></th>\n",
       "      <th></th>\n",
       "    </tr>\n",
       "  </thead>\n",
       "  <tbody>\n",
       "    <tr>\n",
       "      <th rowspan=\"2\" valign=\"top\">0</th>\n",
       "      <th rowspan=\"2\" valign=\"top\">0</th>\n",
       "      <th>0</th>\n",
       "      <th>0</th>\n",
       "      <th>0</th>\n",
       "      <td>53089.0</td>\n",
       "      <td>0.634247</td>\n",
       "      <td>53089.0</td>\n",
       "      <td>0.634247</td>\n",
       "    </tr>\n",
       "    <tr>\n",
       "      <th>1</th>\n",
       "      <th>0</th>\n",
       "      <th>1</th>\n",
       "      <td>5899.0</td>\n",
       "      <td>0.070475</td>\n",
       "      <td>58988.0</td>\n",
       "      <td>0.704721</td>\n",
       "    </tr>\n",
       "    <tr>\n",
       "      <th rowspan=\"5\" valign=\"top\">1</th>\n",
       "      <th rowspan=\"3\" valign=\"top\">0</th>\n",
       "      <th rowspan=\"2\" valign=\"top\">0</th>\n",
       "      <th>0</th>\n",
       "      <th>0</th>\n",
       "      <td>23887.0</td>\n",
       "      <td>0.285375</td>\n",
       "      <td>82875.0</td>\n",
       "      <td>0.990096</td>\n",
       "    </tr>\n",
       "    <tr>\n",
       "      <th>1</th>\n",
       "      <th>1</th>\n",
       "      <td>301.0</td>\n",
       "      <td>0.003596</td>\n",
       "      <td>83176.0</td>\n",
       "      <td>0.993692</td>\n",
       "    </tr>\n",
       "    <tr>\n",
       "      <th>1</th>\n",
       "      <th>0</th>\n",
       "      <th>1</th>\n",
       "      <td>61.0</td>\n",
       "      <td>0.000729</td>\n",
       "      <td>83237.0</td>\n",
       "      <td>0.994421</td>\n",
       "    </tr>\n",
       "    <tr>\n",
       "      <th rowspan=\"2\" valign=\"top\">1</th>\n",
       "      <th>0</th>\n",
       "      <th>0</th>\n",
       "      <th>1</th>\n",
       "      <td>451.0</td>\n",
       "      <td>0.005388</td>\n",
       "      <td>83688.0</td>\n",
       "      <td>0.999809</td>\n",
       "    </tr>\n",
       "    <tr>\n",
       "      <th>1</th>\n",
       "      <th>0</th>\n",
       "      <th>1</th>\n",
       "      <td>16.0</td>\n",
       "      <td>0.000191</td>\n",
       "      <td>83704.0</td>\n",
       "      <td>1.000000</td>\n",
       "    </tr>\n",
       "  </tbody>\n",
       "</table>\n",
       "</div>"
      ],
      "text/plain": [
       "                                                                                      Count  \\\n",
       "acct_flag fraud_lock_flag fraud_decline_flag straight_roller_flag final_fraud_flag            \n",
       "0         0               0                  0                    0                 53089.0   \n",
       "                          1                  0                    1                  5899.0   \n",
       "1         0               0                  0                    0                 23887.0   \n",
       "                                             1                    1                   301.0   \n",
       "                          1                  0                    1                    61.0   \n",
       "          1               0                  0                    1                   451.0   \n",
       "                          1                  0                    1                    16.0   \n",
       "\n",
       "                                                                                         Pct  \\\n",
       "acct_flag fraud_lock_flag fraud_decline_flag straight_roller_flag final_fraud_flag             \n",
       "0         0               0                  0                    0                 0.634247   \n",
       "                          1                  0                    1                 0.070475   \n",
       "1         0               0                  0                    0                 0.285375   \n",
       "                                             1                    1                 0.003596   \n",
       "                          1                  0                    1                 0.000729   \n",
       "          1               0                  0                    1                 0.005388   \n",
       "                          1                  0                    1                 0.000191   \n",
       "\n",
       "                                                                                    Cuml Count  \\\n",
       "acct_flag fraud_lock_flag fraud_decline_flag straight_roller_flag final_fraud_flag               \n",
       "0         0               0                  0                    0                    53089.0   \n",
       "                          1                  0                    1                    58988.0   \n",
       "1         0               0                  0                    0                    82875.0   \n",
       "                                             1                    1                    83176.0   \n",
       "                          1                  0                    1                    83237.0   \n",
       "          1               0                  0                    1                    83688.0   \n",
       "                          1                  0                    1                    83704.0   \n",
       "\n",
       "                                                                                    Cuml Pct  \n",
       "acct_flag fraud_lock_flag fraud_decline_flag straight_roller_flag final_fraud_flag            \n",
       "0         0               0                  0                    0                 0.634247  \n",
       "                          1                  0                    1                 0.704721  \n",
       "1         0               0                  0                    0                 0.990096  \n",
       "                                             1                    1                 0.993692  \n",
       "                          1                  0                    1                 0.994421  \n",
       "          1               0                  0                    1                 0.999809  \n",
       "                          1                  0                    1                 1.000000  "
      ]
     },
     "execution_count": 96,
     "metadata": {},
     "output_type": "execute_result"
    }
   ],
   "source": [
    "freq(\"acct_flag\", 'fraud_lock_flag',\n",
    " 'fraud_decline_flag',\n",
    " 'straight_roller_flag',\n",
    " 'final_fraud_flag', df = fleector, cross = False, observed = True)"
   ]
  },
  {
   "cell_type": "code",
   "execution_count": null,
   "metadata": {},
   "outputs": [],
   "source": []
  }
 ],
 "metadata": {
  "kernelspec": {
   "display_name": "data-science",
   "language": "python",
   "name": "python3"
  },
  "language_info": {
   "codemirror_mode": {
    "name": "ipython",
    "version": 3
   },
   "file_extension": ".py",
   "mimetype": "text/x-python",
   "name": "python",
   "nbconvert_exporter": "python",
   "pygments_lexer": "ipython3",
   "version": "3.10.6"
  }
 },
 "nbformat": 4,
 "nbformat_minor": 4
}
