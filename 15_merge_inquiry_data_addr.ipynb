{
 "cells": [
  {
   "cell_type": "code",
   "execution_count": 3,
   "metadata": {},
   "outputs": [],
   "source": [
    "import time\n",
    "import pandas as pd\n",
    "import numpy as np\n",
    "import math\n",
    "\n",
    "# internal tools\n",
    "from dsgtools.reporting import make_format\n",
    "from dsgtools.reporting import TableWriter\n",
    "from dsgtools.reporting import freq\n",
    "from dsgtools.reporting import bivariate"
   ]
  },
  {
   "cell_type": "code",
   "execution_count": 4,
   "metadata": {},
   "outputs": [],
   "source": [
    "## new fix for data import\n",
    "import os\n",
    "os.environ[\"HTTP_PROXY\"] = \"\"\n",
    "os.environ[\"HTTPS_PROXY\"] = \"\"\n",
    "os.environ[\"NO_PROXY\"] = \"\""
   ]
  },
  {
   "cell_type": "code",
   "execution_count": 5,
   "metadata": {},
   "outputs": [
    {
     "name": "stdout",
     "output_type": "stream",
     "text": [
      "(640958, 36)\n",
      "(114460, 39)\n",
      "(75000, 22)\n",
      "(83704, 92)\n"
     ]
    },
    {
     "name": "stderr",
     "output_type": "stream",
     "text": [
      "Bad pipe message: %s [b'\\x83Cij\\xa1O~', b\"ns\\x17\\x9e\\xe9\\xf1\\xbf\\xfd\\xa2 \\x00\\xcdocW\\x04\\xd4\\xfd\\xa1\\xf4\\xc7\\x08\\xd2\\x81y\\x98Y&\\xaev\\x18n\\xd3\\x02\\xe1\\xc7=\\x1a'\\xaa9\\xb0\\x00\\x08\\x13\\x02\\x13\\x03\\x13\\x01\\x00\\xff\\x01\\x00\\x00\\x8f\\x00\\x00\\x00\\x0e\\x00\\x0c\\x00\\x00\\t127.0.0.1\\x00\\x0b\\x00\\x04\\x03\\x00\\x01\\x02\\x00\\n\\x00\\x0c\\x00\\n\\x00\\x1d\\x00\\x17\\x00\\x1e\\x00\\x19\\x00\\x18\\x00#\\x00\\x00\\x00\\x16\\x00\\x00\\x00\\x17\\x00\\x00\\x00\\r\\x00\\x1e\\x00\\x1c\\x04\\x03\\x05\\x03\\x06\\x03\\x08\\x07\\x08\\x08\\x08\\t\\x08\\n\\x08\\x0b\\x08\\x04\\x08\\x05\\x08\\x06\\x04\\x01\\x05\\x01\\x06\\x01\\x00+\\x00\\x03\\x02\\x03\\x04\\x00-\\x00\\x02\\x01\\x01\\x003\\x00&\\x00$\\x00\\x1d\\x00 \\xf3\\x87\\xa6I\\xeer\\x13\\xf7T[MQmo\\xc8%\\x04\\xc2U\\xb0\\xf9\\x9dkZ\\x97\\x94]@)\\xd8\\xdc\\x06\"]\n",
      "Bad pipe message: %s [b'\\xb6\\x1b\\xdc\\xeafs\\x84\\x1f\\x92\\xda\\x10\\n\\xe4\\xd1-F\\xc7\\xca KT\"W\\xec\\x99n\\xc9\\x00v\\x98Iz&\\xcc\\xe1\\xd0\\x19po9\\xdb\\xd6\\xfb\\xb76\\xbcP\\x15\\x03\\x1a\\xc4\\x00\\x08\\x13\\x02\\x13\\x03\\x13\\x01\\x00\\xff\\x01\\x00\\x00']\n",
      "Bad pipe message: %s [b'\\x00\\x00\\x0e\\x00\\x0c\\x00\\x00\\t127.0.0.1\\x00\\x0b\\x00\\x04\\x03\\x00\\x01\\x02\\x00\\n\\x00\\x0c\\x00\\n\\x00\\x1d\\x00\\x17\\x00\\x1e\\x00\\x19\\x00\\x18\\x00#\\x00\\x00\\x00\\x16\\x00\\x00\\x00\\x17\\x00\\x00\\x00\\r\\x00\\x1e\\x00\\x1c\\x04\\x03\\x05\\x03\\x06\\x03\\x08\\x07\\x08\\x08\\x08\\t\\x08\\n\\x08\\x0b\\x08\\x04\\x08\\x05\\x08\\x06\\x04\\x01\\x05\\x01\\x06\\x01\\x00+\\x00\\x03\\x02\\x03\\x04\\x00-\\x00\\x02\\x01\\x01\\x003\\x00&\\x00$\\x00\\x1d\\x00 \\xc3\\x98\\x82\\x97\\xa2\\x1d4&j\\xecm\\x16\\xb7\\x1fY\\x88\\x7f-\\xc9gy\\x15X\\xfd\\xbf\\xd62\\xe6z,;$']\n",
      "Bad pipe message: %s [b'\\x87\\xcd ^\\xee\\xe7s\"\\x90h\\xaf\\x15\\x1az\\xdeR3\\xb6\\x00\\x00|\\xc0,\\xc00\\x00\\xa3\\x00\\x9f\\xcc\\xa9\\xcc\\xa8\\xcc\\xaa\\xc0\\xaf\\xc0\\xad\\xc0\\xa3\\xc0\\x9f\\xc0]\\xc0a\\xc0W\\xc0S\\xc0+\\xc0/\\x00\\xa2\\x00\\x9e\\xc0\\xae\\xc0\\xac\\xc0\\xa2\\xc0\\x9e\\xc0\\\\\\xc0`\\xc0V\\xc0R\\xc0$\\xc0(\\x00k\\x00j\\xc0#\\xc0\\'\\x00g\\x00@\\xc0\\n\\xc0\\x14\\x009\\x008\\xc0\\t\\xc0\\x13\\x003\\x002\\x00\\x9d\\xc0\\xa1\\xc0\\x9d']\n",
      "Bad pipe message: %s [b'\\xc6\\xcf\\xd06\\xc7\\x91c\\x96\\xf2\\xe5\\xb4\\xcd\\xf9\\x84!d\\x1av\\x00\\x00>\\xc0\\x14\\xc0\\n\\x009\\x008\\x007\\x006\\xc0\\x0f\\xc0\\x05\\x005\\xc0']\n",
      "Bad pipe message: %s [b'\\t\\x003\\x002\\x001\\x000\\xc0\\x0e\\xc0\\x04\\x00/\\x00\\x9a\\x00']\n",
      "Bad pipe message: %s [b'\\xb7\\x98i\\xa1\\xb6j\\xa7\\xe8\\xb0@\\xfc\\x11\\xddG\\xa3fN\\x1d\\x00\\x00\\xa2\\xc0\\x14\\xc0\\n\\x009\\x008\\x007\\x006\\x00\\x88\\x00\\x87\\x00\\x86\\x00\\x85\\xc0\\x19\\x00:\\x00\\x89\\xc0\\x0f\\xc0\\x05\\x005\\x00\\x84\\xc0\\x13\\xc0\\t\\x003\\x002\\x001\\x000\\x00\\x9a\\x00\\x99\\x00\\x98\\x00\\x97\\x00E\\x00D\\x00C\\x00B\\xc0\\x18\\x004\\x00\\x9b\\x00F\\xc0\\x0e\\xc0\\x04\\x00/\\x00\\x96\\x00A\\x00\\x07\\xc0\\x11\\xc0\\x07\\xc0\\x16\\x00\\x18\\xc0\\x0c\\xc0\\x02\\x00\\x05\\x00\\x04\\xc0\\x12\\xc0\\x08\\x00\\x16\\x00\\x13\\x00\\x10\\x00\\r\\xc0\\x17\\x00\\x1b\\xc0']\n",
      "Bad pipe message: %s [b'\\x03\\x00\\n\\x00\\x15\\x00\\x12\\x00\\x0f\\x00\\x0c\\x00']\n",
      "Bad pipe message: %s [b'\\t\\x00\\x14\\x00\\x11\\x00\\x19\\x00\\x08\\x00\\x06\\x00\\x17\\x00\\x03\\xc0\\x10\\xc0\\x06\\xc0\\x15\\xc0\\x0b\\xc0\\x01']\n",
      "Bad pipe message: %s [b'\\nG\\x19\\xe32\\xcc\\x0c\\x19\\xfcu\\x94\\xb1j\\x8c\\x89\\xc4c_\\x00\\x00\\xa2\\xc0\\x14\\xc0\\n\\x009\\x008\\x007\\x006\\x00\\x88\\x00\\x87\\x00\\x86\\x00\\x85\\xc0\\x19\\x00:\\x00\\x89\\xc0\\x0f\\xc0\\x05\\x005\\x00\\x84\\xc0']\n",
      "Bad pipe message: %s [b'\\t\\x003\\x002\\x001\\x000\\x00\\x9a\\x00\\x99\\x00\\x98\\x00\\x97\\x00']\n",
      "Bad pipe message: %s [b'D\\x00C\\x00B\\xc0\\x18\\x004\\x00\\x9b\\x00F\\xc0\\x0e\\xc0\\x04\\x00/\\x00\\x96\\x00A\\x00\\x07\\xc0\\x11\\xc0\\x07\\xc0\\x16\\x00\\x18\\xc0\\x0c\\xc0\\x02\\x00\\x05\\x00\\x04\\xc0\\x12\\xc0\\x08\\x00\\x16\\x00\\x13\\x00\\x10\\x00\\r\\xc0\\x17\\x00\\x1b\\xc0\\r\\xc0\\x03\\x00\\n\\x00\\x15\\x00\\x12\\x00']\n",
      "Bad pipe message: %s [b'\\x0c\\x00\\x1a\\x00\\t\\x00\\x14\\x00\\x11\\x00\\x19\\x00\\x08\\x00']\n",
      "Bad pipe message: %s [b'\\x17\\x00\\x03\\xc0\\x10']\n",
      "Bad pipe message: %s [b'p<6\\x8f']\n",
      "Bad pipe message: %s [b'\\xef\\x1a\\xc6\\x16\\x9a\\xdb4\\x83 3j!\\x00\\x00\\xa2\\xc0\\x14\\xc0\\n\\x009\\x008\\x007\\x006\\x00\\x88\\x00\\x87\\x00\\x86\\x00\\x85\\xc0\\x19\\x00:\\x00\\x89\\xc0\\x0f\\xc0\\x05\\x005\\x00\\x84\\xc0\\x13\\xc0\\t\\x003\\x002\\x001\\x000\\x00\\x9a\\x00\\x99\\x00\\x98\\x00\\x97\\x00E\\x00D\\x00C\\x00B\\xc0\\x18\\x004\\x00\\x9b\\x00F\\xc0\\x0e\\xc0\\x04\\x00/\\x00\\x96\\x00A\\x00\\x07\\xc0\\x11\\xc0\\x07\\xc0\\x16\\x00\\x18\\xc0\\x0c\\xc0\\x02\\x00\\x05\\x00\\x04\\xc0\\x12\\xc0\\x08\\x00\\x16\\x00\\x13\\x00\\x10\\x00\\r\\xc0\\x17\\x00\\x1b\\xc0\\r\\xc0\\x03\\x00\\n\\x00\\x15\\x00\\x12\\x00\\x0f\\x00\\x0c\\x00\\x1a\\x00\\t\\x00\\x14\\x00\\x11\\x00\\x19\\x00\\x08\\x00\\x06\\x00\\x17\\x00\\x03\\xc0']\n",
      "Bad pipe message: %s [b'\\x06\\xc0\\x15\\xc0\\x0b\\xc0\\x01\\x00\\x02\\x00\\x01\\x00\\xff\\x02\\x01']\n",
      "Bad pipe message: %s [b'\\x99\\x93I7\\xb4\\x13^\\x15\\x02?01\\x87\\xceD*\\x96\\xc6\\x00\\x00\\xf4\\xc00\\xc0,\\xc0(\\xc0$\\xc0\\x14\\xc0\\n\\x00\\xa5\\x00\\xa3\\x00\\xa1\\x00\\x9f\\x00k\\x00j\\x00i\\x00h\\x00', b\"8\\x007\\x006\\x00\\x88\\x00\\x87\\x00\\x86\\x00\\x85\\xc0\\x19\\x00\\xa7\\x00m\\x00:\\x00\\x89\\xc02\\xc0.\\xc0*\\xc0&\\xc0\\x0f\\xc0\\x05\\x00\\x9d\\x00=\\x005\\x00\\x84\\xc0/\\xc0+\\xc0'\\xc0#\\xc0\\x13\\xc0\\t\\x00\"]\n",
      "Bad pipe message: %s [b'\\xa2\\x00\\xa0\\x00\\x9e\\x00g\\x00@\\x00?\\x00>\\x003\\x002\\x001\\x000\\x00\\x9a\\x00\\x99\\x00\\x98\\x00\\x97\\x00E\\x00D\\x00C\\x00B\\xc0\\x18\\x00\\xa6\\x00l\\x004\\x00\\x9b\\x00F\\xc01\\xc0-\\xc0)\\xc0%\\xc0\\x0e\\xc0\\x04\\x00\\x9c\\x00<\\x00/\\x00\\x96\\x00A\\x00\\x07\\xc0\\x11\\xc0\\x07\\xc0\\x16\\x00\\x18\\xc0\\x0c\\xc0\\x02\\x00\\x05\\x00\\x04\\xc0\\x12\\xc0\\x08\\x00\\x16\\x00\\x13\\x00\\x10\\x00\\r\\xc0\\x17\\x00\\x1b\\xc0\\r\\xc0\\x03\\x00\\n\\x00\\x15\\x00\\x12\\x00\\x0f\\x00\\x0c\\x00\\x1a\\x00\\t\\x00\\x14\\x00\\x11\\x00\\x19\\x00\\x08\\x00\\x06\\x00\\x17\\x00\\x03\\xc0\\x10\\xc0\\x06\\xc0\\x15\\xc0\\x0b\\xc0\\x01\\x00;\\x00\\x02\\x00\\x01\\x00\\xff\\x02\\x01\\x00\\x00g\\x00\\x00\\x00']\n",
      "Bad pipe message: %s [b'\\x0c\\x00\\x00\\t127.0.0.1']\n"
     ]
    }
   ],
   "source": [
    "## Input Data\n",
    "chase = pd.read_adls(\"Analytics/RnD Projects/Product RnD/Business/LexisNexis 9999 (SBFE Inquiry POC)/Performance/Fraud Sample/Chase_11449/\" + \"chase_stacked_final.parquet\")\n",
    "print(chase.shape)\n",
    "\n",
    "tmobile = pd.read_adls(\"Analytics/RnD Projects/Product RnD/Business/LexisNexis 9999 (SBFE Inquiry POC)/Performance/Fraud Sample/tmobile_10823/\" + \"tmbile_file_to_use.parquet\")\n",
    "print(tmobile.shape)\n",
    "\n",
    "stripe = pd.read_adls(\"Analytics/RnD Projects/Product RnD/Business/LexisNexis 9999 (SBFE Inquiry POC)/Performance/Fraud Sample/stripe_11363/\" + \"stripe_file_to_use.parquet\")\n",
    "print(stripe.shape)\n",
    "\n",
    "fleector = pd.read_adls(\"Analytics/RnD Projects/Product RnD/Business/LexisNexis 9999 (SBFE Inquiry POC)/Performance/Fraud Sample/fleector_11124/\" + \"fleector_sample_to_use.parquet\")\n",
    "print(fleector.shape)"
   ]
  },
  {
   "cell_type": "code",
   "execution_count": 3,
   "metadata": {},
   "outputs": [],
   "source": [
    "## keep seleid, full address, phone, taxid, performance flag >> business information >> might need to dedup"
   ]
  },
  {
   "cell_type": "markdown",
   "metadata": {
    "jp-MarkdownHeadingCollapsed": true,
    "tags": []
   },
   "source": [
    "#### SBFE Inquiry"
   ]
  },
  {
   "cell_type": "code",
   "execution_count": 4,
   "metadata": {},
   "outputs": [
    {
     "name": "stdout",
     "output_type": "stream",
     "text": [
      "(79429086, 20)\n"
     ]
    }
   ],
   "source": [
    "path = \"Analytics/RnD Projects/Product RnD/Business/LexisNexis 9999 (SBFE Inquiry POC)/Data Modeling Clean/sbfe_seleid_append_deduped_cleaned_0501.parquet\"\n",
    "sbfe = pd.read_adls(path, reader = pd.read_parquet)\n",
    "print(sbfe.shape)"
   ]
  },
  {
   "cell_type": "code",
   "execution_count": 5,
   "metadata": {},
   "outputs": [
    {
     "name": "stderr",
     "output_type": "stream",
     "text": [
      "/tmp/ipykernel_2383/3858317675.py:3: FutureWarning: The default value of regex will change from True to False in a future version. In addition, single character regular expressions will *not* be treated as literal strings when regex=True.\n",
      "  sbfe[\"full_addr_clean\"] = sbfe['full_addr'].str.replace('.', '')\n",
      "/tmp/ipykernel_2383/3858317675.py:5: FutureWarning: The default value of regex will change from True to False in a future version.\n",
      "  sbfe[\"full_addr_clean\"] = sbfe['full_addr_clean'].str.replace('\\W\\s', '')\n"
     ]
    }
   ],
   "source": [
    "sbfe[\"full_addr\"] = sbfe[\"addr\"] + np.where(sbfe[\"city\"] != \"\", \", \" + sbfe[\"city\"], \"\") + \\\n",
    "    np.where(sbfe[\"state\"] != \"\", \", \" + sbfe[\"state\"], \"\") + np.where(sbfe[\"zip\"] != \"\", \", \" + sbfe[\"zip\"].str.slice(0, 5), \"\")\n",
    "sbfe[\"full_addr_clean\"] = sbfe['full_addr'].str.replace('.', '')\n",
    "sbfe[\"full_addr_clean\"] = sbfe['full_addr_clean'].str.replace(',', '')\n",
    "sbfe[\"full_addr_clean\"] = sbfe['full_addr_clean'].str.replace('\\W\\s', '')\n",
    "sbfe[\"full_addr_clean\"] = sbfe[\"full_addr_clean\"].str.lower()"
   ]
  },
  {
   "cell_type": "code",
   "execution_count": 6,
   "metadata": {},
   "outputs": [],
   "source": [
    "sbfe = sbfe[[\"seleid\", \"historydate_x\", \"full_addr_clean\"]]\n",
    "sbfe.columns = [\"seleid_inquiry_sbfe\", \"inquiry_date\", \"full_addr_clean\"]"
   ]
  },
  {
   "cell_type": "code",
   "execution_count": 7,
   "metadata": {},
   "outputs": [],
   "source": [
    "sbfe[\"inquiry_date\"] = sbfe[\"inquiry_date\"].astype(int)\n",
    "sbfe[\"inquiry_date_fmt\"] = pd.to_datetime(sbfe[\"inquiry_date\"], format='%Y%m%d')"
   ]
  },
  {
   "cell_type": "code",
   "execution_count": 8,
   "metadata": {},
   "outputs": [],
   "source": [
    "sbfe[\"seleid_inquiry_sbfe\"] = sbfe[\"seleid_inquiry_sbfe\"].astype(float)"
   ]
  },
  {
   "cell_type": "code",
   "execution_count": 9,
   "metadata": {},
   "outputs": [],
   "source": [
    "sbfe[\"full_addr_clean\"] = sbfe[\"full_addr_clean\"].str.lower()"
   ]
  },
  {
   "cell_type": "code",
   "execution_count": 10,
   "metadata": {},
   "outputs": [
    {
     "data": {
      "text/html": [
       "<div>\n",
       "<style scoped>\n",
       "    .dataframe tbody tr th:only-of-type {\n",
       "        vertical-align: middle;\n",
       "    }\n",
       "\n",
       "    .dataframe tbody tr th {\n",
       "        vertical-align: top;\n",
       "    }\n",
       "\n",
       "    .dataframe thead th {\n",
       "        text-align: right;\n",
       "    }\n",
       "</style>\n",
       "<table border=\"1\" class=\"dataframe\">\n",
       "  <thead>\n",
       "    <tr style=\"text-align: right;\">\n",
       "      <th></th>\n",
       "      <th>seleid_inquiry_sbfe</th>\n",
       "      <th>inquiry_date</th>\n",
       "      <th>full_addr_clean</th>\n",
       "      <th>inquiry_date_fmt</th>\n",
       "    </tr>\n",
       "  </thead>\n",
       "  <tbody>\n",
       "    <tr>\n",
       "      <th>0</th>\n",
       "      <td>1.336156e+11</td>\n",
       "      <td>20210701</td>\n",
       "      <td>115 golf course rd ste e logan ut 84321</td>\n",
       "      <td>2021-07-01</td>\n",
       "    </tr>\n",
       "    <tr>\n",
       "      <th>1</th>\n",
       "      <td>1.330122e+09</td>\n",
       "      <td>20210701</td>\n",
       "      <td>3200 palm tree dr lithonia ga 30038</td>\n",
       "      <td>2021-07-01</td>\n",
       "    </tr>\n",
       "    <tr>\n",
       "      <th>2</th>\n",
       "      <td>9.064136e+08</td>\n",
       "      <td>20210701</td>\n",
       "      <td>1476 highway 159 e bellville tx 77418</td>\n",
       "      <td>2021-07-01</td>\n",
       "    </tr>\n",
       "    <tr>\n",
       "      <th>5</th>\n",
       "      <td>6.136772e+07</td>\n",
       "      <td>20210701</td>\n",
       "      <td>492 koller st san francisco ca 94110</td>\n",
       "      <td>2021-07-01</td>\n",
       "    </tr>\n",
       "    <tr>\n",
       "      <th>6</th>\n",
       "      <td>1.371452e+11</td>\n",
       "      <td>20210701</td>\n",
       "      <td>107 lassiter lane bellville tx 77418</td>\n",
       "      <td>2021-07-01</td>\n",
       "    </tr>\n",
       "  </tbody>\n",
       "</table>\n",
       "</div>"
      ],
      "text/plain": [
       "   seleid_inquiry_sbfe  inquiry_date                          full_addr_clean  \\\n",
       "0         1.336156e+11      20210701  115 golf course rd ste e logan ut 84321   \n",
       "1         1.330122e+09      20210701      3200 palm tree dr lithonia ga 30038   \n",
       "2         9.064136e+08      20210701    1476 highway 159 e bellville tx 77418   \n",
       "5         6.136772e+07      20210701     492 koller st san francisco ca 94110   \n",
       "6         1.371452e+11      20210701     107 lassiter lane bellville tx 77418   \n",
       "\n",
       "  inquiry_date_fmt  \n",
       "0       2021-07-01  \n",
       "1       2021-07-01  \n",
       "2       2021-07-01  \n",
       "5       2021-07-01  \n",
       "6       2021-07-01  "
      ]
     },
     "execution_count": 10,
     "metadata": {},
     "output_type": "execute_result"
    }
   ],
   "source": [
    "sbfe.head()"
   ]
  },
  {
   "cell_type": "markdown",
   "metadata": {
    "tags": []
   },
   "source": [
    "#### Stripe 11363"
   ]
  },
  {
   "cell_type": "code",
   "execution_count": 11,
   "metadata": {},
   "outputs": [
    {
     "name": "stdout",
     "output_type": "stream",
     "text": [
      "(74443, 22)\n",
      "True\n"
     ]
    }
   ],
   "source": [
    "stripe = stripe.fillna(\"\")\n",
    "stripe = stripe.drop_duplicates(subset = ['companyname', 'alternatecompanyname', 'bus_streetaddress1', \n",
    "                                          'bus_streetaddress2', 'bus_city', 'bus_state', 'bus_zip', 'bus_phone', 'bus_website'], ignore_index = True) \n",
    "print(stripe.shape)\n",
    "print(stripe.uniqueid.is_unique)"
   ]
  },
  {
   "cell_type": "code",
   "execution_count": 12,
   "metadata": {},
   "outputs": [],
   "source": [
    "# Compile SELEIDS\n",
    "# stripe_sba = pd.read_adls(\"Analytics/RnD Projects/Product RnD/Business/LexisNexis 9999 (SBFE Inquiry POC)/Performance/Fraud Sample/stripe_11363/final_str_11363_20221025file_sba21_nonsbfe.csv.gz\",\n",
    "#                       compression = \"gzip\", reader = pd.read_csv)\n",
    "# print(stripe_sba.shape)\n",
    "# stripe_sba = stripe_sba.drop_duplicates(subset = [\"uniqueid\"], ignore_index = True) \n",
    "# print(stripe_sba.shape)\n",
    "# keep = ['uniqueid', 'lnlexidsele',  'inquirycount03m', 'inquirycount12m', 'inquirycreditcount03m', 'inquirycreditcount12m',]\n",
    "# stripe_sba = stripe_sba[keep]\n",
    "# stripe = stripe.merge(stripe_sba, on = \"uniqueid\")\n",
    "# print(stripe.shape)"
   ]
  },
  {
   "cell_type": "code",
   "execution_count": 13,
   "metadata": {},
   "outputs": [
    {
     "data": {
      "text/plain": [
       "Index(['Unnamed: 0', 'uniqueid', 'historydate', 'companyname',\n",
       "       'alternatecompanyname', 'bus_streetaddress1', 'bus_streetaddress2',\n",
       "       'bus_city', 'bus_state', 'bus_zip', 'bus_phone', 'bus_website',\n",
       "       'firstname', 'lastname', 'streetaddress1', 'streetaddress2', 'city',\n",
       "       'state', 'zip', 'email', 'ip_address', 'performance_indicator'],\n",
       "      dtype='object')"
      ]
     },
     "execution_count": 13,
     "metadata": {},
     "output_type": "execute_result"
    }
   ],
   "source": [
    "stripe.columns"
   ]
  },
  {
   "cell_type": "code",
   "execution_count": 14,
   "metadata": {},
   "outputs": [
    {
     "name": "stderr",
     "output_type": "stream",
     "text": [
      "/tmp/ipykernel_2383/2995735239.py:5: FutureWarning: The default value of regex will change from True to False in a future version. In addition, single character regular expressions will *not* be treated as literal strings when regex=True.\n",
      "  stripe[\"full_addr_clean\"] = stripe['full_addr'].str.replace('.', '')\n",
      "/tmp/ipykernel_2383/2995735239.py:7: FutureWarning: The default value of regex will change from True to False in a future version.\n",
      "  stripe[\"full_addr_clean\"] = stripe['full_addr_clean'].str.replace('\\W\\s', '')\n"
     ]
    }
   ],
   "source": [
    "# Compile Full Address: np.where(stripe[\"bus_streetaddress2\"] != \"\", \", \" + stripe[\"bus_streetaddress2\"], \"\") + \n",
    "stripe[\"full_addr\"] = stripe[\"bus_streetaddress1\"] + \\\n",
    "    np.where(stripe[\"bus_city\"] != \"\", \", \" + stripe[\"bus_city\"], \"\") + \\\n",
    "    np.where(stripe[\"bus_state\"] != \"\", \", \" + stripe[\"bus_state\"], \"\") + np.where(stripe[\"bus_zip\"] != \"\", \", \" + stripe[\"bus_zip\"].str.slice(0, 5), \"\")\n",
    "stripe[\"full_addr_clean\"] = stripe['full_addr'].str.replace('.', '')\n",
    "stripe[\"full_addr_clean\"] = stripe['full_addr_clean'].str.replace(',', '')\n",
    "stripe[\"full_addr_clean\"] = stripe['full_addr_clean'].str.replace('\\W\\s', '')\n",
    "stripe[\"full_addr_clean\"] = stripe[\"full_addr_clean\"].str.lower()"
   ]
  },
  {
   "cell_type": "code",
   "execution_count": 15,
   "metadata": {},
   "outputs": [
    {
     "data": {
      "text/html": [
       "<div>\n",
       "<style scoped>\n",
       "    .dataframe tbody tr th:only-of-type {\n",
       "        vertical-align: middle;\n",
       "    }\n",
       "\n",
       "    .dataframe tbody tr th {\n",
       "        vertical-align: top;\n",
       "    }\n",
       "\n",
       "    .dataframe thead th {\n",
       "        text-align: right;\n",
       "    }\n",
       "</style>\n",
       "<table border=\"1\" class=\"dataframe\">\n",
       "  <thead>\n",
       "    <tr style=\"text-align: right;\">\n",
       "      <th></th>\n",
       "      <th>full_addr_clean</th>\n",
       "      <th>full_addr</th>\n",
       "    </tr>\n",
       "  </thead>\n",
       "  <tbody>\n",
       "    <tr>\n",
       "      <th>0</th>\n",
       "      <td>2093 philadelphia pike claymont de 19703</td>\n",
       "      <td>2093 Philadelphia Pike, Claymont, DE, 19703</td>\n",
       "    </tr>\n",
       "    <tr>\n",
       "      <th>1</th>\n",
       "      <td>11415 segrell way culver city ca 90230</td>\n",
       "      <td>11415 Segrell Way, Culver City, CA, 90230</td>\n",
       "    </tr>\n",
       "    <tr>\n",
       "      <th>2</th>\n",
       "      <td>361 friendsville road markleysburg pa 15459</td>\n",
       "      <td>361 Friendsville Road, Markleysburg, PA, 15459</td>\n",
       "    </tr>\n",
       "    <tr>\n",
       "      <th>3</th>\n",
       "      <td>237 ne floresta drive port saint luciefl 34983</td>\n",
       "      <td>237 NE Floresta Drive, Port Saint Lucie , FL, ...</td>\n",
       "    </tr>\n",
       "    <tr>\n",
       "      <th>4</th>\n",
       "      <td>611 broadway new york ny 10012</td>\n",
       "      <td>611 Broadway, New York, NY, 10012</td>\n",
       "    </tr>\n",
       "    <tr>\n",
       "      <th>...</th>\n",
       "      <td>...</td>\n",
       "      <td>...</td>\n",
       "    </tr>\n",
       "    <tr>\n",
       "      <th>74438</th>\n",
       "      <td>949 valley road blue bell pa 19422</td>\n",
       "      <td>949 Valley Road, Blue Bell, PA, 19422</td>\n",
       "    </tr>\n",
       "    <tr>\n",
       "      <th>74439</th>\n",
       "      <td>189 oak valley rd mcdonough ga 30253</td>\n",
       "      <td>189 Oak Valley Rd, Mcdonough, GA, 30253</td>\n",
       "    </tr>\n",
       "    <tr>\n",
       "      <th>74440</th>\n",
       "      <td>1910 thomes avenue cheyenne wy 82001</td>\n",
       "      <td>1910 Thomes Avenue, Cheyenne, WY, 82001</td>\n",
       "    </tr>\n",
       "    <tr>\n",
       "      <th>74441</th>\n",
       "      <td>62 greene st 2nd fl new york ny 10012</td>\n",
       "      <td>62 Greene St., 2nd Fl., New York, NY, 10012</td>\n",
       "    </tr>\n",
       "    <tr>\n",
       "      <th>74442</th>\n",
       "      <td>515 s 12th st laramie wy 82070</td>\n",
       "      <td>515 S. 12th St., Laramie, WY, 82070</td>\n",
       "    </tr>\n",
       "  </tbody>\n",
       "</table>\n",
       "<p>74443 rows × 2 columns</p>\n",
       "</div>"
      ],
      "text/plain": [
       "                                      full_addr_clean  \\\n",
       "0            2093 philadelphia pike claymont de 19703   \n",
       "1              11415 segrell way culver city ca 90230   \n",
       "2         361 friendsville road markleysburg pa 15459   \n",
       "3      237 ne floresta drive port saint luciefl 34983   \n",
       "4                      611 broadway new york ny 10012   \n",
       "...                                               ...   \n",
       "74438              949 valley road blue bell pa 19422   \n",
       "74439            189 oak valley rd mcdonough ga 30253   \n",
       "74440            1910 thomes avenue cheyenne wy 82001   \n",
       "74441           62 greene st 2nd fl new york ny 10012   \n",
       "74442                  515 s 12th st laramie wy 82070   \n",
       "\n",
       "                                               full_addr  \n",
       "0            2093 Philadelphia Pike, Claymont, DE, 19703  \n",
       "1              11415 Segrell Way, Culver City, CA, 90230  \n",
       "2         361 Friendsville Road, Markleysburg, PA, 15459  \n",
       "3      237 NE Floresta Drive, Port Saint Lucie , FL, ...  \n",
       "4                      611 Broadway, New York, NY, 10012  \n",
       "...                                                  ...  \n",
       "74438              949 Valley Road, Blue Bell, PA, 19422  \n",
       "74439            189 Oak Valley Rd, Mcdonough, GA, 30253  \n",
       "74440            1910 Thomes Avenue, Cheyenne, WY, 82001  \n",
       "74441        62 Greene St., 2nd Fl., New York, NY, 10012  \n",
       "74442                515 S. 12th St., Laramie, WY, 82070  \n",
       "\n",
       "[74443 rows x 2 columns]"
      ]
     },
     "execution_count": 15,
     "metadata": {},
     "output_type": "execute_result"
    }
   ],
   "source": [
    "stripe[[\"full_addr_clean\", \"full_addr\"]] "
   ]
  },
  {
   "cell_type": "code",
   "execution_count": 16,
   "metadata": {},
   "outputs": [
    {
     "data": {
      "text/html": [
       "<div>\n",
       "<style scoped>\n",
       "    .dataframe tbody tr th:only-of-type {\n",
       "        vertical-align: middle;\n",
       "    }\n",
       "\n",
       "    .dataframe tbody tr th {\n",
       "        vertical-align: top;\n",
       "    }\n",
       "\n",
       "    .dataframe thead th {\n",
       "        text-align: right;\n",
       "    }\n",
       "</style>\n",
       "<table border=\"1\" class=\"dataframe\">\n",
       "  <thead>\n",
       "    <tr style=\"text-align: right;\">\n",
       "      <th></th>\n",
       "      <th>Count</th>\n",
       "      <th>Pct</th>\n",
       "      <th>Cuml Count</th>\n",
       "      <th>Cuml Pct</th>\n",
       "    </tr>\n",
       "    <tr>\n",
       "      <th>historydate</th>\n",
       "      <th></th>\n",
       "      <th></th>\n",
       "      <th></th>\n",
       "      <th></th>\n",
       "    </tr>\n",
       "  </thead>\n",
       "  <tbody>\n",
       "    <tr>\n",
       "      <th>2022-01</th>\n",
       "      <td>24426.0</td>\n",
       "      <td>0.328117</td>\n",
       "      <td>24426.0</td>\n",
       "      <td>0.328117</td>\n",
       "    </tr>\n",
       "    <tr>\n",
       "      <th>2022-02</th>\n",
       "      <td>24209.0</td>\n",
       "      <td>0.325202</td>\n",
       "      <td>48635.0</td>\n",
       "      <td>0.653319</td>\n",
       "    </tr>\n",
       "    <tr>\n",
       "      <th>2022-03</th>\n",
       "      <td>25808.0</td>\n",
       "      <td>0.346681</td>\n",
       "      <td>74443.0</td>\n",
       "      <td>1.000000</td>\n",
       "    </tr>\n",
       "  </tbody>\n",
       "</table>\n",
       "</div>"
      ],
      "text/plain": [
       "               Count       Pct  Cuml Count  Cuml Pct\n",
       "historydate                                         \n",
       "2022-01      24426.0  0.328117     24426.0  0.328117\n",
       "2022-02      24209.0  0.325202     48635.0  0.653319\n",
       "2022-03      25808.0  0.346681     74443.0  1.000000"
      ]
     },
     "execution_count": 16,
     "metadata": {},
     "output_type": "execute_result"
    }
   ],
   "source": [
    "freq(stripe.historydate.str.slice(0, 7))"
   ]
  },
  {
   "cell_type": "code",
   "execution_count": 17,
   "metadata": {},
   "outputs": [
    {
     "data": {
      "text/html": [
       "<div>\n",
       "<style scoped>\n",
       "    .dataframe tbody tr th:only-of-type {\n",
       "        vertical-align: middle;\n",
       "    }\n",
       "\n",
       "    .dataframe tbody tr th {\n",
       "        vertical-align: top;\n",
       "    }\n",
       "\n",
       "    .dataframe thead th {\n",
       "        text-align: right;\n",
       "    }\n",
       "</style>\n",
       "<table border=\"1\" class=\"dataframe\">\n",
       "  <thead>\n",
       "    <tr style=\"text-align: right;\">\n",
       "      <th></th>\n",
       "      <th>Count</th>\n",
       "      <th>Pct</th>\n",
       "      <th>Cuml Count</th>\n",
       "      <th>Cuml Pct</th>\n",
       "    </tr>\n",
       "    <tr>\n",
       "      <th>performance_indicator</th>\n",
       "      <th></th>\n",
       "      <th></th>\n",
       "      <th></th>\n",
       "      <th></th>\n",
       "    </tr>\n",
       "  </thead>\n",
       "  <tbody>\n",
       "    <tr>\n",
       "      <th>False</th>\n",
       "      <td>73807.0</td>\n",
       "      <td>0.991457</td>\n",
       "      <td>73807.0</td>\n",
       "      <td>0.991457</td>\n",
       "    </tr>\n",
       "    <tr>\n",
       "      <th>True</th>\n",
       "      <td>636.0</td>\n",
       "      <td>0.008543</td>\n",
       "      <td>74443.0</td>\n",
       "      <td>1.000000</td>\n",
       "    </tr>\n",
       "  </tbody>\n",
       "</table>\n",
       "</div>"
      ],
      "text/plain": [
       "                         Count       Pct  Cuml Count  Cuml Pct\n",
       "performance_indicator                                         \n",
       "False                  73807.0  0.991457     73807.0  0.991457\n",
       "True                     636.0  0.008543     74443.0  1.000000"
      ]
     },
     "execution_count": 17,
     "metadata": {},
     "output_type": "execute_result"
    }
   ],
   "source": [
    "freq(stripe.performance_indicator)"
   ]
  },
  {
   "cell_type": "code",
   "execution_count": 18,
   "metadata": {},
   "outputs": [],
   "source": [
    "stripe[\"bad\"] = np.where(stripe.performance_indicator == \"True\", 1, 0)"
   ]
  },
  {
   "cell_type": "code",
   "execution_count": 20,
   "metadata": {},
   "outputs": [
    {
     "data": {
      "text/plain": [
       "(74438, 25)"
      ]
     },
     "execution_count": 20,
     "metadata": {},
     "output_type": "execute_result"
    }
   ],
   "source": [
    "stripe[stripe[\"full_addr_clean\"]!=\"\"].shape"
   ]
  },
  {
   "cell_type": "code",
   "execution_count": 21,
   "metadata": {},
   "outputs": [
    {
     "name": "stdout",
     "output_type": "stream",
     "text": [
      "(74438, 25)\n"
     ]
    }
   ],
   "source": [
    "stripe = stripe[stripe[\"full_addr_clean\"]!=\"\"]\n",
    "print(stripe.shape)"
   ]
  },
  {
   "cell_type": "code",
   "execution_count": 22,
   "metadata": {},
   "outputs": [
    {
     "name": "stderr",
     "output_type": "stream",
     "text": [
      "/tmp/ipykernel_2383/3608108231.py:1: SettingWithCopyWarning: \n",
      "A value is trying to be set on a copy of a slice from a DataFrame.\n",
      "Try using .loc[row_indexer,col_indexer] = value instead\n",
      "\n",
      "See the caveats in the documentation: https://pandas.pydata.org/pandas-docs/stable/user_guide/indexing.html#returning-a-view-versus-a-copy\n",
      "  stripe[\"credit_flag_cutoff_date\"] = stripe[\"historydate\"].str.slice(0, 10)\n",
      "/tmp/ipykernel_2383/3608108231.py:2: SettingWithCopyWarning: \n",
      "A value is trying to be set on a copy of a slice from a DataFrame.\n",
      "Try using .loc[row_indexer,col_indexer] = value instead\n",
      "\n",
      "See the caveats in the documentation: https://pandas.pydata.org/pandas-docs/stable/user_guide/indexing.html#returning-a-view-versus-a-copy\n",
      "  stripe[\"credit_flag_cutoff_date_fmt\"] = pd.to_datetime(stripe[\"credit_flag_cutoff_date\"], format='%Y-%m-%d')\n"
     ]
    }
   ],
   "source": [
    "stripe[\"credit_flag_cutoff_date\"] = stripe[\"historydate\"].str.slice(0, 10)\n",
    "stripe[\"credit_flag_cutoff_date_fmt\"] = pd.to_datetime(stripe[\"credit_flag_cutoff_date\"], format='%Y-%m-%d')"
   ]
  },
  {
   "cell_type": "code",
   "execution_count": 23,
   "metadata": {},
   "outputs": [
    {
     "name": "stdout",
     "output_type": "stream",
     "text": [
      "(410374, 30)\n",
      "(250294, 30)\n",
      "(10557, 5)\n"
     ]
    },
    {
     "name": "stderr",
     "output_type": "stream",
     "text": [
      "/tmp/ipykernel_2383/3242491595.py:11: FutureWarning: Indexing with multiple keys (implicitly converted to a tuple of keys) will be deprecated, use a list instead.\n",
      "  sbfe_for_stripe_roll = sbfe_for_stripe.groupby(by = ['uniqueid'])[\"inquiry_count_06\", \"inquiry_count_03\", \"inquiry_count_01\", \"inquiry_count_week\"].sum().reset_index()\n"
     ]
    }
   ],
   "source": [
    "sbfe_for_stripe = sbfe.merge(stripe, on = \"full_addr_clean\")\n",
    "print(sbfe_for_stripe.shape)\n",
    "sbfe_for_stripe = sbfe_for_stripe[sbfe_for_stripe[\"inquiry_date_fmt\"] < sbfe_for_stripe[\"credit_flag_cutoff_date_fmt\"]]\n",
    "print(sbfe_for_stripe.shape)\n",
    "\n",
    "sbfe_for_stripe['inquiry_count_06']   = np.where((sbfe_for_stripe[\"credit_flag_cutoff_date_fmt\"] - sbfe_for_stripe[\"inquiry_date_fmt\"])/np.timedelta64(1, 'M') <= 6, 1, 0)\n",
    "sbfe_for_stripe['inquiry_count_03']   = np.where((sbfe_for_stripe[\"credit_flag_cutoff_date_fmt\"] - sbfe_for_stripe[\"inquiry_date_fmt\"])/np.timedelta64(1, 'M') <= 3, 1, 0)\n",
    "sbfe_for_stripe['inquiry_count_01']   = np.where((sbfe_for_stripe[\"credit_flag_cutoff_date_fmt\"] - sbfe_for_stripe[\"inquiry_date_fmt\"])/np.timedelta64(1, 'M') <= 1, 1, 0)\n",
    "sbfe_for_stripe['inquiry_count_week'] = np.where((sbfe_for_stripe[\"credit_flag_cutoff_date_fmt\"] - sbfe_for_stripe[\"inquiry_date_fmt\"])/np.timedelta64(1, 'W') <= 1, 1, 0)\n",
    "\n",
    "sbfe_for_stripe_roll = sbfe_for_stripe.groupby(by = ['uniqueid'])[\"inquiry_count_06\", \"inquiry_count_03\", \"inquiry_count_01\", \"inquiry_count_week\"].sum().reset_index()\n",
    "print(sbfe_for_stripe_roll.shape)"
   ]
  },
  {
   "cell_type": "code",
   "execution_count": 24,
   "metadata": {},
   "outputs": [
    {
     "name": "stdout",
     "output_type": "stream",
     "text": [
      "(74438, 31)\n"
     ]
    }
   ],
   "source": [
    "stripe = stripe.merge(sbfe_for_stripe_roll, on = \"uniqueid\", how = \"left\")\n",
    "print(stripe.shape)"
   ]
  },
  {
   "cell_type": "code",
   "execution_count": 25,
   "metadata": {},
   "outputs": [],
   "source": [
    "stripe['inquiry_count_06'] = np.where(stripe[\"inquiry_count_06\"].isnull(), 0,   stripe[\"inquiry_count_06\"])\n",
    "stripe['inquiry_count_03'] = np.where(stripe[\"inquiry_count_03\"].isnull(), 0,   stripe[\"inquiry_count_03\"])\n",
    "stripe['inquiry_count_01'] = np.where(stripe[\"inquiry_count_01\"].isnull(), 0,   stripe[\"inquiry_count_01\"])\n",
    "stripe['inquiry_count_week']=np.where(stripe[\"inquiry_count_week\"].isnull(), 0, stripe[\"inquiry_count_week\"])"
   ]
  },
  {
   "cell_type": "code",
   "execution_count": 26,
   "metadata": {},
   "outputs": [],
   "source": [
    "fmt = make_format(cuts = [-np.inf, 0, 1, 2, 3, 4, 5, 10, 20, 30, 40, 50, np.inf], exceptions = [-1])\n",
    "result = dict()\n",
    "keep = [\"inquiry_count_06\", 'inquiry_count_03', 'inquiry_count_01', 'inquiry_count_week']\n",
    "for i, a in enumerate(keep):\n",
    "    result[i] = bivariate(stripe[a], stripe[\"bad\"], format = fmt)\n",
    "\n",
    "wb = TableWriter(filename = \"./_temp/stripe.xlsx\", options={'nan_inf_to_errors': True}, overwrite = True)\n",
    "for k in result.keys():\n",
    "    wb.write_table(\n",
    "        result[k],\n",
    "        sheetname=\"biv\",\n",
    "        conditional_fmt_cols=[3],\n",
    "    )\n",
    "wb.close()"
   ]
  },
  {
   "cell_type": "markdown",
   "metadata": {},
   "source": [
    "#### TMobile 10823"
   ]
  },
  {
   "cell_type": "code",
   "execution_count": 27,
   "metadata": {},
   "outputs": [],
   "source": [
    "tmobile[\"credit_flag_cutoff_date\"] = tmobile.appdatetime_gmt.str.slice(0, 9)\n",
    "tmobile[\"credit_flag_cutoff_date_fmt\"] = pd.to_datetime(tmobile[\"credit_flag_cutoff_date\"], format='%d%b%Y')"
   ]
  },
  {
   "cell_type": "code",
   "execution_count": 28,
   "metadata": {},
   "outputs": [
    {
     "data": {
      "text/html": [
       "<div>\n",
       "<style scoped>\n",
       "    .dataframe tbody tr th:only-of-type {\n",
       "        vertical-align: middle;\n",
       "    }\n",
       "\n",
       "    .dataframe tbody tr th {\n",
       "        vertical-align: top;\n",
       "    }\n",
       "\n",
       "    .dataframe thead th {\n",
       "        text-align: right;\n",
       "    }\n",
       "</style>\n",
       "<table border=\"1\" class=\"dataframe\">\n",
       "  <thead>\n",
       "    <tr style=\"text-align: right;\">\n",
       "      <th></th>\n",
       "      <th>Count</th>\n",
       "      <th>Pct</th>\n",
       "      <th>Cuml Count</th>\n",
       "      <th>Cuml Pct</th>\n",
       "    </tr>\n",
       "    <tr>\n",
       "      <th>credit_flag_cutoff_date_fmt</th>\n",
       "      <th></th>\n",
       "      <th></th>\n",
       "      <th></th>\n",
       "      <th></th>\n",
       "    </tr>\n",
       "  </thead>\n",
       "  <tbody>\n",
       "    <tr>\n",
       "      <th>2022-01</th>\n",
       "      <td>20510.0</td>\n",
       "      <td>0.179189</td>\n",
       "      <td>20510.0</td>\n",
       "      <td>0.179189</td>\n",
       "    </tr>\n",
       "    <tr>\n",
       "      <th>2022-02</th>\n",
       "      <td>22452.0</td>\n",
       "      <td>0.196156</td>\n",
       "      <td>42962.0</td>\n",
       "      <td>0.375345</td>\n",
       "    </tr>\n",
       "    <tr>\n",
       "      <th>2022-03</th>\n",
       "      <td>22846.0</td>\n",
       "      <td>0.199598</td>\n",
       "      <td>65808.0</td>\n",
       "      <td>0.574943</td>\n",
       "    </tr>\n",
       "    <tr>\n",
       "      <th>2022-04</th>\n",
       "      <td>14973.0</td>\n",
       "      <td>0.130814</td>\n",
       "      <td>80781.0</td>\n",
       "      <td>0.705757</td>\n",
       "    </tr>\n",
       "    <tr>\n",
       "      <th>2022-05</th>\n",
       "      <td>16271.0</td>\n",
       "      <td>0.142154</td>\n",
       "      <td>97052.0</td>\n",
       "      <td>0.847912</td>\n",
       "    </tr>\n",
       "    <tr>\n",
       "      <th>2022-06</th>\n",
       "      <td>17408.0</td>\n",
       "      <td>0.152088</td>\n",
       "      <td>114460.0</td>\n",
       "      <td>1.000000</td>\n",
       "    </tr>\n",
       "  </tbody>\n",
       "</table>\n",
       "</div>"
      ],
      "text/plain": [
       "                               Count       Pct  Cuml Count  Cuml Pct\n",
       "credit_flag_cutoff_date_fmt                                         \n",
       "2022-01                      20510.0  0.179189     20510.0  0.179189\n",
       "2022-02                      22452.0  0.196156     42962.0  0.375345\n",
       "2022-03                      22846.0  0.199598     65808.0  0.574943\n",
       "2022-04                      14973.0  0.130814     80781.0  0.705757\n",
       "2022-05                      16271.0  0.142154     97052.0  0.847912\n",
       "2022-06                      17408.0  0.152088    114460.0  1.000000"
      ]
     },
     "execution_count": 28,
     "metadata": {},
     "output_type": "execute_result"
    }
   ],
   "source": [
    "freq(tmobile[\"credit_flag_cutoff_date_fmt\"].astype(str).str.slice(0, 7))"
   ]
  },
  {
   "cell_type": "code",
   "execution_count": 29,
   "metadata": {},
   "outputs": [
    {
     "data": {
      "text/html": [
       "<div>\n",
       "<style scoped>\n",
       "    .dataframe tbody tr th:only-of-type {\n",
       "        vertical-align: middle;\n",
       "    }\n",
       "\n",
       "    .dataframe tbody tr th {\n",
       "        vertical-align: top;\n",
       "    }\n",
       "\n",
       "    .dataframe thead th {\n",
       "        text-align: right;\n",
       "    }\n",
       "</style>\n",
       "<table border=\"1\" class=\"dataframe\">\n",
       "  <thead>\n",
       "    <tr style=\"text-align: right;\">\n",
       "      <th></th>\n",
       "      <th>Count</th>\n",
       "      <th>Pct</th>\n",
       "      <th>Cuml Count</th>\n",
       "      <th>Cuml Pct</th>\n",
       "    </tr>\n",
       "    <tr>\n",
       "      <th>src</th>\n",
       "      <th></th>\n",
       "      <th></th>\n",
       "      <th></th>\n",
       "      <th></th>\n",
       "    </tr>\n",
       "  </thead>\n",
       "  <tbody>\n",
       "    <tr>\n",
       "      <th>march</th>\n",
       "      <td>33679.0</td>\n",
       "      <td>0.294243</td>\n",
       "      <td>33679.0</td>\n",
       "      <td>0.294243</td>\n",
       "    </tr>\n",
       "    <tr>\n",
       "      <th>retro</th>\n",
       "      <td>80781.0</td>\n",
       "      <td>0.705757</td>\n",
       "      <td>114460.0</td>\n",
       "      <td>1.000000</td>\n",
       "    </tr>\n",
       "  </tbody>\n",
       "</table>\n",
       "</div>"
      ],
      "text/plain": [
       "         Count       Pct  Cuml Count  Cuml Pct\n",
       "src                                           \n",
       "march  33679.0  0.294243     33679.0  0.294243\n",
       "retro  80781.0  0.705757    114460.0  1.000000"
      ]
     },
     "execution_count": 29,
     "metadata": {},
     "output_type": "execute_result"
    }
   ],
   "source": [
    "freq(tmobile.src)"
   ]
  },
  {
   "cell_type": "code",
   "execution_count": 30,
   "metadata": {},
   "outputs": [
    {
     "data": {
      "text/html": [
       "<div>\n",
       "<style scoped>\n",
       "    .dataframe tbody tr th:only-of-type {\n",
       "        vertical-align: middle;\n",
       "    }\n",
       "\n",
       "    .dataframe tbody tr th {\n",
       "        vertical-align: top;\n",
       "    }\n",
       "\n",
       "    .dataframe thead th {\n",
       "        text-align: right;\n",
       "    }\n",
       "</style>\n",
       "<table border=\"1\" class=\"dataframe\">\n",
       "  <thead>\n",
       "    <tr style=\"text-align: right;\">\n",
       "      <th></th>\n",
       "      <th>Count</th>\n",
       "      <th>Pct</th>\n",
       "      <th>Cuml Count</th>\n",
       "      <th>Cuml Pct</th>\n",
       "    </tr>\n",
       "    <tr>\n",
       "      <th>fraud_ind</th>\n",
       "      <th></th>\n",
       "      <th></th>\n",
       "      <th></th>\n",
       "      <th></th>\n",
       "    </tr>\n",
       "  </thead>\n",
       "  <tbody>\n",
       "    <tr>\n",
       "      <th>0</th>\n",
       "      <td>58655.0</td>\n",
       "      <td>0.512450</td>\n",
       "      <td>58655.0</td>\n",
       "      <td>0.512450</td>\n",
       "    </tr>\n",
       "    <tr>\n",
       "      <th>1</th>\n",
       "      <td>3762.0</td>\n",
       "      <td>0.032867</td>\n",
       "      <td>62417.0</td>\n",
       "      <td>0.545317</td>\n",
       "    </tr>\n",
       "    <tr>\n",
       "      <th>Missing</th>\n",
       "      <td>52043.0</td>\n",
       "      <td>0.454683</td>\n",
       "      <td>114460.0</td>\n",
       "      <td>1.000000</td>\n",
       "    </tr>\n",
       "  </tbody>\n",
       "</table>\n",
       "</div>"
      ],
      "text/plain": [
       "             Count       Pct  Cuml Count  Cuml Pct\n",
       "fraud_ind                                         \n",
       "0          58655.0  0.512450     58655.0  0.512450\n",
       "1           3762.0  0.032867     62417.0  0.545317\n",
       "Missing    52043.0  0.454683    114460.0  1.000000"
      ]
     },
     "execution_count": 30,
     "metadata": {},
     "output_type": "execute_result"
    }
   ],
   "source": [
    "freq(tmobile.fraud_ind)"
   ]
  },
  {
   "cell_type": "code",
   "execution_count": 31,
   "metadata": {},
   "outputs": [
    {
     "name": "stdout",
     "output_type": "stream",
     "text": [
      "(62417, 41)\n"
     ]
    }
   ],
   "source": [
    "tmobile = tmobile[tmobile[\"fraud_ind\"].notnull()]\n",
    "print(tmobile.shape)"
   ]
  },
  {
   "cell_type": "code",
   "execution_count": 32,
   "metadata": {},
   "outputs": [
    {
     "data": {
      "text/html": [
       "<div>\n",
       "<style scoped>\n",
       "    .dataframe tbody tr th:only-of-type {\n",
       "        vertical-align: middle;\n",
       "    }\n",
       "\n",
       "    .dataframe tbody tr th {\n",
       "        vertical-align: top;\n",
       "    }\n",
       "\n",
       "    .dataframe thead th {\n",
       "        text-align: right;\n",
       "    }\n",
       "</style>\n",
       "<table border=\"1\" class=\"dataframe\">\n",
       "  <thead>\n",
       "    <tr style=\"text-align: right;\">\n",
       "      <th></th>\n",
       "      <th>Count</th>\n",
       "      <th>Pct</th>\n",
       "      <th>Cuml Count</th>\n",
       "      <th>Cuml Pct</th>\n",
       "    </tr>\n",
       "    <tr>\n",
       "      <th>src</th>\n",
       "      <th></th>\n",
       "      <th></th>\n",
       "      <th></th>\n",
       "      <th></th>\n",
       "    </tr>\n",
       "  </thead>\n",
       "  <tbody>\n",
       "    <tr>\n",
       "      <th>march</th>\n",
       "      <td>21914.0</td>\n",
       "      <td>0.35109</td>\n",
       "      <td>21914.0</td>\n",
       "      <td>0.35109</td>\n",
       "    </tr>\n",
       "    <tr>\n",
       "      <th>retro</th>\n",
       "      <td>40503.0</td>\n",
       "      <td>0.64891</td>\n",
       "      <td>62417.0</td>\n",
       "      <td>1.00000</td>\n",
       "    </tr>\n",
       "  </tbody>\n",
       "</table>\n",
       "</div>"
      ],
      "text/plain": [
       "         Count      Pct  Cuml Count  Cuml Pct\n",
       "src                                          \n",
       "march  21914.0  0.35109     21914.0   0.35109\n",
       "retro  40503.0  0.64891     62417.0   1.00000"
      ]
     },
     "execution_count": 32,
     "metadata": {},
     "output_type": "execute_result"
    }
   ],
   "source": [
    "freq(tmobile.src)"
   ]
  },
  {
   "cell_type": "code",
   "execution_count": 33,
   "metadata": {},
   "outputs": [],
   "source": [
    "tmobile[\"credit_flag_cutoff_date\"] = tmobile[\"appdatetime_gmt\"].str.slice(0, 9)\n",
    "tmobile[\"credit_flag_cutoff_date_fmt\"] = pd.to_datetime(tmobile[\"credit_flag_cutoff_date\"], format='%d%b%Y')"
   ]
  },
  {
   "cell_type": "code",
   "execution_count": 34,
   "metadata": {},
   "outputs": [
    {
     "data": {
      "text/plain": [
       "Index(['crid_encr', 'appdatetime_gmt', 'businessname', 'business_contactphone',\n",
       "       'business_addressline1', 'business_addressline2',\n",
       "       'business_addresscity', 'business_addressstate',\n",
       "       'business_addresspostalcode', 'federaltaxid', 'contactfirstname',\n",
       "       'contactmiddlename', 'contactlastname', 'contact_contactphone',\n",
       "       'contact_addressline1', 'contact_addressline2', 'contact_addresscity',\n",
       "       'contact_addressstate', 'contact_addresspostalcode', 'contact_dob',\n",
       "       'contact_idnum', 'contact_idtype', 'contact_idstate', 'contact_email',\n",
       "       'application_channel', 'fraud_ind', 'fraud_tp_ind', 'fraud_fp_ind',\n",
       "       'fpd_ind', 'any_wo_ind', 'activationflag', 'seq', 'account', 'date',\n",
       "       'src', 'contact_dob_year', 'contact_dob_month', 'contact_dob_day',\n",
       "       'contact_driverlicensenumber', 'credit_flag_cutoff_date',\n",
       "       'credit_flag_cutoff_date_fmt'],\n",
       "      dtype='object')"
      ]
     },
     "execution_count": 34,
     "metadata": {},
     "output_type": "execute_result"
    }
   ],
   "source": [
    "tmobile.columns"
   ]
  },
  {
   "cell_type": "code",
   "execution_count": 37,
   "metadata": {},
   "outputs": [
    {
     "name": "stdout",
     "output_type": "stream",
     "text": [
      "3\n",
      "3\n"
     ]
    }
   ],
   "source": [
    "tmobile['abbrev_state'] = tmobile['business_addressstate'].map(statename_to_abbr)\n",
    "print(tmobile['abbrev_state'].isnull().sum())\n",
    "print(tmobile['business_addressstate'].isnull().sum())"
   ]
  },
  {
   "cell_type": "code",
   "execution_count": 83,
   "metadata": {},
   "outputs": [
    {
     "data": {
      "text/html": [
       "<div>\n",
       "<style scoped>\n",
       "    .dataframe tbody tr th:only-of-type {\n",
       "        vertical-align: middle;\n",
       "    }\n",
       "\n",
       "    .dataframe tbody tr th {\n",
       "        vertical-align: top;\n",
       "    }\n",
       "\n",
       "    .dataframe thead th {\n",
       "        text-align: right;\n",
       "    }\n",
       "</style>\n",
       "<table border=\"1\" class=\"dataframe\">\n",
       "  <thead>\n",
       "    <tr style=\"text-align: right;\">\n",
       "      <th></th>\n",
       "      <th>Count</th>\n",
       "      <th>Pct</th>\n",
       "      <th>Cuml Count</th>\n",
       "      <th>Cuml Pct</th>\n",
       "    </tr>\n",
       "    <tr>\n",
       "      <th>business_addressstate</th>\n",
       "      <th></th>\n",
       "      <th></th>\n",
       "      <th></th>\n",
       "      <th></th>\n",
       "    </tr>\n",
       "  </thead>\n",
       "  <tbody>\n",
       "    <tr>\n",
       "      <th>Puerto Rico</th>\n",
       "      <td>268.0</td>\n",
       "      <td>0.985294</td>\n",
       "      <td>268.0</td>\n",
       "      <td>0.985294</td>\n",
       "    </tr>\n",
       "    <tr>\n",
       "      <th>Virgin Islands</th>\n",
       "      <td>4.0</td>\n",
       "      <td>0.014706</td>\n",
       "      <td>272.0</td>\n",
       "      <td>1.000000</td>\n",
       "    </tr>\n",
       "  </tbody>\n",
       "</table>\n",
       "</div>"
      ],
      "text/plain": [
       "                       Count       Pct  Cuml Count  Cuml Pct\n",
       "business_addressstate                                       \n",
       "Puerto Rico            268.0  0.985294       268.0  0.985294\n",
       "Virgin Islands           4.0  0.014706       272.0  1.000000"
      ]
     },
     "execution_count": 83,
     "metadata": {},
     "output_type": "execute_result"
    }
   ],
   "source": [
    "# freq(\"business_addressstate\", df=tmobile[tmobile['business_addressstate'].notnull() & tmobile['abbrev_state'].isnull()])\n",
    "## ADD abbreviation to mapping dictionary"
   ]
  },
  {
   "cell_type": "code",
   "execution_count": 38,
   "metadata": {},
   "outputs": [
    {
     "name": "stderr",
     "output_type": "stream",
     "text": [
      "/tmp/ipykernel_2383/3611770108.py:6: FutureWarning: The default value of regex will change from True to False in a future version. In addition, single character regular expressions will *not* be treated as literal strings when regex=True.\n",
      "  tmobile[\"full_addr_clean\"] = tmobile['full_addr'].str.replace('.', '')\n",
      "/tmp/ipykernel_2383/3611770108.py:8: FutureWarning: The default value of regex will change from True to False in a future version.\n",
      "  tmobile[\"full_addr_clean\"] = tmobile['full_addr_clean'].str.replace('\\W\\s', '')\n"
     ]
    }
   ],
   "source": [
    "# Compile Full Address: np.where(stripe[\"bus_streetaddress2\"] != \"\", \", \" + stripe[\"bus_streetaddress2\"], \"\") + \n",
    "tmobile[\"full_addr\"] = tmobile[\"business_addressline1\"] + \\\n",
    "    np.where(tmobile[\"business_addresscity\"] != \"\", \", \" + tmobile[\"business_addresscity\"], \"\") + \\\n",
    "    np.where(tmobile[\"abbrev_state\"] != \"\", \", \" + tmobile[\"abbrev_state\"], \"\") + \\\n",
    "        np.where(tmobile[\"business_addresspostalcode\"] != \"\", \", \" + tmobile[\"business_addresspostalcode\"].str.slice(0, 5), \"\")\n",
    "tmobile[\"full_addr_clean\"] = tmobile['full_addr'].str.replace('.', '')\n",
    "tmobile[\"full_addr_clean\"] = tmobile['full_addr_clean'].str.replace(',', '')\n",
    "tmobile[\"full_addr_clean\"] = tmobile['full_addr_clean'].str.replace('\\W\\s', '')\n",
    "tmobile[\"full_addr_clean\"] = tmobile[\"full_addr_clean\"].str.lower()"
   ]
  },
  {
   "cell_type": "code",
   "execution_count": 42,
   "metadata": {},
   "outputs": [
    {
     "data": {
      "text/plain": [
       "(62414, 44)"
      ]
     },
     "execution_count": 42,
     "metadata": {},
     "output_type": "execute_result"
    }
   ],
   "source": [
    "tmobile[tmobile[\"full_addr_clean\"].notnull()].shape"
   ]
  },
  {
   "cell_type": "code",
   "execution_count": 43,
   "metadata": {},
   "outputs": [],
   "source": [
    "tmobile = tmobile[tmobile[\"full_addr_clean\"].notnull()]"
   ]
  },
  {
   "cell_type": "code",
   "execution_count": 44,
   "metadata": {},
   "outputs": [
    {
     "name": "stdout",
     "output_type": "stream",
     "text": [
      "(274727, 47)\n",
      "(201828, 47)\n",
      "(14598, 5)\n"
     ]
    },
    {
     "name": "stderr",
     "output_type": "stream",
     "text": [
      "/tmp/ipykernel_2383/3772620228.py:11: FutureWarning: Indexing with multiple keys (implicitly converted to a tuple of keys) will be deprecated, use a list instead.\n",
      "  sbfe_for_tmobile_roll = sbfe_for_tmobile.groupby(by = ['crid_encr'])[\"inquiry_count_06\", \"inquiry_count_03\", \"inquiry_count_01\", \"inquiry_count_week\"].sum().reset_index()\n"
     ]
    }
   ],
   "source": [
    "sbfe_for_tmobile = sbfe.merge(tmobile, on = \"full_addr_clean\")\n",
    "print(sbfe_for_tmobile.shape)\n",
    "sbfe_for_tmobile = sbfe_for_tmobile[sbfe_for_tmobile[\"inquiry_date_fmt\"] < sbfe_for_tmobile[\"credit_flag_cutoff_date_fmt\"]]\n",
    "print(sbfe_for_tmobile.shape)\n",
    "\n",
    "sbfe_for_tmobile['inquiry_count_06']   = np.where((sbfe_for_tmobile[\"credit_flag_cutoff_date_fmt\"] - sbfe_for_tmobile[\"inquiry_date_fmt\"])/np.timedelta64(1, 'M') <= 6, 1, 0)\n",
    "sbfe_for_tmobile['inquiry_count_03']   = np.where((sbfe_for_tmobile[\"credit_flag_cutoff_date_fmt\"] - sbfe_for_tmobile[\"inquiry_date_fmt\"])/np.timedelta64(1, 'M') <= 3, 1, 0)\n",
    "sbfe_for_tmobile['inquiry_count_01']   = np.where((sbfe_for_tmobile[\"credit_flag_cutoff_date_fmt\"] - sbfe_for_tmobile[\"inquiry_date_fmt\"])/np.timedelta64(1, 'M') <= 1, 1, 0)\n",
    "sbfe_for_tmobile['inquiry_count_week'] = np.where((sbfe_for_tmobile[\"credit_flag_cutoff_date_fmt\"] - sbfe_for_tmobile[\"inquiry_date_fmt\"])/np.timedelta64(1, 'W') <= 1, 1, 0)\n",
    "\n",
    "sbfe_for_tmobile_roll = sbfe_for_tmobile.groupby(by = ['crid_encr'])[\"inquiry_count_06\", \"inquiry_count_03\", \"inquiry_count_01\", \"inquiry_count_week\"].sum().reset_index()\n",
    "print(sbfe_for_tmobile_roll.shape)"
   ]
  },
  {
   "cell_type": "code",
   "execution_count": 45,
   "metadata": {},
   "outputs": [
    {
     "name": "stdout",
     "output_type": "stream",
     "text": [
      "(62414, 48)\n"
     ]
    }
   ],
   "source": [
    "tmobile = tmobile.merge(sbfe_for_tmobile_roll, on = \"crid_encr\", how = \"left\")\n",
    "print(tmobile.shape)"
   ]
  },
  {
   "cell_type": "code",
   "execution_count": 46,
   "metadata": {},
   "outputs": [],
   "source": [
    "tmobile['inquiry_count_06'] = np.where(tmobile[\"inquiry_count_06\"].isnull(), 0,   tmobile[\"inquiry_count_06\"])\n",
    "tmobile['inquiry_count_03'] = np.where(tmobile[\"inquiry_count_03\"].isnull(), 0,   tmobile[\"inquiry_count_03\"])\n",
    "tmobile['inquiry_count_01'] = np.where(tmobile[\"inquiry_count_01\"].isnull(), 0,   tmobile[\"inquiry_count_01\"])\n",
    "tmobile['inquiry_count_week']=np.where(tmobile[\"inquiry_count_week\"].isnull(), 0, tmobile[\"inquiry_count_week\"])"
   ]
  },
  {
   "cell_type": "code",
   "execution_count": 47,
   "metadata": {},
   "outputs": [],
   "source": [
    "tmobile[\"fraud_ind\"] = tmobile[\"fraud_ind\"].astype(float)"
   ]
  },
  {
   "cell_type": "code",
   "execution_count": 48,
   "metadata": {},
   "outputs": [],
   "source": [
    "fmt = make_format(cuts = [-np.inf, 0, 1, 2, 3, 4, 5, 10, 20, 30, 40, 50, np.inf], exceptions = [-1])\n",
    "result = dict()\n",
    "keep = [\"inquiry_count_06\", 'inquiry_count_03', 'inquiry_count_01', 'inquiry_count_week']\n",
    "for i, a in enumerate(keep):\n",
    "    result[i] = bivariate(tmobile[a], tmobile[\"fraud_ind\"], format = fmt)\n",
    "\n",
    "wb = TableWriter(filename = \"./_temp/tmobile.xlsx\", options={'nan_inf_to_errors': True}, overwrite = True)\n",
    "for k in result.keys():\n",
    "    wb.write_table(\n",
    "        result[k],\n",
    "        sheetname=\"biv\",\n",
    "        conditional_fmt_cols=[3],\n",
    "    )\n",
    "wb.close()"
   ]
  },
  {
   "cell_type": "markdown",
   "metadata": {},
   "source": [
    "#### Chase"
   ]
  },
  {
   "cell_type": "code",
   "execution_count": 49,
   "metadata": {},
   "outputs": [
    {
     "name": "stdout",
     "output_type": "stream",
     "text": [
      "(640958, 36)\n"
     ]
    }
   ],
   "source": [
    "chase = pd.read_adls(\"Analytics/RnD Projects/Product RnD/Business/LexisNexis 9999 (SBFE Inquiry POC)/Performance/Fraud Sample/Chase_11449/chase_stacked_final.parquet\")\n",
    "print(chase.shape)"
   ]
  },
  {
   "cell_type": "code",
   "execution_count": 50,
   "metadata": {},
   "outputs": [],
   "source": [
    "chase[\"credit_flag_cutoff_date_fmt\"] = pd.to_datetime(chase[\"app_date\"], format='%d%b%Y')"
   ]
  },
  {
   "cell_type": "code",
   "execution_count": 51,
   "metadata": {},
   "outputs": [
    {
     "data": {
      "text/plain": [
       "Index(['transaction_id', 'cust_first_nm', 'cust_mid_init_tx', 'cust_last_nm',\n",
       "       'govt_issu_id_nb', 'line_1_ad', 'line_2_ad', 'city_nm', 'state_prov_cd',\n",
       "       'pst_area_7_cd', 'pst_area_cd', 'channel', 'bus_name', 'app_date',\n",
       "       'date_of_birth', 'decision', 'bizidscore', 'bd_score', 'bd_score1',\n",
       "       'bd_score2', 'bd_score3', 'bus_addr1', 'bus_addr2', 'bus_city',\n",
       "       'bus_state', 'bus_zip', 'bus_tax_id', 'bus_phone', 'bus_type',\n",
       "       'home_phone', 'bad', 'seq', 'account', 'date', 'LN_booked', 'count',\n",
       "       'credit_flag_cutoff_date_fmt'],\n",
       "      dtype='object')"
      ]
     },
     "execution_count": 51,
     "metadata": {},
     "output_type": "execute_result"
    }
   ],
   "source": [
    "chase.columns"
   ]
  },
  {
   "cell_type": "code",
   "execution_count": 52,
   "metadata": {},
   "outputs": [
    {
     "name": "stderr",
     "output_type": "stream",
     "text": [
      "/tmp/ipykernel_2383/3843543105.py:6: FutureWarning: The default value of regex will change from True to False in a future version. In addition, single character regular expressions will *not* be treated as literal strings when regex=True.\n",
      "  chase[\"full_addr_clean\"] = chase['full_addr'].str.replace('.', '')\n",
      "/tmp/ipykernel_2383/3843543105.py:8: FutureWarning: The default value of regex will change from True to False in a future version.\n",
      "  chase[\"full_addr_clean\"] = chase['full_addr_clean'].str.replace('\\W\\s', '')\n"
     ]
    },
    {
     "data": {
      "text/plain": [
       "499427                 2869 sw 33rd ct unit 1 miami fl 33133\n",
       "837612              821 michigan ave apt 3 evanston il 60202\n",
       "1018748             8204 n lamar blvd ste a4 austin tx 78753\n",
       "82631                      20558 noland woods ct sterling va\n",
       "37307                              23 n midland ave nyack ny\n",
       "                                 ...                        \n",
       "156867                 2222 s dobson rd apt 1089 chandler az\n",
       "140946                          1018 n morrison st kokomo in\n",
       "62551                  597 westport ave unit a420 norwalk ct\n",
       "1225640    17070 collins ave ste 255 sunny isles beach fl...\n",
       "49725                 8324 seven falls st north las vegas nv\n",
       "Name: full_addr_clean, Length: 640958, dtype: object"
      ]
     },
     "execution_count": 52,
     "metadata": {},
     "output_type": "execute_result"
    }
   ],
   "source": [
    "# Compile Full Address: np.where(stripe[\"bus_streetaddress2\"] != \"\", \", \" + stripe[\"bus_streetaddress2\"], \"\") + \n",
    "chase[\"full_addr\"] = chase[\"bus_addr1\"] + \\\n",
    "    np.where(chase[\"bus_city\"] != \"\", \", \" + chase[\"bus_city\"], \"\") + \\\n",
    "    np.where(chase[\"bus_state\"] != \"\", \", \" + chase[\"bus_state\"], \"\") + \\\n",
    "        np.where(chase[\"bus_zip\"] != \"\", \", \" + chase[\"bus_zip\"].str.slice(0, 5), \"\")\n",
    "chase[\"full_addr_clean\"] = chase['full_addr'].str.replace('.', '')\n",
    "chase[\"full_addr_clean\"] = chase['full_addr_clean'].str.replace(',', '')\n",
    "chase[\"full_addr_clean\"] = chase['full_addr_clean'].str.replace('\\W\\s', '')\n",
    "chase[\"full_addr_clean\"] = chase[\"full_addr_clean\"].str.lower()\n",
    "chase[\"full_addr_clean\"]"
   ]
  },
  {
   "cell_type": "code",
   "execution_count": 53,
   "metadata": {},
   "outputs": [
    {
     "name": "stdout",
     "output_type": "stream",
     "text": [
      "(0, 39)\n",
      "(0, 39)\n"
     ]
    }
   ],
   "source": [
    "print(chase[chase[\"full_addr_clean\"]==\"\"].shape)\n",
    "print(chase[chase[\"full_addr_clean\"].isnull()].shape)"
   ]
  },
  {
   "cell_type": "code",
   "execution_count": 97,
   "metadata": {},
   "outputs": [
    {
     "name": "stdout",
     "output_type": "stream",
     "text": [
      "(2658103, 42)\n",
      "(1921750, 42)\n"
     ]
    },
    {
     "name": "stderr",
     "output_type": "stream",
     "text": [
      "/tmp/ipykernel_5854/4000701633.py:11: FutureWarning: Indexing with multiple keys (implicitly converted to a tuple of keys) will be deprecated, use a list instead.\n",
      "  sbfe_for_chase_roll = sbfe_for_chase.groupby(by = ['account'])[\"inquiry_count_06\", \"inquiry_count_03\", \"inquiry_count_01\", \"inquiry_count_week\"].sum().reset_index()\n"
     ]
    },
    {
     "name": "stdout",
     "output_type": "stream",
     "text": [
      "(95130, 5)\n"
     ]
    }
   ],
   "source": [
    "sbfe_for_chase = sbfe.merge(chase, on = \"full_addr_clean\")\n",
    "print(sbfe_for_chase.shape)\n",
    "sbfe_for_chase = sbfe_for_chase[sbfe_for_chase[\"inquiry_date_fmt\"] < sbfe_for_chase[\"credit_flag_cutoff_date_fmt\"]]\n",
    "print(sbfe_for_chase.shape)\n",
    "\n",
    "sbfe_for_chase['inquiry_count_06']   = np.where((sbfe_for_chase[\"credit_flag_cutoff_date_fmt\"] - sbfe_for_chase[\"inquiry_date_fmt\"])/np.timedelta64(1, 'M') <= 6, 1, 0)\n",
    "sbfe_for_chase['inquiry_count_03']   = np.where((sbfe_for_chase[\"credit_flag_cutoff_date_fmt\"] - sbfe_for_chase[\"inquiry_date_fmt\"])/np.timedelta64(1, 'M') <= 3, 1, 0)\n",
    "sbfe_for_chase['inquiry_count_01']   = np.where((sbfe_for_chase[\"credit_flag_cutoff_date_fmt\"] - sbfe_for_chase[\"inquiry_date_fmt\"])/np.timedelta64(1, 'M') <= 1, 1, 0)\n",
    "sbfe_for_chase['inquiry_count_week'] = np.where((sbfe_for_chase[\"credit_flag_cutoff_date_fmt\"] - sbfe_for_chase[\"inquiry_date_fmt\"])/np.timedelta64(1, 'W') <= 1, 1, 0)\n",
    "\n",
    "sbfe_for_chase_roll = sbfe_for_chase.groupby(by = ['account'])[\"inquiry_count_06\", \"inquiry_count_03\", \"inquiry_count_01\", \"inquiry_count_week\"].sum().reset_index()\n",
    "print(sbfe_for_chase_roll.shape)"
   ]
  },
  {
   "cell_type": "code",
   "execution_count": 98,
   "metadata": {},
   "outputs": [
    {
     "name": "stdout",
     "output_type": "stream",
     "text": [
      "(640958, 43)\n"
     ]
    }
   ],
   "source": [
    "chase = chase.merge(sbfe_for_chase_roll, on = \"account\", how = \"left\")\n",
    "print(chase.shape)"
   ]
  },
  {
   "cell_type": "code",
   "execution_count": 99,
   "metadata": {},
   "outputs": [],
   "source": [
    "chase['inquiry_count_06'] = np.where(chase[\"inquiry_count_06\"].isnull(), 0,   chase[\"inquiry_count_06\"])\n",
    "chase['inquiry_count_03'] = np.where(chase[\"inquiry_count_03\"].isnull(), 0,   chase[\"inquiry_count_03\"])\n",
    "chase['inquiry_count_01'] = np.where(chase[\"inquiry_count_01\"].isnull(), 0,   chase[\"inquiry_count_01\"])\n",
    "chase['inquiry_count_week']=np.where(chase[\"inquiry_count_week\"].isnull(), 0, chase[\"inquiry_count_week\"])"
   ]
  },
  {
   "cell_type": "code",
   "execution_count": 100,
   "metadata": {},
   "outputs": [],
   "source": [
    "chase[\"fraud_ind\"] = chase[\"bad\"].astype(float)"
   ]
  },
  {
   "cell_type": "code",
   "execution_count": 101,
   "metadata": {},
   "outputs": [],
   "source": [
    "fmt = make_format(cuts = [-np.inf, 0, 1, 2, 3, 4, 5, 10, 20, 30, 40, 50, np.inf], exceptions = [-1])\n",
    "result = dict()\n",
    "keep = [\"inquiry_count_06\", 'inquiry_count_03', 'inquiry_count_01', 'inquiry_count_week']\n",
    "for i, a in enumerate(keep):\n",
    "    result[i] = bivariate(chase[a].astype(float), chase[\"fraud_ind\"], format = fmt)\n",
    "\n",
    "wb = TableWriter(filename = \"./_temp/chase.xlsx\", options={'nan_inf_to_errors': True}, overwrite = True)\n",
    "for k in result.keys():\n",
    "    wb.write_table(\n",
    "        result[k],\n",
    "        sheetname=\"biv\",\n",
    "        conditional_fmt_cols=[3],\n",
    "    )\n",
    "wb.close()"
   ]
  },
  {
   "cell_type": "markdown",
   "metadata": {},
   "source": [
    "#### Fleector"
   ]
  },
  {
   "cell_type": "code",
   "execution_count": 54,
   "metadata": {},
   "outputs": [
    {
     "name": "stdout",
     "output_type": "stream",
     "text": [
      "(83704, 92)\n"
     ]
    }
   ],
   "source": [
    "fleector = pd.read_adls(\"Analytics/RnD Projects/Product RnD/Business/LexisNexis 9999 (SBFE Inquiry POC)/Performance/Fraud Sample/fleector_11124/fleector_sample_to_use.parquet\")\n",
    "print(fleector.shape)"
   ]
  },
  {
   "cell_type": "code",
   "execution_count": 55,
   "metadata": {},
   "outputs": [],
   "source": [
    "fleector[\"credit_flag_cutoff_date_fmt\"] = pd.to_datetime(fleector[\"date_created\"], format='%Y-%m-%d')"
   ]
  },
  {
   "cell_type": "code",
   "execution_count": 56,
   "metadata": {},
   "outputs": [
    {
     "data": {
      "text/html": [
       "<div>\n",
       "<style scoped>\n",
       "    .dataframe tbody tr th:only-of-type {\n",
       "        vertical-align: middle;\n",
       "    }\n",
       "\n",
       "    .dataframe tbody tr th {\n",
       "        vertical-align: top;\n",
       "    }\n",
       "\n",
       "    .dataframe thead th {\n",
       "        text-align: right;\n",
       "    }\n",
       "</style>\n",
       "<table border=\"1\" class=\"dataframe\">\n",
       "  <thead>\n",
       "    <tr style=\"text-align: right;\">\n",
       "      <th></th>\n",
       "      <th>Count</th>\n",
       "      <th>Pct</th>\n",
       "      <th>Cuml Count</th>\n",
       "      <th>Cuml Pct</th>\n",
       "    </tr>\n",
       "    <tr>\n",
       "      <th>credit_flag_cutoff_date_fmt</th>\n",
       "      <th></th>\n",
       "      <th></th>\n",
       "      <th></th>\n",
       "      <th></th>\n",
       "    </tr>\n",
       "  </thead>\n",
       "  <tbody>\n",
       "    <tr>\n",
       "      <th>2022-01</th>\n",
       "      <td>15827.0</td>\n",
       "      <td>0.189083</td>\n",
       "      <td>15827.0</td>\n",
       "      <td>0.189083</td>\n",
       "    </tr>\n",
       "    <tr>\n",
       "      <th>2022-02</th>\n",
       "      <td>15512.0</td>\n",
       "      <td>0.185320</td>\n",
       "      <td>31339.0</td>\n",
       "      <td>0.374403</td>\n",
       "    </tr>\n",
       "    <tr>\n",
       "      <th>2022-03</th>\n",
       "      <td>19353.0</td>\n",
       "      <td>0.231208</td>\n",
       "      <td>50692.0</td>\n",
       "      <td>0.605610</td>\n",
       "    </tr>\n",
       "    <tr>\n",
       "      <th>2022-04</th>\n",
       "      <td>16822.0</td>\n",
       "      <td>0.200970</td>\n",
       "      <td>67514.0</td>\n",
       "      <td>0.806580</td>\n",
       "    </tr>\n",
       "    <tr>\n",
       "      <th>2022-05</th>\n",
       "      <td>16185.0</td>\n",
       "      <td>0.193360</td>\n",
       "      <td>83699.0</td>\n",
       "      <td>0.999940</td>\n",
       "    </tr>\n",
       "    <tr>\n",
       "      <th>2022-06</th>\n",
       "      <td>5.0</td>\n",
       "      <td>0.000060</td>\n",
       "      <td>83704.0</td>\n",
       "      <td>1.000000</td>\n",
       "    </tr>\n",
       "  </tbody>\n",
       "</table>\n",
       "</div>"
      ],
      "text/plain": [
       "                               Count       Pct  Cuml Count  Cuml Pct\n",
       "credit_flag_cutoff_date_fmt                                         \n",
       "2022-01                      15827.0  0.189083     15827.0  0.189083\n",
       "2022-02                      15512.0  0.185320     31339.0  0.374403\n",
       "2022-03                      19353.0  0.231208     50692.0  0.605610\n",
       "2022-04                      16822.0  0.200970     67514.0  0.806580\n",
       "2022-05                      16185.0  0.193360     83699.0  0.999940\n",
       "2022-06                          5.0  0.000060     83704.0  1.000000"
      ]
     },
     "execution_count": 56,
     "metadata": {},
     "output_type": "execute_result"
    }
   ],
   "source": [
    "freq(fleector[\"credit_flag_cutoff_date_fmt\"].astype(str).str.slice(0, 7))"
   ]
  },
  {
   "cell_type": "code",
   "execution_count": 57,
   "metadata": {},
   "outputs": [
    {
     "data": {
      "text/plain": [
       "Index(['seq', 'ats_id', 'open_date', 'open_mon', 'open_qtr',\n",
       "       'writeoff_flag_12mo', 'writeoff_flag_18mo', 'wo_amount', 'wo_date',\n",
       "       'wo_mon', 'wo_qtr', 'pmt_sum_12mo', 'pmt_count_12mo',\n",
       "       'return_pmt_count_12mo', 'pmt_sum_18mo', 'pmt_count_18mo',\n",
       "       'return_pmt_count_18mo', 'platform', 'lock_code', 'lock_reason',\n",
       "       'revenue_12mo', 'revenue_18mo', 'fuel_revenue_12mo',\n",
       "       'fuel_revenue_18mo', 'fee_revenue_12mo', 'fee_revenue_18mo',\n",
       "       'account_code', 'limit_approved', 'last_pos_cred_limit', 'gallons_12mo',\n",
       "       'gallons_18mo', 'roadster_twentile', 'ats_bill_cycle_group', 'app_flag',\n",
       "       'acct_flag', 'app_mon', 'date_created', 'channel', 'team',\n",
       "       'processor_cd', 'brand', 'product', 'portfolio', 'status_credit',\n",
       "       'status_fraud', 'creditstatus', 'req_credit_limit', 'builder_pro_flag',\n",
       "       'test_app', 'dup_match', 'approve_flag', 'cond_deposit_category',\n",
       "       'secured_approval_flag', 'cust_name', 'fed_id', 'nmf_contact_email',\n",
       "       'business_type', 'no_of_cards', 'org_type', 'org_type_descr',\n",
       "       'card_type', 'cust_address1', 'cust_address2', 'cust_city',\n",
       "       'cust_state', 'cust_zip', 'guarant_fname', 'guarant_lname',\n",
       "       'guarant_street1', 'guarant_street2', 'guarant_city', 'guarant_state',\n",
       "       'guarant_zip', 'guarant_dob', 'guarant_sec_enc', 'ship_street1',\n",
       "       'ship_street2', 'ship_city', 'ship_state', 'ship_zip',\n",
       "       'most_recent_rev_12_mo', 'most_recent_rev_6_mo',\n",
       "       'most_recent_spend_12_mo', 'most_recent_spend_6_mo', 'unen_ssn',\n",
       "       'last_touch_channel', 'fraud_lock_flag', 'fraud_decline_flag',\n",
       "       'straight_roller_flag', 'final_fraud_flag', 'active_flag',\n",
       "       'new_channel', 'credit_flag_cutoff_date_fmt'],\n",
       "      dtype='object')"
      ]
     },
     "execution_count": 57,
     "metadata": {},
     "output_type": "execute_result"
    }
   ],
   "source": [
    "fleector.columns"
   ]
  },
  {
   "cell_type": "code",
   "execution_count": 60,
   "metadata": {},
   "outputs": [
    {
     "name": "stderr",
     "output_type": "stream",
     "text": [
      "/tmp/ipykernel_2383/2826320773.py:6: FutureWarning: The default value of regex will change from True to False in a future version. In addition, single character regular expressions will *not* be treated as literal strings when regex=True.\n",
      "  fleector[\"full_addr_clean\"] = fleector['full_addr'].str.replace('.', '')\n",
      "/tmp/ipykernel_2383/2826320773.py:8: FutureWarning: The default value of regex will change from True to False in a future version.\n",
      "  fleector[\"full_addr_clean\"] = fleector['full_addr_clean'].str.replace('\\W\\s', '')\n"
     ]
    },
    {
     "data": {
      "text/plain": [
       "6875                  637 sackman st brooklyn ny 11212\n",
       "5628     413timberline ridge ct winston salem nc 27106\n",
       "19723          170bentley place way covington ga 30016\n",
       "4981                99 horace lane walterboro sc 29488\n",
       "17116           3828 highlands pkwy se smyrna ga 30082\n",
       "                             ...                      \n",
       "49448           10387 tiago lake dr escondido ca 92029\n",
       "705          645 henderson drive cartersville ga 30120\n",
       "79073             98 whitethorne ave columbus oh 43223\n",
       "61964               107 floridana road debary fl 32713\n",
       "54909           4207 youngstown dr greensboro nc 27405\n",
       "Name: full_addr_clean, Length: 83704, dtype: object"
      ]
     },
     "execution_count": 60,
     "metadata": {},
     "output_type": "execute_result"
    }
   ],
   "source": [
    "# Compile Full Address: np.where(stripe[\"bus_streetaddress2\"] != \"\", \", \" + stripe[\"bus_streetaddress2\"], \"\") + \n",
    "fleector[\"full_addr\"] = fleector[\"cust_address1\"] + \\\n",
    "    np.where(fleector[\"cust_city\"] != \"\", \", \" + fleector[\"cust_city\"], \"\") + \\\n",
    "    np.where(fleector[\"cust_state\"] != \"\", \", \" + fleector[\"cust_state\"], \"\") + \\\n",
    "        np.where(fleector[\"cust_zip\"] != \"\", \", \" + fleector[\"cust_zip\"].str.slice(0, 5), \"\")\n",
    "fleector[\"full_addr_clean\"] = fleector['full_addr'].str.replace('.', '')\n",
    "fleector[\"full_addr_clean\"] = fleector['full_addr_clean'].str.replace(',', '')\n",
    "fleector[\"full_addr_clean\"] = fleector['full_addr_clean'].str.replace('\\W\\s', '')\n",
    "fleector[\"full_addr_clean\"] = fleector[\"full_addr_clean\"].str.lower()\n",
    "fleector[\"full_addr_clean\"]"
   ]
  },
  {
   "cell_type": "code",
   "execution_count": 61,
   "metadata": {},
   "outputs": [
    {
     "name": "stdout",
     "output_type": "stream",
     "text": [
      "(0, 95)\n",
      "(0, 95)\n"
     ]
    }
   ],
   "source": [
    "print(fleector[fleector[\"full_addr_clean\"]==\"\"].shape)\n",
    "print(fleector[fleector[\"full_addr_clean\"].isnull()].shape)"
   ]
  },
  {
   "cell_type": "code",
   "execution_count": 110,
   "metadata": {},
   "outputs": [
    {
     "data": {
      "text/plain": [
       "True"
      ]
     },
     "execution_count": 110,
     "metadata": {},
     "output_type": "execute_result"
    }
   ],
   "source": [
    "fleector.seq.is_unique"
   ]
  },
  {
   "cell_type": "code",
   "execution_count": 111,
   "metadata": {},
   "outputs": [
    {
     "name": "stdout",
     "output_type": "stream",
     "text": [
      "(176804, 98)\n",
      "(89741, 98)\n",
      "(14482, 5)\n"
     ]
    },
    {
     "name": "stderr",
     "output_type": "stream",
     "text": [
      "/tmp/ipykernel_5854/2289841132.py:11: FutureWarning: Indexing with multiple keys (implicitly converted to a tuple of keys) will be deprecated, use a list instead.\n",
      "  sbfe_for_fleector_roll = sbfe_for_fleector.groupby(by = ['seq'])[\"inquiry_count_06\", \"inquiry_count_03\", \"inquiry_count_01\", \"inquiry_count_week\"].sum().reset_index()\n"
     ]
    }
   ],
   "source": [
    "sbfe_for_fleector = sbfe.merge(fleector, on = \"full_addr_clean\")\n",
    "print(sbfe_for_fleector.shape)\n",
    "sbfe_for_fleector = sbfe_for_fleector[sbfe_for_fleector[\"inquiry_date_fmt\"] < sbfe_for_fleector[\"credit_flag_cutoff_date_fmt\"]]\n",
    "print(sbfe_for_fleector.shape)\n",
    "\n",
    "sbfe_for_fleector['inquiry_count_06']   = np.where((sbfe_for_fleector[\"credit_flag_cutoff_date_fmt\"] - sbfe_for_fleector[\"inquiry_date_fmt\"])/np.timedelta64(1, 'M') <= 6, 1, 0)\n",
    "sbfe_for_fleector['inquiry_count_03']   = np.where((sbfe_for_fleector[\"credit_flag_cutoff_date_fmt\"] - sbfe_for_fleector[\"inquiry_date_fmt\"])/np.timedelta64(1, 'M') <= 3, 1, 0)\n",
    "sbfe_for_fleector['inquiry_count_01']   = np.where((sbfe_for_fleector[\"credit_flag_cutoff_date_fmt\"] - sbfe_for_fleector[\"inquiry_date_fmt\"])/np.timedelta64(1, 'M') <= 1, 1, 0)\n",
    "sbfe_for_fleector['inquiry_count_week'] = np.where((sbfe_for_fleector[\"credit_flag_cutoff_date_fmt\"] - sbfe_for_fleector[\"inquiry_date_fmt\"])/np.timedelta64(1, 'W') <= 1, 1, 0)\n",
    "\n",
    "sbfe_for_fleector_roll = sbfe_for_fleector.groupby(by = ['seq'])[\"inquiry_count_06\", \"inquiry_count_03\", \"inquiry_count_01\", \"inquiry_count_week\"].sum().reset_index()\n",
    "print(sbfe_for_fleector_roll.shape)"
   ]
  },
  {
   "cell_type": "code",
   "execution_count": 112,
   "metadata": {},
   "outputs": [
    {
     "name": "stdout",
     "output_type": "stream",
     "text": [
      "(83704, 99)\n"
     ]
    }
   ],
   "source": [
    "fleector = fleector.merge(sbfe_for_fleector_roll, on = \"seq\", how = \"left\")\n",
    "print(fleector.shape)"
   ]
  },
  {
   "cell_type": "code",
   "execution_count": 113,
   "metadata": {},
   "outputs": [],
   "source": [
    "fleector['inquiry_count_06'] = np.where(fleector[\"inquiry_count_06\"].isnull(), 0,   fleector[\"inquiry_count_06\"])\n",
    "fleector['inquiry_count_03'] = np.where(fleector[\"inquiry_count_03\"].isnull(), 0,   fleector[\"inquiry_count_03\"])\n",
    "fleector['inquiry_count_01'] = np.where(fleector[\"inquiry_count_01\"].isnull(), 0,   fleector[\"inquiry_count_01\"])\n",
    "fleector['inquiry_count_week']=np.where(fleector[\"inquiry_count_week\"].isnull(), 0, fleector[\"inquiry_count_week\"])"
   ]
  },
  {
   "cell_type": "code",
   "execution_count": 114,
   "metadata": {},
   "outputs": [],
   "source": [
    "fleector[\"fraud_ind\"] = fleector[\"final_fraud_flag\"].astype(float)"
   ]
  },
  {
   "cell_type": "code",
   "execution_count": 115,
   "metadata": {},
   "outputs": [],
   "source": [
    "fmt = make_format(cuts = [-np.inf, 0, 1, 2, 3, 4, 5, 10, 20, 30, 40, 50, np.inf], exceptions = [-1])\n",
    "result = dict()\n",
    "keep = [\"inquiry_count_06\", 'inquiry_count_03', 'inquiry_count_01', 'inquiry_count_week']\n",
    "for i, a in enumerate(keep):\n",
    "    result[i] = bivariate(fleector[a].astype(float), fleector[\"fraud_ind\"], format = fmt, groups= fleector.acct_flag)\n",
    "\n",
    "wb = TableWriter(filename = \"./_temp/fleector.xlsx\", options={'nan_inf_to_errors': True}, overwrite = True)\n",
    "for k in result.keys():\n",
    "    wb.write_table(\n",
    "        result[k],\n",
    "        sheetname=\"biv\",\n",
    "        conditional_fmt_cols=[3],\n",
    "    )\n",
    "wb.close()"
   ]
  },
  {
   "cell_type": "markdown",
   "metadata": {},
   "source": [
    "#### Other"
   ]
  },
  {
   "cell_type": "code",
   "execution_count": null,
   "metadata": {},
   "outputs": [],
   "source": []
  },
  {
   "cell_type": "code",
   "execution_count": 36,
   "metadata": {},
   "outputs": [],
   "source": [
    "statename_to_abbr = {\n",
    "    # Other\n",
    "    'District of Columbia': 'DC',\n",
    "\n",
    "    # States\n",
    "    'Alabama': 'AL',\n",
    "    'Montana': 'MT',\n",
    "    'Alaska': 'AK',\n",
    "    'Nebraska': 'NE',\n",
    "    'Arizona': 'AZ',\n",
    "    'Nevada': 'NV',\n",
    "    'Arkansas': 'AR',\n",
    "    'New Hampshire': 'NH',\n",
    "    'California': 'CA',\n",
    "    'New Jersey': 'NJ',\n",
    "    'Colorado': 'CO',\n",
    "    'New Mexico': 'NM',\n",
    "    'Connecticut': 'CT',\n",
    "    'New York': 'NY',\n",
    "    'Delaware': 'DE',\n",
    "    'North Carolina': 'NC',\n",
    "    'Florida': 'FL',\n",
    "    'North Dakota': 'ND',\n",
    "    'Georgia': 'GA',\n",
    "    'Ohio': 'OH',\n",
    "    'Hawaii': 'HI',\n",
    "    'Oklahoma': 'OK',\n",
    "    'Idaho': 'ID',\n",
    "    'Oregon': 'OR',\n",
    "    'Illinois': 'IL',\n",
    "    'Pennsylvania': 'PA',\n",
    "    'Indiana': 'IN',\n",
    "    'Rhode Island': 'RI',\n",
    "    'Iowa': 'IA',\n",
    "    'South Carolina': 'SC',\n",
    "    'Kansas': 'KS',\n",
    "    'South Dakota': 'SD',\n",
    "    'Kentucky': 'KY',\n",
    "    'Tennessee': 'TN',\n",
    "    'Louisiana': 'LA',\n",
    "    'Texas': 'TX',\n",
    "    'Maine': 'ME',\n",
    "    'Utah': 'UT',\n",
    "    'Maryland': 'MD',\n",
    "    'Vermont': 'VT',\n",
    "    'Massachusetts': 'MA',\n",
    "    'Virginia': 'VA',\n",
    "    'Michigan': 'MI',\n",
    "    'Washington': 'WA',\n",
    "    'Minnesota': 'MN',\n",
    "    'West Virginia': 'WV',\n",
    "    'Mississippi': 'MS',\n",
    "    'Wisconsin': 'WI',\n",
    "    'Missouri': 'MO',\n",
    "    'Wyoming': 'WY',\n",
    "    \"Puerto Rico\" : \"PR\",\n",
    "\"Virgin Islands\" : \"VI\"\n",
    "}"
   ]
  },
  {
   "cell_type": "code",
   "execution_count": null,
   "metadata": {},
   "outputs": [],
   "source": []
  }
 ],
 "metadata": {
  "kernelspec": {
   "display_name": "Python [conda env:data-science]",
   "language": "python",
   "name": "conda-env-data-science-py"
  },
  "language_info": {
   "codemirror_mode": {
    "name": "ipython",
    "version": 3
   },
   "file_extension": ".py",
   "mimetype": "text/x-python",
   "name": "python",
   "nbconvert_exporter": "python",
   "pygments_lexer": "ipython3",
   "version": "3.10.6"
  }
 },
 "nbformat": 4,
 "nbformat_minor": 4
}
