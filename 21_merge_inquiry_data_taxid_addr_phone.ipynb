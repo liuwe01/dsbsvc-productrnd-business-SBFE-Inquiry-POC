{
 "cells": [
  {
   "cell_type": "code",
   "execution_count": 1,
   "metadata": {},
   "outputs": [],
   "source": [
    "import time\n",
    "import pandas as pd\n",
    "import numpy as np\n",
    "import math\n",
    "\n",
    "# internal tools\n",
    "from dsgtools.reporting import make_format\n",
    "from dsgtools.reporting import TableWriter\n",
    "from dsgtools.reporting import freq\n",
    "from dsgtools.reporting import bivariate"
   ]
  },
  {
   "cell_type": "code",
   "execution_count": 2,
   "metadata": {},
   "outputs": [
    {
     "name": "stdout",
     "output_type": "stream",
     "text": [
      "(640958, 36)\n",
      "(114460, 39)\n",
      "(75000, 22)\n",
      "(83704, 92)\n"
     ]
    }
   ],
   "source": [
    "## Input Data\n",
    "chase = pd.read_adls(\"Analytics/RnD Projects/Product RnD/Business/LexisNexis 9999 (SBFE Inquiry POC)/Performance/Fraud Sample/Chase_11449/\" + \"chase_stacked_final.parquet\")\n",
    "print(chase.shape)\n",
    "\n",
    "tmobile = pd.read_adls(\"Analytics/RnD Projects/Product RnD/Business/LexisNexis 9999 (SBFE Inquiry POC)/Performance/Fraud Sample/tmobile_10823/\" + \"tmbile_file_to_use.parquet\")\n",
    "print(tmobile.shape)\n",
    "\n",
    "stripe = pd.read_adls(\"Analytics/RnD Projects/Product RnD/Business/LexisNexis 9999 (SBFE Inquiry POC)/Performance/Fraud Sample/stripe_11363/\" + \"stripe_file_to_use.parquet\")\n",
    "print(stripe.shape)\n",
    "\n",
    "fleector = pd.read_adls(\"Analytics/RnD Projects/Product RnD/Business/LexisNexis 9999 (SBFE Inquiry POC)/Performance/Fraud Sample/fleector_11124/\" + \"fleector_sample_to_use.parquet\")\n",
    "print(fleector.shape)"
   ]
  },
  {
   "cell_type": "code",
   "execution_count": 3,
   "metadata": {},
   "outputs": [],
   "source": [
    "## keep seleid, full address, phone, taxid, performance flag >> business information >> might need to dedup"
   ]
  },
  {
   "cell_type": "markdown",
   "metadata": {
    "tags": []
   },
   "source": [
    "#### SBFE Inquiry"
   ]
  },
  {
   "cell_type": "code",
   "execution_count": 3,
   "metadata": {},
   "outputs": [
    {
     "name": "stdout",
     "output_type": "stream",
     "text": [
      "(79429086, 20)\n"
     ]
    }
   ],
   "source": [
    "path = \"Analytics/RnD Projects/Product RnD/Business/LexisNexis 9999 (SBFE Inquiry POC)/Data Modeling Clean/sbfe_seleid_append_deduped_cleaned_0501.parquet\"\n",
    "sbfe = pd.read_adls(path, reader = pd.read_parquet)\n",
    "print(sbfe.shape)"
   ]
  },
  {
   "cell_type": "code",
   "execution_count": 4,
   "metadata": {},
   "outputs": [
    {
     "name": "stderr",
     "output_type": "stream",
     "text": [
      "/tmp/ipykernel_22545/3858317675.py:3: FutureWarning: The default value of regex will change from True to False in a future version. In addition, single character regular expressions will *not* be treated as literal strings when regex=True.\n",
      "  sbfe[\"full_addr_clean\"] = sbfe['full_addr'].str.replace('.', '')\n",
      "/tmp/ipykernel_22545/3858317675.py:5: FutureWarning: The default value of regex will change from True to False in a future version.\n",
      "  sbfe[\"full_addr_clean\"] = sbfe['full_addr_clean'].str.replace('\\W\\s', '')\n"
     ]
    }
   ],
   "source": [
    "sbfe[\"full_addr\"] = sbfe[\"addr\"] + np.where(sbfe[\"city\"] != \"\", \", \" + sbfe[\"city\"], \"\") + \\\n",
    "    np.where(sbfe[\"state\"] != \"\", \", \" + sbfe[\"state\"], \"\") + np.where(sbfe[\"zip\"] != \"\", \", \" + sbfe[\"zip\"].str.slice(0, 5), \"\")\n",
    "sbfe[\"full_addr_clean\"] = sbfe['full_addr'].str.replace('.', '')\n",
    "sbfe[\"full_addr_clean\"] = sbfe['full_addr_clean'].str.replace(',', '')\n",
    "sbfe[\"full_addr_clean\"] = sbfe['full_addr_clean'].str.replace('\\W\\s', '')\n",
    "sbfe[\"full_addr_clean\"] = sbfe[\"full_addr_clean\"].str.lower()"
   ]
  },
  {
   "cell_type": "code",
   "execution_count": 5,
   "metadata": {},
   "outputs": [
    {
     "data": {
      "text/plain": [
       "Index(['accountnumber_x', 'companyname', 'alternatecompanyname_x', 'addr',\n",
       "       'city', 'state', 'zip', 'businessphone', 'taxidnumber', 'historydate_x',\n",
       "       'sufficient_input', 'accountnumber_y', 'alternatecompanyname_y',\n",
       "       'historydate_y', 'powid', 'proxid', 'seleid', 'orgid', 'ultid',\n",
       "       'overallweight', 'full_addr', 'full_addr_clean'],\n",
       "      dtype='object')"
      ]
     },
     "execution_count": 5,
     "metadata": {},
     "output_type": "execute_result"
    }
   ],
   "source": [
    "sbfe.columns"
   ]
  },
  {
   "cell_type": "code",
   "execution_count": 6,
   "metadata": {},
   "outputs": [],
   "source": [
    "sbfe = sbfe[[\"seleid\", \"historydate_x\", \"full_addr_clean\", 'businessphone', 'taxidnumber']]\n",
    "sbfe.columns = [\"seleid_inquiry_sbfe\", \"inquiry_date\", \"full_addr_clean\", 'businessphone', 'taxidnumber']"
   ]
  },
  {
   "cell_type": "code",
   "execution_count": 7,
   "metadata": {},
   "outputs": [],
   "source": [
    "sbfe[\"inquiry_date\"] = sbfe[\"inquiry_date\"].astype(int)\n",
    "sbfe[\"inquiry_date_fmt\"] = pd.to_datetime(sbfe[\"inquiry_date\"], format='%Y%m%d')"
   ]
  },
  {
   "cell_type": "code",
   "execution_count": 8,
   "metadata": {},
   "outputs": [],
   "source": [
    "sbfe[\"seleid_inquiry_sbfe\"] = sbfe[\"seleid_inquiry_sbfe\"].astype(float)"
   ]
  },
  {
   "cell_type": "code",
   "execution_count": 9,
   "metadata": {},
   "outputs": [],
   "source": [
    "sbfe[\"full_addr_clean\"] = sbfe[\"full_addr_clean\"].str.lower()"
   ]
  },
  {
   "cell_type": "code",
   "execution_count": 10,
   "metadata": {},
   "outputs": [
    {
     "data": {
      "text/html": [
       "<div>\n",
       "<style scoped>\n",
       "    .dataframe tbody tr th:only-of-type {\n",
       "        vertical-align: middle;\n",
       "    }\n",
       "\n",
       "    .dataframe tbody tr th {\n",
       "        vertical-align: top;\n",
       "    }\n",
       "\n",
       "    .dataframe thead th {\n",
       "        text-align: right;\n",
       "    }\n",
       "</style>\n",
       "<table border=\"1\" class=\"dataframe\">\n",
       "  <thead>\n",
       "    <tr style=\"text-align: right;\">\n",
       "      <th></th>\n",
       "      <th>seleid_inquiry_sbfe</th>\n",
       "      <th>inquiry_date</th>\n",
       "      <th>full_addr_clean</th>\n",
       "      <th>businessphone</th>\n",
       "      <th>taxidnumber</th>\n",
       "      <th>inquiry_date_fmt</th>\n",
       "    </tr>\n",
       "  </thead>\n",
       "  <tbody>\n",
       "    <tr>\n",
       "      <th>0</th>\n",
       "      <td>1.336156e+11</td>\n",
       "      <td>20210701</td>\n",
       "      <td>115 golf course rd ste e logan ut 84321</td>\n",
       "      <td>4355353654</td>\n",
       "      <td></td>\n",
       "      <td>2021-07-01</td>\n",
       "    </tr>\n",
       "    <tr>\n",
       "      <th>1</th>\n",
       "      <td>1.330122e+09</td>\n",
       "      <td>20210701</td>\n",
       "      <td>3200 palm tree dr lithonia ga 30038</td>\n",
       "      <td>7708857033</td>\n",
       "      <td></td>\n",
       "      <td>2021-07-01</td>\n",
       "    </tr>\n",
       "    <tr>\n",
       "      <th>2</th>\n",
       "      <td>9.064136e+08</td>\n",
       "      <td>20210701</td>\n",
       "      <td>1476 highway 159 e bellville tx 77418</td>\n",
       "      <td>9798653142</td>\n",
       "      <td></td>\n",
       "      <td>2021-07-01</td>\n",
       "    </tr>\n",
       "    <tr>\n",
       "      <th>5</th>\n",
       "      <td>6.136772e+07</td>\n",
       "      <td>20210701</td>\n",
       "      <td>492 koller st san francisco ca 94110</td>\n",
       "      <td>6505550000</td>\n",
       "      <td></td>\n",
       "      <td>2021-07-01</td>\n",
       "    </tr>\n",
       "    <tr>\n",
       "      <th>6</th>\n",
       "      <td>1.371452e+11</td>\n",
       "      <td>20210701</td>\n",
       "      <td>107 lassiter lane bellville tx 77418</td>\n",
       "      <td>9798859397</td>\n",
       "      <td></td>\n",
       "      <td>2021-07-01</td>\n",
       "    </tr>\n",
       "  </tbody>\n",
       "</table>\n",
       "</div>"
      ],
      "text/plain": [
       "   seleid_inquiry_sbfe  inquiry_date                          full_addr_clean  \\\n",
       "0         1.336156e+11      20210701  115 golf course rd ste e logan ut 84321   \n",
       "1         1.330122e+09      20210701      3200 palm tree dr lithonia ga 30038   \n",
       "2         9.064136e+08      20210701    1476 highway 159 e bellville tx 77418   \n",
       "5         6.136772e+07      20210701     492 koller st san francisco ca 94110   \n",
       "6         1.371452e+11      20210701     107 lassiter lane bellville tx 77418   \n",
       "\n",
       "  businessphone taxidnumber inquiry_date_fmt  \n",
       "0    4355353654                   2021-07-01  \n",
       "1    7708857033                   2021-07-01  \n",
       "2    9798653142                   2021-07-01  \n",
       "5    6505550000                   2021-07-01  \n",
       "6    9798859397                   2021-07-01  "
      ]
     },
     "execution_count": 10,
     "metadata": {},
     "output_type": "execute_result"
    }
   ],
   "source": [
    "sbfe.head()"
   ]
  },
  {
   "cell_type": "markdown",
   "metadata": {
    "tags": []
   },
   "source": [
    "#### Stripe 11363"
   ]
  },
  {
   "cell_type": "code",
   "execution_count": 11,
   "metadata": {},
   "outputs": [
    {
     "data": {
      "text/plain": [
       "Index(['Unnamed: 0', 'uniqueid', 'historydate', 'companyname',\n",
       "       'alternatecompanyname', 'bus_streetaddress1', 'bus_streetaddress2',\n",
       "       'bus_city', 'bus_state', 'bus_zip', 'bus_phone', 'bus_website',\n",
       "       'firstname', 'lastname', 'streetaddress1', 'streetaddress2', 'city',\n",
       "       'state', 'zip', 'email', 'ip_address', 'performance_indicator'],\n",
       "      dtype='object')"
      ]
     },
     "execution_count": 11,
     "metadata": {},
     "output_type": "execute_result"
    }
   ],
   "source": [
    "stripe.columns"
   ]
  },
  {
   "cell_type": "code",
   "execution_count": 10,
   "metadata": {},
   "outputs": [
    {
     "name": "stdout",
     "output_type": "stream",
     "text": [
      "(74443, 22)\n",
      "True\n"
     ]
    }
   ],
   "source": [
    "stripe = stripe.fillna(\"\")\n",
    "stripe = stripe.drop_duplicates(subset = ['companyname', 'alternatecompanyname', 'bus_streetaddress1', \n",
    "                                          'bus_streetaddress2', 'bus_city', 'bus_state', 'bus_zip', 'bus_phone', 'bus_website'], ignore_index = True) \n",
    "print(stripe.shape)\n",
    "print(stripe.uniqueid.is_unique)"
   ]
  },
  {
   "cell_type": "markdown",
   "metadata": {
    "tags": []
   },
   "source": [
    "#### TMobile 10823"
   ]
  },
  {
   "cell_type": "code",
   "execution_count": 14,
   "metadata": {},
   "outputs": [
    {
     "data": {
      "text/plain": [
       "(0, 39)"
      ]
     },
     "execution_count": 14,
     "metadata": {},
     "output_type": "execute_result"
    }
   ],
   "source": [
    "tmobile[tmobile[\"federaltaxid\"] == \"\"].shape"
   ]
  },
  {
   "cell_type": "code",
   "execution_count": 13,
   "metadata": {},
   "outputs": [
    {
     "data": {
      "text/plain": [
       "114766    854082844\n",
       "114767    753226669\n",
       "114768    882585629\n",
       "114769    474246581\n",
       "114770    833402287\n",
       "            ...    \n",
       "257745    844827985\n",
       "257746    842159679\n",
       "257747    871318967\n",
       "257748    471515674\n",
       "257749    881785433\n",
       "Name: federaltaxid, Length: 114460, dtype: object"
      ]
     },
     "execution_count": 13,
     "metadata": {},
     "output_type": "execute_result"
    }
   ],
   "source": [
    "tmobile.federaltaxid"
   ]
  },
  {
   "cell_type": "code",
   "execution_count": 15,
   "metadata": {},
   "outputs": [],
   "source": [
    "tmobile[\"credit_flag_cutoff_date\"] = tmobile.appdatetime_gmt.str.slice(0, 9)\n",
    "tmobile[\"credit_flag_cutoff_date_fmt\"] = pd.to_datetime(tmobile[\"credit_flag_cutoff_date\"], format='%d%b%Y')"
   ]
  },
  {
   "cell_type": "code",
   "execution_count": 16,
   "metadata": {},
   "outputs": [
    {
     "name": "stdout",
     "output_type": "stream",
     "text": [
      "(62417, 41)\n"
     ]
    }
   ],
   "source": [
    "tmobile = tmobile[tmobile[\"fraud_ind\"].notnull()]\n",
    "print(tmobile.shape)"
   ]
  },
  {
   "cell_type": "code",
   "execution_count": 17,
   "metadata": {},
   "outputs": [
    {
     "data": {
      "text/html": [
       "<div>\n",
       "<style scoped>\n",
       "    .dataframe tbody tr th:only-of-type {\n",
       "        vertical-align: middle;\n",
       "    }\n",
       "\n",
       "    .dataframe tbody tr th {\n",
       "        vertical-align: top;\n",
       "    }\n",
       "\n",
       "    .dataframe thead th {\n",
       "        text-align: right;\n",
       "    }\n",
       "</style>\n",
       "<table border=\"1\" class=\"dataframe\">\n",
       "  <thead>\n",
       "    <tr style=\"text-align: right;\">\n",
       "      <th></th>\n",
       "      <th>Count</th>\n",
       "      <th>Pct</th>\n",
       "      <th>Cuml Count</th>\n",
       "      <th>Cuml Pct</th>\n",
       "    </tr>\n",
       "    <tr>\n",
       "      <th>src</th>\n",
       "      <th></th>\n",
       "      <th></th>\n",
       "      <th></th>\n",
       "      <th></th>\n",
       "    </tr>\n",
       "  </thead>\n",
       "  <tbody>\n",
       "    <tr>\n",
       "      <th>march</th>\n",
       "      <td>21914.0</td>\n",
       "      <td>0.35109</td>\n",
       "      <td>21914.0</td>\n",
       "      <td>0.35109</td>\n",
       "    </tr>\n",
       "    <tr>\n",
       "      <th>retro</th>\n",
       "      <td>40503.0</td>\n",
       "      <td>0.64891</td>\n",
       "      <td>62417.0</td>\n",
       "      <td>1.00000</td>\n",
       "    </tr>\n",
       "  </tbody>\n",
       "</table>\n",
       "</div>"
      ],
      "text/plain": [
       "         Count      Pct  Cuml Count  Cuml Pct\n",
       "src                                          \n",
       "march  21914.0  0.35109     21914.0   0.35109\n",
       "retro  40503.0  0.64891     62417.0   1.00000"
      ]
     },
     "execution_count": 17,
     "metadata": {},
     "output_type": "execute_result"
    }
   ],
   "source": [
    "freq(tmobile.src)"
   ]
  },
  {
   "cell_type": "code",
   "execution_count": 29,
   "metadata": {},
   "outputs": [
    {
     "name": "stdout",
     "output_type": "stream",
     "text": [
      "(20833, 51)\n",
      "(13342, 51)\n"
     ]
    }
   ],
   "source": [
    "sbfe_for_tmobile = sbfe.merge(tmobile, left_on = \"taxidnumber\", right_on = \"federaltaxid\")\n",
    "print(sbfe_for_tmobile.shape)\n",
    "sbfe_for_tmobile = sbfe_for_tmobile[sbfe_for_tmobile[\"inquiry_date_fmt\"] < sbfe_for_tmobile[\"credit_flag_cutoff_date_fmt\"]]\n",
    "print(sbfe_for_tmobile.shape)"
   ]
  },
  {
   "cell_type": "code",
   "execution_count": 30,
   "metadata": {},
   "outputs": [
    {
     "name": "stdout",
     "output_type": "stream",
     "text": [
      "(6517, 2)\n",
      "(4465, 2)\n",
      "(2162, 2)\n",
      "(656, 2)\n"
     ]
    }
   ],
   "source": [
    "temp = sbfe_for_tmobile[(sbfe_for_tmobile[\"credit_flag_cutoff_date_fmt\"] - sbfe_for_tmobile[\"inquiry_date_fmt\"])/np.timedelta64(1, 'M') <= 6].copy()\n",
    "count_unique_06 = temp.groupby(by = ['crid_encr'])[\"full_addr_clean\"].nunique().reset_index()\n",
    "print(count_unique_06.shape)\n",
    "\n",
    "temp = sbfe_for_tmobile[(sbfe_for_tmobile[\"credit_flag_cutoff_date_fmt\"] - sbfe_for_tmobile[\"inquiry_date_fmt\"])/np.timedelta64(1, 'M') <= 3].copy()\n",
    "count_unique_03 = temp.groupby(by = ['crid_encr'])[\"full_addr_clean\"].nunique().reset_index()\n",
    "print(count_unique_03.shape)\n",
    "\n",
    "temp = sbfe_for_tmobile[(sbfe_for_tmobile[\"credit_flag_cutoff_date_fmt\"] - sbfe_for_tmobile[\"inquiry_date_fmt\"])/np.timedelta64(1, 'M') <= 1].copy()\n",
    "count_unique_01 = temp.groupby(by = ['crid_encr'])[\"full_addr_clean\"].nunique().reset_index()\n",
    "print(count_unique_01.shape)\n",
    "\n",
    "temp = sbfe_for_tmobile[(sbfe_for_tmobile[\"credit_flag_cutoff_date_fmt\"] - sbfe_for_tmobile[\"inquiry_date_fmt\"])/np.timedelta64(1, 'W') <= 1].copy()\n",
    "count_unique_1w = temp.groupby(by = ['crid_encr'])[\"full_addr_clean\"].nunique().reset_index()\n",
    "print(count_unique_1w.shape)"
   ]
  },
  {
   "cell_type": "code",
   "execution_count": 31,
   "metadata": {},
   "outputs": [
    {
     "name": "stdout",
     "output_type": "stream",
     "text": [
      "(62417, 46)\n",
      "(62417, 47)\n",
      "(62417, 48)\n",
      "(62417, 49)\n"
     ]
    }
   ],
   "source": [
    "count_unique_06.columns = ['crid_encr', \"addr_count_unique_06\"]\n",
    "count_unique_03.columns = ['crid_encr', \"addr_count_unique_03\"]\n",
    "count_unique_01.columns = ['crid_encr', \"addr_count_unique_01\"]\n",
    "count_unique_1w.columns = ['crid_encr', \"addr_count_unique_1w\"]\n",
    "\n",
    "tmobile = tmobile.merge(count_unique_06, on = \"crid_encr\", how = \"left\")\n",
    "print(tmobile.shape)\n",
    "tmobile = tmobile.merge(count_unique_03, on = \"crid_encr\", how = \"left\")\n",
    "print(tmobile.shape)\n",
    "tmobile = tmobile.merge(count_unique_01, on = \"crid_encr\", how = \"left\")\n",
    "print(tmobile.shape)\n",
    "tmobile = tmobile.merge(count_unique_1w, on = \"crid_encr\", how = \"left\")\n",
    "print(tmobile.shape)"
   ]
  },
  {
   "cell_type": "code",
   "execution_count": 33,
   "metadata": {},
   "outputs": [
    {
     "name": "stdout",
     "output_type": "stream",
     "text": [
      "(6517, 2)\n",
      "(4465, 2)\n",
      "(2162, 2)\n",
      "(656, 2)\n"
     ]
    }
   ],
   "source": [
    "temp = sbfe_for_tmobile[(sbfe_for_tmobile[\"credit_flag_cutoff_date_fmt\"] - sbfe_for_tmobile[\"inquiry_date_fmt\"])/np.timedelta64(1, 'M') <= 6].copy()\n",
    "count_unique_06 = temp.groupby(by = ['crid_encr'])[\"businessphone\"].nunique().reset_index()\n",
    "print(count_unique_06.shape)\n",
    "\n",
    "temp = sbfe_for_tmobile[(sbfe_for_tmobile[\"credit_flag_cutoff_date_fmt\"] - sbfe_for_tmobile[\"inquiry_date_fmt\"])/np.timedelta64(1, 'M') <= 3].copy()\n",
    "count_unique_03 = temp.groupby(by = ['crid_encr'])[\"businessphone\"].nunique().reset_index()\n",
    "print(count_unique_03.shape)\n",
    "\n",
    "temp = sbfe_for_tmobile[(sbfe_for_tmobile[\"credit_flag_cutoff_date_fmt\"] - sbfe_for_tmobile[\"inquiry_date_fmt\"])/np.timedelta64(1, 'M') <= 1].copy()\n",
    "count_unique_01 = temp.groupby(by = ['crid_encr'])[\"businessphone\"].nunique().reset_index()\n",
    "print(count_unique_01.shape)\n",
    "\n",
    "temp = sbfe_for_tmobile[(sbfe_for_tmobile[\"credit_flag_cutoff_date_fmt\"] - sbfe_for_tmobile[\"inquiry_date_fmt\"])/np.timedelta64(1, 'W') <= 1].copy()\n",
    "count_unique_1w = temp.groupby(by = ['crid_encr'])[\"businessphone\"].nunique().reset_index()\n",
    "print(count_unique_1w.shape)"
   ]
  },
  {
   "cell_type": "code",
   "execution_count": 34,
   "metadata": {},
   "outputs": [
    {
     "name": "stdout",
     "output_type": "stream",
     "text": [
      "(62417, 50)\n",
      "(62417, 51)\n",
      "(62417, 52)\n",
      "(62417, 53)\n"
     ]
    }
   ],
   "source": [
    "count_unique_06.columns = ['crid_encr', \"phn_count_unique_06\"]\n",
    "count_unique_03.columns = ['crid_encr', \"phn_count_unique_03\"]\n",
    "count_unique_01.columns = ['crid_encr', \"phn_count_unique_01\"]\n",
    "count_unique_1w.columns = ['crid_encr', \"phn_count_unique_1w\"]\n",
    "\n",
    "tmobile = tmobile.merge(count_unique_06, on = \"crid_encr\", how = \"left\")\n",
    "print(tmobile.shape)\n",
    "tmobile = tmobile.merge(count_unique_03, on = \"crid_encr\", how = \"left\")\n",
    "print(tmobile.shape)\n",
    "tmobile = tmobile.merge(count_unique_01, on = \"crid_encr\", how = \"left\")\n",
    "print(tmobile.shape)\n",
    "tmobile = tmobile.merge(count_unique_1w, on = \"crid_encr\", how = \"left\")\n",
    "print(tmobile.shape)"
   ]
  },
  {
   "cell_type": "code",
   "execution_count": 35,
   "metadata": {
    "tags": []
   },
   "outputs": [],
   "source": [
    "tmobile['addr_count_unique_06'] = np.where(tmobile[\"addr_count_unique_06\"].isnull(), 0, tmobile[\"addr_count_unique_06\"])\n",
    "tmobile['addr_count_unique_03'] = np.where(tmobile[\"addr_count_unique_03\"].isnull(), 0, tmobile[\"addr_count_unique_03\"])\n",
    "tmobile['addr_count_unique_01'] = np.where(tmobile[\"addr_count_unique_01\"].isnull(), 0, tmobile[\"addr_count_unique_01\"])\n",
    "tmobile['addr_count_unique_1w'] = np.where(tmobile[\"addr_count_unique_1w\"].isnull(), 0, tmobile[\"addr_count_unique_1w\"])\n",
    "\n",
    "tmobile['phn_count_unique_06'] = np.where(tmobile[\"phn_count_unique_06\"].isnull(), 0, tmobile[\"phn_count_unique_06\"])\n",
    "tmobile['phn_count_unique_03'] = np.where(tmobile[\"phn_count_unique_03\"].isnull(), 0, tmobile[\"phn_count_unique_03\"])\n",
    "tmobile['phn_count_unique_01'] = np.where(tmobile[\"phn_count_unique_01\"].isnull(), 0, tmobile[\"phn_count_unique_01\"])\n",
    "tmobile['phn_count_unique_1w'] = np.where(tmobile[\"phn_count_unique_1w\"].isnull(), 0, tmobile[\"phn_count_unique_1w\"])"
   ]
  },
  {
   "cell_type": "code",
   "execution_count": 21,
   "metadata": {},
   "outputs": [
    {
     "name": "stdout",
     "output_type": "stream",
     "text": [
      "(8047, 5)\n"
     ]
    },
    {
     "name": "stderr",
     "output_type": "stream",
     "text": [
      "/tmp/ipykernel_22545/1135631827.py:6: FutureWarning: Indexing with multiple keys (implicitly converted to a tuple of keys) will be deprecated, use a list instead.\n",
      "  sbfe_for_tmobile_roll = sbfe_for_tmobile.groupby(by = ['crid_encr'])[\"inquiry_count_06\", \"inquiry_count_03\", \"inquiry_count_01\", \"inquiry_count_week\"].sum().reset_index()\n"
     ]
    }
   ],
   "source": [
    "# sbfe_for_tmobile['inquiry_count_06']   = np.where((sbfe_for_tmobile[\"credit_flag_cutoff_date_fmt\"] - sbfe_for_tmobile[\"inquiry_date_fmt\"])/np.timedelta64(1, 'M') <= 6, 1, 0)\n",
    "# sbfe_for_tmobile['inquiry_count_03']   = np.where((sbfe_for_tmobile[\"credit_flag_cutoff_date_fmt\"] - sbfe_for_tmobile[\"inquiry_date_fmt\"])/np.timedelta64(1, 'M') <= 3, 1, 0)\n",
    "# sbfe_for_tmobile['inquiry_count_01']   = np.where((sbfe_for_tmobile[\"credit_flag_cutoff_date_fmt\"] - sbfe_for_tmobile[\"inquiry_date_fmt\"])/np.timedelta64(1, 'M') <= 1, 1, 0)\n",
    "# sbfe_for_tmobile['inquiry_count_week'] = np.where((sbfe_for_tmobile[\"credit_flag_cutoff_date_fmt\"] - sbfe_for_tmobile[\"inquiry_date_fmt\"])/np.timedelta64(1, 'W') <= 1, 1, 0)\n",
    "\n",
    "# sbfe_for_tmobile_roll = sbfe_for_tmobile.groupby(by = ['crid_encr'])[\"inquiry_count_06\", \"inquiry_count_03\", \"inquiry_count_01\", \"inquiry_count_week\"].sum().reset_index()\n",
    "# print(sbfe_for_tmobile_roll.shape)"
   ]
  },
  {
   "cell_type": "code",
   "execution_count": 22,
   "metadata": {},
   "outputs": [
    {
     "name": "stdout",
     "output_type": "stream",
     "text": [
      "(62417, 45)\n"
     ]
    }
   ],
   "source": [
    "# tmobile = tmobile.merge(sbfe_for_tmobile_roll, on = \"crid_encr\", how = \"left\")\n",
    "# print(tmobile.shape)"
   ]
  },
  {
   "cell_type": "code",
   "execution_count": 25,
   "metadata": {},
   "outputs": [],
   "source": [
    "# tmobile['inquiry_count_06'] = np.where(tmobile[\"inquiry_count_06\"].isnull(), 0,   tmobile[\"inquiry_count_06\"])\n",
    "# tmobile['inquiry_count_03'] = np.where(tmobile[\"inquiry_count_03\"].isnull(), 0,   tmobile[\"inquiry_count_03\"])\n",
    "# tmobile['inquiry_count_01'] = np.where(tmobile[\"inquiry_count_01\"].isnull(), 0,   tmobile[\"inquiry_count_01\"])\n",
    "# tmobile['inquiry_count_week']=np.where(tmobile[\"inquiry_count_week\"].isnull(), 0, tmobile[\"inquiry_count_week\"])"
   ]
  },
  {
   "cell_type": "code",
   "execution_count": 36,
   "metadata": {},
   "outputs": [],
   "source": [
    "tmobile[\"fraud_ind\"] = tmobile[\"fraud_ind\"].astype(float)"
   ]
  },
  {
   "cell_type": "code",
   "execution_count": 37,
   "metadata": {},
   "outputs": [],
   "source": [
    "fmt = make_format(cuts = [-np.inf, 0, 1, 2, 3, 4, 5, 10, 20, 30, 40, 50, np.inf], exceptions = [-1])\n",
    "result = dict()\n",
    "# keep = ['inquiry_count_06', 'inquiry_count_03', 'inquiry_count_01', 'inquiry_count_week']\n",
    "keep = ['addr_count_unique_06', 'addr_count_unique_03', 'addr_count_unique_01', 'addr_count_unique_1w', \n",
    "        'phn_count_unique_06', 'phn_count_unique_03', 'phn_count_unique_01', 'phn_count_unique_1w']\n",
    "for i, a in enumerate(keep):\n",
    "    result[i] = bivariate(tmobile[a], tmobile[\"fraud_ind\"], format = fmt)\n",
    "\n",
    "wb = TableWriter(filename = \"./_temp/tmobile.xlsx\", options={'nan_inf_to_errors': True}, overwrite = True)\n",
    "for k in result.keys():\n",
    "    wb.write_table(\n",
    "        result[k],\n",
    "        sheetname=\"biv\",\n",
    "        conditional_fmt_cols=[3],\n",
    "    )\n",
    "wb.close()"
   ]
  },
  {
   "cell_type": "markdown",
   "metadata": {
    "tags": []
   },
   "source": [
    "#### Chase"
   ]
  },
  {
   "cell_type": "code",
   "execution_count": 38,
   "metadata": {},
   "outputs": [
    {
     "name": "stdout",
     "output_type": "stream",
     "text": [
      "(640958, 36)\n"
     ]
    }
   ],
   "source": [
    "chase = pd.read_adls(\"Analytics/RnD Projects/Product RnD/Business/LexisNexis 9999 (SBFE Inquiry POC)/Performance/Fraud Sample/Chase_11449/chase_stacked_final.parquet\")\n",
    "print(chase.shape)"
   ]
  },
  {
   "cell_type": "code",
   "execution_count": 39,
   "metadata": {},
   "outputs": [],
   "source": [
    "chase[\"credit_flag_cutoff_date_fmt\"] = pd.to_datetime(chase[\"app_date\"], format='%d%b%Y')"
   ]
  },
  {
   "cell_type": "code",
   "execution_count": 40,
   "metadata": {},
   "outputs": [
    {
     "data": {
      "text/plain": [
       "Index(['transaction_id', 'cust_first_nm', 'cust_mid_init_tx', 'cust_last_nm',\n",
       "       'govt_issu_id_nb', 'line_1_ad', 'line_2_ad', 'city_nm', 'state_prov_cd',\n",
       "       'pst_area_7_cd', 'pst_area_cd', 'channel', 'bus_name', 'app_date',\n",
       "       'date_of_birth', 'decision', 'bizidscore', 'bd_score', 'bd_score1',\n",
       "       'bd_score2', 'bd_score3', 'bus_addr1', 'bus_addr2', 'bus_city',\n",
       "       'bus_state', 'bus_zip', 'bus_tax_id', 'bus_phone', 'bus_type',\n",
       "       'home_phone', 'bad', 'seq', 'account', 'date', 'LN_booked', 'count',\n",
       "       'credit_flag_cutoff_date_fmt'],\n",
       "      dtype='object')"
      ]
     },
     "execution_count": 40,
     "metadata": {},
     "output_type": "execute_result"
    }
   ],
   "source": [
    "chase.columns"
   ]
  },
  {
   "cell_type": "code",
   "execution_count": 41,
   "metadata": {},
   "outputs": [
    {
     "data": {
      "text/plain": [
       "(295, 37)"
      ]
     },
     "execution_count": 41,
     "metadata": {},
     "output_type": "execute_result"
    }
   ],
   "source": [
    "chase[chase.bus_tax_id == \"\"].shape"
   ]
  },
  {
   "cell_type": "code",
   "execution_count": 42,
   "metadata": {},
   "outputs": [
    {
     "name": "stdout",
     "output_type": "stream",
     "text": [
      "(640663, 37)\n"
     ]
    }
   ],
   "source": [
    "chase = chase[chase[\"bus_tax_id\"] != \"\"]\n",
    "print(chase.shape)"
   ]
  },
  {
   "cell_type": "code",
   "execution_count": 43,
   "metadata": {},
   "outputs": [
    {
     "data": {
      "text/plain": [
       "0.9995397514345714"
      ]
     },
     "execution_count": 43,
     "metadata": {},
     "output_type": "execute_result"
    }
   ],
   "source": [
    "640663/640958"
   ]
  },
  {
   "cell_type": "code",
   "execution_count": 44,
   "metadata": {},
   "outputs": [
    {
     "data": {
      "text/plain": [
       "499427     821981929\n",
       "837612     364099086\n",
       "1018748    873995150\n",
       "82631      881360963\n",
       "37307      877827797\n",
       "             ...    \n",
       "156867     882571862\n",
       "140946     574985128\n",
       "62551      881982804\n",
       "1225640    874818394\n",
       "49725      881429212\n",
       "Name: bus_tax_id, Length: 640663, dtype: object"
      ]
     },
     "execution_count": 44,
     "metadata": {},
     "output_type": "execute_result"
    }
   ],
   "source": [
    "chase[\"bus_tax_id\"]"
   ]
  },
  {
   "cell_type": "code",
   "execution_count": 19,
   "metadata": {},
   "outputs": [
    {
     "data": {
      "text/plain": [
       "Index(['seleid_inquiry_sbfe', 'inquiry_date', 'taxidnumber',\n",
       "       'inquiry_date_fmt'],\n",
       "      dtype='object')"
      ]
     },
     "execution_count": 19,
     "metadata": {},
     "output_type": "execute_result"
    }
   ],
   "source": [
    "sbfe.columns"
   ]
  },
  {
   "cell_type": "code",
   "execution_count": 46,
   "metadata": {},
   "outputs": [
    {
     "name": "stdout",
     "output_type": "stream",
     "text": [
      "(85384, 43)\n",
      "(51535, 43)\n"
     ]
    }
   ],
   "source": [
    "sbfe_for_chase = sbfe.merge(chase, left_on = \"taxidnumber\", right_on = \"bus_tax_id\")\n",
    "print(sbfe_for_chase.shape)\n",
    "sbfe_for_chase = sbfe_for_chase[sbfe_for_chase[\"inquiry_date_fmt\"] < sbfe_for_chase[\"credit_flag_cutoff_date_fmt\"]]\n",
    "print(sbfe_for_chase.shape)"
   ]
  },
  {
   "cell_type": "code",
   "execution_count": 47,
   "metadata": {},
   "outputs": [
    {
     "name": "stdout",
     "output_type": "stream",
     "text": [
      "(19367, 2)\n",
      "(13792, 2)\n",
      "(7446, 2)\n",
      "(2910, 2)\n"
     ]
    }
   ],
   "source": [
    "temp = sbfe_for_chase[(sbfe_for_chase[\"credit_flag_cutoff_date_fmt\"] - sbfe_for_chase[\"inquiry_date_fmt\"])/np.timedelta64(1, 'M') <= 6].copy()\n",
    "count_unique_06 = temp.groupby(by = ['account'])[\"full_addr_clean\"].nunique().reset_index()\n",
    "print(count_unique_06.shape)\n",
    "\n",
    "temp = sbfe_for_chase[(sbfe_for_chase[\"credit_flag_cutoff_date_fmt\"] - sbfe_for_chase[\"inquiry_date_fmt\"])/np.timedelta64(1, 'M') <= 3].copy()\n",
    "count_unique_03 = temp.groupby(by = ['account'])[\"full_addr_clean\"].nunique().reset_index()\n",
    "print(count_unique_03.shape)\n",
    "\n",
    "temp = sbfe_for_chase[(sbfe_for_chase[\"credit_flag_cutoff_date_fmt\"] - sbfe_for_chase[\"inquiry_date_fmt\"])/np.timedelta64(1, 'M') <= 1].copy()\n",
    "count_unique_01 = temp.groupby(by = ['account'])[\"full_addr_clean\"].nunique().reset_index()\n",
    "print(count_unique_01.shape)\n",
    "\n",
    "temp = sbfe_for_chase[(sbfe_for_chase[\"credit_flag_cutoff_date_fmt\"] - sbfe_for_chase[\"inquiry_date_fmt\"])/np.timedelta64(1, 'W') <= 1].copy()\n",
    "count_unique_1w = temp.groupby(by = ['account'])[\"full_addr_clean\"].nunique().reset_index()\n",
    "print(count_unique_1w.shape)"
   ]
  },
  {
   "cell_type": "code",
   "execution_count": 48,
   "metadata": {
    "tags": []
   },
   "outputs": [
    {
     "name": "stdout",
     "output_type": "stream",
     "text": [
      "(640663, 38)\n",
      "(640663, 39)\n",
      "(640663, 40)\n",
      "(640663, 41)\n"
     ]
    }
   ],
   "source": [
    "count_unique_06.columns = ['account', \"addr_count_unique_06\"]\n",
    "count_unique_03.columns = ['account', \"addr_count_unique_03\"]\n",
    "count_unique_01.columns = ['account', \"addr_count_unique_01\"]\n",
    "count_unique_1w.columns = ['account', \"addr_count_unique_1w\"]\n",
    "\n",
    "chase = chase.merge(count_unique_06, on = \"account\", how = \"left\")\n",
    "print(chase.shape)\n",
    "chase = chase.merge(count_unique_03, on = \"account\", how = \"left\")\n",
    "print(chase.shape)\n",
    "chase = chase.merge(count_unique_01, on = \"account\", how = \"left\")\n",
    "print(chase.shape)\n",
    "chase = chase.merge(count_unique_1w, on = \"account\", how = \"left\")\n",
    "print(chase.shape)"
   ]
  },
  {
   "cell_type": "code",
   "execution_count": 49,
   "metadata": {},
   "outputs": [
    {
     "name": "stdout",
     "output_type": "stream",
     "text": [
      "(19367, 2)\n",
      "(13792, 2)\n",
      "(7446, 2)\n",
      "(2910, 2)\n"
     ]
    }
   ],
   "source": [
    "temp = sbfe_for_chase[(sbfe_for_chase[\"credit_flag_cutoff_date_fmt\"] - sbfe_for_chase[\"inquiry_date_fmt\"])/np.timedelta64(1, 'M') <= 6].copy()\n",
    "count_unique_06 = temp.groupby(by = ['account'])[\"businessphone\"].nunique().reset_index()\n",
    "print(count_unique_06.shape)\n",
    "\n",
    "temp = sbfe_for_chase[(sbfe_for_chase[\"credit_flag_cutoff_date_fmt\"] - sbfe_for_chase[\"inquiry_date_fmt\"])/np.timedelta64(1, 'M') <= 3].copy()\n",
    "count_unique_03 = temp.groupby(by = ['account'])[\"businessphone\"].nunique().reset_index()\n",
    "print(count_unique_03.shape)\n",
    "\n",
    "temp = sbfe_for_chase[(sbfe_for_chase[\"credit_flag_cutoff_date_fmt\"] - sbfe_for_chase[\"inquiry_date_fmt\"])/np.timedelta64(1, 'M') <= 1].copy()\n",
    "count_unique_01 = temp.groupby(by = ['account'])[\"businessphone\"].nunique().reset_index()\n",
    "print(count_unique_01.shape)\n",
    "\n",
    "temp = sbfe_for_chase[(sbfe_for_chase[\"credit_flag_cutoff_date_fmt\"] - sbfe_for_chase[\"inquiry_date_fmt\"])/np.timedelta64(1, 'W') <= 1].copy()\n",
    "count_unique_1w = temp.groupby(by = ['account'])[\"businessphone\"].nunique().reset_index()\n",
    "print(count_unique_1w.shape)"
   ]
  },
  {
   "cell_type": "code",
   "execution_count": 50,
   "metadata": {},
   "outputs": [
    {
     "name": "stdout",
     "output_type": "stream",
     "text": [
      "(640663, 42)\n",
      "(640663, 43)\n",
      "(640663, 44)\n",
      "(640663, 45)\n"
     ]
    }
   ],
   "source": [
    "count_unique_06.columns = ['account', \"phn_count_unique_06\"]\n",
    "count_unique_03.columns = ['account', \"phn_count_unique_03\"]\n",
    "count_unique_01.columns = ['account', \"phn_count_unique_01\"]\n",
    "count_unique_1w.columns = ['account', \"phn_count_unique_1w\"]\n",
    "\n",
    "chase = chase.merge(count_unique_06, on = \"account\", how = \"left\")\n",
    "print(chase.shape)\n",
    "chase = chase.merge(count_unique_03, on = \"account\", how = \"left\")\n",
    "print(chase.shape)\n",
    "chase = chase.merge(count_unique_01, on = \"account\", how = \"left\")\n",
    "print(chase.shape)\n",
    "chase = chase.merge(count_unique_1w, on = \"account\", how = \"left\")\n",
    "print(chase.shape)"
   ]
  },
  {
   "cell_type": "code",
   "execution_count": 51,
   "metadata": {
    "tags": []
   },
   "outputs": [],
   "source": [
    "chase['addr_count_unique_06'] = np.where(chase[\"addr_count_unique_06\"].isnull(), 0, chase[\"addr_count_unique_06\"])\n",
    "chase['addr_count_unique_03'] = np.where(chase[\"addr_count_unique_03\"].isnull(), 0, chase[\"addr_count_unique_03\"])\n",
    "chase['addr_count_unique_01'] = np.where(chase[\"addr_count_unique_01\"].isnull(), 0, chase[\"addr_count_unique_01\"])\n",
    "chase['addr_count_unique_1w'] = np.where(chase[\"addr_count_unique_1w\"].isnull(), 0, chase[\"addr_count_unique_1w\"])\n",
    "\n",
    "chase['phn_count_unique_06'] = np.where(chase[\"phn_count_unique_06\"].isnull(), 0, chase[\"phn_count_unique_06\"])\n",
    "chase['phn_count_unique_03'] = np.where(chase[\"phn_count_unique_03\"].isnull(), 0, chase[\"phn_count_unique_03\"])\n",
    "chase['phn_count_unique_01'] = np.where(chase[\"phn_count_unique_01\"].isnull(), 0, chase[\"phn_count_unique_01\"])\n",
    "chase['phn_count_unique_1w'] = np.where(chase[\"phn_count_unique_1w\"].isnull(), 0, chase[\"phn_count_unique_1w\"])"
   ]
  },
  {
   "cell_type": "code",
   "execution_count": 52,
   "metadata": {},
   "outputs": [],
   "source": [
    "chase[\"fraud_ind\"] = chase[\"bad\"].astype(float)"
   ]
  },
  {
   "cell_type": "code",
   "execution_count": 53,
   "metadata": {},
   "outputs": [],
   "source": [
    "fmt = make_format(cuts = [-np.inf, 0, 1, 2, 3, 4, 5, 10, 20, 30, 40, 50, np.inf], exceptions = [-1])\n",
    "result = dict()\n",
    "keep = ['addr_count_unique_06', 'addr_count_unique_03', 'addr_count_unique_01', 'addr_count_unique_1w', 'phn_count_unique_06', 'phn_count_unique_03', 'phn_count_unique_01', 'phn_count_unique_1w']\n",
    "for i, a in enumerate(keep):\n",
    "    result[i] = bivariate(chase[a].astype(float), chase[\"fraud_ind\"], format = fmt)\n",
    "\n",
    "wb = TableWriter(filename = \"./_temp/chase.xlsx\", options={'nan_inf_to_errors': True}, overwrite = True)\n",
    "for k in result.keys():\n",
    "    wb.write_table(\n",
    "        result[k],\n",
    "        sheetname=\"biv\",\n",
    "        conditional_fmt_cols=[3],\n",
    "    )\n",
    "wb.close()"
   ]
  },
  {
   "cell_type": "markdown",
   "metadata": {},
   "source": [
    "#### Fleector"
   ]
  },
  {
   "cell_type": "code",
   "execution_count": 54,
   "metadata": {},
   "outputs": [
    {
     "name": "stdout",
     "output_type": "stream",
     "text": [
      "(83704, 92)\n"
     ]
    }
   ],
   "source": [
    "fleector = pd.read_adls(\"Analytics/RnD Projects/Product RnD/Business/LexisNexis 9999 (SBFE Inquiry POC)/Performance/Fraud Sample/fleector_11124/fleector_sample_to_use.parquet\")\n",
    "print(fleector.shape)"
   ]
  },
  {
   "cell_type": "code",
   "execution_count": 55,
   "metadata": {},
   "outputs": [],
   "source": [
    "fleector[\"credit_flag_cutoff_date_fmt\"] = pd.to_datetime(fleector[\"date_created\"], format='%Y-%m-%d')"
   ]
  },
  {
   "cell_type": "code",
   "execution_count": 56,
   "metadata": {},
   "outputs": [
    {
     "data": {
      "text/html": [
       "<div>\n",
       "<style scoped>\n",
       "    .dataframe tbody tr th:only-of-type {\n",
       "        vertical-align: middle;\n",
       "    }\n",
       "\n",
       "    .dataframe tbody tr th {\n",
       "        vertical-align: top;\n",
       "    }\n",
       "\n",
       "    .dataframe thead th {\n",
       "        text-align: right;\n",
       "    }\n",
       "</style>\n",
       "<table border=\"1\" class=\"dataframe\">\n",
       "  <thead>\n",
       "    <tr style=\"text-align: right;\">\n",
       "      <th></th>\n",
       "      <th>Count</th>\n",
       "      <th>Pct</th>\n",
       "      <th>Cuml Count</th>\n",
       "      <th>Cuml Pct</th>\n",
       "    </tr>\n",
       "    <tr>\n",
       "      <th>credit_flag_cutoff_date_fmt</th>\n",
       "      <th></th>\n",
       "      <th></th>\n",
       "      <th></th>\n",
       "      <th></th>\n",
       "    </tr>\n",
       "  </thead>\n",
       "  <tbody>\n",
       "    <tr>\n",
       "      <th>2022-01</th>\n",
       "      <td>15827.0</td>\n",
       "      <td>0.189083</td>\n",
       "      <td>15827.0</td>\n",
       "      <td>0.189083</td>\n",
       "    </tr>\n",
       "    <tr>\n",
       "      <th>2022-02</th>\n",
       "      <td>15512.0</td>\n",
       "      <td>0.185320</td>\n",
       "      <td>31339.0</td>\n",
       "      <td>0.374403</td>\n",
       "    </tr>\n",
       "    <tr>\n",
       "      <th>2022-03</th>\n",
       "      <td>19353.0</td>\n",
       "      <td>0.231208</td>\n",
       "      <td>50692.0</td>\n",
       "      <td>0.605610</td>\n",
       "    </tr>\n",
       "    <tr>\n",
       "      <th>2022-04</th>\n",
       "      <td>16822.0</td>\n",
       "      <td>0.200970</td>\n",
       "      <td>67514.0</td>\n",
       "      <td>0.806580</td>\n",
       "    </tr>\n",
       "    <tr>\n",
       "      <th>2022-05</th>\n",
       "      <td>16185.0</td>\n",
       "      <td>0.193360</td>\n",
       "      <td>83699.0</td>\n",
       "      <td>0.999940</td>\n",
       "    </tr>\n",
       "    <tr>\n",
       "      <th>2022-06</th>\n",
       "      <td>5.0</td>\n",
       "      <td>0.000060</td>\n",
       "      <td>83704.0</td>\n",
       "      <td>1.000000</td>\n",
       "    </tr>\n",
       "  </tbody>\n",
       "</table>\n",
       "</div>"
      ],
      "text/plain": [
       "                               Count       Pct  Cuml Count  Cuml Pct\n",
       "credit_flag_cutoff_date_fmt                                         \n",
       "2022-01                      15827.0  0.189083     15827.0  0.189083\n",
       "2022-02                      15512.0  0.185320     31339.0  0.374403\n",
       "2022-03                      19353.0  0.231208     50692.0  0.605610\n",
       "2022-04                      16822.0  0.200970     67514.0  0.806580\n",
       "2022-05                      16185.0  0.193360     83699.0  0.999940\n",
       "2022-06                          5.0  0.000060     83704.0  1.000000"
      ]
     },
     "execution_count": 56,
     "metadata": {},
     "output_type": "execute_result"
    }
   ],
   "source": [
    "freq(fleector[\"credit_flag_cutoff_date_fmt\"].astype(str).str.slice(0, 7))"
   ]
  },
  {
   "cell_type": "code",
   "execution_count": 57,
   "metadata": {},
   "outputs": [
    {
     "data": {
      "text/plain": [
       "(0, 93)"
      ]
     },
     "execution_count": 57,
     "metadata": {},
     "output_type": "execute_result"
    }
   ],
   "source": [
    "fleector[fleector.fed_id == \"\"].shape"
   ]
  },
  {
   "cell_type": "code",
   "execution_count": 58,
   "metadata": {},
   "outputs": [
    {
     "data": {
      "text/plain": [
       "6875     844759743\n",
       "5628     872922146\n",
       "19723    862131849\n",
       "4981     842053436\n",
       "17116    851178146\n",
       "           ...    \n",
       "49448    814826144\n",
       "705      582165025\n",
       "79073    881986215\n",
       "61964    882490371\n",
       "54909    862273900\n",
       "Name: fed_id, Length: 83704, dtype: object"
      ]
     },
     "execution_count": 58,
     "metadata": {},
     "output_type": "execute_result"
    }
   ],
   "source": [
    "fleector.fed_id"
   ]
  },
  {
   "cell_type": "code",
   "execution_count": 59,
   "metadata": {},
   "outputs": [
    {
     "name": "stdout",
     "output_type": "stream",
     "text": [
      "(71826, 99)\n",
      "(23759, 99)\n"
     ]
    }
   ],
   "source": [
    "sbfe_for_fleector = sbfe.merge(fleector, left_on = \"taxidnumber\", right_on = \"fed_id\")\n",
    "print(sbfe_for_fleector.shape)\n",
    "sbfe_for_fleector = sbfe_for_fleector[sbfe_for_fleector[\"inquiry_date_fmt\"] < sbfe_for_fleector[\"credit_flag_cutoff_date_fmt\"]]\n",
    "print(sbfe_for_fleector.shape)"
   ]
  },
  {
   "cell_type": "code",
   "execution_count": 62,
   "metadata": {},
   "outputs": [
    {
     "data": {
      "text/plain": [
       "True"
      ]
     },
     "execution_count": 62,
     "metadata": {},
     "output_type": "execute_result"
    }
   ],
   "source": [
    "fleector.seq.is_unique"
   ]
  },
  {
   "cell_type": "code",
   "execution_count": 63,
   "metadata": {},
   "outputs": [
    {
     "name": "stdout",
     "output_type": "stream",
     "text": [
      "(11793, 2)\n",
      "(8135, 2)\n",
      "(4080, 2)\n",
      "(1572, 2)\n"
     ]
    }
   ],
   "source": [
    "temp = sbfe_for_fleector[(sbfe_for_fleector[\"credit_flag_cutoff_date_fmt\"] - sbfe_for_fleector[\"inquiry_date_fmt\"])/np.timedelta64(1, 'M') <= 6].copy()\n",
    "count_unique_06 = temp.groupby(by = ['seq'])[\"full_addr_clean\"].nunique().reset_index()\n",
    "print(count_unique_06.shape)\n",
    "\n",
    "temp = sbfe_for_fleector[(sbfe_for_fleector[\"credit_flag_cutoff_date_fmt\"] - sbfe_for_fleector[\"inquiry_date_fmt\"])/np.timedelta64(1, 'M') <= 3].copy()\n",
    "count_unique_03 = temp.groupby(by = ['seq'])[\"full_addr_clean\"].nunique().reset_index()\n",
    "print(count_unique_03.shape)\n",
    "\n",
    "temp = sbfe_for_fleector[(sbfe_for_fleector[\"credit_flag_cutoff_date_fmt\"] - sbfe_for_fleector[\"inquiry_date_fmt\"])/np.timedelta64(1, 'M') <= 1].copy()\n",
    "count_unique_01 = temp.groupby(by = ['seq'])[\"full_addr_clean\"].nunique().reset_index()\n",
    "print(count_unique_01.shape)\n",
    "\n",
    "temp = sbfe_for_fleector[(sbfe_for_fleector[\"credit_flag_cutoff_date_fmt\"] - sbfe_for_fleector[\"inquiry_date_fmt\"])/np.timedelta64(1, 'W') <= 1].copy()\n",
    "count_unique_1w = temp.groupby(by = ['seq'])[\"full_addr_clean\"].nunique().reset_index()\n",
    "print(count_unique_1w.shape)"
   ]
  },
  {
   "cell_type": "code",
   "execution_count": 66,
   "metadata": {
    "tags": []
   },
   "outputs": [
    {
     "name": "stdout",
     "output_type": "stream",
     "text": [
      "(83704, 94)\n",
      "(83704, 95)\n",
      "(83704, 96)\n",
      "(83704, 97)\n"
     ]
    }
   ],
   "source": [
    "count_unique_06.columns = ['seq', \"addr_count_unique_06\"]\n",
    "count_unique_03.columns = ['seq', \"addr_count_unique_03\"]\n",
    "count_unique_01.columns = ['seq', \"addr_count_unique_01\"]\n",
    "count_unique_1w.columns = ['seq', \"addr_count_unique_1w\"]\n",
    "\n",
    "fleector = fleector.merge(count_unique_06, on = \"seq\", how = \"left\")\n",
    "print(fleector.shape)\n",
    "fleector = fleector.merge(count_unique_03, on = \"seq\", how = \"left\")\n",
    "print(fleector.shape)\n",
    "fleector = fleector.merge(count_unique_01, on = \"seq\", how = \"left\")\n",
    "print(fleector.shape)\n",
    "fleector = fleector.merge(count_unique_1w, on = \"seq\", how = \"left\")\n",
    "print(fleector.shape)"
   ]
  },
  {
   "cell_type": "code",
   "execution_count": 67,
   "metadata": {},
   "outputs": [
    {
     "name": "stdout",
     "output_type": "stream",
     "text": [
      "(11793, 2)\n",
      "(8135, 2)\n",
      "(4080, 2)\n",
      "(1572, 2)\n"
     ]
    }
   ],
   "source": [
    "temp = sbfe_for_fleector[(sbfe_for_fleector[\"credit_flag_cutoff_date_fmt\"] - sbfe_for_fleector[\"inquiry_date_fmt\"])/np.timedelta64(1, 'M') <= 6].copy()\n",
    "count_unique_06 = temp.groupby(by = ['seq'])[\"businessphone\"].nunique().reset_index()\n",
    "print(count_unique_06.shape)\n",
    "\n",
    "temp = sbfe_for_fleector[(sbfe_for_fleector[\"credit_flag_cutoff_date_fmt\"] - sbfe_for_fleector[\"inquiry_date_fmt\"])/np.timedelta64(1, 'M') <= 3].copy()\n",
    "count_unique_03 = temp.groupby(by = ['seq'])[\"businessphone\"].nunique().reset_index()\n",
    "print(count_unique_03.shape)\n",
    "\n",
    "temp = sbfe_for_fleector[(sbfe_for_fleector[\"credit_flag_cutoff_date_fmt\"] - sbfe_for_fleector[\"inquiry_date_fmt\"])/np.timedelta64(1, 'M') <= 1].copy()\n",
    "count_unique_01 = temp.groupby(by = ['seq'])[\"businessphone\"].nunique().reset_index()\n",
    "print(count_unique_01.shape)\n",
    "\n",
    "temp = sbfe_for_fleector[(sbfe_for_fleector[\"credit_flag_cutoff_date_fmt\"] - sbfe_for_fleector[\"inquiry_date_fmt\"])/np.timedelta64(1, 'W') <= 1].copy()\n",
    "count_unique_1w = temp.groupby(by = ['seq'])[\"businessphone\"].nunique().reset_index()\n",
    "print(count_unique_1w.shape)"
   ]
  },
  {
   "cell_type": "code",
   "execution_count": 68,
   "metadata": {},
   "outputs": [
    {
     "name": "stdout",
     "output_type": "stream",
     "text": [
      "(83704, 98)\n",
      "(83704, 99)\n",
      "(83704, 100)\n",
      "(83704, 101)\n"
     ]
    }
   ],
   "source": [
    "count_unique_06.columns = ['seq', \"phn_count_unique_06\"]\n",
    "count_unique_03.columns = ['seq', \"phn_count_unique_03\"]\n",
    "count_unique_01.columns = ['seq', \"phn_count_unique_01\"]\n",
    "count_unique_1w.columns = ['seq', \"phn_count_unique_1w\"]\n",
    "\n",
    "fleector = fleector.merge(count_unique_06, on = \"seq\", how = \"left\")\n",
    "print(fleector.shape)\n",
    "fleector = fleector.merge(count_unique_03, on = \"seq\", how = \"left\")\n",
    "print(fleector.shape)\n",
    "fleector = fleector.merge(count_unique_01, on = \"seq\", how = \"left\")\n",
    "print(fleector.shape)\n",
    "fleector = fleector.merge(count_unique_1w, on = \"seq\", how = \"left\")\n",
    "print(fleector.shape)"
   ]
  },
  {
   "cell_type": "code",
   "execution_count": 69,
   "metadata": {
    "tags": []
   },
   "outputs": [],
   "source": [
    "fleector['addr_count_unique_06'] = np.where(fleector[\"addr_count_unique_06\"].isnull(), 0, fleector[\"addr_count_unique_06\"])\n",
    "fleector['addr_count_unique_03'] = np.where(fleector[\"addr_count_unique_03\"].isnull(), 0, fleector[\"addr_count_unique_03\"])\n",
    "fleector['addr_count_unique_01'] = np.where(fleector[\"addr_count_unique_01\"].isnull(), 0, fleector[\"addr_count_unique_01\"])\n",
    "fleector['addr_count_unique_1w'] = np.where(fleector[\"addr_count_unique_1w\"].isnull(), 0, fleector[\"addr_count_unique_1w\"])\n",
    "\n",
    "fleector['phn_count_unique_06'] = np.where(fleector[\"phn_count_unique_06\"].isnull(), 0, fleector[\"phn_count_unique_06\"])\n",
    "fleector['phn_count_unique_03'] = np.where(fleector[\"phn_count_unique_03\"].isnull(), 0, fleector[\"phn_count_unique_03\"])\n",
    "fleector['phn_count_unique_01'] = np.where(fleector[\"phn_count_unique_01\"].isnull(), 0, fleector[\"phn_count_unique_01\"])\n",
    "fleector['phn_count_unique_1w'] = np.where(fleector[\"phn_count_unique_1w\"].isnull(), 0, fleector[\"phn_count_unique_1w\"])"
   ]
  },
  {
   "cell_type": "code",
   "execution_count": 71,
   "metadata": {},
   "outputs": [],
   "source": [
    "fleector[\"fraud_ind\"] = fleector[\"final_fraud_flag\"].astype(float)"
   ]
  },
  {
   "cell_type": "code",
   "execution_count": 72,
   "metadata": {},
   "outputs": [],
   "source": [
    "fmt = make_format(cuts = [-np.inf, 0, 1, 2, 3, 4, 5, 10, 20, 30, 40, 50, np.inf], exceptions = [-1])\n",
    "result = dict()\n",
    "keep = ['addr_count_unique_06', 'addr_count_unique_03', 'addr_count_unique_01', 'addr_count_unique_1w', 'phn_count_unique_06', 'phn_count_unique_03', 'phn_count_unique_01', 'phn_count_unique_1w']\n",
    "for i, a in enumerate(keep):\n",
    "    result[i] = bivariate(fleector[a].astype(float), fleector[\"fraud_ind\"], format = fmt, groups= fleector.acct_flag)\n",
    "\n",
    "wb = TableWriter(filename = \"./_temp/fleector.xlsx\", options={'nan_inf_to_errors': True}, overwrite = True)\n",
    "for k in result.keys():\n",
    "    wb.write_table(\n",
    "        result[k],\n",
    "        sheetname=\"biv\",\n",
    "        conditional_fmt_cols=[3],\n",
    "    )\n",
    "wb.close()"
   ]
  },
  {
   "cell_type": "markdown",
   "metadata": {},
   "source": [
    "#### Other"
   ]
  },
  {
   "cell_type": "code",
   "execution_count": 84,
   "metadata": {},
   "outputs": [],
   "source": [
    "statename_to_abbr = {\n",
    "    # Other\n",
    "    'District of Columbia': 'DC',\n",
    "\n",
    "    # States\n",
    "    'Alabama': 'AL',\n",
    "    'Montana': 'MT',\n",
    "    'Alaska': 'AK',\n",
    "    'Nebraska': 'NE',\n",
    "    'Arizona': 'AZ',\n",
    "    'Nevada': 'NV',\n",
    "    'Arkansas': 'AR',\n",
    "    'New Hampshire': 'NH',\n",
    "    'California': 'CA',\n",
    "    'New Jersey': 'NJ',\n",
    "    'Colorado': 'CO',\n",
    "    'New Mexico': 'NM',\n",
    "    'Connecticut': 'CT',\n",
    "    'New York': 'NY',\n",
    "    'Delaware': 'DE',\n",
    "    'North Carolina': 'NC',\n",
    "    'Florida': 'FL',\n",
    "    'North Dakota': 'ND',\n",
    "    'Georgia': 'GA',\n",
    "    'Ohio': 'OH',\n",
    "    'Hawaii': 'HI',\n",
    "    'Oklahoma': 'OK',\n",
    "    'Idaho': 'ID',\n",
    "    'Oregon': 'OR',\n",
    "    'Illinois': 'IL',\n",
    "    'Pennsylvania': 'PA',\n",
    "    'Indiana': 'IN',\n",
    "    'Rhode Island': 'RI',\n",
    "    'Iowa': 'IA',\n",
    "    'South Carolina': 'SC',\n",
    "    'Kansas': 'KS',\n",
    "    'South Dakota': 'SD',\n",
    "    'Kentucky': 'KY',\n",
    "    'Tennessee': 'TN',\n",
    "    'Louisiana': 'LA',\n",
    "    'Texas': 'TX',\n",
    "    'Maine': 'ME',\n",
    "    'Utah': 'UT',\n",
    "    'Maryland': 'MD',\n",
    "    'Vermont': 'VT',\n",
    "    'Massachusetts': 'MA',\n",
    "    'Virginia': 'VA',\n",
    "    'Michigan': 'MI',\n",
    "    'Washington': 'WA',\n",
    "    'Minnesota': 'MN',\n",
    "    'West Virginia': 'WV',\n",
    "    'Mississippi': 'MS',\n",
    "    'Wisconsin': 'WI',\n",
    "    'Missouri': 'MO',\n",
    "    'Wyoming': 'WY',\n",
    "    \"Puerto Rico\" : \"PR\",\n",
    "\"Virgin Islands\" : \"VI\"\n",
    "}"
   ]
  },
  {
   "cell_type": "code",
   "execution_count": null,
   "metadata": {},
   "outputs": [],
   "source": []
  }
 ],
 "metadata": {
  "kernelspec": {
   "display_name": "Python [conda env:data-science]",
   "language": "python",
   "name": "conda-env-data-science-py"
  },
  "language_info": {
   "codemirror_mode": {
    "name": "ipython",
    "version": 3
   },
   "file_extension": ".py",
   "mimetype": "text/x-python",
   "name": "python",
   "nbconvert_exporter": "python",
   "pygments_lexer": "ipython3",
   "version": "3.10.6"
  }
 },
 "nbformat": 4,
 "nbformat_minor": 4
}
