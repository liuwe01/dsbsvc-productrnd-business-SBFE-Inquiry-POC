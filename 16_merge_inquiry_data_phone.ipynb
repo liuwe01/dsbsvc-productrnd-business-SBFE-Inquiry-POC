{
 "cells": [
  {
   "cell_type": "code",
   "execution_count": 1,
   "metadata": {},
   "outputs": [],
   "source": [
    "import time\n",
    "import pandas as pd\n",
    "import numpy as np\n",
    "import math\n",
    "\n",
    "# internal tools\n",
    "from dsgtools.reporting import make_format\n",
    "from dsgtools.reporting import TableWriter\n",
    "from dsgtools.reporting import freq\n",
    "from dsgtools.reporting import bivariate"
   ]
  },
  {
   "cell_type": "code",
   "execution_count": 38,
   "metadata": {},
   "outputs": [
    {
     "name": "stdout",
     "output_type": "stream",
     "text": [
      "(640958, 36)\n",
      "(114460, 39)\n",
      "(75000, 22)\n",
      "(83704, 92)\n"
     ]
    }
   ],
   "source": [
    "## Input Data\n",
    "chase = pd.read_adls(\"Analytics/RnD Projects/Product RnD/Business/LexisNexis 9999 (SBFE Inquiry POC)/Performance/Fraud Sample/Chase_11449/\" + \"chase_stacked_final.parquet\")\n",
    "print(chase.shape)\n",
    "\n",
    "tmobile = pd.read_adls(\"Analytics/RnD Projects/Product RnD/Business/LexisNexis 9999 (SBFE Inquiry POC)/Performance/Fraud Sample/tmobile_10823/\" + \"tmbile_file_to_use.parquet\")\n",
    "print(tmobile.shape)\n",
    "\n",
    "stripe = pd.read_adls(\"Analytics/RnD Projects/Product RnD/Business/LexisNexis 9999 (SBFE Inquiry POC)/Performance/Fraud Sample/stripe_11363/\" + \"stripe_file_to_use.parquet\")\n",
    "print(stripe.shape)\n",
    "\n",
    "fleector = pd.read_adls(\"Analytics/RnD Projects/Product RnD/Business/LexisNexis 9999 (SBFE Inquiry POC)/Performance/Fraud Sample/fleector_11124/\" + \"fleector_sample_to_use.parquet\")\n",
    "print(fleector.shape)"
   ]
  },
  {
   "cell_type": "code",
   "execution_count": 3,
   "metadata": {},
   "outputs": [],
   "source": [
    "## keep seleid, full address, phone, taxid, performance flag >> business information >> might need to dedup"
   ]
  },
  {
   "attachments": {},
   "cell_type": "markdown",
   "metadata": {},
   "source": [
    "#### SBFE Inquiry"
   ]
  },
  {
   "cell_type": "code",
   "execution_count": 4,
   "metadata": {},
   "outputs": [
    {
     "name": "stdout",
     "output_type": "stream",
     "text": [
      "(79429086, 20)\n"
     ]
    }
   ],
   "source": [
    "path = \"Analytics/RnD Projects/Product RnD/Business/LexisNexis 9999 (SBFE Inquiry POC)/Data Modeling Clean/sbfe_seleid_append_deduped_cleaned_0501.parquet\"\n",
    "sbfe = pd.read_adls(path, reader = pd.read_parquet)\n",
    "print(sbfe.shape)"
   ]
  },
  {
   "cell_type": "code",
   "execution_count": 5,
   "metadata": {},
   "outputs": [
    {
     "data": {
      "text/plain": [
       "Index(['accountnumber_x', 'companyname', 'alternatecompanyname_x', 'addr',\n",
       "       'city', 'state', 'zip', 'businessphone', 'taxidnumber', 'historydate_x',\n",
       "       'sufficient_input', 'accountnumber_y', 'alternatecompanyname_y',\n",
       "       'historydate_y', 'powid', 'proxid', 'seleid', 'orgid', 'ultid',\n",
       "       'overallweight'],\n",
       "      dtype='object')"
      ]
     },
     "execution_count": 5,
     "metadata": {},
     "output_type": "execute_result"
    }
   ],
   "source": [
    "sbfe.columns"
   ]
  },
  {
   "cell_type": "code",
   "execution_count": 6,
   "metadata": {},
   "outputs": [],
   "source": [
    "sbfe = sbfe[[\"seleid\", \"historydate_x\", \"businessphone\"]]\n",
    "sbfe.columns = [\"seleid_inquiry_sbfe\", \"inquiry_date\", \"businessphone\"]"
   ]
  },
  {
   "cell_type": "code",
   "execution_count": 7,
   "metadata": {},
   "outputs": [],
   "source": [
    "sbfe[\"inquiry_date\"] = sbfe[\"inquiry_date\"].astype(int)\n",
    "sbfe[\"inquiry_date_fmt\"] = pd.to_datetime(sbfe[\"inquiry_date\"], format='%Y%m%d')"
   ]
  },
  {
   "cell_type": "code",
   "execution_count": 8,
   "metadata": {},
   "outputs": [],
   "source": [
    "sbfe[\"seleid_inquiry_sbfe\"] = sbfe[\"seleid_inquiry_sbfe\"].astype(float)"
   ]
  },
  {
   "cell_type": "code",
   "execution_count": 9,
   "metadata": {},
   "outputs": [
    {
     "data": {
      "text/html": [
       "<div>\n",
       "<style scoped>\n",
       "    .dataframe tbody tr th:only-of-type {\n",
       "        vertical-align: middle;\n",
       "    }\n",
       "\n",
       "    .dataframe tbody tr th {\n",
       "        vertical-align: top;\n",
       "    }\n",
       "\n",
       "    .dataframe thead th {\n",
       "        text-align: right;\n",
       "    }\n",
       "</style>\n",
       "<table border=\"1\" class=\"dataframe\">\n",
       "  <thead>\n",
       "    <tr style=\"text-align: right;\">\n",
       "      <th></th>\n",
       "      <th>seleid_inquiry_sbfe</th>\n",
       "      <th>inquiry_date</th>\n",
       "      <th>businessphone</th>\n",
       "      <th>inquiry_date_fmt</th>\n",
       "    </tr>\n",
       "  </thead>\n",
       "  <tbody>\n",
       "    <tr>\n",
       "      <th>0</th>\n",
       "      <td>1.336156e+11</td>\n",
       "      <td>20210701</td>\n",
       "      <td>4355353654</td>\n",
       "      <td>2021-07-01</td>\n",
       "    </tr>\n",
       "    <tr>\n",
       "      <th>1</th>\n",
       "      <td>1.330122e+09</td>\n",
       "      <td>20210701</td>\n",
       "      <td>7708857033</td>\n",
       "      <td>2021-07-01</td>\n",
       "    </tr>\n",
       "    <tr>\n",
       "      <th>2</th>\n",
       "      <td>9.064136e+08</td>\n",
       "      <td>20210701</td>\n",
       "      <td>9798653142</td>\n",
       "      <td>2021-07-01</td>\n",
       "    </tr>\n",
       "    <tr>\n",
       "      <th>5</th>\n",
       "      <td>6.136772e+07</td>\n",
       "      <td>20210701</td>\n",
       "      <td>6505550000</td>\n",
       "      <td>2021-07-01</td>\n",
       "    </tr>\n",
       "    <tr>\n",
       "      <th>6</th>\n",
       "      <td>1.371452e+11</td>\n",
       "      <td>20210701</td>\n",
       "      <td>9798859397</td>\n",
       "      <td>2021-07-01</td>\n",
       "    </tr>\n",
       "  </tbody>\n",
       "</table>\n",
       "</div>"
      ],
      "text/plain": [
       "   seleid_inquiry_sbfe  inquiry_date businessphone inquiry_date_fmt\n",
       "0         1.336156e+11      20210701    4355353654       2021-07-01\n",
       "1         1.330122e+09      20210701    7708857033       2021-07-01\n",
       "2         9.064136e+08      20210701    9798653142       2021-07-01\n",
       "5         6.136772e+07      20210701    6505550000       2021-07-01\n",
       "6         1.371452e+11      20210701    9798859397       2021-07-01"
      ]
     },
     "execution_count": 9,
     "metadata": {},
     "output_type": "execute_result"
    }
   ],
   "source": [
    "sbfe.head()"
   ]
  },
  {
   "attachments": {},
   "cell_type": "markdown",
   "metadata": {},
   "source": [
    "#### Stripe 11363"
   ]
  },
  {
   "cell_type": "code",
   "execution_count": 39,
   "metadata": {},
   "outputs": [
    {
     "name": "stdout",
     "output_type": "stream",
     "text": [
      "(74443, 22)\n",
      "True\n"
     ]
    }
   ],
   "source": [
    "stripe = stripe.fillna(\"\")\n",
    "stripe = stripe.drop_duplicates(subset = ['companyname', 'alternatecompanyname', 'bus_streetaddress1', \n",
    "                                          'bus_streetaddress2', 'bus_city', 'bus_state', 'bus_zip', 'bus_phone', 'bus_website'], ignore_index = True) \n",
    "print(stripe.shape)\n",
    "print(stripe.uniqueid.is_unique)"
   ]
  },
  {
   "cell_type": "code",
   "execution_count": 30,
   "metadata": {},
   "outputs": [
    {
     "name": "stdout",
     "output_type": "stream",
     "text": [
      "(249000, 391)\n",
      "(248318, 391)\n"
     ]
    }
   ],
   "source": [
    "# Compile SELEIDS\n",
    "# stripe_sba = pd.read_adls(\"Analytics/RnD Projects/Product RnD/Business/LexisNexis 9999 (SBFE Inquiry POC)/Performance/Fraud Sample/stripe_11363/final_str_11363_20221025file_sba21_nonsbfe.csv.gz\",\n",
    "#                       compression = \"gzip\", reader = pd.read_csv)\n",
    "# print(stripe_sba.shape)\n",
    "# stripe_sba = stripe_sba.drop_duplicates(subset = [\"uniqueid\"], ignore_index = True) \n",
    "# print(stripe_sba.shape)\n",
    "# keep = ['uniqueid', 'lnlexidsele',  'inquirycount03m', 'inquirycount12m', 'inquirycreditcount03m', 'inquirycreditcount12m',]\n",
    "# stripe_sba = stripe_sba[keep]\n",
    "# stripe = stripe.merge(stripe_sba, on = \"uniqueid\")\n",
    "# print(stripe.shape)"
   ]
  },
  {
   "cell_type": "code",
   "execution_count": 40,
   "metadata": {},
   "outputs": [
    {
     "data": {
      "text/plain": [
       "Index(['Unnamed: 0', 'uniqueid', 'historydate', 'companyname',\n",
       "       'alternatecompanyname', 'bus_streetaddress1', 'bus_streetaddress2',\n",
       "       'bus_city', 'bus_state', 'bus_zip', 'bus_phone', 'bus_website',\n",
       "       'firstname', 'lastname', 'streetaddress1', 'streetaddress2', 'city',\n",
       "       'state', 'zip', 'email', 'ip_address', 'performance_indicator'],\n",
       "      dtype='object')"
      ]
     },
     "execution_count": 40,
     "metadata": {},
     "output_type": "execute_result"
    }
   ],
   "source": [
    "stripe.columns"
   ]
  },
  {
   "cell_type": "code",
   "execution_count": 39,
   "metadata": {},
   "outputs": [
    {
     "name": "stderr",
     "output_type": "stream",
     "text": [
      "/tmp/ipykernel_5854/2995735239.py:5: FutureWarning: The default value of regex will change from True to False in a future version. In addition, single character regular expressions will *not* be treated as literal strings when regex=True.\n",
      "  stripe[\"full_addr_clean\"] = stripe['full_addr'].str.replace('.', '')\n",
      "/tmp/ipykernel_5854/2995735239.py:7: FutureWarning: The default value of regex will change from True to False in a future version.\n",
      "  stripe[\"full_addr_clean\"] = stripe['full_addr_clean'].str.replace('\\W\\s', '')\n"
     ]
    }
   ],
   "source": [
    "# Compile Full Address: np.where(stripe[\"bus_streetaddress2\"] != \"\", \", \" + stripe[\"bus_streetaddress2\"], \"\") + \n",
    "# stripe[\"full_addr\"] = stripe[\"bus_streetaddress1\"] + \\\n",
    "#     np.where(stripe[\"bus_city\"] != \"\", \", \" + stripe[\"bus_city\"], \"\") + \\\n",
    "#     np.where(stripe[\"bus_state\"] != \"\", \", \" + stripe[\"bus_state\"], \"\") + np.where(stripe[\"bus_zip\"] != \"\", \", \" + stripe[\"bus_zip\"].str.slice(0, 5), \"\")\n",
    "# stripe[\"full_addr_clean\"] = stripe['full_addr'].str.replace('.', '')\n",
    "# stripe[\"full_addr_clean\"] = stripe['full_addr_clean'].str.replace(',', '')\n",
    "# stripe[\"full_addr_clean\"] = stripe['full_addr_clean'].str.replace('\\W\\s', '')\n",
    "# stripe[\"full_addr_clean\"] = stripe[\"full_addr_clean\"].str.lower()"
   ]
  },
  {
   "cell_type": "code",
   "execution_count": 41,
   "metadata": {},
   "outputs": [
    {
     "data": {
      "text/plain": [
       "0"
      ]
     },
     "execution_count": 41,
     "metadata": {},
     "output_type": "execute_result"
    }
   ],
   "source": [
    "stripe.bus_phone.isnull().sum()"
   ]
  },
  {
   "cell_type": "code",
   "execution_count": 42,
   "metadata": {},
   "outputs": [
    {
     "data": {
      "text/html": [
       "<div>\n",
       "<style scoped>\n",
       "    .dataframe tbody tr th:only-of-type {\n",
       "        vertical-align: middle;\n",
       "    }\n",
       "\n",
       "    .dataframe tbody tr th {\n",
       "        vertical-align: top;\n",
       "    }\n",
       "\n",
       "    .dataframe thead th {\n",
       "        text-align: right;\n",
       "    }\n",
       "</style>\n",
       "<table border=\"1\" class=\"dataframe\">\n",
       "  <thead>\n",
       "    <tr style=\"text-align: right;\">\n",
       "      <th></th>\n",
       "      <th>bus_phone</th>\n",
       "    </tr>\n",
       "  </thead>\n",
       "  <tbody>\n",
       "    <tr>\n",
       "      <th>0</th>\n",
       "      <td>+18322103210</td>\n",
       "    </tr>\n",
       "    <tr>\n",
       "      <th>1</th>\n",
       "      <td>+12139263811</td>\n",
       "    </tr>\n",
       "    <tr>\n",
       "      <th>2</th>\n",
       "      <td>+17246208909</td>\n",
       "    </tr>\n",
       "    <tr>\n",
       "      <th>3</th>\n",
       "      <td></td>\n",
       "    </tr>\n",
       "    <tr>\n",
       "      <th>4</th>\n",
       "      <td>+19172720510</td>\n",
       "    </tr>\n",
       "    <tr>\n",
       "      <th>...</th>\n",
       "      <td>...</td>\n",
       "    </tr>\n",
       "    <tr>\n",
       "      <th>74438</th>\n",
       "      <td>+12159203332</td>\n",
       "    </tr>\n",
       "    <tr>\n",
       "      <th>74439</th>\n",
       "      <td>+19168622031</td>\n",
       "    </tr>\n",
       "    <tr>\n",
       "      <th>74440</th>\n",
       "      <td>+18773302677</td>\n",
       "    </tr>\n",
       "    <tr>\n",
       "      <th>74441</th>\n",
       "      <td></td>\n",
       "    </tr>\n",
       "    <tr>\n",
       "      <th>74442</th>\n",
       "      <td></td>\n",
       "    </tr>\n",
       "  </tbody>\n",
       "</table>\n",
       "<p>74443 rows × 1 columns</p>\n",
       "</div>"
      ],
      "text/plain": [
       "          bus_phone\n",
       "0      +18322103210\n",
       "1      +12139263811\n",
       "2      +17246208909\n",
       "3                  \n",
       "4      +19172720510\n",
       "...             ...\n",
       "74438  +12159203332\n",
       "74439  +19168622031\n",
       "74440  +18773302677\n",
       "74441              \n",
       "74442              \n",
       "\n",
       "[74443 rows x 1 columns]"
      ]
     },
     "execution_count": 42,
     "metadata": {},
     "output_type": "execute_result"
    }
   ],
   "source": [
    "stripe[[\"bus_phone\"]] "
   ]
  },
  {
   "cell_type": "code",
   "execution_count": 43,
   "metadata": {},
   "outputs": [
    {
     "data": {
      "text/html": [
       "<div>\n",
       "<style scoped>\n",
       "    .dataframe tbody tr th:only-of-type {\n",
       "        vertical-align: middle;\n",
       "    }\n",
       "\n",
       "    .dataframe tbody tr th {\n",
       "        vertical-align: top;\n",
       "    }\n",
       "\n",
       "    .dataframe thead th {\n",
       "        text-align: right;\n",
       "    }\n",
       "</style>\n",
       "<table border=\"1\" class=\"dataframe\">\n",
       "  <thead>\n",
       "    <tr style=\"text-align: right;\">\n",
       "      <th></th>\n",
       "      <th>Count</th>\n",
       "      <th>Pct</th>\n",
       "      <th>Cuml Count</th>\n",
       "      <th>Cuml Pct</th>\n",
       "    </tr>\n",
       "    <tr>\n",
       "      <th>len</th>\n",
       "      <th></th>\n",
       "      <th></th>\n",
       "      <th></th>\n",
       "      <th></th>\n",
       "    </tr>\n",
       "  </thead>\n",
       "  <tbody>\n",
       "    <tr>\n",
       "      <th>0</th>\n",
       "      <td>14817.0</td>\n",
       "      <td>0.199038</td>\n",
       "      <td>14817.0</td>\n",
       "      <td>0.199038</td>\n",
       "    </tr>\n",
       "    <tr>\n",
       "      <th>11</th>\n",
       "      <td>51.0</td>\n",
       "      <td>0.000685</td>\n",
       "      <td>14868.0</td>\n",
       "      <td>0.199723</td>\n",
       "    </tr>\n",
       "    <tr>\n",
       "      <th>12</th>\n",
       "      <td>59549.0</td>\n",
       "      <td>0.799927</td>\n",
       "      <td>74417.0</td>\n",
       "      <td>0.999651</td>\n",
       "    </tr>\n",
       "    <tr>\n",
       "      <th>13</th>\n",
       "      <td>23.0</td>\n",
       "      <td>0.000309</td>\n",
       "      <td>74440.0</td>\n",
       "      <td>0.999960</td>\n",
       "    </tr>\n",
       "    <tr>\n",
       "      <th>14</th>\n",
       "      <td>3.0</td>\n",
       "      <td>0.000040</td>\n",
       "      <td>74443.0</td>\n",
       "      <td>1.000000</td>\n",
       "    </tr>\n",
       "  </tbody>\n",
       "</table>\n",
       "</div>"
      ],
      "text/plain": [
       "       Count       Pct  Cuml Count  Cuml Pct\n",
       "len                                         \n",
       "0    14817.0  0.199038     14817.0  0.199038\n",
       "11      51.0  0.000685     14868.0  0.199723\n",
       "12   59549.0  0.799927     74417.0  0.999651\n",
       "13      23.0  0.000309     74440.0  0.999960\n",
       "14       3.0  0.000040     74443.0  1.000000"
      ]
     },
     "execution_count": 43,
     "metadata": {},
     "output_type": "execute_result"
    }
   ],
   "source": [
    "stripe[\"len\"] = stripe[\"bus_phone\"].str.len()\n",
    "freq(stripe[\"len\"])"
   ]
  },
  {
   "cell_type": "code",
   "execution_count": 45,
   "metadata": {},
   "outputs": [
    {
     "data": {
      "text/plain": [
       "0        8322103210\n",
       "1        2139263811\n",
       "2        7246208909\n",
       "3                  \n",
       "4        9172720510\n",
       "            ...    \n",
       "74438    2159203332\n",
       "74439    9168622031\n",
       "74440    8773302677\n",
       "74441              \n",
       "74442              \n",
       "Name: phone_modify, Length: 74443, dtype: object"
      ]
     },
     "execution_count": 45,
     "metadata": {},
     "output_type": "execute_result"
    }
   ],
   "source": [
    "stripe[\"phone_modify\"] = np.where(stripe.bus_phone == \"\", \"\", \n",
    "                                  np.where(stripe[\"len\"] >12, \"\", \n",
    "                                           np.where(stripe.bus_phone.str.contains(\"\\+\") & (stripe[\"len\"] == 12), stripe.bus_phone.str.slice(2, 12), \n",
    "                                                    np.where(stripe.bus_phone.str.contains(\"\\+\") & (stripe[\"len\"] == 11), stripe.bus_phone.str.slice(1, 11), stripe.bus_phone))))\n",
    "stripe[\"phone_modify\"]"
   ]
  },
  {
   "cell_type": "code",
   "execution_count": 33,
   "metadata": {},
   "outputs": [
    {
     "data": {
      "text/html": [
       "<div>\n",
       "<style scoped>\n",
       "    .dataframe tbody tr th:only-of-type {\n",
       "        vertical-align: middle;\n",
       "    }\n",
       "\n",
       "    .dataframe tbody tr th {\n",
       "        vertical-align: top;\n",
       "    }\n",
       "\n",
       "    .dataframe thead th {\n",
       "        text-align: right;\n",
       "    }\n",
       "</style>\n",
       "<table border=\"1\" class=\"dataframe\">\n",
       "  <thead>\n",
       "    <tr style=\"text-align: right;\">\n",
       "      <th></th>\n",
       "      <th>Count</th>\n",
       "      <th>Pct</th>\n",
       "      <th>Cuml Count</th>\n",
       "      <th>Cuml Pct</th>\n",
       "    </tr>\n",
       "    <tr>\n",
       "      <th>historydate</th>\n",
       "      <th></th>\n",
       "      <th></th>\n",
       "      <th></th>\n",
       "      <th></th>\n",
       "    </tr>\n",
       "  </thead>\n",
       "  <tbody>\n",
       "    <tr>\n",
       "      <th>2022-01</th>\n",
       "      <td>24426.0</td>\n",
       "      <td>0.328117</td>\n",
       "      <td>24426.0</td>\n",
       "      <td>0.328117</td>\n",
       "    </tr>\n",
       "    <tr>\n",
       "      <th>2022-02</th>\n",
       "      <td>24209.0</td>\n",
       "      <td>0.325202</td>\n",
       "      <td>48635.0</td>\n",
       "      <td>0.653319</td>\n",
       "    </tr>\n",
       "    <tr>\n",
       "      <th>2022-03</th>\n",
       "      <td>25808.0</td>\n",
       "      <td>0.346681</td>\n",
       "      <td>74443.0</td>\n",
       "      <td>1.000000</td>\n",
       "    </tr>\n",
       "  </tbody>\n",
       "</table>\n",
       "</div>"
      ],
      "text/plain": [
       "               Count       Pct  Cuml Count  Cuml Pct\n",
       "historydate                                         \n",
       "2022-01      24426.0  0.328117     24426.0  0.328117\n",
       "2022-02      24209.0  0.325202     48635.0  0.653319\n",
       "2022-03      25808.0  0.346681     74443.0  1.000000"
      ]
     },
     "execution_count": 33,
     "metadata": {},
     "output_type": "execute_result"
    }
   ],
   "source": [
    "freq(stripe.historydate.str.slice(0, 7))"
   ]
  },
  {
   "cell_type": "code",
   "execution_count": 34,
   "metadata": {},
   "outputs": [
    {
     "data": {
      "text/html": [
       "<div>\n",
       "<style scoped>\n",
       "    .dataframe tbody tr th:only-of-type {\n",
       "        vertical-align: middle;\n",
       "    }\n",
       "\n",
       "    .dataframe tbody tr th {\n",
       "        vertical-align: top;\n",
       "    }\n",
       "\n",
       "    .dataframe thead th {\n",
       "        text-align: right;\n",
       "    }\n",
       "</style>\n",
       "<table border=\"1\" class=\"dataframe\">\n",
       "  <thead>\n",
       "    <tr style=\"text-align: right;\">\n",
       "      <th></th>\n",
       "      <th>Count</th>\n",
       "      <th>Pct</th>\n",
       "      <th>Cuml Count</th>\n",
       "      <th>Cuml Pct</th>\n",
       "    </tr>\n",
       "    <tr>\n",
       "      <th>performance_indicator</th>\n",
       "      <th></th>\n",
       "      <th></th>\n",
       "      <th></th>\n",
       "      <th></th>\n",
       "    </tr>\n",
       "  </thead>\n",
       "  <tbody>\n",
       "    <tr>\n",
       "      <th>False</th>\n",
       "      <td>73807.0</td>\n",
       "      <td>0.991457</td>\n",
       "      <td>73807.0</td>\n",
       "      <td>0.991457</td>\n",
       "    </tr>\n",
       "    <tr>\n",
       "      <th>True</th>\n",
       "      <td>636.0</td>\n",
       "      <td>0.008543</td>\n",
       "      <td>74443.0</td>\n",
       "      <td>1.000000</td>\n",
       "    </tr>\n",
       "  </tbody>\n",
       "</table>\n",
       "</div>"
      ],
      "text/plain": [
       "                         Count       Pct  Cuml Count  Cuml Pct\n",
       "performance_indicator                                         \n",
       "False                  73807.0  0.991457     73807.0  0.991457\n",
       "True                     636.0  0.008543     74443.0  1.000000"
      ]
     },
     "execution_count": 34,
     "metadata": {},
     "output_type": "execute_result"
    }
   ],
   "source": [
    "freq(stripe.performance_indicator)"
   ]
  },
  {
   "cell_type": "code",
   "execution_count": 46,
   "metadata": {},
   "outputs": [],
   "source": [
    "stripe[\"bad\"] = np.where(stripe.performance_indicator == \"True\", 1, 0)"
   ]
  },
  {
   "cell_type": "code",
   "execution_count": 47,
   "metadata": {},
   "outputs": [
    {
     "data": {
      "text/plain": [
       "(59600, 25)"
      ]
     },
     "execution_count": 47,
     "metadata": {},
     "output_type": "execute_result"
    }
   ],
   "source": [
    "stripe[stripe[\"phone_modify\"] != \"\"].shape"
   ]
  },
  {
   "cell_type": "code",
   "execution_count": 48,
   "metadata": {},
   "outputs": [],
   "source": [
    "stripe[\"credit_flag_cutoff_date\"] = stripe[\"historydate\"].str.slice(0, 10)\n",
    "stripe[\"credit_flag_cutoff_date_fmt\"] = pd.to_datetime(stripe[\"credit_flag_cutoff_date\"], format='%Y-%m-%d')"
   ]
  },
  {
   "cell_type": "code",
   "execution_count": 49,
   "metadata": {},
   "outputs": [
    {
     "name": "stdout",
     "output_type": "stream",
     "text": [
      "(59600, 27)\n"
     ]
    }
   ],
   "source": [
    "stripe = stripe[stripe[\"phone_modify\"] != \"\"]\n",
    "print(stripe.shape)"
   ]
  },
  {
   "cell_type": "code",
   "execution_count": 50,
   "metadata": {},
   "outputs": [
    {
     "name": "stdout",
     "output_type": "stream",
     "text": [
      "(64631, 31)\n",
      "(43488, 31)\n",
      "(4634, 5)\n"
     ]
    },
    {
     "name": "stderr",
     "output_type": "stream",
     "text": [
      "/tmp/ipykernel_24639/1573614916.py:11: FutureWarning: Indexing with multiple keys (implicitly converted to a tuple of keys) will be deprecated, use a list instead.\n",
      "  sbfe_for_stripe_roll = sbfe_for_stripe.groupby(by = ['uniqueid'])[\"inquiry_count_06\", \"inquiry_count_03\", \"inquiry_count_01\", \"inquiry_count_week\"].sum().reset_index()\n"
     ]
    }
   ],
   "source": [
    "sbfe_for_stripe = sbfe.merge(stripe, left_on = \"businessphone\", right_on = \"phone_modify\")\n",
    "print(sbfe_for_stripe.shape)\n",
    "sbfe_for_stripe = sbfe_for_stripe[sbfe_for_stripe[\"inquiry_date_fmt\"] < sbfe_for_stripe[\"credit_flag_cutoff_date_fmt\"]]\n",
    "print(sbfe_for_stripe.shape)\n",
    "\n",
    "sbfe_for_stripe['inquiry_count_06']   = np.where((sbfe_for_stripe[\"credit_flag_cutoff_date_fmt\"] - sbfe_for_stripe[\"inquiry_date_fmt\"])/np.timedelta64(1, 'M') <= 6, 1, 0)\n",
    "sbfe_for_stripe['inquiry_count_03']   = np.where((sbfe_for_stripe[\"credit_flag_cutoff_date_fmt\"] - sbfe_for_stripe[\"inquiry_date_fmt\"])/np.timedelta64(1, 'M') <= 3, 1, 0)\n",
    "sbfe_for_stripe['inquiry_count_01']   = np.where((sbfe_for_stripe[\"credit_flag_cutoff_date_fmt\"] - sbfe_for_stripe[\"inquiry_date_fmt\"])/np.timedelta64(1, 'M') <= 1, 1, 0)\n",
    "sbfe_for_stripe['inquiry_count_week'] = np.where((sbfe_for_stripe[\"credit_flag_cutoff_date_fmt\"] - sbfe_for_stripe[\"inquiry_date_fmt\"])/np.timedelta64(1, 'W') <= 1, 1, 0)\n",
    "\n",
    "sbfe_for_stripe_roll = sbfe_for_stripe.groupby(by = ['uniqueid'])[\"inquiry_count_06\", \"inquiry_count_03\", \"inquiry_count_01\", \"inquiry_count_week\"].sum().reset_index()\n",
    "print(sbfe_for_stripe_roll.shape)"
   ]
  },
  {
   "cell_type": "code",
   "execution_count": 51,
   "metadata": {},
   "outputs": [
    {
     "name": "stdout",
     "output_type": "stream",
     "text": [
      "(59600, 31)\n"
     ]
    }
   ],
   "source": [
    "stripe = stripe.merge(sbfe_for_stripe_roll, on = \"uniqueid\", how = \"left\")\n",
    "print(stripe.shape)"
   ]
  },
  {
   "cell_type": "code",
   "execution_count": 52,
   "metadata": {},
   "outputs": [],
   "source": [
    "stripe['inquiry_count_06'] = np.where(stripe[\"inquiry_count_06\"].isnull(), 0,   stripe[\"inquiry_count_06\"])\n",
    "stripe['inquiry_count_03'] = np.where(stripe[\"inquiry_count_03\"].isnull(), 0,   stripe[\"inquiry_count_03\"])\n",
    "stripe['inquiry_count_01'] = np.where(stripe[\"inquiry_count_01\"].isnull(), 0,   stripe[\"inquiry_count_01\"])\n",
    "stripe['inquiry_count_week']=np.where(stripe[\"inquiry_count_week\"].isnull(), 0, stripe[\"inquiry_count_week\"])"
   ]
  },
  {
   "cell_type": "code",
   "execution_count": 53,
   "metadata": {},
   "outputs": [],
   "source": [
    "fmt = make_format(cuts = [-np.inf, 0, 1, 2, 3, 4, 5, 10, 20, 30, 40, 50, np.inf], exceptions = [-1])\n",
    "result = dict()\n",
    "keep = [\"inquiry_count_06\", 'inquiry_count_03', 'inquiry_count_01', 'inquiry_count_week']\n",
    "for i, a in enumerate(keep):\n",
    "    result[i] = bivariate(stripe[a], stripe[\"bad\"], format = fmt)\n",
    "\n",
    "wb = TableWriter(filename = \"./_temp/stripe.xlsx\", options={'nan_inf_to_errors': True}, overwrite = True)\n",
    "for k in result.keys():\n",
    "    wb.write_table(\n",
    "        result[k],\n",
    "        sheetname=\"biv\",\n",
    "        conditional_fmt_cols=[3],\n",
    "    )\n",
    "wb.close()"
   ]
  },
  {
   "attachments": {},
   "cell_type": "markdown",
   "metadata": {},
   "source": [
    "#### TMobile 10823"
   ]
  },
  {
   "cell_type": "code",
   "execution_count": 54,
   "metadata": {},
   "outputs": [],
   "source": [
    "tmobile[\"credit_flag_cutoff_date\"] = tmobile.appdatetime_gmt.str.slice(0, 9)\n",
    "tmobile[\"credit_flag_cutoff_date_fmt\"] = pd.to_datetime(tmobile[\"credit_flag_cutoff_date\"], format='%d%b%Y')"
   ]
  },
  {
   "cell_type": "code",
   "execution_count": 55,
   "metadata": {},
   "outputs": [
    {
     "data": {
      "text/html": [
       "<div>\n",
       "<style scoped>\n",
       "    .dataframe tbody tr th:only-of-type {\n",
       "        vertical-align: middle;\n",
       "    }\n",
       "\n",
       "    .dataframe tbody tr th {\n",
       "        vertical-align: top;\n",
       "    }\n",
       "\n",
       "    .dataframe thead th {\n",
       "        text-align: right;\n",
       "    }\n",
       "</style>\n",
       "<table border=\"1\" class=\"dataframe\">\n",
       "  <thead>\n",
       "    <tr style=\"text-align: right;\">\n",
       "      <th></th>\n",
       "      <th>Count</th>\n",
       "      <th>Pct</th>\n",
       "      <th>Cuml Count</th>\n",
       "      <th>Cuml Pct</th>\n",
       "    </tr>\n",
       "    <tr>\n",
       "      <th>credit_flag_cutoff_date_fmt</th>\n",
       "      <th></th>\n",
       "      <th></th>\n",
       "      <th></th>\n",
       "      <th></th>\n",
       "    </tr>\n",
       "  </thead>\n",
       "  <tbody>\n",
       "    <tr>\n",
       "      <th>2022-01</th>\n",
       "      <td>20510.0</td>\n",
       "      <td>0.179189</td>\n",
       "      <td>20510.0</td>\n",
       "      <td>0.179189</td>\n",
       "    </tr>\n",
       "    <tr>\n",
       "      <th>2022-02</th>\n",
       "      <td>22452.0</td>\n",
       "      <td>0.196156</td>\n",
       "      <td>42962.0</td>\n",
       "      <td>0.375345</td>\n",
       "    </tr>\n",
       "    <tr>\n",
       "      <th>2022-03</th>\n",
       "      <td>22846.0</td>\n",
       "      <td>0.199598</td>\n",
       "      <td>65808.0</td>\n",
       "      <td>0.574943</td>\n",
       "    </tr>\n",
       "    <tr>\n",
       "      <th>2022-04</th>\n",
       "      <td>14973.0</td>\n",
       "      <td>0.130814</td>\n",
       "      <td>80781.0</td>\n",
       "      <td>0.705757</td>\n",
       "    </tr>\n",
       "    <tr>\n",
       "      <th>2022-05</th>\n",
       "      <td>16271.0</td>\n",
       "      <td>0.142154</td>\n",
       "      <td>97052.0</td>\n",
       "      <td>0.847912</td>\n",
       "    </tr>\n",
       "    <tr>\n",
       "      <th>2022-06</th>\n",
       "      <td>17408.0</td>\n",
       "      <td>0.152088</td>\n",
       "      <td>114460.0</td>\n",
       "      <td>1.000000</td>\n",
       "    </tr>\n",
       "  </tbody>\n",
       "</table>\n",
       "</div>"
      ],
      "text/plain": [
       "                               Count       Pct  Cuml Count  Cuml Pct\n",
       "credit_flag_cutoff_date_fmt                                         \n",
       "2022-01                      20510.0  0.179189     20510.0  0.179189\n",
       "2022-02                      22452.0  0.196156     42962.0  0.375345\n",
       "2022-03                      22846.0  0.199598     65808.0  0.574943\n",
       "2022-04                      14973.0  0.130814     80781.0  0.705757\n",
       "2022-05                      16271.0  0.142154     97052.0  0.847912\n",
       "2022-06                      17408.0  0.152088    114460.0  1.000000"
      ]
     },
     "execution_count": 55,
     "metadata": {},
     "output_type": "execute_result"
    }
   ],
   "source": [
    "freq(tmobile[\"credit_flag_cutoff_date_fmt\"].astype(str).str.slice(0, 7))"
   ]
  },
  {
   "cell_type": "code",
   "execution_count": 56,
   "metadata": {},
   "outputs": [
    {
     "data": {
      "text/html": [
       "<div>\n",
       "<style scoped>\n",
       "    .dataframe tbody tr th:only-of-type {\n",
       "        vertical-align: middle;\n",
       "    }\n",
       "\n",
       "    .dataframe tbody tr th {\n",
       "        vertical-align: top;\n",
       "    }\n",
       "\n",
       "    .dataframe thead th {\n",
       "        text-align: right;\n",
       "    }\n",
       "</style>\n",
       "<table border=\"1\" class=\"dataframe\">\n",
       "  <thead>\n",
       "    <tr style=\"text-align: right;\">\n",
       "      <th></th>\n",
       "      <th>Count</th>\n",
       "      <th>Pct</th>\n",
       "      <th>Cuml Count</th>\n",
       "      <th>Cuml Pct</th>\n",
       "    </tr>\n",
       "    <tr>\n",
       "      <th>src</th>\n",
       "      <th></th>\n",
       "      <th></th>\n",
       "      <th></th>\n",
       "      <th></th>\n",
       "    </tr>\n",
       "  </thead>\n",
       "  <tbody>\n",
       "    <tr>\n",
       "      <th>march</th>\n",
       "      <td>33679.0</td>\n",
       "      <td>0.294243</td>\n",
       "      <td>33679.0</td>\n",
       "      <td>0.294243</td>\n",
       "    </tr>\n",
       "    <tr>\n",
       "      <th>retro</th>\n",
       "      <td>80781.0</td>\n",
       "      <td>0.705757</td>\n",
       "      <td>114460.0</td>\n",
       "      <td>1.000000</td>\n",
       "    </tr>\n",
       "  </tbody>\n",
       "</table>\n",
       "</div>"
      ],
      "text/plain": [
       "         Count       Pct  Cuml Count  Cuml Pct\n",
       "src                                           \n",
       "march  33679.0  0.294243     33679.0  0.294243\n",
       "retro  80781.0  0.705757    114460.0  1.000000"
      ]
     },
     "execution_count": 56,
     "metadata": {},
     "output_type": "execute_result"
    }
   ],
   "source": [
    "freq(tmobile.src)"
   ]
  },
  {
   "cell_type": "code",
   "execution_count": 57,
   "metadata": {},
   "outputs": [
    {
     "data": {
      "text/html": [
       "<div>\n",
       "<style scoped>\n",
       "    .dataframe tbody tr th:only-of-type {\n",
       "        vertical-align: middle;\n",
       "    }\n",
       "\n",
       "    .dataframe tbody tr th {\n",
       "        vertical-align: top;\n",
       "    }\n",
       "\n",
       "    .dataframe thead th {\n",
       "        text-align: right;\n",
       "    }\n",
       "</style>\n",
       "<table border=\"1\" class=\"dataframe\">\n",
       "  <thead>\n",
       "    <tr style=\"text-align: right;\">\n",
       "      <th></th>\n",
       "      <th>Count</th>\n",
       "      <th>Pct</th>\n",
       "      <th>Cuml Count</th>\n",
       "      <th>Cuml Pct</th>\n",
       "    </tr>\n",
       "    <tr>\n",
       "      <th>fraud_ind</th>\n",
       "      <th></th>\n",
       "      <th></th>\n",
       "      <th></th>\n",
       "      <th></th>\n",
       "    </tr>\n",
       "  </thead>\n",
       "  <tbody>\n",
       "    <tr>\n",
       "      <th>0</th>\n",
       "      <td>58655.0</td>\n",
       "      <td>0.512450</td>\n",
       "      <td>58655.0</td>\n",
       "      <td>0.512450</td>\n",
       "    </tr>\n",
       "    <tr>\n",
       "      <th>1</th>\n",
       "      <td>3762.0</td>\n",
       "      <td>0.032867</td>\n",
       "      <td>62417.0</td>\n",
       "      <td>0.545317</td>\n",
       "    </tr>\n",
       "    <tr>\n",
       "      <th>Missing</th>\n",
       "      <td>52043.0</td>\n",
       "      <td>0.454683</td>\n",
       "      <td>114460.0</td>\n",
       "      <td>1.000000</td>\n",
       "    </tr>\n",
       "  </tbody>\n",
       "</table>\n",
       "</div>"
      ],
      "text/plain": [
       "             Count       Pct  Cuml Count  Cuml Pct\n",
       "fraud_ind                                         \n",
       "0          58655.0  0.512450     58655.0  0.512450\n",
       "1           3762.0  0.032867     62417.0  0.545317\n",
       "Missing    52043.0  0.454683    114460.0  1.000000"
      ]
     },
     "execution_count": 57,
     "metadata": {},
     "output_type": "execute_result"
    }
   ],
   "source": [
    "freq(tmobile.fraud_ind)"
   ]
  },
  {
   "cell_type": "code",
   "execution_count": 58,
   "metadata": {},
   "outputs": [
    {
     "name": "stdout",
     "output_type": "stream",
     "text": [
      "(62417, 41)\n"
     ]
    }
   ],
   "source": [
    "tmobile = tmobile[tmobile[\"fraud_ind\"].notnull()]\n",
    "print(tmobile.shape)"
   ]
  },
  {
   "cell_type": "code",
   "execution_count": 59,
   "metadata": {},
   "outputs": [
    {
     "data": {
      "text/html": [
       "<div>\n",
       "<style scoped>\n",
       "    .dataframe tbody tr th:only-of-type {\n",
       "        vertical-align: middle;\n",
       "    }\n",
       "\n",
       "    .dataframe tbody tr th {\n",
       "        vertical-align: top;\n",
       "    }\n",
       "\n",
       "    .dataframe thead th {\n",
       "        text-align: right;\n",
       "    }\n",
       "</style>\n",
       "<table border=\"1\" class=\"dataframe\">\n",
       "  <thead>\n",
       "    <tr style=\"text-align: right;\">\n",
       "      <th></th>\n",
       "      <th>Count</th>\n",
       "      <th>Pct</th>\n",
       "      <th>Cuml Count</th>\n",
       "      <th>Cuml Pct</th>\n",
       "    </tr>\n",
       "    <tr>\n",
       "      <th>src</th>\n",
       "      <th></th>\n",
       "      <th></th>\n",
       "      <th></th>\n",
       "      <th></th>\n",
       "    </tr>\n",
       "  </thead>\n",
       "  <tbody>\n",
       "    <tr>\n",
       "      <th>march</th>\n",
       "      <td>21914.0</td>\n",
       "      <td>0.35109</td>\n",
       "      <td>21914.0</td>\n",
       "      <td>0.35109</td>\n",
       "    </tr>\n",
       "    <tr>\n",
       "      <th>retro</th>\n",
       "      <td>40503.0</td>\n",
       "      <td>0.64891</td>\n",
       "      <td>62417.0</td>\n",
       "      <td>1.00000</td>\n",
       "    </tr>\n",
       "  </tbody>\n",
       "</table>\n",
       "</div>"
      ],
      "text/plain": [
       "         Count      Pct  Cuml Count  Cuml Pct\n",
       "src                                          \n",
       "march  21914.0  0.35109     21914.0   0.35109\n",
       "retro  40503.0  0.64891     62417.0   1.00000"
      ]
     },
     "execution_count": 59,
     "metadata": {},
     "output_type": "execute_result"
    }
   ],
   "source": [
    "freq(tmobile.src)"
   ]
  },
  {
   "cell_type": "code",
   "execution_count": 60,
   "metadata": {},
   "outputs": [],
   "source": [
    "tmobile[\"credit_flag_cutoff_date\"] = tmobile[\"appdatetime_gmt\"].str.slice(0, 9)\n",
    "tmobile[\"credit_flag_cutoff_date_fmt\"] = pd.to_datetime(tmobile[\"credit_flag_cutoff_date\"], format='%d%b%Y')"
   ]
  },
  {
   "cell_type": "code",
   "execution_count": 126,
   "metadata": {},
   "outputs": [
    {
     "data": {
      "text/plain": [
       "Index(['crid_encr', 'appdatetime_gmt', 'businessname', 'business_contactphone',\n",
       "       'business_addressline1', 'business_addressline2',\n",
       "       'business_addresscity', 'business_addressstate',\n",
       "       'business_addresspostalcode', 'federaltaxid', 'contactfirstname',\n",
       "       'contactmiddlename', 'contactlastname', 'contact_contactphone',\n",
       "       'contact_addressline1', 'contact_addressline2', 'contact_addresscity',\n",
       "       'contact_addressstate', 'contact_addresspostalcode', 'contact_dob',\n",
       "       'contact_idnum', 'contact_idtype', 'contact_idstate', 'contact_email',\n",
       "       'application_channel', 'fraud_ind', 'fraud_tp_ind', 'fraud_fp_ind',\n",
       "       'fpd_ind', 'any_wo_ind', 'activationflag', 'seq', 'account', 'date',\n",
       "       'src', 'contact_dob_year', 'contact_dob_month', 'contact_dob_day',\n",
       "       'contact_driverlicensenumber', 'credit_flag_cutoff_date',\n",
       "       'credit_flag_cutoff_date_fmt', 'full_addr', 'full_addr_clean',\n",
       "       'abbrev_state', 'inquiry_count_06', 'inquiry_count_03',\n",
       "       'inquiry_count_01', 'inquiry_count_week'],\n",
       "      dtype='object')"
      ]
     },
     "execution_count": 126,
     "metadata": {},
     "output_type": "execute_result"
    }
   ],
   "source": [
    "tmobile.columns"
   ]
  },
  {
   "cell_type": "code",
   "execution_count": 62,
   "metadata": {},
   "outputs": [
    {
     "data": {
      "text/html": [
       "<div>\n",
       "<style scoped>\n",
       "    .dataframe tbody tr th:only-of-type {\n",
       "        vertical-align: middle;\n",
       "    }\n",
       "\n",
       "    .dataframe tbody tr th {\n",
       "        vertical-align: top;\n",
       "    }\n",
       "\n",
       "    .dataframe thead th {\n",
       "        text-align: right;\n",
       "    }\n",
       "</style>\n",
       "<table border=\"1\" class=\"dataframe\">\n",
       "  <thead>\n",
       "    <tr style=\"text-align: right;\">\n",
       "      <th></th>\n",
       "      <th>Count</th>\n",
       "      <th>Pct</th>\n",
       "      <th>Cuml Count</th>\n",
       "      <th>Cuml Pct</th>\n",
       "    </tr>\n",
       "    <tr>\n",
       "      <th>len</th>\n",
       "      <th></th>\n",
       "      <th></th>\n",
       "      <th></th>\n",
       "      <th></th>\n",
       "    </tr>\n",
       "  </thead>\n",
       "  <tbody>\n",
       "    <tr>\n",
       "      <th>10</th>\n",
       "      <td>62417.0</td>\n",
       "      <td>1.0</td>\n",
       "      <td>62417.0</td>\n",
       "      <td>1.0</td>\n",
       "    </tr>\n",
       "  </tbody>\n",
       "</table>\n",
       "</div>"
      ],
      "text/plain": [
       "       Count  Pct  Cuml Count  Cuml Pct\n",
       "len                                    \n",
       "10   62417.0  1.0     62417.0       1.0"
      ]
     },
     "execution_count": 62,
     "metadata": {},
     "output_type": "execute_result"
    }
   ],
   "source": [
    "tmobile[\"len\"] = tmobile[\"business_contactphone\"].str.len()\n",
    "freq(tmobile[\"len\"])"
   ]
  },
  {
   "cell_type": "code",
   "execution_count": 65,
   "metadata": {},
   "outputs": [
    {
     "data": {
      "text/plain": [
       "(62417, 42)"
      ]
     },
     "execution_count": 65,
     "metadata": {},
     "output_type": "execute_result"
    }
   ],
   "source": [
    "tmobile[tmobile[\"business_contactphone\"] != \"\"].shape"
   ]
  },
  {
   "cell_type": "code",
   "execution_count": 66,
   "metadata": {},
   "outputs": [
    {
     "name": "stdout",
     "output_type": "stream",
     "text": [
      "(196414, 46)\n",
      "(119582, 46)\n",
      "(9666, 5)\n"
     ]
    },
    {
     "name": "stderr",
     "output_type": "stream",
     "text": [
      "/tmp/ipykernel_24639/3974164256.py:11: FutureWarning: Indexing with multiple keys (implicitly converted to a tuple of keys) will be deprecated, use a list instead.\n",
      "  sbfe_for_tmobile_roll = sbfe_for_tmobile.groupby(by = ['crid_encr'])[\"inquiry_count_06\", \"inquiry_count_03\", \"inquiry_count_01\", \"inquiry_count_week\"].sum().reset_index()\n"
     ]
    }
   ],
   "source": [
    "sbfe_for_tmobile = sbfe.merge(tmobile, left_on = \"businessphone\", right_on = \"business_contactphone\")\n",
    "print(sbfe_for_tmobile.shape)\n",
    "sbfe_for_tmobile = sbfe_for_tmobile[sbfe_for_tmobile[\"inquiry_date_fmt\"] < sbfe_for_tmobile[\"credit_flag_cutoff_date_fmt\"]]\n",
    "print(sbfe_for_tmobile.shape)\n",
    "\n",
    "sbfe_for_tmobile['inquiry_count_06']   = np.where((sbfe_for_tmobile[\"credit_flag_cutoff_date_fmt\"] - sbfe_for_tmobile[\"inquiry_date_fmt\"])/np.timedelta64(1, 'M') <= 6, 1, 0)\n",
    "sbfe_for_tmobile['inquiry_count_03']   = np.where((sbfe_for_tmobile[\"credit_flag_cutoff_date_fmt\"] - sbfe_for_tmobile[\"inquiry_date_fmt\"])/np.timedelta64(1, 'M') <= 3, 1, 0)\n",
    "sbfe_for_tmobile['inquiry_count_01']   = np.where((sbfe_for_tmobile[\"credit_flag_cutoff_date_fmt\"] - sbfe_for_tmobile[\"inquiry_date_fmt\"])/np.timedelta64(1, 'M') <= 1, 1, 0)\n",
    "sbfe_for_tmobile['inquiry_count_week'] = np.where((sbfe_for_tmobile[\"credit_flag_cutoff_date_fmt\"] - sbfe_for_tmobile[\"inquiry_date_fmt\"])/np.timedelta64(1, 'W') <= 1, 1, 0)\n",
    "\n",
    "sbfe_for_tmobile_roll = sbfe_for_tmobile.groupby(by = ['crid_encr'])[\"inquiry_count_06\", \"inquiry_count_03\", \"inquiry_count_01\", \"inquiry_count_week\"].sum().reset_index()\n",
    "print(sbfe_for_tmobile_roll.shape)"
   ]
  },
  {
   "cell_type": "code",
   "execution_count": 67,
   "metadata": {},
   "outputs": [
    {
     "name": "stdout",
     "output_type": "stream",
     "text": [
      "(62417, 46)\n"
     ]
    }
   ],
   "source": [
    "tmobile = tmobile.merge(sbfe_for_tmobile_roll, on = \"crid_encr\", how = \"left\")\n",
    "print(tmobile.shape)"
   ]
  },
  {
   "cell_type": "code",
   "execution_count": 68,
   "metadata": {},
   "outputs": [],
   "source": [
    "tmobile['inquiry_count_06'] = np.where(tmobile[\"inquiry_count_06\"].isnull(), 0,   tmobile[\"inquiry_count_06\"])\n",
    "tmobile['inquiry_count_03'] = np.where(tmobile[\"inquiry_count_03\"].isnull(), 0,   tmobile[\"inquiry_count_03\"])\n",
    "tmobile['inquiry_count_01'] = np.where(tmobile[\"inquiry_count_01\"].isnull(), 0,   tmobile[\"inquiry_count_01\"])\n",
    "tmobile['inquiry_count_week']=np.where(tmobile[\"inquiry_count_week\"].isnull(), 0, tmobile[\"inquiry_count_week\"])"
   ]
  },
  {
   "cell_type": "code",
   "execution_count": 69,
   "metadata": {},
   "outputs": [],
   "source": [
    "tmobile[\"fraud_ind\"] = tmobile[\"fraud_ind\"].astype(float)"
   ]
  },
  {
   "cell_type": "code",
   "execution_count": 70,
   "metadata": {},
   "outputs": [],
   "source": [
    "fmt = make_format(cuts = [-np.inf, 0, 1, 2, 3, 4, 5, 10, 20, 30, 40, 50, np.inf], exceptions = [-1])\n",
    "result = dict()\n",
    "keep = [\"inquiry_count_06\", 'inquiry_count_03', 'inquiry_count_01', 'inquiry_count_week']\n",
    "for i, a in enumerate(keep):\n",
    "    result[i] = bivariate(tmobile[a], tmobile[\"fraud_ind\"], format = fmt)\n",
    "\n",
    "wb = TableWriter(filename = \"./_temp/tmobile.xlsx\", options={'nan_inf_to_errors': True}, overwrite = True)\n",
    "for k in result.keys():\n",
    "    wb.write_table(\n",
    "        result[k],\n",
    "        sheetname=\"biv\",\n",
    "        conditional_fmt_cols=[3],\n",
    "    )\n",
    "wb.close()"
   ]
  },
  {
   "attachments": {},
   "cell_type": "markdown",
   "metadata": {},
   "source": [
    "#### Chase"
   ]
  },
  {
   "cell_type": "code",
   "execution_count": 71,
   "metadata": {},
   "outputs": [
    {
     "name": "stdout",
     "output_type": "stream",
     "text": [
      "(640958, 36)\n"
     ]
    }
   ],
   "source": [
    "chase = pd.read_adls(\"Analytics/RnD Projects/Product RnD/Business/LexisNexis 9999 (SBFE Inquiry POC)/Performance/Fraud Sample/Chase_11449/chase_stacked_final.parquet\")\n",
    "print(chase.shape)"
   ]
  },
  {
   "cell_type": "code",
   "execution_count": 72,
   "metadata": {},
   "outputs": [],
   "source": [
    "chase[\"credit_flag_cutoff_date_fmt\"] = pd.to_datetime(chase[\"app_date\"], format='%d%b%Y')"
   ]
  },
  {
   "cell_type": "code",
   "execution_count": 95,
   "metadata": {},
   "outputs": [
    {
     "data": {
      "text/plain": [
       "Index(['transaction_id', 'cust_first_nm', 'cust_mid_init_tx', 'cust_last_nm',\n",
       "       'govt_issu_id_nb', 'line_1_ad', 'line_2_ad', 'city_nm', 'state_prov_cd',\n",
       "       'pst_area_7_cd', 'pst_area_cd', 'channel', 'bus_name', 'app_date',\n",
       "       'date_of_birth', 'decision', 'bizidscore', 'bd_score', 'bd_score1',\n",
       "       'bd_score2', 'bd_score3', 'bus_addr1', 'bus_addr2', 'bus_city',\n",
       "       'bus_state', 'bus_zip', 'bus_tax_id', 'bus_phone', 'bus_type',\n",
       "       'home_phone', 'bad', 'seq', 'account', 'date', 'LN_booked', 'count',\n",
       "       'credit_flag_cutoff_date_fmt'],\n",
       "      dtype='object')"
      ]
     },
     "execution_count": 95,
     "metadata": {},
     "output_type": "execute_result"
    }
   ],
   "source": [
    "chase.columns"
   ]
  },
  {
   "cell_type": "code",
   "execution_count": 73,
   "metadata": {},
   "outputs": [
    {
     "data": {
      "text/html": [
       "<div>\n",
       "<style scoped>\n",
       "    .dataframe tbody tr th:only-of-type {\n",
       "        vertical-align: middle;\n",
       "    }\n",
       "\n",
       "    .dataframe tbody tr th {\n",
       "        vertical-align: top;\n",
       "    }\n",
       "\n",
       "    .dataframe thead th {\n",
       "        text-align: right;\n",
       "    }\n",
       "</style>\n",
       "<table border=\"1\" class=\"dataframe\">\n",
       "  <thead>\n",
       "    <tr style=\"text-align: right;\">\n",
       "      <th></th>\n",
       "      <th>Count</th>\n",
       "      <th>Pct</th>\n",
       "      <th>Cuml Count</th>\n",
       "      <th>Cuml Pct</th>\n",
       "    </tr>\n",
       "    <tr>\n",
       "      <th>len</th>\n",
       "      <th></th>\n",
       "      <th></th>\n",
       "      <th></th>\n",
       "      <th></th>\n",
       "    </tr>\n",
       "  </thead>\n",
       "  <tbody>\n",
       "    <tr>\n",
       "      <th>0</th>\n",
       "      <td>2663.0</td>\n",
       "      <td>0.004155</td>\n",
       "      <td>2663.0</td>\n",
       "      <td>0.004155</td>\n",
       "    </tr>\n",
       "    <tr>\n",
       "      <th>10</th>\n",
       "      <td>638295.0</td>\n",
       "      <td>0.995845</td>\n",
       "      <td>640958.0</td>\n",
       "      <td>1.000000</td>\n",
       "    </tr>\n",
       "  </tbody>\n",
       "</table>\n",
       "</div>"
      ],
      "text/plain": [
       "        Count       Pct  Cuml Count  Cuml Pct\n",
       "len                                          \n",
       "0      2663.0  0.004155      2663.0  0.004155\n",
       "10   638295.0  0.995845    640958.0  1.000000"
      ]
     },
     "execution_count": 73,
     "metadata": {},
     "output_type": "execute_result"
    }
   ],
   "source": [
    "chase[\"len\"] = chase[\"bus_phone\"].str.len()\n",
    "freq(chase[\"len\"])"
   ]
  },
  {
   "cell_type": "code",
   "execution_count": 75,
   "metadata": {},
   "outputs": [
    {
     "name": "stdout",
     "output_type": "stream",
     "text": [
      "(638295, 38)\n"
     ]
    }
   ],
   "source": [
    "chase = chase[chase[\"bus_phone\"] != \"\"]\n",
    "print(chase.shape)"
   ]
  },
  {
   "cell_type": "code",
   "execution_count": 76,
   "metadata": {},
   "outputs": [
    {
     "data": {
      "text/plain": [
       "Index(['seleid_inquiry_sbfe', 'inquiry_date', 'businessphone',\n",
       "       'inquiry_date_fmt'],\n",
       "      dtype='object')"
      ]
     },
     "execution_count": 76,
     "metadata": {},
     "output_type": "execute_result"
    }
   ],
   "source": [
    "sbfe.columns"
   ]
  },
  {
   "cell_type": "code",
   "execution_count": 77,
   "metadata": {},
   "outputs": [
    {
     "name": "stdout",
     "output_type": "stream",
     "text": [
      "(883962, 42)\n",
      "(678316, 42)\n",
      "(71327, 5)\n"
     ]
    },
    {
     "name": "stderr",
     "output_type": "stream",
     "text": [
      "/tmp/ipykernel_24639/60807860.py:11: FutureWarning: Indexing with multiple keys (implicitly converted to a tuple of keys) will be deprecated, use a list instead.\n",
      "  sbfe_for_chase_roll = sbfe_for_chase.groupby(by = ['account'])[\"inquiry_count_06\", \"inquiry_count_03\", \"inquiry_count_01\", \"inquiry_count_week\"].sum().reset_index()\n"
     ]
    }
   ],
   "source": [
    "sbfe_for_chase = sbfe.merge(chase, left_on = \"businessphone\", right_on = \"bus_phone\")\n",
    "print(sbfe_for_chase.shape)\n",
    "sbfe_for_chase = sbfe_for_chase[sbfe_for_chase[\"inquiry_date_fmt\"] < sbfe_for_chase[\"credit_flag_cutoff_date_fmt\"]]\n",
    "print(sbfe_for_chase.shape)\n",
    "\n",
    "sbfe_for_chase['inquiry_count_06']   = np.where((sbfe_for_chase[\"credit_flag_cutoff_date_fmt\"] - sbfe_for_chase[\"inquiry_date_fmt\"])/np.timedelta64(1, 'M') <= 6, 1, 0)\n",
    "sbfe_for_chase['inquiry_count_03']   = np.where((sbfe_for_chase[\"credit_flag_cutoff_date_fmt\"] - sbfe_for_chase[\"inquiry_date_fmt\"])/np.timedelta64(1, 'M') <= 3, 1, 0)\n",
    "sbfe_for_chase['inquiry_count_01']   = np.where((sbfe_for_chase[\"credit_flag_cutoff_date_fmt\"] - sbfe_for_chase[\"inquiry_date_fmt\"])/np.timedelta64(1, 'M') <= 1, 1, 0)\n",
    "sbfe_for_chase['inquiry_count_week'] = np.where((sbfe_for_chase[\"credit_flag_cutoff_date_fmt\"] - sbfe_for_chase[\"inquiry_date_fmt\"])/np.timedelta64(1, 'W') <= 1, 1, 0)\n",
    "\n",
    "sbfe_for_chase_roll = sbfe_for_chase.groupby(by = ['account'])[\"inquiry_count_06\", \"inquiry_count_03\", \"inquiry_count_01\", \"inquiry_count_week\"].sum().reset_index()\n",
    "print(sbfe_for_chase_roll.shape)"
   ]
  },
  {
   "cell_type": "code",
   "execution_count": 78,
   "metadata": {},
   "outputs": [
    {
     "name": "stdout",
     "output_type": "stream",
     "text": [
      "(638295, 42)\n"
     ]
    }
   ],
   "source": [
    "chase = chase.merge(sbfe_for_chase_roll, on = \"account\", how = \"left\")\n",
    "print(chase.shape)"
   ]
  },
  {
   "cell_type": "code",
   "execution_count": 79,
   "metadata": {},
   "outputs": [],
   "source": [
    "chase['inquiry_count_06'] = np.where(chase[\"inquiry_count_06\"].isnull(), 0,   chase[\"inquiry_count_06\"])\n",
    "chase['inquiry_count_03'] = np.where(chase[\"inquiry_count_03\"].isnull(), 0,   chase[\"inquiry_count_03\"])\n",
    "chase['inquiry_count_01'] = np.where(chase[\"inquiry_count_01\"].isnull(), 0,   chase[\"inquiry_count_01\"])\n",
    "chase['inquiry_count_week']=np.where(chase[\"inquiry_count_week\"].isnull(), 0, chase[\"inquiry_count_week\"])"
   ]
  },
  {
   "cell_type": "code",
   "execution_count": 80,
   "metadata": {},
   "outputs": [],
   "source": [
    "chase[\"fraud_ind\"] = chase[\"bad\"].astype(float)"
   ]
  },
  {
   "cell_type": "code",
   "execution_count": 81,
   "metadata": {},
   "outputs": [],
   "source": [
    "fmt = make_format(cuts = [-np.inf, 0, 1, 2, 3, 4, 5, 10, 20, 30, 40, 50, np.inf], exceptions = [-1])\n",
    "result = dict()\n",
    "keep = [\"inquiry_count_06\", 'inquiry_count_03', 'inquiry_count_01', 'inquiry_count_week']\n",
    "for i, a in enumerate(keep):\n",
    "    result[i] = bivariate(chase[a].astype(float), chase[\"fraud_ind\"], format = fmt)\n",
    "\n",
    "wb = TableWriter(filename = \"./_temp/chase.xlsx\", options={'nan_inf_to_errors': True}, overwrite = True)\n",
    "for k in result.keys():\n",
    "    wb.write_table(\n",
    "        result[k],\n",
    "        sheetname=\"biv\",\n",
    "        conditional_fmt_cols=[3],\n",
    "    )\n",
    "wb.close()"
   ]
  },
  {
   "attachments": {},
   "cell_type": "markdown",
   "metadata": {},
   "source": [
    "#### Fleector"
   ]
  },
  {
   "cell_type": "code",
   "execution_count": 82,
   "metadata": {},
   "outputs": [
    {
     "name": "stdout",
     "output_type": "stream",
     "text": [
      "(83704, 92)\n"
     ]
    }
   ],
   "source": [
    "fleector = pd.read_adls(\"Analytics/RnD Projects/Product RnD/Business/LexisNexis 9999 (SBFE Inquiry POC)/Performance/Fraud Sample/fleector_11124/fleector_sample_to_use.parquet\")\n",
    "print(fleector.shape)"
   ]
  },
  {
   "cell_type": "code",
   "execution_count": 83,
   "metadata": {},
   "outputs": [],
   "source": [
    "fleector[\"credit_flag_cutoff_date_fmt\"] = pd.to_datetime(fleector[\"date_created\"], format='%Y-%m-%d')"
   ]
  },
  {
   "cell_type": "code",
   "execution_count": 84,
   "metadata": {},
   "outputs": [
    {
     "data": {
      "text/html": [
       "<div>\n",
       "<style scoped>\n",
       "    .dataframe tbody tr th:only-of-type {\n",
       "        vertical-align: middle;\n",
       "    }\n",
       "\n",
       "    .dataframe tbody tr th {\n",
       "        vertical-align: top;\n",
       "    }\n",
       "\n",
       "    .dataframe thead th {\n",
       "        text-align: right;\n",
       "    }\n",
       "</style>\n",
       "<table border=\"1\" class=\"dataframe\">\n",
       "  <thead>\n",
       "    <tr style=\"text-align: right;\">\n",
       "      <th></th>\n",
       "      <th>Count</th>\n",
       "      <th>Pct</th>\n",
       "      <th>Cuml Count</th>\n",
       "      <th>Cuml Pct</th>\n",
       "    </tr>\n",
       "    <tr>\n",
       "      <th>credit_flag_cutoff_date_fmt</th>\n",
       "      <th></th>\n",
       "      <th></th>\n",
       "      <th></th>\n",
       "      <th></th>\n",
       "    </tr>\n",
       "  </thead>\n",
       "  <tbody>\n",
       "    <tr>\n",
       "      <th>2022-01</th>\n",
       "      <td>15827.0</td>\n",
       "      <td>0.189083</td>\n",
       "      <td>15827.0</td>\n",
       "      <td>0.189083</td>\n",
       "    </tr>\n",
       "    <tr>\n",
       "      <th>2022-02</th>\n",
       "      <td>15512.0</td>\n",
       "      <td>0.185320</td>\n",
       "      <td>31339.0</td>\n",
       "      <td>0.374403</td>\n",
       "    </tr>\n",
       "    <tr>\n",
       "      <th>2022-03</th>\n",
       "      <td>19353.0</td>\n",
       "      <td>0.231208</td>\n",
       "      <td>50692.0</td>\n",
       "      <td>0.605610</td>\n",
       "    </tr>\n",
       "    <tr>\n",
       "      <th>2022-04</th>\n",
       "      <td>16822.0</td>\n",
       "      <td>0.200970</td>\n",
       "      <td>67514.0</td>\n",
       "      <td>0.806580</td>\n",
       "    </tr>\n",
       "    <tr>\n",
       "      <th>2022-05</th>\n",
       "      <td>16185.0</td>\n",
       "      <td>0.193360</td>\n",
       "      <td>83699.0</td>\n",
       "      <td>0.999940</td>\n",
       "    </tr>\n",
       "    <tr>\n",
       "      <th>2022-06</th>\n",
       "      <td>5.0</td>\n",
       "      <td>0.000060</td>\n",
       "      <td>83704.0</td>\n",
       "      <td>1.000000</td>\n",
       "    </tr>\n",
       "  </tbody>\n",
       "</table>\n",
       "</div>"
      ],
      "text/plain": [
       "                               Count       Pct  Cuml Count  Cuml Pct\n",
       "credit_flag_cutoff_date_fmt                                         \n",
       "2022-01                      15827.0  0.189083     15827.0  0.189083\n",
       "2022-02                      15512.0  0.185320     31339.0  0.374403\n",
       "2022-03                      19353.0  0.231208     50692.0  0.605610\n",
       "2022-04                      16822.0  0.200970     67514.0  0.806580\n",
       "2022-05                      16185.0  0.193360     83699.0  0.999940\n",
       "2022-06                          5.0  0.000060     83704.0  1.000000"
      ]
     },
     "execution_count": 84,
     "metadata": {},
     "output_type": "execute_result"
    }
   ],
   "source": [
    "freq(fleector[\"credit_flag_cutoff_date_fmt\"].astype(str).str.slice(0, 7))"
   ]
  },
  {
   "cell_type": "code",
   "execution_count": 85,
   "metadata": {},
   "outputs": [
    {
     "data": {
      "text/plain": [
       "Index(['seq', 'ats_id', 'open_date', 'open_mon', 'open_qtr',\n",
       "       'writeoff_flag_12mo', 'writeoff_flag_18mo', 'wo_amount', 'wo_date',\n",
       "       'wo_mon', 'wo_qtr', 'pmt_sum_12mo', 'pmt_count_12mo',\n",
       "       'return_pmt_count_12mo', 'pmt_sum_18mo', 'pmt_count_18mo',\n",
       "       'return_pmt_count_18mo', 'platform', 'lock_code', 'lock_reason',\n",
       "       'revenue_12mo', 'revenue_18mo', 'fuel_revenue_12mo',\n",
       "       'fuel_revenue_18mo', 'fee_revenue_12mo', 'fee_revenue_18mo',\n",
       "       'account_code', 'limit_approved', 'last_pos_cred_limit', 'gallons_12mo',\n",
       "       'gallons_18mo', 'roadster_twentile', 'ats_bill_cycle_group', 'app_flag',\n",
       "       'acct_flag', 'app_mon', 'date_created', 'channel', 'team',\n",
       "       'processor_cd', 'brand', 'product', 'portfolio', 'status_credit',\n",
       "       'status_fraud', 'creditstatus', 'req_credit_limit', 'builder_pro_flag',\n",
       "       'test_app', 'dup_match', 'approve_flag', 'cond_deposit_category',\n",
       "       'secured_approval_flag', 'cust_name', 'fed_id', 'nmf_contact_email',\n",
       "       'business_type', 'no_of_cards', 'org_type', 'org_type_descr',\n",
       "       'card_type', 'cust_address1', 'cust_address2', 'cust_city',\n",
       "       'cust_state', 'cust_zip', 'guarant_fname', 'guarant_lname',\n",
       "       'guarant_street1', 'guarant_street2', 'guarant_city', 'guarant_state',\n",
       "       'guarant_zip', 'guarant_dob', 'guarant_sec_enc', 'ship_street1',\n",
       "       'ship_street2', 'ship_city', 'ship_state', 'ship_zip',\n",
       "       'most_recent_rev_12_mo', 'most_recent_rev_6_mo',\n",
       "       'most_recent_spend_12_mo', 'most_recent_spend_6_mo', 'unen_ssn',\n",
       "       'last_touch_channel', 'fraud_lock_flag', 'fraud_decline_flag',\n",
       "       'straight_roller_flag', 'final_fraud_flag', 'active_flag',\n",
       "       'new_channel', 'credit_flag_cutoff_date_fmt'],\n",
       "      dtype='object')"
      ]
     },
     "execution_count": 85,
     "metadata": {},
     "output_type": "execute_result"
    }
   ],
   "source": [
    "fleector.columns"
   ]
  },
  {
   "cell_type": "code",
   "execution_count": 111,
   "metadata": {},
   "outputs": [
    {
     "name": "stdout",
     "output_type": "stream",
     "text": [
      "(176804, 98)\n",
      "(89741, 98)\n",
      "(14482, 5)\n"
     ]
    },
    {
     "name": "stderr",
     "output_type": "stream",
     "text": [
      "/tmp/ipykernel_5854/2289841132.py:11: FutureWarning: Indexing with multiple keys (implicitly converted to a tuple of keys) will be deprecated, use a list instead.\n",
      "  sbfe_for_fleector_roll = sbfe_for_fleector.groupby(by = ['seq'])[\"inquiry_count_06\", \"inquiry_count_03\", \"inquiry_count_01\", \"inquiry_count_week\"].sum().reset_index()\n"
     ]
    }
   ],
   "source": [
    "sbfe_for_fleector = sbfe.merge(fleector, on = \"full_addr_clean\")\n",
    "print(sbfe_for_fleector.shape)\n",
    "sbfe_for_fleector = sbfe_for_fleector[sbfe_for_fleector[\"inquiry_date_fmt\"] < sbfe_for_fleector[\"credit_flag_cutoff_date_fmt\"]]\n",
    "print(sbfe_for_fleector.shape)\n",
    "\n",
    "sbfe_for_fleector['inquiry_count_06']   = np.where((sbfe_for_fleector[\"credit_flag_cutoff_date_fmt\"] - sbfe_for_fleector[\"inquiry_date_fmt\"])/np.timedelta64(1, 'M') <= 6, 1, 0)\n",
    "sbfe_for_fleector['inquiry_count_03']   = np.where((sbfe_for_fleector[\"credit_flag_cutoff_date_fmt\"] - sbfe_for_fleector[\"inquiry_date_fmt\"])/np.timedelta64(1, 'M') <= 3, 1, 0)\n",
    "sbfe_for_fleector['inquiry_count_01']   = np.where((sbfe_for_fleector[\"credit_flag_cutoff_date_fmt\"] - sbfe_for_fleector[\"inquiry_date_fmt\"])/np.timedelta64(1, 'M') <= 1, 1, 0)\n",
    "sbfe_for_fleector['inquiry_count_week'] = np.where((sbfe_for_fleector[\"credit_flag_cutoff_date_fmt\"] - sbfe_for_fleector[\"inquiry_date_fmt\"])/np.timedelta64(1, 'W') <= 1, 1, 0)\n",
    "\n",
    "sbfe_for_fleector_roll = sbfe_for_fleector.groupby(by = ['seq'])[\"inquiry_count_06\", \"inquiry_count_03\", \"inquiry_count_01\", \"inquiry_count_week\"].sum().reset_index()\n",
    "print(sbfe_for_fleector_roll.shape)"
   ]
  },
  {
   "cell_type": "code",
   "execution_count": 112,
   "metadata": {},
   "outputs": [
    {
     "name": "stdout",
     "output_type": "stream",
     "text": [
      "(83704, 99)\n"
     ]
    }
   ],
   "source": [
    "fleector = fleector.merge(sbfe_for_fleector_roll, on = \"seq\", how = \"left\")\n",
    "print(fleector.shape)"
   ]
  },
  {
   "cell_type": "code",
   "execution_count": 113,
   "metadata": {},
   "outputs": [],
   "source": [
    "fleector['inquiry_count_06'] = np.where(fleector[\"inquiry_count_06\"].isnull(), 0,   fleector[\"inquiry_count_06\"])\n",
    "fleector['inquiry_count_03'] = np.where(fleector[\"inquiry_count_03\"].isnull(), 0,   fleector[\"inquiry_count_03\"])\n",
    "fleector['inquiry_count_01'] = np.where(fleector[\"inquiry_count_01\"].isnull(), 0,   fleector[\"inquiry_count_01\"])\n",
    "fleector['inquiry_count_week']=np.where(fleector[\"inquiry_count_week\"].isnull(), 0, fleector[\"inquiry_count_week\"])"
   ]
  },
  {
   "cell_type": "code",
   "execution_count": 114,
   "metadata": {},
   "outputs": [],
   "source": [
    "fleector[\"fraud_ind\"] = fleector[\"final_fraud_flag\"].astype(float)"
   ]
  },
  {
   "cell_type": "code",
   "execution_count": 115,
   "metadata": {},
   "outputs": [],
   "source": [
    "fmt = make_format(cuts = [-np.inf, 0, 1, 2, 3, 4, 5, 10, 20, 30, 40, 50, np.inf], exceptions = [-1])\n",
    "result = dict()\n",
    "keep = [\"inquiry_count_06\", 'inquiry_count_03', 'inquiry_count_01', 'inquiry_count_week']\n",
    "for i, a in enumerate(keep):\n",
    "    result[i] = bivariate(fleector[a].astype(float), fleector[\"fraud_ind\"], format = fmt, groups= fleector.acct_flag)\n",
    "\n",
    "wb = TableWriter(filename = \"./_temp/fleector.xlsx\", options={'nan_inf_to_errors': True}, overwrite = True)\n",
    "for k in result.keys():\n",
    "    wb.write_table(\n",
    "        result[k],\n",
    "        sheetname=\"biv\",\n",
    "        conditional_fmt_cols=[3],\n",
    "    )\n",
    "wb.close()"
   ]
  },
  {
   "attachments": {},
   "cell_type": "markdown",
   "metadata": {},
   "source": [
    "#### Other"
   ]
  },
  {
   "cell_type": "code",
   "execution_count": null,
   "metadata": {},
   "outputs": [],
   "source": []
  },
  {
   "cell_type": "code",
   "execution_count": 84,
   "metadata": {},
   "outputs": [],
   "source": [
    "statename_to_abbr = {\n",
    "    # Other\n",
    "    'District of Columbia': 'DC',\n",
    "\n",
    "    # States\n",
    "    'Alabama': 'AL',\n",
    "    'Montana': 'MT',\n",
    "    'Alaska': 'AK',\n",
    "    'Nebraska': 'NE',\n",
    "    'Arizona': 'AZ',\n",
    "    'Nevada': 'NV',\n",
    "    'Arkansas': 'AR',\n",
    "    'New Hampshire': 'NH',\n",
    "    'California': 'CA',\n",
    "    'New Jersey': 'NJ',\n",
    "    'Colorado': 'CO',\n",
    "    'New Mexico': 'NM',\n",
    "    'Connecticut': 'CT',\n",
    "    'New York': 'NY',\n",
    "    'Delaware': 'DE',\n",
    "    'North Carolina': 'NC',\n",
    "    'Florida': 'FL',\n",
    "    'North Dakota': 'ND',\n",
    "    'Georgia': 'GA',\n",
    "    'Ohio': 'OH',\n",
    "    'Hawaii': 'HI',\n",
    "    'Oklahoma': 'OK',\n",
    "    'Idaho': 'ID',\n",
    "    'Oregon': 'OR',\n",
    "    'Illinois': 'IL',\n",
    "    'Pennsylvania': 'PA',\n",
    "    'Indiana': 'IN',\n",
    "    'Rhode Island': 'RI',\n",
    "    'Iowa': 'IA',\n",
    "    'South Carolina': 'SC',\n",
    "    'Kansas': 'KS',\n",
    "    'South Dakota': 'SD',\n",
    "    'Kentucky': 'KY',\n",
    "    'Tennessee': 'TN',\n",
    "    'Louisiana': 'LA',\n",
    "    'Texas': 'TX',\n",
    "    'Maine': 'ME',\n",
    "    'Utah': 'UT',\n",
    "    'Maryland': 'MD',\n",
    "    'Vermont': 'VT',\n",
    "    'Massachusetts': 'MA',\n",
    "    'Virginia': 'VA',\n",
    "    'Michigan': 'MI',\n",
    "    'Washington': 'WA',\n",
    "    'Minnesota': 'MN',\n",
    "    'West Virginia': 'WV',\n",
    "    'Mississippi': 'MS',\n",
    "    'Wisconsin': 'WI',\n",
    "    'Missouri': 'MO',\n",
    "    'Wyoming': 'WY',\n",
    "    \"Puerto Rico\" : \"PR\",\n",
    "\"Virgin Islands\" : \"VI\"\n",
    "}"
   ]
  },
  {
   "cell_type": "code",
   "execution_count": null,
   "metadata": {},
   "outputs": [],
   "source": []
  }
 ],
 "metadata": {
  "kernelspec": {
   "display_name": "data-science",
   "language": "python",
   "name": "python3"
  },
  "language_info": {
   "codemirror_mode": {
    "name": "ipython",
    "version": 3
   },
   "file_extension": ".py",
   "mimetype": "text/x-python",
   "name": "python",
   "nbconvert_exporter": "python",
   "pygments_lexer": "ipython3",
   "version": "3.10.6"
  },
  "orig_nbformat": 4
 },
 "nbformat": 4,
 "nbformat_minor": 2
}
