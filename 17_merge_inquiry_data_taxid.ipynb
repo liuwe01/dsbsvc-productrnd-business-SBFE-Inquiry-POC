{
 "cells": [
  {
   "cell_type": "code",
   "execution_count": 1,
   "metadata": {},
   "outputs": [],
   "source": [
    "import time\n",
    "import pandas as pd\n",
    "import numpy as np\n",
    "import math\n",
    "\n",
    "# internal tools\n",
    "from dsgtools.reporting import make_format\n",
    "from dsgtools.reporting import TableWriter\n",
    "from dsgtools.reporting import freq\n",
    "from dsgtools.reporting import bivariate"
   ]
  },
  {
   "cell_type": "code",
   "execution_count": 2,
   "metadata": {},
   "outputs": [
    {
     "name": "stdout",
     "output_type": "stream",
     "text": [
      "(640958, 36)\n",
      "(114460, 39)\n",
      "(75000, 22)\n",
      "(83704, 92)\n"
     ]
    }
   ],
   "source": [
    "## Input Data\n",
    "chase = pd.read_adls(\"Analytics/RnD Projects/Product RnD/Business/LexisNexis 9999 (SBFE Inquiry POC)/Performance/Fraud Sample/Chase_11449/\" + \"chase_stacked_final.parquet\")\n",
    "print(chase.shape)\n",
    "\n",
    "tmobile = pd.read_adls(\"Analytics/RnD Projects/Product RnD/Business/LexisNexis 9999 (SBFE Inquiry POC)/Performance/Fraud Sample/tmobile_10823/\" + \"tmbile_file_to_use.parquet\")\n",
    "print(tmobile.shape)\n",
    "\n",
    "stripe = pd.read_adls(\"Analytics/RnD Projects/Product RnD/Business/LexisNexis 9999 (SBFE Inquiry POC)/Performance/Fraud Sample/stripe_11363/\" + \"stripe_file_to_use.parquet\")\n",
    "print(stripe.shape)\n",
    "\n",
    "fleector = pd.read_adls(\"Analytics/RnD Projects/Product RnD/Business/LexisNexis 9999 (SBFE Inquiry POC)/Performance/Fraud Sample/fleector_11124/\" + \"fleector_sample_to_use.parquet\")\n",
    "print(fleector.shape)"
   ]
  },
  {
   "cell_type": "code",
   "execution_count": 3,
   "metadata": {},
   "outputs": [],
   "source": [
    "## keep seleid, full address, phone, taxid, performance flag >> business information >> might need to dedup"
   ]
  },
  {
   "cell_type": "markdown",
   "metadata": {
    "jp-MarkdownHeadingCollapsed": true,
    "tags": []
   },
   "source": [
    "#### SBFE Inquiry"
   ]
  },
  {
   "cell_type": "code",
   "execution_count": 4,
   "metadata": {},
   "outputs": [
    {
     "name": "stdout",
     "output_type": "stream",
     "text": [
      "(79429086, 20)\n"
     ]
    }
   ],
   "source": [
    "path = \"Analytics/RnD Projects/Product RnD/Business/LexisNexis 9999 (SBFE Inquiry POC)/Data Modeling Clean/sbfe_seleid_append_deduped_cleaned_0501.parquet\"\n",
    "sbfe = pd.read_adls(path, reader = pd.read_parquet)\n",
    "print(sbfe.shape)"
   ]
  },
  {
   "cell_type": "code",
   "execution_count": 5,
   "metadata": {},
   "outputs": [
    {
     "data": {
      "text/plain": [
       "Index(['accountnumber_x', 'companyname', 'alternatecompanyname_x', 'addr',\n",
       "       'city', 'state', 'zip', 'businessphone', 'taxidnumber', 'historydate_x',\n",
       "       'sufficient_input', 'accountnumber_y', 'alternatecompanyname_y',\n",
       "       'historydate_y', 'powid', 'proxid', 'seleid', 'orgid', 'ultid',\n",
       "       'overallweight'],\n",
       "      dtype='object')"
      ]
     },
     "execution_count": 5,
     "metadata": {},
     "output_type": "execute_result"
    }
   ],
   "source": [
    "sbfe.columns"
   ]
  },
  {
   "cell_type": "code",
   "execution_count": 6,
   "metadata": {},
   "outputs": [],
   "source": [
    "sbfe = sbfe[[\"seleid\", \"historydate_x\", \"taxidnumber\"]]\n",
    "sbfe.columns = [\"seleid_inquiry_sbfe\", \"inquiry_date\", \"taxidnumber\"]"
   ]
  },
  {
   "cell_type": "code",
   "execution_count": 7,
   "metadata": {},
   "outputs": [],
   "source": [
    "sbfe[\"inquiry_date\"] = sbfe[\"inquiry_date\"].astype(int)\n",
    "sbfe[\"inquiry_date_fmt\"] = pd.to_datetime(sbfe[\"inquiry_date\"], format='%Y%m%d')"
   ]
  },
  {
   "cell_type": "code",
   "execution_count": 8,
   "metadata": {},
   "outputs": [],
   "source": [
    "sbfe[\"seleid_inquiry_sbfe\"] = sbfe[\"seleid_inquiry_sbfe\"].astype(float)"
   ]
  },
  {
   "cell_type": "code",
   "execution_count": 9,
   "metadata": {},
   "outputs": [
    {
     "data": {
      "text/html": [
       "<div>\n",
       "<style scoped>\n",
       "    .dataframe tbody tr th:only-of-type {\n",
       "        vertical-align: middle;\n",
       "    }\n",
       "\n",
       "    .dataframe tbody tr th {\n",
       "        vertical-align: top;\n",
       "    }\n",
       "\n",
       "    .dataframe thead th {\n",
       "        text-align: right;\n",
       "    }\n",
       "</style>\n",
       "<table border=\"1\" class=\"dataframe\">\n",
       "  <thead>\n",
       "    <tr style=\"text-align: right;\">\n",
       "      <th></th>\n",
       "      <th>seleid_inquiry_sbfe</th>\n",
       "      <th>inquiry_date</th>\n",
       "      <th>taxidnumber</th>\n",
       "      <th>inquiry_date_fmt</th>\n",
       "    </tr>\n",
       "  </thead>\n",
       "  <tbody>\n",
       "    <tr>\n",
       "      <th>0</th>\n",
       "      <td>1.336156e+11</td>\n",
       "      <td>20210701</td>\n",
       "      <td></td>\n",
       "      <td>2021-07-01</td>\n",
       "    </tr>\n",
       "    <tr>\n",
       "      <th>1</th>\n",
       "      <td>1.330122e+09</td>\n",
       "      <td>20210701</td>\n",
       "      <td></td>\n",
       "      <td>2021-07-01</td>\n",
       "    </tr>\n",
       "    <tr>\n",
       "      <th>2</th>\n",
       "      <td>9.064136e+08</td>\n",
       "      <td>20210701</td>\n",
       "      <td></td>\n",
       "      <td>2021-07-01</td>\n",
       "    </tr>\n",
       "    <tr>\n",
       "      <th>5</th>\n",
       "      <td>6.136772e+07</td>\n",
       "      <td>20210701</td>\n",
       "      <td></td>\n",
       "      <td>2021-07-01</td>\n",
       "    </tr>\n",
       "    <tr>\n",
       "      <th>6</th>\n",
       "      <td>1.371452e+11</td>\n",
       "      <td>20210701</td>\n",
       "      <td></td>\n",
       "      <td>2021-07-01</td>\n",
       "    </tr>\n",
       "  </tbody>\n",
       "</table>\n",
       "</div>"
      ],
      "text/plain": [
       "   seleid_inquiry_sbfe  inquiry_date taxidnumber inquiry_date_fmt\n",
       "0         1.336156e+11      20210701                   2021-07-01\n",
       "1         1.330122e+09      20210701                   2021-07-01\n",
       "2         9.064136e+08      20210701                   2021-07-01\n",
       "5         6.136772e+07      20210701                   2021-07-01\n",
       "6         1.371452e+11      20210701                   2021-07-01"
      ]
     },
     "execution_count": 9,
     "metadata": {},
     "output_type": "execute_result"
    }
   ],
   "source": [
    "sbfe.head()"
   ]
  },
  {
   "cell_type": "markdown",
   "metadata": {
    "jp-MarkdownHeadingCollapsed": true,
    "tags": []
   },
   "source": [
    "#### Stripe 11363"
   ]
  },
  {
   "cell_type": "code",
   "execution_count": 10,
   "metadata": {},
   "outputs": [
    {
     "name": "stdout",
     "output_type": "stream",
     "text": [
      "(74443, 22)\n",
      "True\n"
     ]
    }
   ],
   "source": [
    "stripe = stripe.fillna(\"\")\n",
    "stripe = stripe.drop_duplicates(subset = ['companyname', 'alternatecompanyname', 'bus_streetaddress1', \n",
    "                                          'bus_streetaddress2', 'bus_city', 'bus_state', 'bus_zip', 'bus_phone', 'bus_website'], ignore_index = True) \n",
    "print(stripe.shape)\n",
    "print(stripe.uniqueid.is_unique)"
   ]
  },
  {
   "cell_type": "markdown",
   "metadata": {
    "tags": []
   },
   "source": [
    "#### TMobile 10823"
   ]
  },
  {
   "cell_type": "code",
   "execution_count": 26,
   "metadata": {},
   "outputs": [],
   "source": [
    "tmobile[\"credit_flag_cutoff_date\"] = tmobile.appdatetime_gmt.str.slice(0, 9)\n",
    "tmobile[\"credit_flag_cutoff_date_fmt\"] = pd.to_datetime(tmobile[\"credit_flag_cutoff_date\"], format='%d%b%Y')"
   ]
  },
  {
   "cell_type": "code",
   "execution_count": 27,
   "metadata": {},
   "outputs": [
    {
     "data": {
      "text/html": [
       "<div>\n",
       "<style scoped>\n",
       "    .dataframe tbody tr th:only-of-type {\n",
       "        vertical-align: middle;\n",
       "    }\n",
       "\n",
       "    .dataframe tbody tr th {\n",
       "        vertical-align: top;\n",
       "    }\n",
       "\n",
       "    .dataframe thead th {\n",
       "        text-align: right;\n",
       "    }\n",
       "</style>\n",
       "<table border=\"1\" class=\"dataframe\">\n",
       "  <thead>\n",
       "    <tr style=\"text-align: right;\">\n",
       "      <th></th>\n",
       "      <th>Count</th>\n",
       "      <th>Pct</th>\n",
       "      <th>Cuml Count</th>\n",
       "      <th>Cuml Pct</th>\n",
       "    </tr>\n",
       "    <tr>\n",
       "      <th>credit_flag_cutoff_date_fmt</th>\n",
       "      <th></th>\n",
       "      <th></th>\n",
       "      <th></th>\n",
       "      <th></th>\n",
       "    </tr>\n",
       "  </thead>\n",
       "  <tbody>\n",
       "    <tr>\n",
       "      <th>2022-01</th>\n",
       "      <td>20510.0</td>\n",
       "      <td>0.179189</td>\n",
       "      <td>20510.0</td>\n",
       "      <td>0.179189</td>\n",
       "    </tr>\n",
       "    <tr>\n",
       "      <th>2022-02</th>\n",
       "      <td>22452.0</td>\n",
       "      <td>0.196156</td>\n",
       "      <td>42962.0</td>\n",
       "      <td>0.375345</td>\n",
       "    </tr>\n",
       "    <tr>\n",
       "      <th>2022-03</th>\n",
       "      <td>22846.0</td>\n",
       "      <td>0.199598</td>\n",
       "      <td>65808.0</td>\n",
       "      <td>0.574943</td>\n",
       "    </tr>\n",
       "    <tr>\n",
       "      <th>2022-04</th>\n",
       "      <td>14973.0</td>\n",
       "      <td>0.130814</td>\n",
       "      <td>80781.0</td>\n",
       "      <td>0.705757</td>\n",
       "    </tr>\n",
       "    <tr>\n",
       "      <th>2022-05</th>\n",
       "      <td>16271.0</td>\n",
       "      <td>0.142154</td>\n",
       "      <td>97052.0</td>\n",
       "      <td>0.847912</td>\n",
       "    </tr>\n",
       "    <tr>\n",
       "      <th>2022-06</th>\n",
       "      <td>17408.0</td>\n",
       "      <td>0.152088</td>\n",
       "      <td>114460.0</td>\n",
       "      <td>1.000000</td>\n",
       "    </tr>\n",
       "  </tbody>\n",
       "</table>\n",
       "</div>"
      ],
      "text/plain": [
       "                               Count       Pct  Cuml Count  Cuml Pct\n",
       "credit_flag_cutoff_date_fmt                                         \n",
       "2022-01                      20510.0  0.179189     20510.0  0.179189\n",
       "2022-02                      22452.0  0.196156     42962.0  0.375345\n",
       "2022-03                      22846.0  0.199598     65808.0  0.574943\n",
       "2022-04                      14973.0  0.130814     80781.0  0.705757\n",
       "2022-05                      16271.0  0.142154     97052.0  0.847912\n",
       "2022-06                      17408.0  0.152088    114460.0  1.000000"
      ]
     },
     "execution_count": 27,
     "metadata": {},
     "output_type": "execute_result"
    }
   ],
   "source": [
    "freq(tmobile[\"credit_flag_cutoff_date_fmt\"].astype(str).str.slice(0, 7))"
   ]
  },
  {
   "cell_type": "code",
   "execution_count": 28,
   "metadata": {},
   "outputs": [
    {
     "data": {
      "text/html": [
       "<div>\n",
       "<style scoped>\n",
       "    .dataframe tbody tr th:only-of-type {\n",
       "        vertical-align: middle;\n",
       "    }\n",
       "\n",
       "    .dataframe tbody tr th {\n",
       "        vertical-align: top;\n",
       "    }\n",
       "\n",
       "    .dataframe thead th {\n",
       "        text-align: right;\n",
       "    }\n",
       "</style>\n",
       "<table border=\"1\" class=\"dataframe\">\n",
       "  <thead>\n",
       "    <tr style=\"text-align: right;\">\n",
       "      <th></th>\n",
       "      <th>Count</th>\n",
       "      <th>Pct</th>\n",
       "      <th>Cuml Count</th>\n",
       "      <th>Cuml Pct</th>\n",
       "    </tr>\n",
       "    <tr>\n",
       "      <th>src</th>\n",
       "      <th></th>\n",
       "      <th></th>\n",
       "      <th></th>\n",
       "      <th></th>\n",
       "    </tr>\n",
       "  </thead>\n",
       "  <tbody>\n",
       "    <tr>\n",
       "      <th>march</th>\n",
       "      <td>33679.0</td>\n",
       "      <td>0.294243</td>\n",
       "      <td>33679.0</td>\n",
       "      <td>0.294243</td>\n",
       "    </tr>\n",
       "    <tr>\n",
       "      <th>retro</th>\n",
       "      <td>80781.0</td>\n",
       "      <td>0.705757</td>\n",
       "      <td>114460.0</td>\n",
       "      <td>1.000000</td>\n",
       "    </tr>\n",
       "  </tbody>\n",
       "</table>\n",
       "</div>"
      ],
      "text/plain": [
       "         Count       Pct  Cuml Count  Cuml Pct\n",
       "src                                           \n",
       "march  33679.0  0.294243     33679.0  0.294243\n",
       "retro  80781.0  0.705757    114460.0  1.000000"
      ]
     },
     "execution_count": 28,
     "metadata": {},
     "output_type": "execute_result"
    }
   ],
   "source": [
    "freq(tmobile.src)"
   ]
  },
  {
   "cell_type": "code",
   "execution_count": 29,
   "metadata": {},
   "outputs": [
    {
     "data": {
      "text/html": [
       "<div>\n",
       "<style scoped>\n",
       "    .dataframe tbody tr th:only-of-type {\n",
       "        vertical-align: middle;\n",
       "    }\n",
       "\n",
       "    .dataframe tbody tr th {\n",
       "        vertical-align: top;\n",
       "    }\n",
       "\n",
       "    .dataframe thead th {\n",
       "        text-align: right;\n",
       "    }\n",
       "</style>\n",
       "<table border=\"1\" class=\"dataframe\">\n",
       "  <thead>\n",
       "    <tr style=\"text-align: right;\">\n",
       "      <th></th>\n",
       "      <th>Count</th>\n",
       "      <th>Pct</th>\n",
       "      <th>Cuml Count</th>\n",
       "      <th>Cuml Pct</th>\n",
       "    </tr>\n",
       "    <tr>\n",
       "      <th>fraud_ind</th>\n",
       "      <th></th>\n",
       "      <th></th>\n",
       "      <th></th>\n",
       "      <th></th>\n",
       "    </tr>\n",
       "  </thead>\n",
       "  <tbody>\n",
       "    <tr>\n",
       "      <th>0</th>\n",
       "      <td>58655.0</td>\n",
       "      <td>0.512450</td>\n",
       "      <td>58655.0</td>\n",
       "      <td>0.512450</td>\n",
       "    </tr>\n",
       "    <tr>\n",
       "      <th>1</th>\n",
       "      <td>3762.0</td>\n",
       "      <td>0.032867</td>\n",
       "      <td>62417.0</td>\n",
       "      <td>0.545317</td>\n",
       "    </tr>\n",
       "    <tr>\n",
       "      <th>Missing</th>\n",
       "      <td>52043.0</td>\n",
       "      <td>0.454683</td>\n",
       "      <td>114460.0</td>\n",
       "      <td>1.000000</td>\n",
       "    </tr>\n",
       "  </tbody>\n",
       "</table>\n",
       "</div>"
      ],
      "text/plain": [
       "             Count       Pct  Cuml Count  Cuml Pct\n",
       "fraud_ind                                         \n",
       "0          58655.0  0.512450     58655.0  0.512450\n",
       "1           3762.0  0.032867     62417.0  0.545317\n",
       "Missing    52043.0  0.454683    114460.0  1.000000"
      ]
     },
     "execution_count": 29,
     "metadata": {},
     "output_type": "execute_result"
    }
   ],
   "source": [
    "freq(tmobile.fraud_ind)"
   ]
  },
  {
   "cell_type": "code",
   "execution_count": 30,
   "metadata": {},
   "outputs": [
    {
     "name": "stdout",
     "output_type": "stream",
     "text": [
      "(62417, 41)\n"
     ]
    }
   ],
   "source": [
    "tmobile = tmobile[tmobile[\"fraud_ind\"].notnull()]\n",
    "print(tmobile.shape)"
   ]
  },
  {
   "cell_type": "code",
   "execution_count": 31,
   "metadata": {},
   "outputs": [
    {
     "data": {
      "text/html": [
       "<div>\n",
       "<style scoped>\n",
       "    .dataframe tbody tr th:only-of-type {\n",
       "        vertical-align: middle;\n",
       "    }\n",
       "\n",
       "    .dataframe tbody tr th {\n",
       "        vertical-align: top;\n",
       "    }\n",
       "\n",
       "    .dataframe thead th {\n",
       "        text-align: right;\n",
       "    }\n",
       "</style>\n",
       "<table border=\"1\" class=\"dataframe\">\n",
       "  <thead>\n",
       "    <tr style=\"text-align: right;\">\n",
       "      <th></th>\n",
       "      <th>Count</th>\n",
       "      <th>Pct</th>\n",
       "      <th>Cuml Count</th>\n",
       "      <th>Cuml Pct</th>\n",
       "    </tr>\n",
       "    <tr>\n",
       "      <th>src</th>\n",
       "      <th></th>\n",
       "      <th></th>\n",
       "      <th></th>\n",
       "      <th></th>\n",
       "    </tr>\n",
       "  </thead>\n",
       "  <tbody>\n",
       "    <tr>\n",
       "      <th>march</th>\n",
       "      <td>21914.0</td>\n",
       "      <td>0.35109</td>\n",
       "      <td>21914.0</td>\n",
       "      <td>0.35109</td>\n",
       "    </tr>\n",
       "    <tr>\n",
       "      <th>retro</th>\n",
       "      <td>40503.0</td>\n",
       "      <td>0.64891</td>\n",
       "      <td>62417.0</td>\n",
       "      <td>1.00000</td>\n",
       "    </tr>\n",
       "  </tbody>\n",
       "</table>\n",
       "</div>"
      ],
      "text/plain": [
       "         Count      Pct  Cuml Count  Cuml Pct\n",
       "src                                          \n",
       "march  21914.0  0.35109     21914.0   0.35109\n",
       "retro  40503.0  0.64891     62417.0   1.00000"
      ]
     },
     "execution_count": 31,
     "metadata": {},
     "output_type": "execute_result"
    }
   ],
   "source": [
    "freq(tmobile.src)"
   ]
  },
  {
   "cell_type": "code",
   "execution_count": 32,
   "metadata": {},
   "outputs": [],
   "source": [
    "tmobile[\"credit_flag_cutoff_date\"] = tmobile[\"appdatetime_gmt\"].str.slice(0, 9)\n",
    "tmobile[\"credit_flag_cutoff_date_fmt\"] = pd.to_datetime(tmobile[\"credit_flag_cutoff_date\"], format='%d%b%Y')"
   ]
  },
  {
   "cell_type": "code",
   "execution_count": 33,
   "metadata": {},
   "outputs": [
    {
     "data": {
      "text/plain": [
       "Index(['crid_encr', 'appdatetime_gmt', 'businessname', 'business_contactphone',\n",
       "       'business_addressline1', 'business_addressline2',\n",
       "       'business_addresscity', 'business_addressstate',\n",
       "       'business_addresspostalcode', 'federaltaxid', 'contactfirstname',\n",
       "       'contactmiddlename', 'contactlastname', 'contact_contactphone',\n",
       "       'contact_addressline1', 'contact_addressline2', 'contact_addresscity',\n",
       "       'contact_addressstate', 'contact_addresspostalcode', 'contact_dob',\n",
       "       'contact_idnum', 'contact_idtype', 'contact_idstate', 'contact_email',\n",
       "       'application_channel', 'fraud_ind', 'fraud_tp_ind', 'fraud_fp_ind',\n",
       "       'fpd_ind', 'any_wo_ind', 'activationflag', 'seq', 'account', 'date',\n",
       "       'src', 'contact_dob_year', 'contact_dob_month', 'contact_dob_day',\n",
       "       'contact_driverlicensenumber', 'credit_flag_cutoff_date',\n",
       "       'credit_flag_cutoff_date_fmt'],\n",
       "      dtype='object')"
      ]
     },
     "execution_count": 33,
     "metadata": {},
     "output_type": "execute_result"
    }
   ],
   "source": [
    "tmobile.columns"
   ]
  },
  {
   "cell_type": "code",
   "execution_count": 34,
   "metadata": {},
   "outputs": [
    {
     "data": {
      "text/plain": [
       "(62417, 41)"
      ]
     },
     "execution_count": 34,
     "metadata": {},
     "output_type": "execute_result"
    }
   ],
   "source": [
    "tmobile[tmobile[\"federaltaxid\"] != \"\"].shape"
   ]
  },
  {
   "cell_type": "markdown",
   "metadata": {
    "jp-MarkdownHeadingCollapsed": true,
    "tags": []
   },
   "source": [
    "#### Chase"
   ]
  },
  {
   "cell_type": "code",
   "execution_count": 12,
   "metadata": {},
   "outputs": [
    {
     "name": "stdout",
     "output_type": "stream",
     "text": [
      "(640958, 36)\n"
     ]
    }
   ],
   "source": [
    "chase = pd.read_adls(\"Analytics/RnD Projects/Product RnD/Business/LexisNexis 9999 (SBFE Inquiry POC)/Performance/Fraud Sample/Chase_11449/chase_stacked_final.parquet\")\n",
    "print(chase.shape)"
   ]
  },
  {
   "cell_type": "code",
   "execution_count": 13,
   "metadata": {},
   "outputs": [],
   "source": [
    "chase[\"credit_flag_cutoff_date_fmt\"] = pd.to_datetime(chase[\"app_date\"], format='%d%b%Y')"
   ]
  },
  {
   "cell_type": "code",
   "execution_count": 14,
   "metadata": {},
   "outputs": [
    {
     "data": {
      "text/plain": [
       "Index(['transaction_id', 'cust_first_nm', 'cust_mid_init_tx', 'cust_last_nm',\n",
       "       'govt_issu_id_nb', 'line_1_ad', 'line_2_ad', 'city_nm', 'state_prov_cd',\n",
       "       'pst_area_7_cd', 'pst_area_cd', 'channel', 'bus_name', 'app_date',\n",
       "       'date_of_birth', 'decision', 'bizidscore', 'bd_score', 'bd_score1',\n",
       "       'bd_score2', 'bd_score3', 'bus_addr1', 'bus_addr2', 'bus_city',\n",
       "       'bus_state', 'bus_zip', 'bus_tax_id', 'bus_phone', 'bus_type',\n",
       "       'home_phone', 'bad', 'seq', 'account', 'date', 'LN_booked', 'count',\n",
       "       'credit_flag_cutoff_date_fmt'],\n",
       "      dtype='object')"
      ]
     },
     "execution_count": 14,
     "metadata": {},
     "output_type": "execute_result"
    }
   ],
   "source": [
    "chase.columns"
   ]
  },
  {
   "cell_type": "code",
   "execution_count": 17,
   "metadata": {},
   "outputs": [
    {
     "data": {
      "text/plain": [
       "(295, 37)"
      ]
     },
     "execution_count": 17,
     "metadata": {},
     "output_type": "execute_result"
    }
   ],
   "source": [
    "chase[chase.bus_tax_id == \"\"].shape"
   ]
  },
  {
   "cell_type": "code",
   "execution_count": 18,
   "metadata": {},
   "outputs": [
    {
     "name": "stdout",
     "output_type": "stream",
     "text": [
      "(640663, 37)\n"
     ]
    }
   ],
   "source": [
    "chase = chase[chase[\"bus_tax_id\"] != \"\"]\n",
    "print(chase.shape)"
   ]
  },
  {
   "cell_type": "code",
   "execution_count": 20,
   "metadata": {},
   "outputs": [
    {
     "data": {
      "text/plain": [
       "499427     821981929\n",
       "837612     364099086\n",
       "1018748    873995150\n",
       "82631      881360963\n",
       "37307      877827797\n",
       "             ...    \n",
       "156867     882571862\n",
       "140946     574985128\n",
       "62551      881982804\n",
       "1225640    874818394\n",
       "49725      881429212\n",
       "Name: bus_tax_id, Length: 640663, dtype: object"
      ]
     },
     "execution_count": 20,
     "metadata": {},
     "output_type": "execute_result"
    }
   ],
   "source": [
    "chase[\"bus_tax_id\"]"
   ]
  },
  {
   "cell_type": "code",
   "execution_count": 19,
   "metadata": {},
   "outputs": [
    {
     "data": {
      "text/plain": [
       "Index(['seleid_inquiry_sbfe', 'inquiry_date', 'taxidnumber',\n",
       "       'inquiry_date_fmt'],\n",
       "      dtype='object')"
      ]
     },
     "execution_count": 19,
     "metadata": {},
     "output_type": "execute_result"
    }
   ],
   "source": [
    "sbfe.columns"
   ]
  },
  {
   "cell_type": "code",
   "execution_count": 21,
   "metadata": {},
   "outputs": [
    {
     "name": "stdout",
     "output_type": "stream",
     "text": [
      "(85384, 41)\n",
      "(51535, 41)\n",
      "(23579, 5)\n"
     ]
    },
    {
     "name": "stderr",
     "output_type": "stream",
     "text": [
      "/tmp/ipykernel_1569/784999921.py:11: FutureWarning: Indexing with multiple keys (implicitly converted to a tuple of keys) will be deprecated, use a list instead.\n",
      "  sbfe_for_chase_roll = sbfe_for_chase.groupby(by = ['account'])[\"inquiry_count_06\", \"inquiry_count_03\", \"inquiry_count_01\", \"inquiry_count_week\"].sum().reset_index()\n"
     ]
    }
   ],
   "source": [
    "sbfe_for_chase = sbfe.merge(chase, left_on = \"taxidnumber\", right_on = \"bus_tax_id\")\n",
    "print(sbfe_for_chase.shape)\n",
    "sbfe_for_chase = sbfe_for_chase[sbfe_for_chase[\"inquiry_date_fmt\"] < sbfe_for_chase[\"credit_flag_cutoff_date_fmt\"]]\n",
    "print(sbfe_for_chase.shape)\n",
    "\n",
    "sbfe_for_chase['inquiry_count_06']   = np.where((sbfe_for_chase[\"credit_flag_cutoff_date_fmt\"] - sbfe_for_chase[\"inquiry_date_fmt\"])/np.timedelta64(1, 'M') <= 6, 1, 0)\n",
    "sbfe_for_chase['inquiry_count_03']   = np.where((sbfe_for_chase[\"credit_flag_cutoff_date_fmt\"] - sbfe_for_chase[\"inquiry_date_fmt\"])/np.timedelta64(1, 'M') <= 3, 1, 0)\n",
    "sbfe_for_chase['inquiry_count_01']   = np.where((sbfe_for_chase[\"credit_flag_cutoff_date_fmt\"] - sbfe_for_chase[\"inquiry_date_fmt\"])/np.timedelta64(1, 'M') <= 1, 1, 0)\n",
    "sbfe_for_chase['inquiry_count_week'] = np.where((sbfe_for_chase[\"credit_flag_cutoff_date_fmt\"] - sbfe_for_chase[\"inquiry_date_fmt\"])/np.timedelta64(1, 'W') <= 1, 1, 0)\n",
    "\n",
    "sbfe_for_chase_roll = sbfe_for_chase.groupby(by = ['account'])[\"inquiry_count_06\", \"inquiry_count_03\", \"inquiry_count_01\", \"inquiry_count_week\"].sum().reset_index()\n",
    "print(sbfe_for_chase_roll.shape)"
   ]
  },
  {
   "cell_type": "code",
   "execution_count": 22,
   "metadata": {},
   "outputs": [
    {
     "name": "stdout",
     "output_type": "stream",
     "text": [
      "(640663, 41)\n"
     ]
    }
   ],
   "source": [
    "chase = chase.merge(sbfe_for_chase_roll, on = \"account\", how = \"left\")\n",
    "print(chase.shape)"
   ]
  },
  {
   "cell_type": "code",
   "execution_count": 23,
   "metadata": {},
   "outputs": [],
   "source": [
    "chase['inquiry_count_06'] = np.where(chase[\"inquiry_count_06\"].isnull(), 0,   chase[\"inquiry_count_06\"])\n",
    "chase['inquiry_count_03'] = np.where(chase[\"inquiry_count_03\"].isnull(), 0,   chase[\"inquiry_count_03\"])\n",
    "chase['inquiry_count_01'] = np.where(chase[\"inquiry_count_01\"].isnull(), 0,   chase[\"inquiry_count_01\"])\n",
    "chase['inquiry_count_week']=np.where(chase[\"inquiry_count_week\"].isnull(), 0, chase[\"inquiry_count_week\"])"
   ]
  },
  {
   "cell_type": "code",
   "execution_count": 24,
   "metadata": {},
   "outputs": [],
   "source": [
    "chase[\"fraud_ind\"] = chase[\"bad\"].astype(float)"
   ]
  },
  {
   "cell_type": "code",
   "execution_count": 25,
   "metadata": {},
   "outputs": [],
   "source": [
    "fmt = make_format(cuts = [-np.inf, 0, 1, 2, 3, 4, 5, 10, 20, 30, 40, 50, np.inf], exceptions = [-1])\n",
    "result = dict()\n",
    "keep = [\"inquiry_count_06\", 'inquiry_count_03', 'inquiry_count_01', 'inquiry_count_week']\n",
    "for i, a in enumerate(keep):\n",
    "    result[i] = bivariate(chase[a].astype(float), chase[\"fraud_ind\"], format = fmt)\n",
    "\n",
    "wb = TableWriter(filename = \"./_temp/chase.xlsx\", options={'nan_inf_to_errors': True}, overwrite = True)\n",
    "for k in result.keys():\n",
    "    wb.write_table(\n",
    "        result[k],\n",
    "        sheetname=\"biv\",\n",
    "        conditional_fmt_cols=[3],\n",
    "    )\n",
    "wb.close()"
   ]
  },
  {
   "cell_type": "markdown",
   "metadata": {},
   "source": [
    "#### Fleector"
   ]
  },
  {
   "cell_type": "code",
   "execution_count": 39,
   "metadata": {},
   "outputs": [
    {
     "name": "stdout",
     "output_type": "stream",
     "text": [
      "(83704, 92)\n"
     ]
    }
   ],
   "source": [
    "fleector = pd.read_adls(\"Analytics/RnD Projects/Product RnD/Business/LexisNexis 9999 (SBFE Inquiry POC)/Performance/Fraud Sample/fleector_11124/fleector_sample_to_use.parquet\")\n",
    "print(fleector.shape)"
   ]
  },
  {
   "cell_type": "code",
   "execution_count": 40,
   "metadata": {},
   "outputs": [],
   "source": [
    "fleector[\"credit_flag_cutoff_date_fmt\"] = pd.to_datetime(fleector[\"date_created\"], format='%Y-%m-%d')"
   ]
  },
  {
   "cell_type": "code",
   "execution_count": 41,
   "metadata": {},
   "outputs": [
    {
     "data": {
      "text/html": [
       "<div>\n",
       "<style scoped>\n",
       "    .dataframe tbody tr th:only-of-type {\n",
       "        vertical-align: middle;\n",
       "    }\n",
       "\n",
       "    .dataframe tbody tr th {\n",
       "        vertical-align: top;\n",
       "    }\n",
       "\n",
       "    .dataframe thead th {\n",
       "        text-align: right;\n",
       "    }\n",
       "</style>\n",
       "<table border=\"1\" class=\"dataframe\">\n",
       "  <thead>\n",
       "    <tr style=\"text-align: right;\">\n",
       "      <th></th>\n",
       "      <th>Count</th>\n",
       "      <th>Pct</th>\n",
       "      <th>Cuml Count</th>\n",
       "      <th>Cuml Pct</th>\n",
       "    </tr>\n",
       "    <tr>\n",
       "      <th>credit_flag_cutoff_date_fmt</th>\n",
       "      <th></th>\n",
       "      <th></th>\n",
       "      <th></th>\n",
       "      <th></th>\n",
       "    </tr>\n",
       "  </thead>\n",
       "  <tbody>\n",
       "    <tr>\n",
       "      <th>2022-01</th>\n",
       "      <td>15827.0</td>\n",
       "      <td>0.189083</td>\n",
       "      <td>15827.0</td>\n",
       "      <td>0.189083</td>\n",
       "    </tr>\n",
       "    <tr>\n",
       "      <th>2022-02</th>\n",
       "      <td>15512.0</td>\n",
       "      <td>0.185320</td>\n",
       "      <td>31339.0</td>\n",
       "      <td>0.374403</td>\n",
       "    </tr>\n",
       "    <tr>\n",
       "      <th>2022-03</th>\n",
       "      <td>19353.0</td>\n",
       "      <td>0.231208</td>\n",
       "      <td>50692.0</td>\n",
       "      <td>0.605610</td>\n",
       "    </tr>\n",
       "    <tr>\n",
       "      <th>2022-04</th>\n",
       "      <td>16822.0</td>\n",
       "      <td>0.200970</td>\n",
       "      <td>67514.0</td>\n",
       "      <td>0.806580</td>\n",
       "    </tr>\n",
       "    <tr>\n",
       "      <th>2022-05</th>\n",
       "      <td>16185.0</td>\n",
       "      <td>0.193360</td>\n",
       "      <td>83699.0</td>\n",
       "      <td>0.999940</td>\n",
       "    </tr>\n",
       "    <tr>\n",
       "      <th>2022-06</th>\n",
       "      <td>5.0</td>\n",
       "      <td>0.000060</td>\n",
       "      <td>83704.0</td>\n",
       "      <td>1.000000</td>\n",
       "    </tr>\n",
       "  </tbody>\n",
       "</table>\n",
       "</div>"
      ],
      "text/plain": [
       "                               Count       Pct  Cuml Count  Cuml Pct\n",
       "credit_flag_cutoff_date_fmt                                         \n",
       "2022-01                      15827.0  0.189083     15827.0  0.189083\n",
       "2022-02                      15512.0  0.185320     31339.0  0.374403\n",
       "2022-03                      19353.0  0.231208     50692.0  0.605610\n",
       "2022-04                      16822.0  0.200970     67514.0  0.806580\n",
       "2022-05                      16185.0  0.193360     83699.0  0.999940\n",
       "2022-06                          5.0  0.000060     83704.0  1.000000"
      ]
     },
     "execution_count": 41,
     "metadata": {},
     "output_type": "execute_result"
    }
   ],
   "source": [
    "freq(fleector[\"credit_flag_cutoff_date_fmt\"].astype(str).str.slice(0, 7))"
   ]
  },
  {
   "cell_type": "code",
   "execution_count": 43,
   "metadata": {},
   "outputs": [
    {
     "data": {
      "text/plain": [
       "(0, 93)"
      ]
     },
     "execution_count": 43,
     "metadata": {},
     "output_type": "execute_result"
    }
   ],
   "source": [
    "fleector[fleector.fed_id == \"\"].shape"
   ]
  },
  {
   "cell_type": "code",
   "execution_count": 45,
   "metadata": {},
   "outputs": [
    {
     "data": {
      "text/plain": [
       "6875     844759743\n",
       "5628     872922146\n",
       "19723    862131849\n",
       "4981     842053436\n",
       "17116    851178146\n",
       "           ...    \n",
       "49448    814826144\n",
       "705      582165025\n",
       "79073    881986215\n",
       "61964    882490371\n",
       "54909    862273900\n",
       "Name: fed_id, Length: 83704, dtype: object"
      ]
     },
     "execution_count": 45,
     "metadata": {},
     "output_type": "execute_result"
    }
   ],
   "source": [
    "fleector.fed_id"
   ]
  },
  {
   "cell_type": "code",
   "execution_count": 46,
   "metadata": {},
   "outputs": [
    {
     "name": "stdout",
     "output_type": "stream",
     "text": [
      "(71826, 97)\n",
      "(23759, 97)\n",
      "(13644, 5)\n"
     ]
    },
    {
     "name": "stderr",
     "output_type": "stream",
     "text": [
      "/tmp/ipykernel_1569/1627406866.py:11: FutureWarning: Indexing with multiple keys (implicitly converted to a tuple of keys) will be deprecated, use a list instead.\n",
      "  sbfe_for_fleector_roll = sbfe_for_fleector.groupby(by = ['seq'])[\"inquiry_count_06\", \"inquiry_count_03\", \"inquiry_count_01\", \"inquiry_count_week\"].sum().reset_index()\n"
     ]
    }
   ],
   "source": [
    "sbfe_for_fleector = sbfe.merge(fleector, left_on = \"taxidnumber\", right_on = \"fed_id\")\n",
    "print(sbfe_for_fleector.shape)\n",
    "sbfe_for_fleector = sbfe_for_fleector[sbfe_for_fleector[\"inquiry_date_fmt\"] < sbfe_for_fleector[\"credit_flag_cutoff_date_fmt\"]]\n",
    "print(sbfe_for_fleector.shape)\n",
    "\n",
    "sbfe_for_fleector['inquiry_count_06']   = np.where((sbfe_for_fleector[\"credit_flag_cutoff_date_fmt\"] - sbfe_for_fleector[\"inquiry_date_fmt\"])/np.timedelta64(1, 'M') <= 6, 1, 0)\n",
    "sbfe_for_fleector['inquiry_count_03']   = np.where((sbfe_for_fleector[\"credit_flag_cutoff_date_fmt\"] - sbfe_for_fleector[\"inquiry_date_fmt\"])/np.timedelta64(1, 'M') <= 3, 1, 0)\n",
    "sbfe_for_fleector['inquiry_count_01']   = np.where((sbfe_for_fleector[\"credit_flag_cutoff_date_fmt\"] - sbfe_for_fleector[\"inquiry_date_fmt\"])/np.timedelta64(1, 'M') <= 1, 1, 0)\n",
    "sbfe_for_fleector['inquiry_count_week'] = np.where((sbfe_for_fleector[\"credit_flag_cutoff_date_fmt\"] - sbfe_for_fleector[\"inquiry_date_fmt\"])/np.timedelta64(1, 'W') <= 1, 1, 0)\n",
    "\n",
    "sbfe_for_fleector_roll = sbfe_for_fleector.groupby(by = ['seq'])[\"inquiry_count_06\", \"inquiry_count_03\", \"inquiry_count_01\", \"inquiry_count_week\"].sum().reset_index()\n",
    "print(sbfe_for_fleector_roll.shape)"
   ]
  },
  {
   "cell_type": "code",
   "execution_count": 47,
   "metadata": {},
   "outputs": [
    {
     "name": "stdout",
     "output_type": "stream",
     "text": [
      "(83704, 97)\n"
     ]
    }
   ],
   "source": [
    "fleector = fleector.merge(sbfe_for_fleector_roll, on = \"seq\", how = \"left\")\n",
    "print(fleector.shape)"
   ]
  },
  {
   "cell_type": "code",
   "execution_count": 48,
   "metadata": {},
   "outputs": [],
   "source": [
    "fleector['inquiry_count_06'] = np.where(fleector[\"inquiry_count_06\"].isnull(), 0,   fleector[\"inquiry_count_06\"])\n",
    "fleector['inquiry_count_03'] = np.where(fleector[\"inquiry_count_03\"].isnull(), 0,   fleector[\"inquiry_count_03\"])\n",
    "fleector['inquiry_count_01'] = np.where(fleector[\"inquiry_count_01\"].isnull(), 0,   fleector[\"inquiry_count_01\"])\n",
    "fleector['inquiry_count_week']=np.where(fleector[\"inquiry_count_week\"].isnull(), 0, fleector[\"inquiry_count_week\"])"
   ]
  },
  {
   "cell_type": "code",
   "execution_count": 114,
   "metadata": {},
   "outputs": [],
   "source": [
    "fleector[\"fraud_ind\"] = fleector[\"final_fraud_flag\"].astype(float)"
   ]
  },
  {
   "cell_type": "code",
   "execution_count": 115,
   "metadata": {},
   "outputs": [],
   "source": [
    "fmt = make_format(cuts = [-np.inf, 0, 1, 2, 3, 4, 5, 10, 20, 30, 40, 50, np.inf], exceptions = [-1])\n",
    "result = dict()\n",
    "keep = [\"inquiry_count_06\", 'inquiry_count_03', 'inquiry_count_01', 'inquiry_count_week']\n",
    "for i, a in enumerate(keep):\n",
    "    result[i] = bivariate(fleector[a].astype(float), fleector[\"fraud_ind\"], format = fmt, groups= fleector.acct_flag)\n",
    "\n",
    "wb = TableWriter(filename = \"./_temp/fleector.xlsx\", options={'nan_inf_to_errors': True}, overwrite = True)\n",
    "for k in result.keys():\n",
    "    wb.write_table(\n",
    "        result[k],\n",
    "        sheetname=\"biv\",\n",
    "        conditional_fmt_cols=[3],\n",
    "    )\n",
    "wb.close()"
   ]
  },
  {
   "cell_type": "markdown",
   "metadata": {},
   "source": [
    "#### Other"
   ]
  },
  {
   "cell_type": "code",
   "execution_count": null,
   "metadata": {},
   "outputs": [],
   "source": []
  },
  {
   "cell_type": "code",
   "execution_count": 84,
   "metadata": {},
   "outputs": [],
   "source": [
    "statename_to_abbr = {\n",
    "    # Other\n",
    "    'District of Columbia': 'DC',\n",
    "\n",
    "    # States\n",
    "    'Alabama': 'AL',\n",
    "    'Montana': 'MT',\n",
    "    'Alaska': 'AK',\n",
    "    'Nebraska': 'NE',\n",
    "    'Arizona': 'AZ',\n",
    "    'Nevada': 'NV',\n",
    "    'Arkansas': 'AR',\n",
    "    'New Hampshire': 'NH',\n",
    "    'California': 'CA',\n",
    "    'New Jersey': 'NJ',\n",
    "    'Colorado': 'CO',\n",
    "    'New Mexico': 'NM',\n",
    "    'Connecticut': 'CT',\n",
    "    'New York': 'NY',\n",
    "    'Delaware': 'DE',\n",
    "    'North Carolina': 'NC',\n",
    "    'Florida': 'FL',\n",
    "    'North Dakota': 'ND',\n",
    "    'Georgia': 'GA',\n",
    "    'Ohio': 'OH',\n",
    "    'Hawaii': 'HI',\n",
    "    'Oklahoma': 'OK',\n",
    "    'Idaho': 'ID',\n",
    "    'Oregon': 'OR',\n",
    "    'Illinois': 'IL',\n",
    "    'Pennsylvania': 'PA',\n",
    "    'Indiana': 'IN',\n",
    "    'Rhode Island': 'RI',\n",
    "    'Iowa': 'IA',\n",
    "    'South Carolina': 'SC',\n",
    "    'Kansas': 'KS',\n",
    "    'South Dakota': 'SD',\n",
    "    'Kentucky': 'KY',\n",
    "    'Tennessee': 'TN',\n",
    "    'Louisiana': 'LA',\n",
    "    'Texas': 'TX',\n",
    "    'Maine': 'ME',\n",
    "    'Utah': 'UT',\n",
    "    'Maryland': 'MD',\n",
    "    'Vermont': 'VT',\n",
    "    'Massachusetts': 'MA',\n",
    "    'Virginia': 'VA',\n",
    "    'Michigan': 'MI',\n",
    "    'Washington': 'WA',\n",
    "    'Minnesota': 'MN',\n",
    "    'West Virginia': 'WV',\n",
    "    'Mississippi': 'MS',\n",
    "    'Wisconsin': 'WI',\n",
    "    'Missouri': 'MO',\n",
    "    'Wyoming': 'WY',\n",
    "    \"Puerto Rico\" : \"PR\",\n",
    "\"Virgin Islands\" : \"VI\"\n",
    "}"
   ]
  },
  {
   "cell_type": "code",
   "execution_count": null,
   "metadata": {},
   "outputs": [],
   "source": []
  }
 ],
 "metadata": {
  "kernelspec": {
   "display_name": "Python [conda env:data-science]",
   "language": "python",
   "name": "conda-env-data-science-py"
  },
  "language_info": {
   "codemirror_mode": {
    "name": "ipython",
    "version": 3
   },
   "file_extension": ".py",
   "mimetype": "text/x-python",
   "name": "python",
   "nbconvert_exporter": "python",
   "pygments_lexer": "ipython3",
   "version": "3.10.6"
  }
 },
 "nbformat": 4,
 "nbformat_minor": 4
}
