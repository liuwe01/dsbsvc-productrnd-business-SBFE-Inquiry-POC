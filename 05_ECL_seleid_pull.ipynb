{
 "cells": [
  {
   "cell_type": "code",
   "execution_count": 1,
   "metadata": {},
   "outputs": [],
   "source": [
    "import time\n",
    "import pandas as pd\n",
    "import numpy as np\n",
    "import math\n",
    "\n",
    "# internal tools\n",
    "from dsgtools.reporting import make_format\n",
    "from dsgtools.reporting import TableWriter\n",
    "from dsgtools.reporting import freq\n",
    "from dsgtools.reporting import bivariate"
   ]
  },
  {
   "cell_type": "code",
   "execution_count": 2,
   "metadata": {},
   "outputs": [
    {
     "name": "stdout",
     "output_type": "stream",
     "text": [
      "(17311232, 16)\n"
     ]
    }
   ],
   "source": [
    "path = \"Analytics/RnD Projects/Product RnD/Business/LexisNexis 9999 (SBFE Inquiry POC)/ECL_seleid_append/0417_air166_final_with_ids_appended.csv\"\n",
    "input_df = pd.read_adls(path, reader = pd.read_csv, encoding='iso-8859-1', dtype = str)\n",
    "print(input_df.shape)\n",
    "## 17,311,232"
   ]
  },
  {
   "cell_type": "code",
   "execution_count": 3,
   "metadata": {},
   "outputs": [
    {
     "data": {
      "text/html": [
       "<div>\n",
       "<style scoped>\n",
       "    .dataframe tbody tr th:only-of-type {\n",
       "        vertical-align: middle;\n",
       "    }\n",
       "\n",
       "    .dataframe tbody tr th {\n",
       "        vertical-align: top;\n",
       "    }\n",
       "\n",
       "    .dataframe thead th {\n",
       "        text-align: right;\n",
       "    }\n",
       "</style>\n",
       "<table border=\"1\" class=\"dataframe\">\n",
       "  <thead>\n",
       "    <tr style=\"text-align: right;\">\n",
       "      <th></th>\n",
       "      <th></th>\n",
       "      <th>Count</th>\n",
       "      <th>Pct</th>\n",
       "      <th>Cuml Count</th>\n",
       "      <th>Cuml Pct</th>\n",
       "    </tr>\n",
       "    <tr>\n",
       "      <th>seleid</th>\n",
       "      <th>overallweight</th>\n",
       "      <th></th>\n",
       "      <th></th>\n",
       "      <th></th>\n",
       "      <th></th>\n",
       "    </tr>\n",
       "  </thead>\n",
       "  <tbody>\n",
       "    <tr>\n",
       "      <th>&lt;= 0</th>\n",
       "      <th>&lt;= 0</th>\n",
       "      <td>1393930.0</td>\n",
       "      <td>0.080522</td>\n",
       "      <td>1393930.0</td>\n",
       "      <td>0.080522</td>\n",
       "    </tr>\n",
       "    <tr>\n",
       "      <th rowspan=\"2\" valign=\"top\">1+</th>\n",
       "      <th>1-43</th>\n",
       "      <td>562.0</td>\n",
       "      <td>0.000032</td>\n",
       "      <td>1394492.0</td>\n",
       "      <td>0.080554</td>\n",
       "    </tr>\n",
       "    <tr>\n",
       "      <th>44+</th>\n",
       "      <td>15916740.0</td>\n",
       "      <td>0.919446</td>\n",
       "      <td>17311232.0</td>\n",
       "      <td>1.000000</td>\n",
       "    </tr>\n",
       "  </tbody>\n",
       "</table>\n",
       "</div>"
      ],
      "text/plain": [
       "                           Count       Pct  Cuml Count  Cuml Pct\n",
       "seleid overallweight                                            \n",
       "<= 0   <= 0            1393930.0  0.080522   1393930.0  0.080522\n",
       "1+     1-43                562.0  0.000032   1394492.0  0.080554\n",
       "       44+            15916740.0  0.919446  17311232.0  1.000000"
      ]
     },
     "execution_count": 3,
     "metadata": {},
     "output_type": "execute_result"
    }
   ],
   "source": [
    "fmt_1 = make_format(cuts = [-np.inf, 0, np.inf])\n",
    "fmt_2 = make_format(cuts = [-np.inf, 0, 43, np.inf])\n",
    "freq(input_df.seleid.astype(float), input_df.overallweight.astype(float), format = [fmt_1, fmt_2], cross=False, observed = True)"
   ]
  },
  {
   "cell_type": "code",
   "execution_count": null,
   "metadata": {},
   "outputs": [],
   "source": [
    "input_df[(input_df.seleid.astype(float) > 0) & (input_df.overallweight.astype(float) < 44)].to_csv('./_temp/sample_for_Heberton.csv', index = False)"
   ]
  },
  {
   "cell_type": "code",
   "execution_count": 6,
   "metadata": {},
   "outputs": [
    {
     "data": {
      "text/html": [
       "<div>\n",
       "<style scoped>\n",
       "    .dataframe tbody tr th:only-of-type {\n",
       "        vertical-align: middle;\n",
       "    }\n",
       "\n",
       "    .dataframe tbody tr th {\n",
       "        vertical-align: top;\n",
       "    }\n",
       "\n",
       "    .dataframe thead th {\n",
       "        text-align: right;\n",
       "    }\n",
       "</style>\n",
       "<table border=\"1\" class=\"dataframe\">\n",
       "  <thead>\n",
       "    <tr style=\"text-align: right;\">\n",
       "      <th></th>\n",
       "      <th></th>\n",
       "      <th>Count</th>\n",
       "      <th>Pct</th>\n",
       "      <th>Cuml Count</th>\n",
       "      <th>Cuml Pct</th>\n",
       "    </tr>\n",
       "    <tr>\n",
       "      <th>seleid</th>\n",
       "      <th>overallweight</th>\n",
       "      <th></th>\n",
       "      <th></th>\n",
       "      <th></th>\n",
       "      <th></th>\n",
       "    </tr>\n",
       "  </thead>\n",
       "  <tbody>\n",
       "    <tr>\n",
       "      <th>&lt;= 0</th>\n",
       "      <th>0</th>\n",
       "      <td>1393930.0</td>\n",
       "      <td>0.080522</td>\n",
       "      <td>1393930.0</td>\n",
       "      <td>0.080522</td>\n",
       "    </tr>\n",
       "    <tr>\n",
       "      <th rowspan=\"2\" valign=\"top\">1+</th>\n",
       "      <th>1-74</th>\n",
       "      <td>814354.0</td>\n",
       "      <td>0.047042</td>\n",
       "      <td>2208284.0</td>\n",
       "      <td>0.127564</td>\n",
       "    </tr>\n",
       "    <tr>\n",
       "      <th>75+</th>\n",
       "      <td>15102948.0</td>\n",
       "      <td>0.872436</td>\n",
       "      <td>17311232.0</td>\n",
       "      <td>1.000000</td>\n",
       "    </tr>\n",
       "  </tbody>\n",
       "</table>\n",
       "</div>"
      ],
      "text/plain": [
       "                           Count       Pct  Cuml Count  Cuml Pct\n",
       "seleid overallweight                                            \n",
       "<= 0   0               1393930.0  0.080522   1393930.0  0.080522\n",
       "1+     1-74             814354.0  0.047042   2208284.0  0.127564\n",
       "       75+            15102948.0  0.872436  17311232.0  1.000000"
      ]
     },
     "execution_count": 6,
     "metadata": {},
     "output_type": "execute_result"
    }
   ],
   "source": [
    "input_df.seleid = input_df.seleid.astype(int)\n",
    "input_df.overallweight = input_df.overallweight.astype(int)\n",
    "fmt = make_format(cuts = [-np.inf, 0, np.inf])\n",
    "fmt1 = make_format(cuts = [-np.inf, -1, 0, 74, np.inf])\n",
    "freq(input_df.seleid, input_df.overallweight, format = [fmt, fmt1], cross = False, observed = True)"
   ]
  },
  {
   "cell_type": "code",
   "execution_count": null,
   "metadata": {},
   "outputs": [],
   "source": [
    "input_df.loc[(input_df.seleid == 0) | ((input_df.overallweight <75)), \n",
    "             ['accountnumber', 'companyname', 'alternatecompanyname', 'addr', 'city', 'state', 'zip', 'businessphone', 'taxidnumber', \n",
    "              'historydate', ]].to_adls(\"Analytics/RnD Projects/Product RnD/Business/LexisNexis 9999 (SBFE Inquiry POC)/ECL_seleid_append/reappend_0_seleid_0419.csv\", format = \".csv\", index = False)"
   ]
  },
  {
   "cell_type": "code",
   "execution_count": 7,
   "metadata": {},
   "outputs": [
    {
     "name": "stdout",
     "output_type": "stream",
     "text": [
      "(15917302, 17)\n"
     ]
    },
    {
     "data": {
      "text/html": [
       "<div>\n",
       "<style scoped>\n",
       "    .dataframe tbody tr th:only-of-type {\n",
       "        vertical-align: middle;\n",
       "    }\n",
       "\n",
       "    .dataframe tbody tr th {\n",
       "        vertical-align: top;\n",
       "    }\n",
       "\n",
       "    .dataframe thead th {\n",
       "        text-align: right;\n",
       "    }\n",
       "</style>\n",
       "<table border=\"1\" class=\"dataframe\">\n",
       "  <thead>\n",
       "    <tr style=\"text-align: right;\">\n",
       "      <th></th>\n",
       "      <th>Count</th>\n",
       "      <th>Pct</th>\n",
       "      <th>Cuml Count</th>\n",
       "      <th>Cuml Pct</th>\n",
       "    </tr>\n",
       "    <tr>\n",
       "      <th>count</th>\n",
       "      <th></th>\n",
       "      <th></th>\n",
       "      <th></th>\n",
       "      <th></th>\n",
       "    </tr>\n",
       "  </thead>\n",
       "  <tbody>\n",
       "    <tr>\n",
       "      <th>&lt;= 0</th>\n",
       "      <td>0.0</td>\n",
       "      <td>0.000000e+00</td>\n",
       "      <td>0.0</td>\n",
       "      <td>0.000000</td>\n",
       "    </tr>\n",
       "    <tr>\n",
       "      <th>1</th>\n",
       "      <td>8029083.0</td>\n",
       "      <td>7.329597e-01</td>\n",
       "      <td>8029083.0</td>\n",
       "      <td>0.732960</td>\n",
       "    </tr>\n",
       "    <tr>\n",
       "      <th>2</th>\n",
       "      <td>1864886.0</td>\n",
       "      <td>1.702419e-01</td>\n",
       "      <td>9893969.0</td>\n",
       "      <td>0.903202</td>\n",
       "    </tr>\n",
       "    <tr>\n",
       "      <th>3</th>\n",
       "      <td>586722.0</td>\n",
       "      <td>5.356073e-02</td>\n",
       "      <td>10480691.0</td>\n",
       "      <td>0.956762</td>\n",
       "    </tr>\n",
       "    <tr>\n",
       "      <th>4</th>\n",
       "      <td>243903.0</td>\n",
       "      <td>2.226544e-02</td>\n",
       "      <td>10724594.0</td>\n",
       "      <td>0.979028</td>\n",
       "    </tr>\n",
       "    <tr>\n",
       "      <th>5</th>\n",
       "      <td>111383.0</td>\n",
       "      <td>1.016794e-02</td>\n",
       "      <td>10835977.0</td>\n",
       "      <td>0.989196</td>\n",
       "    </tr>\n",
       "    <tr>\n",
       "      <th>6-10</th>\n",
       "      <td>110652.0</td>\n",
       "      <td>1.010121e-02</td>\n",
       "      <td>10946629.0</td>\n",
       "      <td>0.999297</td>\n",
       "    </tr>\n",
       "    <tr>\n",
       "      <th>11-50</th>\n",
       "      <td>7701.0</td>\n",
       "      <td>7.030096e-04</td>\n",
       "      <td>10954330.0</td>\n",
       "      <td>1.000000</td>\n",
       "    </tr>\n",
       "    <tr>\n",
       "      <th>51-100</th>\n",
       "      <td>1.0</td>\n",
       "      <td>9.128809e-08</td>\n",
       "      <td>10954331.0</td>\n",
       "      <td>1.000000</td>\n",
       "    </tr>\n",
       "    <tr>\n",
       "      <th>101-1000</th>\n",
       "      <td>0.0</td>\n",
       "      <td>0.000000e+00</td>\n",
       "      <td>10954331.0</td>\n",
       "      <td>1.000000</td>\n",
       "    </tr>\n",
       "    <tr>\n",
       "      <th>1001+</th>\n",
       "      <td>0.0</td>\n",
       "      <td>0.000000e+00</td>\n",
       "      <td>10954331.0</td>\n",
       "      <td>1.000000</td>\n",
       "    </tr>\n",
       "    <tr>\n",
       "      <th>Missing</th>\n",
       "      <td>0.0</td>\n",
       "      <td>0.000000e+00</td>\n",
       "      <td>10954331.0</td>\n",
       "      <td>1.000000</td>\n",
       "    </tr>\n",
       "  </tbody>\n",
       "</table>\n",
       "</div>"
      ],
      "text/plain": [
       "              Count           Pct  Cuml Count  Cuml Pct\n",
       "count                                                  \n",
       "<= 0            0.0  0.000000e+00         0.0  0.000000\n",
       "1         8029083.0  7.329597e-01   8029083.0  0.732960\n",
       "2         1864886.0  1.702419e-01   9893969.0  0.903202\n",
       "3          586722.0  5.356073e-02  10480691.0  0.956762\n",
       "4          243903.0  2.226544e-02  10724594.0  0.979028\n",
       "5          111383.0  1.016794e-02  10835977.0  0.989196\n",
       "6-10       110652.0  1.010121e-02  10946629.0  0.999297\n",
       "11-50        7701.0  7.030096e-04  10954330.0  1.000000\n",
       "51-100          1.0  9.128809e-08  10954331.0  1.000000\n",
       "101-1000        0.0  0.000000e+00  10954331.0  1.000000\n",
       "1001+           0.0  0.000000e+00  10954331.0  1.000000\n",
       "Missing         0.0  0.000000e+00  10954331.0  1.000000"
      ]
     },
     "execution_count": 7,
     "metadata": {},
     "output_type": "execute_result"
    }
   ],
   "source": [
    "input_df[\"count\"] = 1\n",
    "input_df = input_df[input_df[\"seleid\"] !=0]\n",
    "print(input_df.shape)\n",
    "dedup_seleid =input_df.groupby(by = [\"seleid\"])['count'].sum().reset_index(name='count')\n",
    "fmt = make_format(cuts = [-np.inf, 0, 1, 2, 3, 4, 5, 10, 50, 100, 1000, np.inf])\n",
    "freq(dedup_seleid[\"count\"], format = [fmt])"
   ]
  },
  {
   "cell_type": "code",
   "execution_count": null,
   "metadata": {},
   "outputs": [],
   "source": []
  },
  {
   "cell_type": "code",
   "execution_count": 8,
   "metadata": {},
   "outputs": [
    {
     "data": {
      "text/plain": [
       "71"
      ]
     },
     "execution_count": 8,
     "metadata": {},
     "output_type": "execute_result"
    },
    {
     "name": "stderr",
     "output_type": "stream",
     "text": [
      "Bad pipe message: %s [b'Ui\\xfd\\x9f\\xf8^\\x967\\xd4Vk\\xfa\\x9b\\x9d[\\xe4\\xcf\\r 0\\xcd\\x98Z\\xe5\\xf8l!\\x80\\xb8M>\\x98\\xc5L)\\x96\\x94\\xb5\\x188\\x12\"<\\x0b\\xed[J\\x1a6\\xa0\\xcf\\x00\\x08\\x13\\x02\\x13\\x03\\x13\\x01\\x00\\xff\\x01\\x00\\x00\\x8f\\x00\\x00\\x00\\x0e\\x00\\x0c\\x00\\x00\\t127.0.0.1\\x00\\x0b\\x00\\x04\\x03\\x00\\x01\\x02\\x00\\n\\x00\\x0c\\x00\\n\\x00\\x1d\\x00\\x17\\x00\\x1e\\x00\\x19\\x00\\x18\\x00#\\x00\\x00\\x00\\x16\\x00\\x00\\x00\\x17\\x00\\x00\\x00\\r\\x00\\x1e\\x00\\x1c\\x04\\x03\\x05\\x03\\x06\\x03\\x08\\x07\\x08\\x08\\x08\\t\\x08\\n\\x08\\x0b\\x08\\x04\\x08\\x05\\x08\\x06\\x04\\x01\\x05\\x01\\x06\\x01\\x00+\\x00\\x03\\x02\\x03\\x04\\x00-\\x00\\x02\\x01\\x01\\x003\\x00&\\x00$\\x00\\x1d\\x00 WA\\x95m\\xb8\\xcbM\\x9d\\x04\\xed4\\xfc\\xf1\\x1b\\'\\n']\n",
      "Bad pipe message: %s [b\"\\x16\\xa4\\x82\\xda\\x0b\\x9a\\xda\\xf3\\x00\\xb2z\\x80\\x0cK[\\xf5\\x05\\xe8\\x00\\x00|\\xc0,\\xc00\\x00\\xa3\\x00\\x9f\\xcc\\xa9\\xcc\\xa8\\xcc\\xaa\\xc0\\xaf\\xc0\\xad\\xc0\\xa3\\xc0\\x9f\\xc0]\\xc0a\\xc0W\\xc0S\\xc0+\\xc0/\\x00\\xa2\\x00\\x9e\\xc0\\xae\\xc0\\xac\\xc0\\xa2\\xc0\\x9e\\xc0\\\\\\xc0`\\xc0V\\xc0R\\xc0$\\xc0(\\x00k\\x00j\\xc0#\\xc0'\\x00g\\x00@\\xc0\\n\\xc0\\x14\\x009\\x008\\xc0\\t\\xc0\\x13\\x003\\x00\"]\n",
      "Bad pipe message: %s [b'\\x9d\\xc0\\xa1\\xc0\\x9d\\xc0Q\\x00\\x9c\\xc0\\xa0\\xc0\\x9c\\xc0P\\x00=\\x00<\\x005\\x00/\\x00\\x9a\\x00\\x99\\xc0\\x07\\xc0\\x11\\x00\\x96\\x00\\x05\\x00\\xff\\x01\\x00\\x00j\\x00\\x00\\x00\\x0e\\x00\\x0c\\x00\\x00']\n",
      "Bad pipe message: %s [b\"\\xb2+\\xc5\\x9a\\x88\\xce@\\x83t.\\xdf3n\\xf7\\xf5$9\\x18\\x00\\x00\\xa6\\xc0,\\xc00\\x00\\xa3\\x00\\x9f\\xcc\\xa9\\xcc\\xa8\\xcc\\xaa\\xc0\\xaf\\xc0\\xad\\xc0\\xa3\\xc0\\x9f\\xc0]\\xc0a\\xc0W\\xc0S\\xc0+\\xc0/\\x00\\xa2\\x00\\x9e\\xc0\\xae\\xc0\\xac\\xc0\\xa2\\xc0\\x9e\\xc0\\\\\\xc0`\\xc0V\\xc0R\\xc0$\\xc0(\\x00k\\x00j\\xc0s\\xc0w\\x00\\xc4\\x00\\xc3\\xc0#\\xc0'\\x00g\\x00@\\xc0r\\xc0v\\x00\\xbe\\x00\\xbd\\xc0\\n\\xc0\\x14\\x009\\x008\\x00\\x88\\x00\\x87\\xc0\\t\\xc0\\x13\\x003\\x002\\x00\\x9a\\x00\\x99\\x00E\\x00D\\xc0\\x07\\xc0\\x11\\xc0\\x08\\xc0\\x12\\x00\\x16\\x00\\x13\\x00\\x9d\\xc0\\xa1\\xc0\\x9d\\xc0Q\\x00\\x9c\\xc0\\xa0\\xc0\\x9c\\xc0P\\x00=\\x00\\xc0\\x00<\\x00\\xba\\x005\\x00\\x84\\x00/\\x00\\x96\\x00A\\x00\\x05\\x00\\n\\x00\\xff\\x01\\x00\\x00j\\x00\\x00\\x00\\x0e\\x00\\x0c\\x00\\x00\\t\", b'7.0.0.1\\x00\\x0b\\x00\\x04\\x03\\x00\\x01\\x02\\x00\\n\\x00\\x0c\\x00\\n\\x00\\x1d\\x00\\x17\\x00\\x1e\\x00\\x19\\x00\\x18\\x00#\\x00\\x00\\x00\\x16\\x00\\x00\\x00\\x17\\x00\\x00\\x00\\r\\x000\\x00']\n",
      "Bad pipe message: %s [b'\\x03\\x05\\x03\\x06\\x03\\x08\\x07\\x08\\x08\\x08\\t\\x08\\n\\x08\\x0b\\x08\\x04\\x08\\x05\\x08\\x06\\x04\\x01\\x05\\x01\\x06\\x01\\x03\\x03\\x02\\x03\\x03\\x01\\x02\\x01\\x03\\x02\\x02\\x02\\x04\\x02\\x05\\x02\\x06\\x02']\n",
      "Bad pipe message: %s [b'\\xa96\\xee\\x0f\\x0f\\xa7e\\x920Q\\xc4J\\x05\\x07y\\x1c\\x1f\\xad\\x00\\x00>\\xc0\\x14\\xc0\\n\\x009\\x008\\x007\\x006\\xc0\\x0f\\xc0\\x05\\x005\\xc0\\x13\\xc0\\t\\x003\\x002\\x001\\x000\\xc0\\x0e\\xc0\\x04\\x00/\\x00\\x9a\\x00\\x99\\x00\\x98\\x00\\x97\\x00\\x96\\x00\\x07\\xc0\\x11\\xc0\\x07\\xc0\\x0c\\xc0\\x02\\x00\\x05\\x00\\x04\\x00\\xff\\x02\\x01\\x00\\x00C\\x00\\x00\\x00\\x0e\\x00\\x0c\\x00\\x00\\t127.0.0.1\\x00\\x0b\\x00\\x04\\x03\\x00\\x01\\x02\\x00\\n\\x00\\x1c\\x00\\x1a\\x00\\x17\\x00\\x19\\x00\\x1c\\x00\\x1b\\x00\\x18\\x00\\x1a']\n",
      "Bad pipe message: %s [b'\\xac\\xef\\xd7qz+\\xfc\\xf5\\xe8\\xa5d\\x02\\xca\\xcd\\x08\\x11\\n\\xd8\\x00\\x00\\xa2\\xc0\\x14\\xc0\\n\\x009\\x008\\x007\\x006\\x00\\x88\\x00\\x87\\x00\\x86\\x00\\x85\\xc0\\x19\\x00:\\x00\\x89\\xc0\\x0f\\xc0\\x05\\x005\\x00\\x84\\xc0\\x13\\xc0\\t\\x003\\x002\\x001\\x000\\x00\\x9a\\x00\\x99\\x00\\x98\\x00\\x97\\x00E\\x00D\\x00C\\x00B']\n",
      "Bad pipe message: %s [b'\\xf7VI\\xf5!\\r\\x1f\\x94\\x80_15\\xc0\\xbd3\\xed\\xe52\\x00\\x00\\xa2\\xc0\\x14\\xc0\\n\\x009\\x008\\x007\\x006\\x00\\x88\\x00\\x87\\x00\\x86\\x00\\x85\\xc0\\x19\\x00:\\x00\\x89\\xc0\\x0f\\xc0\\x05\\x005\\x00\\x84\\xc0\\x13\\xc0\\t\\x003\\x002\\x001\\x000\\x00\\x9a\\x00\\x99\\x00\\x98\\x00\\x97\\x00E\\x00D\\x00C\\x00B\\xc0\\x18\\x004\\x00\\x9b\\x00F\\xc0\\x0e\\xc0\\x04\\x00/\\x00\\x96\\x00A\\x00\\x07\\xc0\\x11\\xc0\\x07\\xc0\\x16\\x00\\x18\\xc0\\x0c\\xc0\\x02\\x00\\x05\\x00\\x04\\xc0\\x12\\xc0\\x08\\x00\\x16\\x00\\x13\\x00\\x10\\x00\\r\\xc0\\x17\\x00\\x1b\\xc0\\r\\xc0\\x03\\x00\\n\\x00\\x15\\x00\\x12\\x00\\x0f\\x00\\x0c\\x00\\x1a']\n",
      "Bad pipe message: %s [b',6\\xd1|C\\x18\\x03\\xba`1\\xbc\\x84\\xa1\\xd4H\\xf5\\x88\\xaf\\x00\\x00>\\xc0\\x14\\xc0\\n\\x009\\x008\\x007\\x006\\xc0\\x0f\\xc0\\x05\\x005\\xc0\\x13\\xc0\\t\\x003\\x002\\x001\\x000\\xc0\\x0e\\xc0\\x04\\x00/\\x00\\x9a\\x00\\x99\\x00\\x98\\x00\\x97\\x00\\x96']\n",
      "Bad pipe message: %s [b'\\xb5X\\x9d\\x9d*[\\xe8\\xb3\\xab\\xb04\\xed\\xa8w\\xd2\\xc8\\xd1\\xab\\x00\\x00\\xa2\\xc0\\x14\\xc0\\n\\x009\\x008\\x007\\x006\\x00\\x88\\x00\\x87\\x00\\x86\\x00\\x85\\xc0\\x19\\x00:\\x00\\x89\\xc0\\x0f\\xc0\\x05\\x005\\x00\\x84\\xc0\\x13\\xc0\\t\\x003\\x002\\x001\\x000\\x00\\x9a\\x00\\x99\\x00\\x98\\x00\\x97\\x00E\\x00D\\x00C\\x00B\\xc0\\x18\\x004\\x00\\x9b\\x00F\\xc0\\x0e\\xc0\\x04\\x00/\\x00\\x96\\x00A\\x00\\x07\\xc0\\x11\\xc0\\x07\\xc0', b'\\x18\\xc0\\x0c\\xc0\\x02\\x00\\x05\\x00\\x04\\xc0\\x12\\xc0\\x08\\x00\\x16\\x00\\x13\\x00\\x10\\x00\\r']\n",
      "Bad pipe message: %s [b\"\\xcb\\x85\\xf2[\\xba\\x84:\\xff\\x04\\xbbL\\xd6\\x9b\\x9d\\xb3\\x9a\\x95a\\x00\\x00\\x86\\xc00\\xc0,\\xc0(\\xc0$\\xc0\\x14\\xc0\\n\\x00\\xa5\\x00\\xa3\\x00\\xa1\\x00\\x9f\\x00k\\x00j\\x00i\\x00h\\x009\\x008\\x007\\x006\\xc02\\xc0.\\xc0*\\xc0&\\xc0\\x0f\\xc0\\x05\\x00\\x9d\\x00=\\x005\\xc0/\\xc0+\\xc0'\\xc0#\\xc0\\x13\\xc0\\t\\x00\\xa4\\x00\\xa2\\x00\\xa0\\x00\\x9e\\x00g\\x00@\\x00?\\x00>\\x003\\x002\\x001\\x000\\xc01\\xc0-\\xc0)\\xc0%\\xc0\\x0e\\xc0\\x04\\x00\\x9c\\x00<\\x00/\\x00\\x9a\\x00\\x99\\x00\\x98\\x00\\x97\\x00\\x96\\x00\\x07\\xc0\\x11\\xc0\\x07\\xc0\\x0c\\xc0\\x02\\x00\\x05\\x00\\x04\\x00\\xff\\x02\\x01\\x00\\x00g\\x00\"]\n",
      "Bad pipe message: %s [b\"\\x17\\x13y\\x98V\\x10\\xa6\\x1d\\xbd\\xa4\\x9d:\\xc9\\x9d\\xea\\x81\\xde4\\x00\\x00\\xf4\\xc00\\xc0,\\xc0(\\xc0$\\xc0\\x14\\xc0\\n\\x00\\xa5\\x00\\xa3\\x00\\xa1\\x00\\x9f\\x00k\\x00j\\x00i\\x00h\\x009\\x008\\x007\\x006\\x00\\x88\\x00\\x87\\x00\\x86\\x00\\x85\\xc0\\x19\\x00\\xa7\\x00m\\x00:\\x00\\x89\\xc02\\xc0.\\xc0*\\xc0&\\xc0\\x0f\\xc0\\x05\\x00\\x9d\\x00=\\x005\\x00\\x84\\xc0/\\xc0+\\xc0'\\xc0#\\xc0\\x13\\xc0\\t\\x00\\xa4\\x00\\xa2\\x00\\xa0\\x00\\x9e\\x00g\\x00@\\x00?\\x00>\\x003\\x002\\x001\\x000\\x00\\x9a\\x00\\x99\\x00\\x98\\x00\\x97\\x00E\\x00D\\x00C\\x00B\\xc0\\x18\\x00\\xa6\\x00l\\x004\\x00\\x9b\\x00F\\xc01\\xc0-\\xc0)\\xc0%\\xc0\\x0e\\xc0\\x04\\x00\\x9c\\x00<\\x00/\\x00\\x96\\x00A\\x00\\x07\\xc0\\x11\\xc0\\x07\\xc0\\x16\\x00\"]\n",
      "Bad pipe message: %s [b'\\x0c\\xc0\\x02\\x00\\x05\\x00\\x04\\xc0\\x12\\xc0\\x08\\x00\\x16\\x00\\x13\\x00\\x10\\x00\\r\\xc0\\x17\\x00\\x1b']\n"
     ]
    }
   ],
   "source": [
    "dedup_seleid[\"count\"].max()"
   ]
  },
  {
   "cell_type": "code",
   "execution_count": null,
   "metadata": {},
   "outputs": [],
   "source": []
  }
 ],
 "metadata": {
  "kernelspec": {
   "display_name": "data-science",
   "language": "python",
   "name": "python3"
  },
  "language_info": {
   "codemirror_mode": {
    "name": "ipython",
    "version": 3
   },
   "file_extension": ".py",
   "mimetype": "text/x-python",
   "name": "python",
   "nbconvert_exporter": "python",
   "pygments_lexer": "ipython3",
   "version": "3.10.6"
  },
  "orig_nbformat": 4
 },
 "nbformat": 4,
 "nbformat_minor": 2
}
