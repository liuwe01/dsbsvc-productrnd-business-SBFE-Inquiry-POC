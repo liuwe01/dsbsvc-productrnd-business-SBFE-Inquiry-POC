{
 "cells": [
  {
   "cell_type": "code",
   "execution_count": 19,
   "id": "53c55a15-de98-4c11-b60e-0d8fc36c1348",
   "metadata": {},
   "outputs": [],
   "source": [
    "import time\n",
    "import pandas as pd\n",
    "import numpy as np\n",
    "import math\n",
    "\n",
    "# internal tools\n",
    "from dsgtools.reporting import make_format\n",
    "from dsgtools.reporting import TableWriter\n",
    "from dsgtools.reporting import freq\n",
    "from dsgtools.reporting import bivariate"
   ]
  },
  {
   "cell_type": "code",
   "execution_count": 20,
   "id": "90a94760-6507-4bd8-8a53-9b50e67690dc",
   "metadata": {},
   "outputs": [],
   "source": [
    "path = \"Analytics/RnD Projects/Product RnD/Business/LexisNexis 9999 (SBFE Inquiry POC)/Performance/Fraud Sample/Chase_11449/\""
   ]
  },
  {
   "cell_type": "code",
   "execution_count": 21,
   "id": "022bca1a-f3b2-4990-a0dd-d2c077ee3272",
   "metadata": {},
   "outputs": [
    {
     "name": "stdout",
     "output_type": "stream",
     "text": [
      "(1405323, 31)\n"
     ]
    }
   ],
   "source": [
    "chase = pd.read_adls(path + \"out_lexisnexis_adhoc_LN_11449.csv\", dtype = str, encoding='iso-8859-1')\n",
    "print(chase.shape)"
   ]
  },
  {
   "cell_type": "code",
   "execution_count": 22,
   "id": "71677d64",
   "metadata": {},
   "outputs": [
    {
     "data": {
      "text/plain": [
       "Index(['TRANSACTION_ID', 'CUST_FIRST_NM', 'CUST_MID_INIT_TX', 'CUST_LAST_NM',\n",
       "       'GOVT_ISSU_ID_NB', 'LINE_1_AD', 'LINE_2_AD', 'CITY_NM', 'STATE_PROV_CD',\n",
       "       'PST_AREA_7_CD', 'PST_AREA_CD', 'channel', 'bus_name', 'app_date',\n",
       "       'DATE_OF_BIRTH', 'decision', 'bizidscore', 'BD_Score', 'BD_Score1',\n",
       "       'BD_Score2', 'BD_Score3', 'bus_addr1', 'bus_addr2', 'bus_city',\n",
       "       'bus_state', 'bus_zip', 'bus_tax_id', 'bus_phone', 'bus_type',\n",
       "       'HOME_PHONE', 'bad'],\n",
       "      dtype='object')"
      ]
     },
     "execution_count": 22,
     "metadata": {},
     "output_type": "execute_result"
    }
   ],
   "source": [
    "chase.columns"
   ]
  },
  {
   "cell_type": "code",
   "execution_count": 23,
   "id": "cf08f8c2",
   "metadata": {},
   "outputs": [
    {
     "data": {
      "text/plain": [
       "False"
      ]
     },
     "execution_count": 23,
     "metadata": {},
     "output_type": "execute_result"
    }
   ],
   "source": [
    "chase.TRANSACTION_ID.is_unique"
   ]
  },
  {
   "cell_type": "code",
   "execution_count": 24,
   "id": "1ee74a94",
   "metadata": {},
   "outputs": [],
   "source": [
    "chase[\"seq\"] = pd.Series(range(1, 1 + len(chase)))\n",
    "chase[\"account\"] = chase[\"seq\"].astype(str).str.pad(7, fillchar=\"0\")"
   ]
  },
  {
   "cell_type": "code",
   "execution_count": 40,
   "id": "253c795d-bd8c-4ef5-ba92-7d6ce837005a",
   "metadata": {},
   "outputs": [
    {
     "name": "stdout",
     "output_type": "stream",
     "text": [
      "(1296800, 32)\n"
     ]
    }
   ],
   "source": [
    "# chase_2 = pd.read_adls(path + \"out_lexisnexis_adhoc_LN202303_11677.csv\", dtype = str, encoding='iso-8859-1')\n",
    "# print(chase_2.shape)"
   ]
  },
  {
   "cell_type": "code",
   "execution_count": 25,
   "id": "be9d1704-2b96-4cdc-a18f-7dead658655f",
   "metadata": {},
   "outputs": [],
   "source": [
    "chase.columns = [x.lower() for x in chase.columns]\n",
    "# chase_2.columns = [x.lower() for x in chase_2.columns]"
   ]
  },
  {
   "cell_type": "code",
   "execution_count": 42,
   "id": "524bdb59-bdd5-40e8-953f-34163e2aaf36",
   "metadata": {},
   "outputs": [
    {
     "data": {
      "text/plain": [
       "['acct']"
      ]
     },
     "execution_count": 42,
     "metadata": {},
     "output_type": "execute_result"
    }
   ],
   "source": [
    "# [x for x in chase_2.columns if x not in chase.columns]"
   ]
  },
  {
   "cell_type": "code",
   "execution_count": 43,
   "id": "812515dc-9feb-46e3-9433-0c21520a38e9",
   "metadata": {},
   "outputs": [
    {
     "data": {
      "text/html": [
       "<div>\n",
       "<style scoped>\n",
       "    .dataframe tbody tr th:only-of-type {\n",
       "        vertical-align: middle;\n",
       "    }\n",
       "\n",
       "    .dataframe tbody tr th {\n",
       "        vertical-align: top;\n",
       "    }\n",
       "\n",
       "    .dataframe thead th {\n",
       "        text-align: right;\n",
       "    }\n",
       "</style>\n",
       "<table border=\"1\" class=\"dataframe\">\n",
       "  <thead>\n",
       "    <tr style=\"text-align: right;\">\n",
       "      <th></th>\n",
       "      <th>Count</th>\n",
       "      <th>Pct</th>\n",
       "      <th>Cuml Count</th>\n",
       "      <th>Cuml Pct</th>\n",
       "    </tr>\n",
       "    <tr>\n",
       "      <th>date</th>\n",
       "      <th></th>\n",
       "      <th></th>\n",
       "      <th></th>\n",
       "      <th></th>\n",
       "    </tr>\n",
       "  </thead>\n",
       "  <tbody>\n",
       "    <tr>\n",
       "      <th>202202</th>\n",
       "      <td>130464.0</td>\n",
       "      <td>0.100605</td>\n",
       "      <td>130464.0</td>\n",
       "      <td>0.100605</td>\n",
       "    </tr>\n",
       "    <tr>\n",
       "      <th>202203</th>\n",
       "      <td>160225.0</td>\n",
       "      <td>0.123554</td>\n",
       "      <td>290689.0</td>\n",
       "      <td>0.224159</td>\n",
       "    </tr>\n",
       "    <tr>\n",
       "      <th>202204</th>\n",
       "      <td>144805.0</td>\n",
       "      <td>0.111663</td>\n",
       "      <td>435494.0</td>\n",
       "      <td>0.335822</td>\n",
       "    </tr>\n",
       "    <tr>\n",
       "      <th>202205</th>\n",
       "      <td>141767.0</td>\n",
       "      <td>0.109321</td>\n",
       "      <td>577261.0</td>\n",
       "      <td>0.445143</td>\n",
       "    </tr>\n",
       "    <tr>\n",
       "      <th>202206</th>\n",
       "      <td>142213.0</td>\n",
       "      <td>0.109665</td>\n",
       "      <td>719474.0</td>\n",
       "      <td>0.554807</td>\n",
       "    </tr>\n",
       "    <tr>\n",
       "      <th>202207</th>\n",
       "      <td>144347.0</td>\n",
       "      <td>0.111310</td>\n",
       "      <td>863821.0</td>\n",
       "      <td>0.666117</td>\n",
       "    </tr>\n",
       "    <tr>\n",
       "      <th>202208</th>\n",
       "      <td>153530.0</td>\n",
       "      <td>0.118391</td>\n",
       "      <td>1017351.0</td>\n",
       "      <td>0.784509</td>\n",
       "    </tr>\n",
       "    <tr>\n",
       "      <th>202209</th>\n",
       "      <td>144345.0</td>\n",
       "      <td>0.111309</td>\n",
       "      <td>1161696.0</td>\n",
       "      <td>0.895817</td>\n",
       "    </tr>\n",
       "    <tr>\n",
       "      <th>202210</th>\n",
       "      <td>135104.0</td>\n",
       "      <td>0.104183</td>\n",
       "      <td>1296800.0</td>\n",
       "      <td>1.000000</td>\n",
       "    </tr>\n",
       "  </tbody>\n",
       "</table>\n",
       "</div>"
      ],
      "text/plain": [
       "           Count       Pct  Cuml Count  Cuml Pct\n",
       "date                                            \n",
       "202202  130464.0  0.100605    130464.0  0.100605\n",
       "202203  160225.0  0.123554    290689.0  0.224159\n",
       "202204  144805.0  0.111663    435494.0  0.335822\n",
       "202205  141767.0  0.109321    577261.0  0.445143\n",
       "202206  142213.0  0.109665    719474.0  0.554807\n",
       "202207  144347.0  0.111310    863821.0  0.666117\n",
       "202208  153530.0  0.118391   1017351.0  0.784509\n",
       "202209  144345.0  0.111309   1161696.0  0.895817\n",
       "202210  135104.0  0.104183   1296800.0  1.000000"
      ]
     },
     "execution_count": 43,
     "metadata": {},
     "output_type": "execute_result"
    }
   ],
   "source": [
    "# chase_2[\"date\"] = chase_2.app_date.str.slice(6, 10) + chase_2.app_date.str.slice(0, 2)\n",
    "# freq(chase_2[\"date\"])"
   ]
  },
  {
   "cell_type": "code",
   "execution_count": 26,
   "id": "1b2dc3b2-ced6-4804-b4b8-3601c7cc3d49",
   "metadata": {},
   "outputs": [
    {
     "data": {
      "text/html": [
       "<div>\n",
       "<style scoped>\n",
       "    .dataframe tbody tr th:only-of-type {\n",
       "        vertical-align: middle;\n",
       "    }\n",
       "\n",
       "    .dataframe tbody tr th {\n",
       "        vertical-align: top;\n",
       "    }\n",
       "\n",
       "    .dataframe thead th {\n",
       "        text-align: right;\n",
       "    }\n",
       "</style>\n",
       "<table border=\"1\" class=\"dataframe\">\n",
       "  <thead>\n",
       "    <tr style=\"text-align: right;\">\n",
       "      <th></th>\n",
       "      <th>Count</th>\n",
       "      <th>Pct</th>\n",
       "      <th>Cuml Count</th>\n",
       "      <th>Cuml Pct</th>\n",
       "    </tr>\n",
       "    <tr>\n",
       "      <th>date</th>\n",
       "      <th></th>\n",
       "      <th></th>\n",
       "      <th></th>\n",
       "      <th></th>\n",
       "    </tr>\n",
       "  </thead>\n",
       "  <tbody>\n",
       "    <tr>\n",
       "      <th>APR2022</th>\n",
       "      <td>141668.0</td>\n",
       "      <td>0.100808</td>\n",
       "      <td>141668.0</td>\n",
       "      <td>0.100808</td>\n",
       "    </tr>\n",
       "    <tr>\n",
       "      <th>AUG2022</th>\n",
       "      <td>150515.0</td>\n",
       "      <td>0.107103</td>\n",
       "      <td>292183.0</td>\n",
       "      <td>0.207912</td>\n",
       "    </tr>\n",
       "    <tr>\n",
       "      <th>FEB2022</th>\n",
       "      <td>127674.0</td>\n",
       "      <td>0.090850</td>\n",
       "      <td>419857.0</td>\n",
       "      <td>0.298762</td>\n",
       "    </tr>\n",
       "    <tr>\n",
       "      <th>JAN2022</th>\n",
       "      <td>133301.0</td>\n",
       "      <td>0.094854</td>\n",
       "      <td>553158.0</td>\n",
       "      <td>0.393616</td>\n",
       "    </tr>\n",
       "    <tr>\n",
       "      <th>JUL2022</th>\n",
       "      <td>141482.0</td>\n",
       "      <td>0.100676</td>\n",
       "      <td>694640.0</td>\n",
       "      <td>0.494292</td>\n",
       "    </tr>\n",
       "    <tr>\n",
       "      <th>JUN2022</th>\n",
       "      <td>139344.0</td>\n",
       "      <td>0.099154</td>\n",
       "      <td>833984.0</td>\n",
       "      <td>0.593446</td>\n",
       "    </tr>\n",
       "    <tr>\n",
       "      <th>MAR2022</th>\n",
       "      <td>156867.0</td>\n",
       "      <td>0.111623</td>\n",
       "      <td>990851.0</td>\n",
       "      <td>0.705070</td>\n",
       "    </tr>\n",
       "    <tr>\n",
       "      <th>MAY2022</th>\n",
       "      <td>138793.0</td>\n",
       "      <td>0.098762</td>\n",
       "      <td>1129644.0</td>\n",
       "      <td>0.803832</td>\n",
       "    </tr>\n",
       "    <tr>\n",
       "      <th>NOV2022</th>\n",
       "      <td>2712.0</td>\n",
       "      <td>0.001930</td>\n",
       "      <td>1132356.0</td>\n",
       "      <td>0.805762</td>\n",
       "    </tr>\n",
       "    <tr>\n",
       "      <th>OCT2022</th>\n",
       "      <td>131521.0</td>\n",
       "      <td>0.093588</td>\n",
       "      <td>1263877.0</td>\n",
       "      <td>0.899350</td>\n",
       "    </tr>\n",
       "    <tr>\n",
       "      <th>SEP2022</th>\n",
       "      <td>141446.0</td>\n",
       "      <td>0.100650</td>\n",
       "      <td>1405323.0</td>\n",
       "      <td>1.000000</td>\n",
       "    </tr>\n",
       "  </tbody>\n",
       "</table>\n",
       "</div>"
      ],
      "text/plain": [
       "            Count       Pct  Cuml Count  Cuml Pct\n",
       "date                                             \n",
       "APR2022  141668.0  0.100808    141668.0  0.100808\n",
       "AUG2022  150515.0  0.107103    292183.0  0.207912\n",
       "FEB2022  127674.0  0.090850    419857.0  0.298762\n",
       "JAN2022  133301.0  0.094854    553158.0  0.393616\n",
       "JUL2022  141482.0  0.100676    694640.0  0.494292\n",
       "JUN2022  139344.0  0.099154    833984.0  0.593446\n",
       "MAR2022  156867.0  0.111623    990851.0  0.705070\n",
       "MAY2022  138793.0  0.098762   1129644.0  0.803832\n",
       "NOV2022    2712.0  0.001930   1132356.0  0.805762\n",
       "OCT2022  131521.0  0.093588   1263877.0  0.899350\n",
       "SEP2022  141446.0  0.100650   1405323.0  1.000000"
      ]
     },
     "execution_count": 26,
     "metadata": {},
     "output_type": "execute_result"
    }
   ],
   "source": [
    "chase[\"date\"] = chase.app_date.str.slice(2, 9)\n",
    "freq(chase.date)"
   ]
  },
  {
   "cell_type": "code",
   "execution_count": 27,
   "id": "b26cd43e-7fc9-4c2e-9665-b506ca570cb3",
   "metadata": {},
   "outputs": [
    {
     "name": "stdout",
     "output_type": "stream",
     "text": [
      "(837647, 34)\n"
     ]
    }
   ],
   "source": [
    "chase = chase[chase[\"date\"].isin([\"JAN2022\", \"FEB2022\", \"MAR2022\", \"APR2022\", \"MAY2022\", \"JUN2022\"])]\n",
    "print(chase.shape)\n",
    "# chase_2 = chase_2[chase_2[\"date\"].isin([\"202202\", \"202203\", \"202204\", \"202205\", \"202206\"])]\n",
    "# print(chase_2.shape)"
   ]
  },
  {
   "cell_type": "code",
   "execution_count": 28,
   "id": "b55b5a39",
   "metadata": {},
   "outputs": [
    {
     "data": {
      "text/html": [
       "<div>\n",
       "<style scoped>\n",
       "    .dataframe tbody tr th:only-of-type {\n",
       "        vertical-align: middle;\n",
       "    }\n",
       "\n",
       "    .dataframe tbody tr th {\n",
       "        vertical-align: top;\n",
       "    }\n",
       "\n",
       "    .dataframe thead th {\n",
       "        text-align: right;\n",
       "    }\n",
       "</style>\n",
       "<table border=\"1\" class=\"dataframe\">\n",
       "  <thead>\n",
       "    <tr style=\"text-align: right;\">\n",
       "      <th></th>\n",
       "      <th>Count</th>\n",
       "      <th>Pct</th>\n",
       "      <th>Cuml Count</th>\n",
       "      <th>Cuml Pct</th>\n",
       "    </tr>\n",
       "    <tr>\n",
       "      <th>LN_booked</th>\n",
       "      <th></th>\n",
       "      <th></th>\n",
       "      <th></th>\n",
       "      <th></th>\n",
       "    </tr>\n",
       "  </thead>\n",
       "  <tbody>\n",
       "    <tr>\n",
       "      <th>0</th>\n",
       "      <td>44272.0</td>\n",
       "      <td>0.052853</td>\n",
       "      <td>44272.0</td>\n",
       "      <td>0.052853</td>\n",
       "    </tr>\n",
       "    <tr>\n",
       "      <th>1</th>\n",
       "      <td>793375.0</td>\n",
       "      <td>0.947147</td>\n",
       "      <td>837647.0</td>\n",
       "      <td>1.000000</td>\n",
       "    </tr>\n",
       "  </tbody>\n",
       "</table>\n",
       "</div>"
      ],
      "text/plain": [
       "              Count       Pct  Cuml Count  Cuml Pct\n",
       "LN_booked                                          \n",
       "0           44272.0  0.052853     44272.0  0.052853\n",
       "1          793375.0  0.947147    837647.0  1.000000"
      ]
     },
     "execution_count": 28,
     "metadata": {},
     "output_type": "execute_result"
    }
   ],
   "source": [
    "# We decided to define a record as booked if acct was populated AND decision = STP, Pend, or Approve\n",
    "chase[\"LN_booked\"] = np.where(chase[\"decision\"].isin([\"STP\", \"Pend\", \"Approve\"]), 1, 0)\n",
    "freq(chase[\"LN_booked\"])"
   ]
  },
  {
   "cell_type": "code",
   "execution_count": 12,
   "id": "10b8d554",
   "metadata": {},
   "outputs": [],
   "source": [
    "# chase_2[\"LN_booked\"] = np.where(chase_2[\"decision\"].isin([\"STP\", \"Pend\", \"Approve\"]), 1, 0)\n",
    "# freq(chase_2[\"LN_booked\"])"
   ]
  },
  {
   "cell_type": "code",
   "execution_count": 29,
   "id": "cc272fce",
   "metadata": {},
   "outputs": [
    {
     "data": {
      "text/html": [
       "<div>\n",
       "<style scoped>\n",
       "    .dataframe tbody tr th:only-of-type {\n",
       "        vertical-align: middle;\n",
       "    }\n",
       "\n",
       "    .dataframe tbody tr th {\n",
       "        vertical-align: top;\n",
       "    }\n",
       "\n",
       "    .dataframe thead tr th {\n",
       "        text-align: left;\n",
       "    }\n",
       "\n",
       "    .dataframe thead tr:last-of-type th {\n",
       "        text-align: right;\n",
       "    }\n",
       "</style>\n",
       "<table border=\"1\" class=\"dataframe\">\n",
       "  <thead>\n",
       "    <tr>\n",
       "      <th>tag</th>\n",
       "      <th colspan=\"6\" halign=\"left\">bad</th>\n",
       "    </tr>\n",
       "    <tr>\n",
       "      <th>stats</th>\n",
       "      <th>N</th>\n",
       "      <th>PctN</th>\n",
       "      <th>Sum</th>\n",
       "      <th>Mean</th>\n",
       "      <th>WoE</th>\n",
       "      <th>IV</th>\n",
       "    </tr>\n",
       "    <tr>\n",
       "      <th>LN_booked</th>\n",
       "      <th></th>\n",
       "      <th></th>\n",
       "      <th></th>\n",
       "      <th></th>\n",
       "      <th></th>\n",
       "      <th></th>\n",
       "    </tr>\n",
       "  </thead>\n",
       "  <tbody>\n",
       "    <tr>\n",
       "      <th>0</th>\n",
       "      <td>44272.0</td>\n",
       "      <td>0.052853</td>\n",
       "      <td>0.0</td>\n",
       "      <td>0.000000</td>\n",
       "      <td>0.000000</td>\n",
       "      <td>-0.00000</td>\n",
       "    </tr>\n",
       "    <tr>\n",
       "      <th>1</th>\n",
       "      <td>793375.0</td>\n",
       "      <td>0.947147</td>\n",
       "      <td>1119.0</td>\n",
       "      <td>0.001410</td>\n",
       "      <td>0.053929</td>\n",
       "      <td>0.00283</td>\n",
       "    </tr>\n",
       "    <tr>\n",
       "      <th>Missing</th>\n",
       "      <td>0.0</td>\n",
       "      <td>0.000000</td>\n",
       "      <td>0.0</td>\n",
       "      <td>0.000000</td>\n",
       "      <td>0.000000</td>\n",
       "      <td>0.00000</td>\n",
       "    </tr>\n",
       "    <tr>\n",
       "      <th>Total</th>\n",
       "      <td>837647.0</td>\n",
       "      <td>1.000000</td>\n",
       "      <td>1119.0</td>\n",
       "      <td>0.001336</td>\n",
       "      <td>0.000000</td>\n",
       "      <td>0.00283</td>\n",
       "    </tr>\n",
       "  </tbody>\n",
       "</table>\n",
       "</div>"
      ],
      "text/plain": [
       "tag             bad                                               \n",
       "stats             N      PctN     Sum      Mean       WoE       IV\n",
       "LN_booked                                                         \n",
       "0           44272.0  0.052853     0.0  0.000000  0.000000 -0.00000\n",
       "1          793375.0  0.947147  1119.0  0.001410  0.053929  0.00283\n",
       "Missing         0.0  0.000000     0.0  0.000000  0.000000  0.00000\n",
       "Total      837647.0  1.000000  1119.0  0.001336  0.000000  0.00283"
      ]
     },
     "execution_count": 29,
     "metadata": {},
     "output_type": "execute_result"
    }
   ],
   "source": [
    "chase.bad = chase.bad.astype(int)\n",
    "bivariate(chase.LN_booked, chase.bad)"
   ]
  },
  {
   "cell_type": "code",
   "execution_count": 14,
   "id": "75143017",
   "metadata": {},
   "outputs": [],
   "source": [
    "# freq(chase_2.LN_booked, chase_2.bad, cross = False)"
   ]
  },
  {
   "cell_type": "code",
   "execution_count": 30,
   "id": "278059f3",
   "metadata": {},
   "outputs": [],
   "source": [
    "chase = chase[chase[\"LN_booked\"] == 1]\n",
    "# chase_2 = chase_2[chase_2[\"LN_booked\"] == 1]"
   ]
  },
  {
   "cell_type": "code",
   "execution_count": 31,
   "id": "ea8b78be",
   "metadata": {},
   "outputs": [
    {
     "data": {
      "text/html": [
       "<div>\n",
       "<style scoped>\n",
       "    .dataframe tbody tr th:only-of-type {\n",
       "        vertical-align: middle;\n",
       "    }\n",
       "\n",
       "    .dataframe tbody tr th {\n",
       "        vertical-align: top;\n",
       "    }\n",
       "\n",
       "    .dataframe thead th {\n",
       "        text-align: right;\n",
       "    }\n",
       "</style>\n",
       "<table border=\"1\" class=\"dataframe\">\n",
       "  <thead>\n",
       "    <tr style=\"text-align: right;\">\n",
       "      <th></th>\n",
       "      <th>Count</th>\n",
       "      <th>Pct</th>\n",
       "      <th>Cuml Count</th>\n",
       "      <th>Cuml Pct</th>\n",
       "    </tr>\n",
       "    <tr>\n",
       "      <th>bad</th>\n",
       "      <th></th>\n",
       "      <th></th>\n",
       "      <th></th>\n",
       "      <th></th>\n",
       "    </tr>\n",
       "  </thead>\n",
       "  <tbody>\n",
       "    <tr>\n",
       "      <th>0</th>\n",
       "      <td>792256.0</td>\n",
       "      <td>0.99859</td>\n",
       "      <td>792256.0</td>\n",
       "      <td>0.99859</td>\n",
       "    </tr>\n",
       "    <tr>\n",
       "      <th>1</th>\n",
       "      <td>1119.0</td>\n",
       "      <td>0.00141</td>\n",
       "      <td>793375.0</td>\n",
       "      <td>1.00000</td>\n",
       "    </tr>\n",
       "  </tbody>\n",
       "</table>\n",
       "</div>"
      ],
      "text/plain": [
       "        Count      Pct  Cuml Count  Cuml Pct\n",
       "bad                                         \n",
       "0    792256.0  0.99859    792256.0   0.99859\n",
       "1      1119.0  0.00141    793375.0   1.00000"
      ]
     },
     "execution_count": 31,
     "metadata": {},
     "output_type": "execute_result"
    }
   ],
   "source": [
    "freq(chase.bad)"
   ]
  },
  {
   "cell_type": "code",
   "execution_count": 28,
   "id": "6ba08d8f",
   "metadata": {},
   "outputs": [
    {
     "data": {
      "text/html": [
       "<div>\n",
       "<style scoped>\n",
       "    .dataframe tbody tr th:only-of-type {\n",
       "        vertical-align: middle;\n",
       "    }\n",
       "\n",
       "    .dataframe tbody tr th {\n",
       "        vertical-align: top;\n",
       "    }\n",
       "\n",
       "    .dataframe thead th {\n",
       "        text-align: right;\n",
       "    }\n",
       "</style>\n",
       "<table border=\"1\" class=\"dataframe\">\n",
       "  <thead>\n",
       "    <tr style=\"text-align: right;\">\n",
       "      <th></th>\n",
       "      <th>Count</th>\n",
       "      <th>Pct</th>\n",
       "      <th>Cuml Count</th>\n",
       "      <th>Cuml Pct</th>\n",
       "    </tr>\n",
       "    <tr>\n",
       "      <th>bad</th>\n",
       "      <th></th>\n",
       "      <th></th>\n",
       "      <th></th>\n",
       "      <th></th>\n",
       "    </tr>\n",
       "  </thead>\n",
       "  <tbody>\n",
       "    <tr>\n",
       "      <th>0</th>\n",
       "      <td>667957.0</td>\n",
       "      <td>0.993806</td>\n",
       "      <td>667957.0</td>\n",
       "      <td>0.993806</td>\n",
       "    </tr>\n",
       "    <tr>\n",
       "      <th>1</th>\n",
       "      <td>4163.0</td>\n",
       "      <td>0.006194</td>\n",
       "      <td>672120.0</td>\n",
       "      <td>1.000000</td>\n",
       "    </tr>\n",
       "  </tbody>\n",
       "</table>\n",
       "</div>"
      ],
      "text/plain": [
       "        Count       Pct  Cuml Count  Cuml Pct\n",
       "bad                                          \n",
       "0    667957.0  0.993806    667957.0  0.993806\n",
       "1      4163.0  0.006194    672120.0  1.000000"
      ]
     },
     "execution_count": 28,
     "metadata": {},
     "output_type": "execute_result"
    }
   ],
   "source": [
    "freq(chase_2.bad)"
   ]
  },
  {
   "cell_type": "code",
   "execution_count": null,
   "metadata": {},
   "outputs": [],
   "source": []
  },
  {
   "cell_type": "code",
   "execution_count": 13,
   "id": "33920592",
   "metadata": {},
   "outputs": [
    {
     "name": "stdout",
     "output_type": "stream",
     "text": [
      "(1557121, 33)\n",
      "False\n"
     ]
    }
   ],
   "source": [
    "stacked = pd.concat([chase, chase_2], ignore_index=True)\n",
    "print(stacked.shape)\n",
    "print(stacked.transaction_id.is_unique)"
   ]
  },
  {
   "cell_type": "code",
   "execution_count": null,
   "id": "dcbc2a66",
   "metadata": {},
   "outputs": [
    {
     "name": "stdout",
     "output_type": "stream",
     "text": [
      "False\n",
      "False\n"
     ]
    }
   ],
   "source": [
    "print(chase.transaction_id.is_unique)\n",
    "print(chase_2.transaction_id.is_unique)"
   ]
  },
  {
   "cell_type": "code",
   "execution_count": 29,
   "id": "f020d58e",
   "metadata": {},
   "outputs": [
    {
     "data": {
      "text/plain": [
       "Index(['transaction_id', 'cust_first_nm', 'cust_mid_init_tx', 'cust_last_nm',\n",
       "       'govt_issu_id_nb', 'line_1_ad', 'line_2_ad', 'city_nm', 'state_prov_cd',\n",
       "       'pst_area_7_cd', 'pst_area_cd', 'channel', 'bus_name', 'app_date',\n",
       "       'date_of_birth', 'decision', 'bizidscore', 'bd_score', 'bd_score1',\n",
       "       'bd_score2', 'bd_score3', 'bus_addr1', 'bus_addr2', 'bus_city',\n",
       "       'bus_state', 'bus_zip', 'bus_tax_id', 'bus_phone', 'bus_type',\n",
       "       'home_phone', 'bad', 'date', 'LN_booked'],\n",
       "      dtype='object')"
      ]
     },
     "execution_count": 29,
     "metadata": {},
     "output_type": "execute_result"
    }
   ],
   "source": [
    "chase.columns"
   ]
  },
  {
   "cell_type": "code",
   "execution_count": 30,
   "id": "d71e9e04",
   "metadata": {},
   "outputs": [
    {
     "name": "stderr",
     "output_type": "stream",
     "text": [
      "/tmp/ipykernel_25357/2731914532.py:3: SettingWithCopyWarning: \n",
      "A value is trying to be set on a copy of a slice from a DataFrame.\n",
      "Try using .loc[row_indexer,col_indexer] = value instead\n",
      "\n",
      "See the caveats in the documentation: https://pandas.pydata.org/pandas-docs/stable/user_guide/indexing.html#returning-a-view-versus-a-copy\n",
      "  dedup[\"src\"] = \"11449\"\n"
     ]
    },
    {
     "name": "stdout",
     "output_type": "stream",
     "text": [
      "(642595, 34)\n",
      "(539363, 34)\n"
     ]
    },
    {
     "name": "stderr",
     "output_type": "stream",
     "text": [
      "/tmp/ipykernel_25357/2731914532.py:6: SettingWithCopyWarning: \n",
      "A value is trying to be set on a copy of a slice from a DataFrame.\n",
      "Try using .loc[row_indexer,col_indexer] = value instead\n",
      "\n",
      "See the caveats in the documentation: https://pandas.pydata.org/pandas-docs/stable/user_guide/indexing.html#returning-a-view-versus-a-copy\n",
      "  dedup[\"src\"] = \"11677\"\n"
     ]
    }
   ],
   "source": [
    "bus_list = ['bus_name', 'app_date','bus_addr1', 'bus_addr2', 'bus_city', 'bus_state', 'bus_zip', 'bus_tax_id', 'bus_phone', 'bus_type',]\n",
    "dedup = chase.drop_duplicates(bus_list, ignore_index=True)\n",
    "dedup[\"src\"] = \"11449\"\n",
    "print(dedup.shape)\n",
    "dedup_2 = chase_2.drop_duplicates(bus_list, ignore_index=True)\n",
    "dedup[\"src\"] = \"11677\"\n",
    "print(dedup_2.shape)"
   ]
  },
  {
   "cell_type": "code",
   "execution_count": 31,
   "id": "876afed0",
   "metadata": {},
   "outputs": [
    {
     "name": "stdout",
     "output_type": "stream",
     "text": [
      "(1181958, 35)\n"
     ]
    }
   ],
   "source": [
    "stacked = pd.concat([dedup, dedup_2], ignore_index=True)\n",
    "print(stacked.shape)"
   ]
  },
  {
   "cell_type": "code",
   "execution_count": 34,
   "id": "91dfeff3",
   "metadata": {},
   "outputs": [
    {
     "data": {
      "text/plain": [
       "count    1181958.0\n",
       "mean           1.0\n",
       "std            0.0\n",
       "min            1.0\n",
       "25%            1.0\n",
       "50%            1.0\n",
       "75%            1.0\n",
       "max            1.0\n",
       "Name: count, dtype: float64"
      ]
     },
     "execution_count": 34,
     "metadata": {},
     "output_type": "execute_result"
    }
   ],
   "source": [
    "stacked[\"count\"] = 1\n",
    "stacked = stacked.fillna(\"\")\n",
    "temp_roll = stacked.groupby(by = bus_list)['count'].sum().reset_index(name='count')\n",
    "temp_roll[\"count\"].describe()"
   ]
  },
  {
   "cell_type": "code",
   "execution_count": 35,
   "id": "fa3130b8",
   "metadata": {},
   "outputs": [
    {
     "name": "stdout",
     "output_type": "stream",
     "text": [
      "(1465495, 34)\n"
     ]
    }
   ],
   "source": [
    "stacked = pd.concat([chase, chase_2], ignore_index = True)\n",
    "print(stacked.shape)"
   ]
  },
  {
   "cell_type": "code",
   "execution_count": 32,
   "id": "f396c291",
   "metadata": {},
   "outputs": [],
   "source": []
  },
  {
   "cell_type": "code",
   "execution_count": 33,
   "id": "6b9c93b7",
   "metadata": {},
   "outputs": [
    {
     "data": {
      "text/plain": [
       "Index(['transaction_id', 'cust_first_nm', 'cust_mid_init_tx', 'cust_last_nm',\n",
       "       'govt_issu_id_nb', 'line_1_ad', 'line_2_ad', 'city_nm', 'state_prov_cd',\n",
       "       'pst_area_7_cd', 'pst_area_cd', 'channel', 'bus_name', 'app_date',\n",
       "       'date_of_birth', 'decision', 'bizidscore', 'bd_score', 'bd_score1',\n",
       "       'bd_score2', 'bd_score3', 'bus_addr1', 'bus_addr2', 'bus_city',\n",
       "       'bus_state', 'bus_zip', 'bus_tax_id', 'bus_phone', 'bus_type',\n",
       "       'home_phone', 'bad', 'seq', 'account', 'date', 'LN_booked'],\n",
       "      dtype='object')"
      ]
     },
     "execution_count": 33,
     "metadata": {},
     "output_type": "execute_result"
    }
   ],
   "source": [
    "chase.columns"
   ]
  },
  {
   "cell_type": "code",
   "execution_count": 38,
   "id": "9c6f138b",
   "metadata": {},
   "outputs": [
    {
     "name": "stdout",
     "output_type": "stream",
     "text": [
      "count    640969.000000\n",
      "mean          1.237774\n",
      "std           0.525744\n",
      "min           1.000000\n",
      "25%           1.000000\n",
      "50%           1.000000\n",
      "75%           1.000000\n",
      "max          11.000000\n",
      "Name: count, dtype: float64\n"
     ]
    },
    {
     "data": {
      "text/plain": [
       "count    640958.000000\n",
       "mean          1.000017\n",
       "std           0.004143\n",
       "min           1.000000\n",
       "25%           1.000000\n",
       "50%           1.000000\n",
       "75%           1.000000\n",
       "max           2.000000\n",
       "Name: count_2, dtype: float64"
      ]
     },
     "execution_count": 38,
     "metadata": {},
     "output_type": "execute_result"
    }
   ],
   "source": [
    "chase[\"count\"] = 1\n",
    "chase = chase.fillna(\"\")\n",
    "temp_roll = chase.groupby([\"app_date\", 'bus_name', 'bus_addr1', 'bus_addr2', 'bus_city', 'bus_state', 'bus_zip', 'bus_tax_id', 'bus_phone', \"bad\"])['count'].sum().reset_index(name='count')\n",
    "print(temp_roll[\"count\"].describe())\n",
    "temp_roll[\"count_2\"] =1\n",
    "temp_roll_2 = temp_roll.groupby([\"app_date\", 'bus_name', 'bus_addr1', 'bus_addr2', 'bus_city', 'bus_state', 'bus_zip', 'bus_tax_id', 'bus_phone',])['count_2'].sum().reset_index(name='count_2')\n",
    "temp_roll_2[\"count_2\"].describe()"
   ]
  },
  {
   "cell_type": "code",
   "execution_count": 49,
   "id": "99e792aa",
   "metadata": {},
   "outputs": [
    {
     "name": "stdout",
     "output_type": "stream",
     "text": [
      "(793375, 36)\n",
      "(640958, 36)\n"
     ]
    },
    {
     "data": {
      "text/html": [
       "<div>\n",
       "<style scoped>\n",
       "    .dataframe tbody tr th:only-of-type {\n",
       "        vertical-align: middle;\n",
       "    }\n",
       "\n",
       "    .dataframe tbody tr th {\n",
       "        vertical-align: top;\n",
       "    }\n",
       "\n",
       "    .dataframe thead th {\n",
       "        text-align: right;\n",
       "    }\n",
       "</style>\n",
       "<table border=\"1\" class=\"dataframe\">\n",
       "  <thead>\n",
       "    <tr style=\"text-align: right;\">\n",
       "      <th></th>\n",
       "      <th>Count</th>\n",
       "      <th>Pct</th>\n",
       "      <th>Cuml Count</th>\n",
       "      <th>Cuml Pct</th>\n",
       "    </tr>\n",
       "    <tr>\n",
       "      <th>bad</th>\n",
       "      <th></th>\n",
       "      <th></th>\n",
       "      <th></th>\n",
       "      <th></th>\n",
       "    </tr>\n",
       "  </thead>\n",
       "  <tbody>\n",
       "    <tr>\n",
       "      <th>0</th>\n",
       "      <td>639840.0</td>\n",
       "      <td>0.998256</td>\n",
       "      <td>639840.0</td>\n",
       "      <td>0.998256</td>\n",
       "    </tr>\n",
       "    <tr>\n",
       "      <th>1</th>\n",
       "      <td>1118.0</td>\n",
       "      <td>0.001744</td>\n",
       "      <td>640958.0</td>\n",
       "      <td>1.000000</td>\n",
       "    </tr>\n",
       "  </tbody>\n",
       "</table>\n",
       "</div>"
      ],
      "text/plain": [
       "        Count       Pct  Cuml Count  Cuml Pct\n",
       "bad                                          \n",
       "0    639840.0  0.998256    639840.0  0.998256\n",
       "1      1118.0  0.001744    640958.0  1.000000"
      ]
     },
     "execution_count": 49,
     "metadata": {},
     "output_type": "execute_result"
    }
   ],
   "source": [
    "chase = chase.sort_values(by = [\"app_date\", 'bus_name', 'bus_addr1', 'bus_addr2', 'bus_city', 'bus_state', 'bus_zip', 'bus_tax_id', 'bus_phone', \"bad\"])\n",
    "print(chase.shape)\n",
    "chase = chase.drop_duplicates(subset = [\"app_date\", 'bus_name', 'bus_addr1', 'bus_addr2', 'bus_city', 'bus_state', 'bus_zip', 'bus_tax_id', 'bus_phone'], keep = \"last\")\n",
    "print(chase.shape)\n",
    "freq(chase.bad)"
   ]
  },
  {
   "cell_type": "code",
   "execution_count": 50,
   "id": "5a8ec6de",
   "metadata": {},
   "outputs": [],
   "source": [
    "# stacked.to_adls(path + \"chase_stacked_final.parquet\")\n",
    "chase.to_adls(path + \"chase_stacked_final.parquet\", overwrite = True)"
   ]
  },
  {
   "cell_type": "code",
   "execution_count": null,
   "id": "c98c9a1f",
   "metadata": {},
   "outputs": [],
   "source": []
  }
 ],
 "metadata": {
  "kernelspec": {
   "display_name": "data-science",
   "language": "python",
   "name": "python3"
  },
  "language_info": {
   "codemirror_mode": {
    "name": "ipython",
    "version": 3
   },
   "file_extension": ".py",
   "mimetype": "text/x-python",
   "name": "python",
   "nbconvert_exporter": "python",
   "pygments_lexer": "ipython3",
   "version": "3.10.6"
  }
 },
 "nbformat": 4,
 "nbformat_minor": 5
}
